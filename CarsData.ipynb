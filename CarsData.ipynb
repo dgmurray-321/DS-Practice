{
 "cells": [
  {
   "cell_type": "code",
   "execution_count": 81,
   "metadata": {},
   "outputs": [],
   "source": [
    "import pandas as pd\n",
    "import seaborn as sns \n",
    "import matplotlib.pyplot as plt \n",
    "from sklearn.linear_model import LinearRegression\n",
    "from sklearn.neighbors import KNeighborsRegressor, LocalOutlierFactor\n",
    "from sklearn.cluster import DBSCAN, KMeans\n",
    "from sklearn.ensemble import RandomForestRegressor\n",
    "from sklearn.svm import SVR, OneClassSVM\n",
    "import scipy\n",
    "from xgboost import XGBRegressor\n",
    "from sklearn.metrics import r2_score, mean_squared_error\n",
    "from sklearn.model_selection import GridSearchCV, train_test_split\n",
    "from sklearn.feature_selection import VarianceThreshold\n",
    "from tensorflow.keras import Input, Model\n",
    "from tensorflow.keras.callbacks import EarlyStopping\n",
    "from tensorflow.keras.layers import Dense, Dropout, BatchNormalization\n",
    "import numpy as np"
   ]
  },
  {
   "cell_type": "code",
   "execution_count": 3,
   "metadata": {},
   "outputs": [
    {
     "data": {
      "text/html": [
       "<div>\n",
       "<style scoped>\n",
       "    .dataframe tbody tr th:only-of-type {\n",
       "        vertical-align: middle;\n",
       "    }\n",
       "\n",
       "    .dataframe tbody tr th {\n",
       "        vertical-align: top;\n",
       "    }\n",
       "\n",
       "    .dataframe thead th {\n",
       "        text-align: right;\n",
       "    }\n",
       "</style>\n",
       "<table border=\"1\" class=\"dataframe\">\n",
       "  <thead>\n",
       "    <tr style=\"text-align: right;\">\n",
       "      <th></th>\n",
       "      <th>model</th>\n",
       "      <th>year</th>\n",
       "      <th>price</th>\n",
       "      <th>transmission</th>\n",
       "      <th>mileage</th>\n",
       "      <th>fuelType</th>\n",
       "      <th>tax</th>\n",
       "      <th>mpg</th>\n",
       "      <th>engineSize</th>\n",
       "      <th>Manufacturer</th>\n",
       "    </tr>\n",
       "  </thead>\n",
       "  <tbody>\n",
       "    <tr>\n",
       "      <th>0</th>\n",
       "      <td>I10</td>\n",
       "      <td>2017</td>\n",
       "      <td>7495</td>\n",
       "      <td>Manual</td>\n",
       "      <td>11630</td>\n",
       "      <td>Petrol</td>\n",
       "      <td>145</td>\n",
       "      <td>60.1</td>\n",
       "      <td>1.0</td>\n",
       "      <td>hyundi</td>\n",
       "    </tr>\n",
       "    <tr>\n",
       "      <th>1</th>\n",
       "      <td>Polo</td>\n",
       "      <td>2017</td>\n",
       "      <td>10989</td>\n",
       "      <td>Manual</td>\n",
       "      <td>9200</td>\n",
       "      <td>Petrol</td>\n",
       "      <td>145</td>\n",
       "      <td>58.9</td>\n",
       "      <td>1.0</td>\n",
       "      <td>volkswagen</td>\n",
       "    </tr>\n",
       "    <tr>\n",
       "      <th>2</th>\n",
       "      <td>2 Series</td>\n",
       "      <td>2019</td>\n",
       "      <td>27990</td>\n",
       "      <td>Semi-Auto</td>\n",
       "      <td>1614</td>\n",
       "      <td>Diesel</td>\n",
       "      <td>145</td>\n",
       "      <td>49.6</td>\n",
       "      <td>2.0</td>\n",
       "      <td>BMW</td>\n",
       "    </tr>\n",
       "    <tr>\n",
       "      <th>3</th>\n",
       "      <td>Yeti Outdoor</td>\n",
       "      <td>2017</td>\n",
       "      <td>12495</td>\n",
       "      <td>Manual</td>\n",
       "      <td>30960</td>\n",
       "      <td>Diesel</td>\n",
       "      <td>150</td>\n",
       "      <td>62.8</td>\n",
       "      <td>2.0</td>\n",
       "      <td>skoda</td>\n",
       "    </tr>\n",
       "    <tr>\n",
       "      <th>4</th>\n",
       "      <td>Fiesta</td>\n",
       "      <td>2017</td>\n",
       "      <td>7999</td>\n",
       "      <td>Manual</td>\n",
       "      <td>19353</td>\n",
       "      <td>Petrol</td>\n",
       "      <td>125</td>\n",
       "      <td>54.3</td>\n",
       "      <td>1.2</td>\n",
       "      <td>ford</td>\n",
       "    </tr>\n",
       "  </tbody>\n",
       "</table>\n",
       "</div>"
      ],
      "text/plain": [
       "           model  year  price transmission  mileage fuelType  tax   mpg  \\\n",
       "0            I10  2017   7495       Manual    11630   Petrol  145  60.1   \n",
       "1           Polo  2017  10989       Manual     9200   Petrol  145  58.9   \n",
       "2       2 Series  2019  27990    Semi-Auto     1614   Diesel  145  49.6   \n",
       "3   Yeti Outdoor  2017  12495       Manual    30960   Diesel  150  62.8   \n",
       "4         Fiesta  2017   7999       Manual    19353   Petrol  125  54.3   \n",
       "\n",
       "   engineSize Manufacturer  \n",
       "0         1.0       hyundi  \n",
       "1         1.0   volkswagen  \n",
       "2         2.0          BMW  \n",
       "3         2.0        skoda  \n",
       "4         1.2         ford  "
      ]
     },
     "execution_count": 3,
     "metadata": {},
     "output_type": "execute_result"
    }
   ],
   "source": [
    "df = pd.read_csv('CarsData.csv')\n",
    "df.head()"
   ]
  },
  {
   "cell_type": "code",
   "execution_count": 4,
   "metadata": {},
   "outputs": [
    {
     "name": "stdout",
     "output_type": "stream",
     "text": [
      "<class 'pandas.core.frame.DataFrame'>\n",
      "RangeIndex: 97712 entries, 0 to 97711\n",
      "Data columns (total 10 columns):\n",
      " #   Column        Non-Null Count  Dtype  \n",
      "---  ------        --------------  -----  \n",
      " 0   model         97712 non-null  object \n",
      " 1   year          97712 non-null  int64  \n",
      " 2   price         97712 non-null  int64  \n",
      " 3   transmission  97712 non-null  object \n",
      " 4   mileage       97712 non-null  int64  \n",
      " 5   fuelType      97712 non-null  object \n",
      " 6   tax           97712 non-null  int64  \n",
      " 7   mpg           97712 non-null  float64\n",
      " 8   engineSize    97712 non-null  float64\n",
      " 9   Manufacturer  97712 non-null  object \n",
      "dtypes: float64(2), int64(4), object(4)\n",
      "memory usage: 7.5+ MB\n"
     ]
    }
   ],
   "source": [
    "df.info()"
   ]
  },
  {
   "cell_type": "code",
   "execution_count": 5,
   "metadata": {},
   "outputs": [
    {
     "data": {
      "text/plain": [
       "model           0\n",
       "year            0\n",
       "price           0\n",
       "transmission    0\n",
       "mileage         0\n",
       "fuelType        0\n",
       "tax             0\n",
       "mpg             0\n",
       "engineSize      0\n",
       "Manufacturer    0\n",
       "dtype: int64"
      ]
     },
     "execution_count": 5,
     "metadata": {},
     "output_type": "execute_result"
    }
   ],
   "source": [
    "df.isnull().sum()"
   ]
  },
  {
   "cell_type": "code",
   "execution_count": 6,
   "metadata": {},
   "outputs": [
    {
     "data": {
      "text/plain": [
       "model\n",
       " Fiesta     6509\n",
       " Golf       4797\n",
       " Focus      4555\n",
       " C Class    3694\n",
       " Corsa      3285\n",
       "            ... \n",
       "E Class        1\n",
       "200            1\n",
       " Ranger        1\n",
       "180            1\n",
       "220            1\n",
       "Name: count, Length: 196, dtype: int64"
      ]
     },
     "execution_count": 6,
     "metadata": {},
     "output_type": "execute_result"
    }
   ],
   "source": [
    "df['model'].value_counts()"
   ]
  },
  {
   "cell_type": "code",
   "execution_count": 7,
   "metadata": {},
   "outputs": [
    {
     "data": {
      "text/plain": [
       "year\n",
       "2019    26165\n",
       "2017    21616\n",
       "2016    15724\n",
       "2018    13570\n",
       "2015     7586\n",
       "2014     4053\n",
       "2020     4040\n",
       "2013     2590\n",
       "2012      633\n",
       "2011      432\n",
       "2010      340\n",
       "2009      277\n",
       "2008      199\n",
       "2007      163\n",
       "2006       86\n",
       "2005       69\n",
       "2004       52\n",
       "2003       34\n",
       "2002       31\n",
       "2001       20\n",
       "2000        9\n",
       "1998        8\n",
       "1999        6\n",
       "1997        4\n",
       "1996        2\n",
       "1970        2\n",
       "2024        1\n",
       "Name: count, dtype: int64"
      ]
     },
     "execution_count": 7,
     "metadata": {},
     "output_type": "execute_result"
    }
   ],
   "source": [
    "df['year'].value_counts()"
   ]
  },
  {
   "cell_type": "code",
   "execution_count": 8,
   "metadata": {},
   "outputs": [
    {
     "data": {
      "text/plain": [
       "Manufacturer\n",
       "ford          17811\n",
       "volkswagen    14893\n",
       "vauxhall      13258\n",
       "merc          12860\n",
       "BMW           10664\n",
       "Audi          10565\n",
       "toyota         6699\n",
       "skoda          6188\n",
       "hyundi         4774\n",
       "Name: count, dtype: int64"
      ]
     },
     "execution_count": 8,
     "metadata": {},
     "output_type": "execute_result"
    }
   ],
   "source": [
    "df['Manufacturer'].value_counts()"
   ]
  },
  {
   "cell_type": "code",
   "execution_count": 9,
   "metadata": {},
   "outputs": [
    {
     "data": {
      "text/html": [
       "<div>\n",
       "<style scoped>\n",
       "    .dataframe tbody tr th:only-of-type {\n",
       "        vertical-align: middle;\n",
       "    }\n",
       "\n",
       "    .dataframe tbody tr th {\n",
       "        vertical-align: top;\n",
       "    }\n",
       "\n",
       "    .dataframe thead th {\n",
       "        text-align: right;\n",
       "    }\n",
       "</style>\n",
       "<table border=\"1\" class=\"dataframe\">\n",
       "  <thead>\n",
       "    <tr style=\"text-align: right;\">\n",
       "      <th></th>\n",
       "      <th>index</th>\n",
       "      <th>model</th>\n",
       "      <th>year</th>\n",
       "      <th>price</th>\n",
       "      <th>transmission</th>\n",
       "      <th>mileage</th>\n",
       "      <th>fuelType</th>\n",
       "      <th>tax</th>\n",
       "      <th>mpg</th>\n",
       "      <th>engineSize</th>\n",
       "      <th>Manufacturer</th>\n",
       "    </tr>\n",
       "  </thead>\n",
       "  <tbody>\n",
       "    <tr>\n",
       "      <th>0</th>\n",
       "      <td>50623</td>\n",
       "      <td>1 Series</td>\n",
       "      <td>2001</td>\n",
       "      <td>13000</td>\n",
       "      <td>Manual</td>\n",
       "      <td>22633</td>\n",
       "      <td>Petrol</td>\n",
       "      <td>125</td>\n",
       "      <td>53.3</td>\n",
       "      <td>0.0</td>\n",
       "      <td>BMW</td>\n",
       "    </tr>\n",
       "    <tr>\n",
       "      <th>1</th>\n",
       "      <td>96354</td>\n",
       "      <td>3 Series</td>\n",
       "      <td>2000</td>\n",
       "      <td>1550</td>\n",
       "      <td>Automatic</td>\n",
       "      <td>93000</td>\n",
       "      <td>Petrol</td>\n",
       "      <td>270</td>\n",
       "      <td>29.7</td>\n",
       "      <td>2.5</td>\n",
       "      <td>BMW</td>\n",
       "    </tr>\n",
       "    <tr>\n",
       "      <th>2</th>\n",
       "      <td>45678</td>\n",
       "      <td>3 Series</td>\n",
       "      <td>2001</td>\n",
       "      <td>3050</td>\n",
       "      <td>Automatic</td>\n",
       "      <td>90000</td>\n",
       "      <td>Petrol</td>\n",
       "      <td>325</td>\n",
       "      <td>27.7</td>\n",
       "      <td>3.0</td>\n",
       "      <td>BMW</td>\n",
       "    </tr>\n",
       "    <tr>\n",
       "      <th>3</th>\n",
       "      <td>22144</td>\n",
       "      <td>3 Series</td>\n",
       "      <td>1999</td>\n",
       "      <td>1200</td>\n",
       "      <td>Automatic</td>\n",
       "      <td>82000</td>\n",
       "      <td>Petrol</td>\n",
       "      <td>245</td>\n",
       "      <td>31.0</td>\n",
       "      <td>2.8</td>\n",
       "      <td>BMW</td>\n",
       "    </tr>\n",
       "    <tr>\n",
       "      <th>4</th>\n",
       "      <td>50998</td>\n",
       "      <td>5 Series</td>\n",
       "      <td>2000</td>\n",
       "      <td>1699</td>\n",
       "      <td>Manual</td>\n",
       "      <td>99209</td>\n",
       "      <td>Petrol</td>\n",
       "      <td>265</td>\n",
       "      <td>29.4</td>\n",
       "      <td>2.0</td>\n",
       "      <td>BMW</td>\n",
       "    </tr>\n",
       "    <tr>\n",
       "      <th>5</th>\n",
       "      <td>61962</td>\n",
       "      <td>5 Series</td>\n",
       "      <td>1996</td>\n",
       "      <td>5995</td>\n",
       "      <td>Automatic</td>\n",
       "      <td>36000</td>\n",
       "      <td>Petrol</td>\n",
       "      <td>270</td>\n",
       "      <td>26.4</td>\n",
       "      <td>2.8</td>\n",
       "      <td>BMW</td>\n",
       "    </tr>\n",
       "    <tr>\n",
       "      <th>6</th>\n",
       "      <td>3475</td>\n",
       "      <td>A3</td>\n",
       "      <td>1998</td>\n",
       "      <td>4999</td>\n",
       "      <td>Automatic</td>\n",
       "      <td>55000</td>\n",
       "      <td>Petrol</td>\n",
       "      <td>265</td>\n",
       "      <td>30.4</td>\n",
       "      <td>1.8</td>\n",
       "      <td>Audi</td>\n",
       "    </tr>\n",
       "    <tr>\n",
       "      <th>7</th>\n",
       "      <td>15557</td>\n",
       "      <td>A8</td>\n",
       "      <td>1997</td>\n",
       "      <td>4650</td>\n",
       "      <td>Automatic</td>\n",
       "      <td>122000</td>\n",
       "      <td>Petrol</td>\n",
       "      <td>265</td>\n",
       "      <td>18.9</td>\n",
       "      <td>4.2</td>\n",
       "      <td>Audi</td>\n",
       "    </tr>\n",
       "    <tr>\n",
       "      <th>8</th>\n",
       "      <td>75597</td>\n",
       "      <td>Accent</td>\n",
       "      <td>2000</td>\n",
       "      <td>1295</td>\n",
       "      <td>Automatic</td>\n",
       "      <td>47000</td>\n",
       "      <td>Petrol</td>\n",
       "      <td>150</td>\n",
       "      <td>38.7</td>\n",
       "      <td>1.3</td>\n",
       "      <td>hyundi</td>\n",
       "    </tr>\n",
       "    <tr>\n",
       "      <th>9</th>\n",
       "      <td>67360</td>\n",
       "      <td>Astra</td>\n",
       "      <td>1997</td>\n",
       "      <td>950</td>\n",
       "      <td>Manual</td>\n",
       "      <td>89233</td>\n",
       "      <td>Petrol</td>\n",
       "      <td>265</td>\n",
       "      <td>35.8</td>\n",
       "      <td>1.6</td>\n",
       "      <td>vauxhall</td>\n",
       "    </tr>\n",
       "    <tr>\n",
       "      <th>10</th>\n",
       "      <td>35922</td>\n",
       "      <td>Astra</td>\n",
       "      <td>2001</td>\n",
       "      <td>450</td>\n",
       "      <td>Manual</td>\n",
       "      <td>159000</td>\n",
       "      <td>Petrol</td>\n",
       "      <td>235</td>\n",
       "      <td>40.4</td>\n",
       "      <td>1.6</td>\n",
       "      <td>vauxhall</td>\n",
       "    </tr>\n",
       "    <tr>\n",
       "      <th>11</th>\n",
       "      <td>60779</td>\n",
       "      <td>Beetle</td>\n",
       "      <td>2001</td>\n",
       "      <td>2490</td>\n",
       "      <td>Manual</td>\n",
       "      <td>47729</td>\n",
       "      <td>Petrol</td>\n",
       "      <td>330</td>\n",
       "      <td>32.5</td>\n",
       "      <td>2.0</td>\n",
       "      <td>volkswagen</td>\n",
       "    </tr>\n",
       "    <tr>\n",
       "      <th>12</th>\n",
       "      <td>87717</td>\n",
       "      <td>Beetle</td>\n",
       "      <td>2001</td>\n",
       "      <td>1295</td>\n",
       "      <td>Manual</td>\n",
       "      <td>110000</td>\n",
       "      <td>Petrol</td>\n",
       "      <td>200</td>\n",
       "      <td>49.6</td>\n",
       "      <td>1.6</td>\n",
       "      <td>volkswagen</td>\n",
       "    </tr>\n",
       "    <tr>\n",
       "      <th>13</th>\n",
       "      <td>81298</td>\n",
       "      <td>Beetle</td>\n",
       "      <td>2001</td>\n",
       "      <td>899</td>\n",
       "      <td>Automatic</td>\n",
       "      <td>1</td>\n",
       "      <td>Petrol</td>\n",
       "      <td>325</td>\n",
       "      <td>29.7</td>\n",
       "      <td>2.0</td>\n",
       "      <td>volkswagen</td>\n",
       "    </tr>\n",
       "    <tr>\n",
       "      <th>14</th>\n",
       "      <td>74019</td>\n",
       "      <td>Corolla</td>\n",
       "      <td>2001</td>\n",
       "      <td>899</td>\n",
       "      <td>Automatic</td>\n",
       "      <td>76000</td>\n",
       "      <td>Petrol</td>\n",
       "      <td>300</td>\n",
       "      <td>35.3</td>\n",
       "      <td>1.6</td>\n",
       "      <td>toyota</td>\n",
       "    </tr>\n",
       "    <tr>\n",
       "      <th>15</th>\n",
       "      <td>35853</td>\n",
       "      <td>Corsa</td>\n",
       "      <td>2001</td>\n",
       "      <td>1888</td>\n",
       "      <td>Semi-Auto</td>\n",
       "      <td>45000</td>\n",
       "      <td>Petrol</td>\n",
       "      <td>160</td>\n",
       "      <td>45.6</td>\n",
       "      <td>1.2</td>\n",
       "      <td>vauxhall</td>\n",
       "    </tr>\n",
       "    <tr>\n",
       "      <th>16</th>\n",
       "      <td>91741</td>\n",
       "      <td>E Class</td>\n",
       "      <td>2001</td>\n",
       "      <td>3990</td>\n",
       "      <td>Automatic</td>\n",
       "      <td>60997</td>\n",
       "      <td>Petrol</td>\n",
       "      <td>325</td>\n",
       "      <td>29.4</td>\n",
       "      <td>2.0</td>\n",
       "      <td>merc</td>\n",
       "    </tr>\n",
       "    <tr>\n",
       "      <th>17</th>\n",
       "      <td>33386</td>\n",
       "      <td>Escort</td>\n",
       "      <td>1996</td>\n",
       "      <td>3000</td>\n",
       "      <td>Manual</td>\n",
       "      <td>50000</td>\n",
       "      <td>Petrol</td>\n",
       "      <td>265</td>\n",
       "      <td>34.4</td>\n",
       "      <td>1.8</td>\n",
       "      <td>ford</td>\n",
       "    </tr>\n",
       "    <tr>\n",
       "      <th>18</th>\n",
       "      <td>61041</td>\n",
       "      <td>Fiesta</td>\n",
       "      <td>2000</td>\n",
       "      <td>1995</td>\n",
       "      <td>Manual</td>\n",
       "      <td>43000</td>\n",
       "      <td>Petrol</td>\n",
       "      <td>160</td>\n",
       "      <td>41.5</td>\n",
       "      <td>1.3</td>\n",
       "      <td>ford</td>\n",
       "    </tr>\n",
       "    <tr>\n",
       "      <th>19</th>\n",
       "      <td>67763</td>\n",
       "      <td>Fiesta</td>\n",
       "      <td>1998</td>\n",
       "      <td>2699</td>\n",
       "      <td>Manual</td>\n",
       "      <td>37000</td>\n",
       "      <td>Petrol</td>\n",
       "      <td>160</td>\n",
       "      <td>41.5</td>\n",
       "      <td>1.2</td>\n",
       "      <td>ford</td>\n",
       "    </tr>\n",
       "    <tr>\n",
       "      <th>20</th>\n",
       "      <td>11358</td>\n",
       "      <td>Golf</td>\n",
       "      <td>2000</td>\n",
       "      <td>1999</td>\n",
       "      <td>Manual</td>\n",
       "      <td>80670</td>\n",
       "      <td>Petrol</td>\n",
       "      <td>245</td>\n",
       "      <td>35.8</td>\n",
       "      <td>2.0</td>\n",
       "      <td>volkswagen</td>\n",
       "    </tr>\n",
       "    <tr>\n",
       "      <th>21</th>\n",
       "      <td>4410</td>\n",
       "      <td>Land Cruiser</td>\n",
       "      <td>1998</td>\n",
       "      <td>19990</td>\n",
       "      <td>Manual</td>\n",
       "      <td>100000</td>\n",
       "      <td>Diesel</td>\n",
       "      <td>265</td>\n",
       "      <td>23.9</td>\n",
       "      <td>4.2</td>\n",
       "      <td>toyota</td>\n",
       "    </tr>\n",
       "    <tr>\n",
       "      <th>22</th>\n",
       "      <td>65801</td>\n",
       "      <td>M Class</td>\n",
       "      <td>1970</td>\n",
       "      <td>24999</td>\n",
       "      <td>Automatic</td>\n",
       "      <td>14000</td>\n",
       "      <td>Diesel</td>\n",
       "      <td>305</td>\n",
       "      <td>39.2</td>\n",
       "      <td>0.0</td>\n",
       "      <td>merc</td>\n",
       "    </tr>\n",
       "    <tr>\n",
       "      <th>23</th>\n",
       "      <td>28431</td>\n",
       "      <td>S Class</td>\n",
       "      <td>2001</td>\n",
       "      <td>1695</td>\n",
       "      <td>Automatic</td>\n",
       "      <td>108800</td>\n",
       "      <td>Diesel</td>\n",
       "      <td>325</td>\n",
       "      <td>31.7</td>\n",
       "      <td>3.2</td>\n",
       "      <td>merc</td>\n",
       "    </tr>\n",
       "    <tr>\n",
       "      <th>24</th>\n",
       "      <td>92712</td>\n",
       "      <td>S Class</td>\n",
       "      <td>1998</td>\n",
       "      <td>19990</td>\n",
       "      <td>Automatic</td>\n",
       "      <td>43534</td>\n",
       "      <td>Petrol</td>\n",
       "      <td>265</td>\n",
       "      <td>23.3</td>\n",
       "      <td>6.0</td>\n",
       "      <td>merc</td>\n",
       "    </tr>\n",
       "    <tr>\n",
       "      <th>25</th>\n",
       "      <td>56584</td>\n",
       "      <td>S Class</td>\n",
       "      <td>2001</td>\n",
       "      <td>4495</td>\n",
       "      <td>Automatic</td>\n",
       "      <td>66000</td>\n",
       "      <td>Petrol</td>\n",
       "      <td>570</td>\n",
       "      <td>24.6</td>\n",
       "      <td>3.2</td>\n",
       "      <td>merc</td>\n",
       "    </tr>\n",
       "    <tr>\n",
       "      <th>26</th>\n",
       "      <td>95555</td>\n",
       "      <td>S Class</td>\n",
       "      <td>1999</td>\n",
       "      <td>5995</td>\n",
       "      <td>Automatic</td>\n",
       "      <td>34000</td>\n",
       "      <td>Petrol</td>\n",
       "      <td>145</td>\n",
       "      <td>24.6</td>\n",
       "      <td>3.2</td>\n",
       "      <td>merc</td>\n",
       "    </tr>\n",
       "    <tr>\n",
       "      <th>27</th>\n",
       "      <td>63616</td>\n",
       "      <td>SL CLASS</td>\n",
       "      <td>1998</td>\n",
       "      <td>10450</td>\n",
       "      <td>Automatic</td>\n",
       "      <td>49000</td>\n",
       "      <td>Petrol</td>\n",
       "      <td>255</td>\n",
       "      <td>28.2</td>\n",
       "      <td>3.2</td>\n",
       "      <td>merc</td>\n",
       "    </tr>\n",
       "    <tr>\n",
       "      <th>28</th>\n",
       "      <td>85510</td>\n",
       "      <td>SL CLASS</td>\n",
       "      <td>2001</td>\n",
       "      <td>12999</td>\n",
       "      <td>Automatic</td>\n",
       "      <td>122000</td>\n",
       "      <td>Petrol</td>\n",
       "      <td>305</td>\n",
       "      <td>22.3</td>\n",
       "      <td>5.0</td>\n",
       "      <td>merc</td>\n",
       "    </tr>\n",
       "    <tr>\n",
       "      <th>29</th>\n",
       "      <td>57543</td>\n",
       "      <td>SL CLASS</td>\n",
       "      <td>2000</td>\n",
       "      <td>11750</td>\n",
       "      <td>Automatic</td>\n",
       "      <td>68709</td>\n",
       "      <td>Petrol</td>\n",
       "      <td>270</td>\n",
       "      <td>24.6</td>\n",
       "      <td>3.2</td>\n",
       "      <td>merc</td>\n",
       "    </tr>\n",
       "    <tr>\n",
       "      <th>30</th>\n",
       "      <td>20972</td>\n",
       "      <td>SL CLASS</td>\n",
       "      <td>1997</td>\n",
       "      <td>9995</td>\n",
       "      <td>Automatic</td>\n",
       "      <td>76000</td>\n",
       "      <td>Petrol</td>\n",
       "      <td>255</td>\n",
       "      <td>28.2</td>\n",
       "      <td>3.2</td>\n",
       "      <td>merc</td>\n",
       "    </tr>\n",
       "    <tr>\n",
       "      <th>31</th>\n",
       "      <td>44639</td>\n",
       "      <td>SLK</td>\n",
       "      <td>2001</td>\n",
       "      <td>4990</td>\n",
       "      <td>Automatic</td>\n",
       "      <td>64476</td>\n",
       "      <td>Petrol</td>\n",
       "      <td>325</td>\n",
       "      <td>27.2</td>\n",
       "      <td>3.2</td>\n",
       "      <td>merc</td>\n",
       "    </tr>\n",
       "    <tr>\n",
       "      <th>32</th>\n",
       "      <td>11336</td>\n",
       "      <td>SLK</td>\n",
       "      <td>2001</td>\n",
       "      <td>4990</td>\n",
       "      <td>Manual</td>\n",
       "      <td>56785</td>\n",
       "      <td>Petrol</td>\n",
       "      <td>325</td>\n",
       "      <td>25.5</td>\n",
       "      <td>3.2</td>\n",
       "      <td>merc</td>\n",
       "    </tr>\n",
       "    <tr>\n",
       "      <th>33</th>\n",
       "      <td>90632</td>\n",
       "      <td>SLK</td>\n",
       "      <td>2001</td>\n",
       "      <td>3950</td>\n",
       "      <td>Automatic</td>\n",
       "      <td>91000</td>\n",
       "      <td>Petrol</td>\n",
       "      <td>325</td>\n",
       "      <td>30.0</td>\n",
       "      <td>2.3</td>\n",
       "      <td>merc</td>\n",
       "    </tr>\n",
       "    <tr>\n",
       "      <th>34</th>\n",
       "      <td>90085</td>\n",
       "      <td>SLK</td>\n",
       "      <td>1998</td>\n",
       "      <td>1990</td>\n",
       "      <td>Automatic</td>\n",
       "      <td>113557</td>\n",
       "      <td>Petrol</td>\n",
       "      <td>265</td>\n",
       "      <td>32.1</td>\n",
       "      <td>2.3</td>\n",
       "      <td>merc</td>\n",
       "    </tr>\n",
       "    <tr>\n",
       "      <th>35</th>\n",
       "      <td>23231</td>\n",
       "      <td>SLK</td>\n",
       "      <td>2001</td>\n",
       "      <td>3990</td>\n",
       "      <td>Automatic</td>\n",
       "      <td>69234</td>\n",
       "      <td>Petrol</td>\n",
       "      <td>325</td>\n",
       "      <td>30.7</td>\n",
       "      <td>2.0</td>\n",
       "      <td>merc</td>\n",
       "    </tr>\n",
       "    <tr>\n",
       "      <th>36</th>\n",
       "      <td>78950</td>\n",
       "      <td>SLK</td>\n",
       "      <td>2001</td>\n",
       "      <td>4490</td>\n",
       "      <td>Automatic</td>\n",
       "      <td>42087</td>\n",
       "      <td>Petrol</td>\n",
       "      <td>325</td>\n",
       "      <td>30.0</td>\n",
       "      <td>2.3</td>\n",
       "      <td>merc</td>\n",
       "    </tr>\n",
       "    <tr>\n",
       "      <th>37</th>\n",
       "      <td>82168</td>\n",
       "      <td>SLK</td>\n",
       "      <td>2000</td>\n",
       "      <td>3990</td>\n",
       "      <td>Automatic</td>\n",
       "      <td>113237</td>\n",
       "      <td>Petrol</td>\n",
       "      <td>270</td>\n",
       "      <td>27.2</td>\n",
       "      <td>3.2</td>\n",
       "      <td>merc</td>\n",
       "    </tr>\n",
       "    <tr>\n",
       "      <th>38</th>\n",
       "      <td>69206</td>\n",
       "      <td>SLK</td>\n",
       "      <td>2001</td>\n",
       "      <td>3990</td>\n",
       "      <td>Automatic</td>\n",
       "      <td>48172</td>\n",
       "      <td>Petrol</td>\n",
       "      <td>325</td>\n",
       "      <td>30.0</td>\n",
       "      <td>2.3</td>\n",
       "      <td>merc</td>\n",
       "    </tr>\n",
       "    <tr>\n",
       "      <th>39</th>\n",
       "      <td>39168</td>\n",
       "      <td>SLK</td>\n",
       "      <td>2000</td>\n",
       "      <td>1490</td>\n",
       "      <td>Automatic</td>\n",
       "      <td>87000</td>\n",
       "      <td>Petrol</td>\n",
       "      <td>265</td>\n",
       "      <td>27.2</td>\n",
       "      <td>3.2</td>\n",
       "      <td>merc</td>\n",
       "    </tr>\n",
       "    <tr>\n",
       "      <th>40</th>\n",
       "      <td>785</td>\n",
       "      <td>SLK</td>\n",
       "      <td>1998</td>\n",
       "      <td>1990</td>\n",
       "      <td>Automatic</td>\n",
       "      <td>99300</td>\n",
       "      <td>Petrol</td>\n",
       "      <td>265</td>\n",
       "      <td>32.1</td>\n",
       "      <td>2.3</td>\n",
       "      <td>merc</td>\n",
       "    </tr>\n",
       "    <tr>\n",
       "      <th>41</th>\n",
       "      <td>86978</td>\n",
       "      <td>Sharan</td>\n",
       "      <td>2001</td>\n",
       "      <td>3490</td>\n",
       "      <td>Manual</td>\n",
       "      <td>68010</td>\n",
       "      <td>Petrol</td>\n",
       "      <td>330</td>\n",
       "      <td>30.1</td>\n",
       "      <td>2.0</td>\n",
       "      <td>volkswagen</td>\n",
       "    </tr>\n",
       "    <tr>\n",
       "      <th>42</th>\n",
       "      <td>46548</td>\n",
       "      <td>Yaris</td>\n",
       "      <td>2000</td>\n",
       "      <td>2695</td>\n",
       "      <td>Automatic</td>\n",
       "      <td>21000</td>\n",
       "      <td>Petrol</td>\n",
       "      <td>160</td>\n",
       "      <td>42.9</td>\n",
       "      <td>1.3</td>\n",
       "      <td>toyota</td>\n",
       "    </tr>\n",
       "    <tr>\n",
       "      <th>43</th>\n",
       "      <td>74787</td>\n",
       "      <td>Yaris</td>\n",
       "      <td>1999</td>\n",
       "      <td>1995</td>\n",
       "      <td>Automatic</td>\n",
       "      <td>89000</td>\n",
       "      <td>Petrol</td>\n",
       "      <td>160</td>\n",
       "      <td>42.9</td>\n",
       "      <td>1.3</td>\n",
       "      <td>toyota</td>\n",
       "    </tr>\n",
       "    <tr>\n",
       "      <th>44</th>\n",
       "      <td>35832</td>\n",
       "      <td>Z3</td>\n",
       "      <td>1998</td>\n",
       "      <td>3950</td>\n",
       "      <td>Manual</td>\n",
       "      <td>56500</td>\n",
       "      <td>Petrol</td>\n",
       "      <td>270</td>\n",
       "      <td>35.3</td>\n",
       "      <td>1.9</td>\n",
       "      <td>BMW</td>\n",
       "    </tr>\n",
       "    <tr>\n",
       "      <th>45</th>\n",
       "      <td>28531</td>\n",
       "      <td>Z3</td>\n",
       "      <td>2001</td>\n",
       "      <td>5950</td>\n",
       "      <td>Manual</td>\n",
       "      <td>60000</td>\n",
       "      <td>Petrol</td>\n",
       "      <td>325</td>\n",
       "      <td>30.7</td>\n",
       "      <td>2.2</td>\n",
       "      <td>BMW</td>\n",
       "    </tr>\n",
       "    <tr>\n",
       "      <th>46</th>\n",
       "      <td>22528</td>\n",
       "      <td>Z3</td>\n",
       "      <td>1999</td>\n",
       "      <td>3995</td>\n",
       "      <td>Manual</td>\n",
       "      <td>74282</td>\n",
       "      <td>Petrol</td>\n",
       "      <td>245</td>\n",
       "      <td>35.3</td>\n",
       "      <td>1.9</td>\n",
       "      <td>BMW</td>\n",
       "    </tr>\n",
       "    <tr>\n",
       "      <th>47</th>\n",
       "      <td>37845</td>\n",
       "      <td>Z3</td>\n",
       "      <td>1999</td>\n",
       "      <td>3995</td>\n",
       "      <td>Manual</td>\n",
       "      <td>51949</td>\n",
       "      <td>Petrol</td>\n",
       "      <td>255</td>\n",
       "      <td>35.3</td>\n",
       "      <td>1.9</td>\n",
       "      <td>BMW</td>\n",
       "    </tr>\n",
       "    <tr>\n",
       "      <th>48</th>\n",
       "      <td>39632</td>\n",
       "      <td>Z3</td>\n",
       "      <td>1997</td>\n",
       "      <td>3950</td>\n",
       "      <td>Manual</td>\n",
       "      <td>49000</td>\n",
       "      <td>Petrol</td>\n",
       "      <td>270</td>\n",
       "      <td>35.3</td>\n",
       "      <td>1.9</td>\n",
       "      <td>BMW</td>\n",
       "    </tr>\n",
       "    <tr>\n",
       "      <th>49</th>\n",
       "      <td>76718</td>\n",
       "      <td>Z3</td>\n",
       "      <td>1999</td>\n",
       "      <td>3950</td>\n",
       "      <td>Manual</td>\n",
       "      <td>58000</td>\n",
       "      <td>Petrol</td>\n",
       "      <td>270</td>\n",
       "      <td>35.3</td>\n",
       "      <td>1.9</td>\n",
       "      <td>BMW</td>\n",
       "    </tr>\n",
       "    <tr>\n",
       "      <th>50</th>\n",
       "      <td>89932</td>\n",
       "      <td>Zafira</td>\n",
       "      <td>1970</td>\n",
       "      <td>10495</td>\n",
       "      <td>Manual</td>\n",
       "      <td>37357</td>\n",
       "      <td>Petrol</td>\n",
       "      <td>200</td>\n",
       "      <td>42.2</td>\n",
       "      <td>1.4</td>\n",
       "      <td>vauxhall</td>\n",
       "    </tr>\n",
       "  </tbody>\n",
       "</table>\n",
       "</div>"
      ],
      "text/plain": [
       "    index          model  year  price transmission  mileage fuelType  tax  \\\n",
       "0   50623       1 Series  2001  13000       Manual    22633   Petrol  125   \n",
       "1   96354       3 Series  2000   1550    Automatic    93000   Petrol  270   \n",
       "2   45678       3 Series  2001   3050    Automatic    90000   Petrol  325   \n",
       "3   22144       3 Series  1999   1200    Automatic    82000   Petrol  245   \n",
       "4   50998       5 Series  2000   1699       Manual    99209   Petrol  265   \n",
       "5   61962       5 Series  1996   5995    Automatic    36000   Petrol  270   \n",
       "6    3475             A3  1998   4999    Automatic    55000   Petrol  265   \n",
       "7   15557             A8  1997   4650    Automatic   122000   Petrol  265   \n",
       "8   75597         Accent  2000   1295    Automatic    47000   Petrol  150   \n",
       "9   67360          Astra  1997    950       Manual    89233   Petrol  265   \n",
       "10  35922          Astra  2001    450       Manual   159000   Petrol  235   \n",
       "11  60779         Beetle  2001   2490       Manual    47729   Petrol  330   \n",
       "12  87717         Beetle  2001   1295       Manual   110000   Petrol  200   \n",
       "13  81298         Beetle  2001    899    Automatic        1   Petrol  325   \n",
       "14  74019        Corolla  2001    899    Automatic    76000   Petrol  300   \n",
       "15  35853          Corsa  2001   1888    Semi-Auto    45000   Petrol  160   \n",
       "16  91741        E Class  2001   3990    Automatic    60997   Petrol  325   \n",
       "17  33386         Escort  1996   3000       Manual    50000   Petrol  265   \n",
       "18  61041         Fiesta  2000   1995       Manual    43000   Petrol  160   \n",
       "19  67763         Fiesta  1998   2699       Manual    37000   Petrol  160   \n",
       "20  11358           Golf  2000   1999       Manual    80670   Petrol  245   \n",
       "21   4410   Land Cruiser  1998  19990       Manual   100000   Diesel  265   \n",
       "22  65801        M Class  1970  24999    Automatic    14000   Diesel  305   \n",
       "23  28431        S Class  2001   1695    Automatic   108800   Diesel  325   \n",
       "24  92712        S Class  1998  19990    Automatic    43534   Petrol  265   \n",
       "25  56584        S Class  2001   4495    Automatic    66000   Petrol  570   \n",
       "26  95555        S Class  1999   5995    Automatic    34000   Petrol  145   \n",
       "27  63616       SL CLASS  1998  10450    Automatic    49000   Petrol  255   \n",
       "28  85510       SL CLASS  2001  12999    Automatic   122000   Petrol  305   \n",
       "29  57543       SL CLASS  2000  11750    Automatic    68709   Petrol  270   \n",
       "30  20972       SL CLASS  1997   9995    Automatic    76000   Petrol  255   \n",
       "31  44639            SLK  2001   4990    Automatic    64476   Petrol  325   \n",
       "32  11336            SLK  2001   4990       Manual    56785   Petrol  325   \n",
       "33  90632            SLK  2001   3950    Automatic    91000   Petrol  325   \n",
       "34  90085            SLK  1998   1990    Automatic   113557   Petrol  265   \n",
       "35  23231            SLK  2001   3990    Automatic    69234   Petrol  325   \n",
       "36  78950            SLK  2001   4490    Automatic    42087   Petrol  325   \n",
       "37  82168            SLK  2000   3990    Automatic   113237   Petrol  270   \n",
       "38  69206            SLK  2001   3990    Automatic    48172   Petrol  325   \n",
       "39  39168            SLK  2000   1490    Automatic    87000   Petrol  265   \n",
       "40    785            SLK  1998   1990    Automatic    99300   Petrol  265   \n",
       "41  86978         Sharan  2001   3490       Manual    68010   Petrol  330   \n",
       "42  46548          Yaris  2000   2695    Automatic    21000   Petrol  160   \n",
       "43  74787          Yaris  1999   1995    Automatic    89000   Petrol  160   \n",
       "44  35832             Z3  1998   3950       Manual    56500   Petrol  270   \n",
       "45  28531             Z3  2001   5950       Manual    60000   Petrol  325   \n",
       "46  22528             Z3  1999   3995       Manual    74282   Petrol  245   \n",
       "47  37845             Z3  1999   3995       Manual    51949   Petrol  255   \n",
       "48  39632             Z3  1997   3950       Manual    49000   Petrol  270   \n",
       "49  76718             Z3  1999   3950       Manual    58000   Petrol  270   \n",
       "50  89932         Zafira  1970  10495       Manual    37357   Petrol  200   \n",
       "\n",
       "     mpg  engineSize Manufacturer  \n",
       "0   53.3         0.0          BMW  \n",
       "1   29.7         2.5          BMW  \n",
       "2   27.7         3.0          BMW  \n",
       "3   31.0         2.8          BMW  \n",
       "4   29.4         2.0          BMW  \n",
       "5   26.4         2.8          BMW  \n",
       "6   30.4         1.8         Audi  \n",
       "7   18.9         4.2         Audi  \n",
       "8   38.7         1.3       hyundi  \n",
       "9   35.8         1.6     vauxhall  \n",
       "10  40.4         1.6     vauxhall  \n",
       "11  32.5         2.0   volkswagen  \n",
       "12  49.6         1.6   volkswagen  \n",
       "13  29.7         2.0   volkswagen  \n",
       "14  35.3         1.6       toyota  \n",
       "15  45.6         1.2     vauxhall  \n",
       "16  29.4         2.0         merc  \n",
       "17  34.4         1.8         ford  \n",
       "18  41.5         1.3         ford  \n",
       "19  41.5         1.2         ford  \n",
       "20  35.8         2.0   volkswagen  \n",
       "21  23.9         4.2       toyota  \n",
       "22  39.2         0.0         merc  \n",
       "23  31.7         3.2         merc  \n",
       "24  23.3         6.0         merc  \n",
       "25  24.6         3.2         merc  \n",
       "26  24.6         3.2         merc  \n",
       "27  28.2         3.2         merc  \n",
       "28  22.3         5.0         merc  \n",
       "29  24.6         3.2         merc  \n",
       "30  28.2         3.2         merc  \n",
       "31  27.2         3.2         merc  \n",
       "32  25.5         3.2         merc  \n",
       "33  30.0         2.3         merc  \n",
       "34  32.1         2.3         merc  \n",
       "35  30.7         2.0         merc  \n",
       "36  30.0         2.3         merc  \n",
       "37  27.2         3.2         merc  \n",
       "38  30.0         2.3         merc  \n",
       "39  27.2         3.2         merc  \n",
       "40  32.1         2.3         merc  \n",
       "41  30.1         2.0   volkswagen  \n",
       "42  42.9         1.3       toyota  \n",
       "43  42.9         1.3       toyota  \n",
       "44  35.3         1.9          BMW  \n",
       "45  30.7         2.2          BMW  \n",
       "46  35.3         1.9          BMW  \n",
       "47  35.3         1.9          BMW  \n",
       "48  35.3         1.9          BMW  \n",
       "49  35.3         1.9          BMW  \n",
       "50  42.2         1.4     vauxhall  "
      ]
     },
     "execution_count": 9,
     "metadata": {},
     "output_type": "execute_result"
    }
   ],
   "source": [
    "df[(df['year'] < 2002)].sort_values(by = 'model', ascending=True).reset_index()"
   ]
  },
  {
   "cell_type": "code",
   "execution_count": 10,
   "metadata": {},
   "outputs": [
    {
     "data": {
      "text/html": [
       "<div>\n",
       "<style scoped>\n",
       "    .dataframe tbody tr th:only-of-type {\n",
       "        vertical-align: middle;\n",
       "    }\n",
       "\n",
       "    .dataframe tbody tr th {\n",
       "        vertical-align: top;\n",
       "    }\n",
       "\n",
       "    .dataframe thead th {\n",
       "        text-align: right;\n",
       "    }\n",
       "</style>\n",
       "<table border=\"1\" class=\"dataframe\">\n",
       "  <thead>\n",
       "    <tr style=\"text-align: right;\">\n",
       "      <th></th>\n",
       "      <th>year</th>\n",
       "      <th>model</th>\n",
       "      <th>count</th>\n",
       "    </tr>\n",
       "  </thead>\n",
       "  <tbody>\n",
       "    <tr>\n",
       "      <th>0</th>\n",
       "      <td>1970</td>\n",
       "      <td>M Class</td>\n",
       "      <td>1</td>\n",
       "    </tr>\n",
       "    <tr>\n",
       "      <th>1</th>\n",
       "      <td>1970</td>\n",
       "      <td>Zafira</td>\n",
       "      <td>1</td>\n",
       "    </tr>\n",
       "    <tr>\n",
       "      <th>2</th>\n",
       "      <td>1996</td>\n",
       "      <td>5 Series</td>\n",
       "      <td>1</td>\n",
       "    </tr>\n",
       "    <tr>\n",
       "      <th>3</th>\n",
       "      <td>1996</td>\n",
       "      <td>Escort</td>\n",
       "      <td>1</td>\n",
       "    </tr>\n",
       "    <tr>\n",
       "      <th>4</th>\n",
       "      <td>1997</td>\n",
       "      <td>A8</td>\n",
       "      <td>1</td>\n",
       "    </tr>\n",
       "    <tr>\n",
       "      <th>...</th>\n",
       "      <td>...</td>\n",
       "      <td>...</td>\n",
       "      <td>...</td>\n",
       "    </tr>\n",
       "    <tr>\n",
       "      <th>1526</th>\n",
       "      <td>2020</td>\n",
       "      <td>Combo Life</td>\n",
       "      <td>6</td>\n",
       "    </tr>\n",
       "    <tr>\n",
       "      <th>1525</th>\n",
       "      <td>2020</td>\n",
       "      <td>Caravelle</td>\n",
       "      <td>10</td>\n",
       "    </tr>\n",
       "    <tr>\n",
       "      <th>1524</th>\n",
       "      <td>2020</td>\n",
       "      <td>Camry</td>\n",
       "      <td>1</td>\n",
       "    </tr>\n",
       "    <tr>\n",
       "      <th>1536</th>\n",
       "      <td>2020</td>\n",
       "      <td>GLA Class</td>\n",
       "      <td>48</td>\n",
       "    </tr>\n",
       "    <tr>\n",
       "      <th>1610</th>\n",
       "      <td>2024</td>\n",
       "      <td>Fiesta</td>\n",
       "      <td>1</td>\n",
       "    </tr>\n",
       "  </tbody>\n",
       "</table>\n",
       "<p>1611 rows × 3 columns</p>\n",
       "</div>"
      ],
      "text/plain": [
       "      year        model  count\n",
       "0     1970      M Class      1\n",
       "1     1970       Zafira      1\n",
       "2     1996     5 Series      1\n",
       "3     1996       Escort      1\n",
       "4     1997           A8      1\n",
       "...    ...          ...    ...\n",
       "1526  2020   Combo Life      6\n",
       "1525  2020    Caravelle     10\n",
       "1524  2020        Camry      1\n",
       "1536  2020    GLA Class     48\n",
       "1610  2024       Fiesta      1\n",
       "\n",
       "[1611 rows x 3 columns]"
      ]
     },
     "execution_count": 10,
     "metadata": {},
     "output_type": "execute_result"
    }
   ],
   "source": [
    "model_year_df = df.groupby(['year', 'model']).size().reset_index(name = 'count').sort_values(by = 'year', ascending=True)\n",
    "model_year_df"
   ]
  },
  {
   "cell_type": "code",
   "execution_count": 11,
   "metadata": {},
   "outputs": [
    {
     "data": {
      "text/html": [
       "<div>\n",
       "<style scoped>\n",
       "    .dataframe tbody tr th:only-of-type {\n",
       "        vertical-align: middle;\n",
       "    }\n",
       "\n",
       "    .dataframe tbody tr th {\n",
       "        vertical-align: top;\n",
       "    }\n",
       "\n",
       "    .dataframe thead th {\n",
       "        text-align: right;\n",
       "    }\n",
       "</style>\n",
       "<table border=\"1\" class=\"dataframe\">\n",
       "  <thead>\n",
       "    <tr style=\"text-align: right;\">\n",
       "      <th></th>\n",
       "      <th>year</th>\n",
       "      <th>price</th>\n",
       "      <th>mileage</th>\n",
       "      <th>tax</th>\n",
       "      <th>mpg</th>\n",
       "      <th>engineSize</th>\n",
       "    </tr>\n",
       "  </thead>\n",
       "  <tbody>\n",
       "    <tr>\n",
       "      <th>count</th>\n",
       "      <td>97712.000000</td>\n",
       "      <td>97712.000000</td>\n",
       "      <td>97712.000000</td>\n",
       "      <td>97712.000000</td>\n",
       "      <td>97712.000000</td>\n",
       "      <td>97712.000000</td>\n",
       "    </tr>\n",
       "    <tr>\n",
       "      <th>mean</th>\n",
       "      <td>2017.066502</td>\n",
       "      <td>16773.487555</td>\n",
       "      <td>23219.475499</td>\n",
       "      <td>120.142408</td>\n",
       "      <td>55.205623</td>\n",
       "      <td>1.664913</td>\n",
       "    </tr>\n",
       "    <tr>\n",
       "      <th>std</th>\n",
       "      <td>2.118661</td>\n",
       "      <td>9868.552222</td>\n",
       "      <td>21060.882301</td>\n",
       "      <td>63.357250</td>\n",
       "      <td>16.181659</td>\n",
       "      <td>0.558574</td>\n",
       "    </tr>\n",
       "    <tr>\n",
       "      <th>min</th>\n",
       "      <td>1970.000000</td>\n",
       "      <td>450.000000</td>\n",
       "      <td>1.000000</td>\n",
       "      <td>0.000000</td>\n",
       "      <td>0.300000</td>\n",
       "      <td>0.000000</td>\n",
       "    </tr>\n",
       "    <tr>\n",
       "      <th>25%</th>\n",
       "      <td>2016.000000</td>\n",
       "      <td>9999.000000</td>\n",
       "      <td>7673.000000</td>\n",
       "      <td>125.000000</td>\n",
       "      <td>47.100000</td>\n",
       "      <td>1.200000</td>\n",
       "    </tr>\n",
       "    <tr>\n",
       "      <th>50%</th>\n",
       "      <td>2017.000000</td>\n",
       "      <td>14470.000000</td>\n",
       "      <td>17682.500000</td>\n",
       "      <td>145.000000</td>\n",
       "      <td>54.300000</td>\n",
       "      <td>1.600000</td>\n",
       "    </tr>\n",
       "    <tr>\n",
       "      <th>75%</th>\n",
       "      <td>2019.000000</td>\n",
       "      <td>20750.000000</td>\n",
       "      <td>32500.000000</td>\n",
       "      <td>145.000000</td>\n",
       "      <td>62.800000</td>\n",
       "      <td>2.000000</td>\n",
       "    </tr>\n",
       "    <tr>\n",
       "      <th>max</th>\n",
       "      <td>2024.000000</td>\n",
       "      <td>159999.000000</td>\n",
       "      <td>323000.000000</td>\n",
       "      <td>580.000000</td>\n",
       "      <td>470.800000</td>\n",
       "      <td>6.600000</td>\n",
       "    </tr>\n",
       "  </tbody>\n",
       "</table>\n",
       "</div>"
      ],
      "text/plain": [
       "               year          price        mileage           tax           mpg  \\\n",
       "count  97712.000000   97712.000000   97712.000000  97712.000000  97712.000000   \n",
       "mean    2017.066502   16773.487555   23219.475499    120.142408     55.205623   \n",
       "std        2.118661    9868.552222   21060.882301     63.357250     16.181659   \n",
       "min     1970.000000     450.000000       1.000000      0.000000      0.300000   \n",
       "25%     2016.000000    9999.000000    7673.000000    125.000000     47.100000   \n",
       "50%     2017.000000   14470.000000   17682.500000    145.000000     54.300000   \n",
       "75%     2019.000000   20750.000000   32500.000000    145.000000     62.800000   \n",
       "max     2024.000000  159999.000000  323000.000000    580.000000    470.800000   \n",
       "\n",
       "         engineSize  \n",
       "count  97712.000000  \n",
       "mean       1.664913  \n",
       "std        0.558574  \n",
       "min        0.000000  \n",
       "25%        1.200000  \n",
       "50%        1.600000  \n",
       "75%        2.000000  \n",
       "max        6.600000  "
      ]
     },
     "execution_count": 11,
     "metadata": {},
     "output_type": "execute_result"
    }
   ],
   "source": [
    "df.describe()"
   ]
  },
  {
   "cell_type": "code",
   "execution_count": 12,
   "metadata": {},
   "outputs": [
    {
     "data": {
      "image/png": "[encoded data removed]",
      "text/plain": [
       "<Figure size 800x800 with 1 Axes>"
      ]
     },
     "metadata": {},
     "output_type": "display_data"
    }
   ],
   "source": [
    "plt.figure(figsize=(8,8))\n",
    "ax = sns.countplot(data = df, x = 'year')\n",
    "plt.xticks(rotation = 45)\n",
    "plt.show()"
   ]
  },
  {
   "cell_type": "code",
   "execution_count": 13,
   "metadata": {},
   "outputs": [
    {
     "data": {
      "image/png": "[encoded data removed]",
      "text/plain": [
       "<Figure size 800x800 with 6 Axes>"
      ]
     },
     "metadata": {},
     "output_type": "display_data"
    }
   ],
   "source": [
    "fig, axes = plt.subplots(3,2, figsize = (8,8))\n",
    "axes = axes.flatten()\n",
    "\n",
    "for i,column in enumerate(df.iloc[:,2:].select_dtypes(include = ['int64', 'float64']).columns):\n",
    "    sns.histplot(df, x = f'{column}', ax=axes[i])\n",
    "    plt.xticks(rotation = 45)\n",
    "plt.tight_layout()\n",
    "plt.show()\n",
    "    \n"
   ]
  },
  {
   "cell_type": "code",
   "execution_count": 14,
   "metadata": {},
   "outputs": [
    {
     "data": {
      "text/plain": [
       "Index(['model', 'year', 'price', 'transmission', 'mileage', 'fuelType', 'tax',\n",
       "       'mpg', 'engineSize', 'Manufacturer'],\n",
       "      dtype='object')"
      ]
     },
     "execution_count": 14,
     "metadata": {},
     "output_type": "execute_result"
    }
   ],
   "source": [
    "df.columns"
   ]
  },
  {
   "cell_type": "code",
   "execution_count": 15,
   "metadata": {},
   "outputs": [
    {
     "name": "stdout",
     "output_type": "stream",
     "text": [
      "transmission\n",
      "Manual       55502\n",
      "Semi-Auto    22296\n",
      "Automatic    19905\n",
      "Other            9\n",
      "Name: count, dtype: int64\n"
     ]
    },
    {
     "data": {
      "image/png": "[encoded data removed]",
      "text/plain": [
       "<Figure size 640x480 with 1 Axes>"
      ]
     },
     "metadata": {},
     "output_type": "display_data"
    }
   ],
   "source": [
    "sns.countplot(df, x = 'transmission')\n",
    "print(df['transmission'].value_counts())\n",
    "plt.show()"
   ]
  },
  {
   "cell_type": "code",
   "execution_count": 16,
   "metadata": {},
   "outputs": [
    {
     "data": {
      "text/html": [
       "<div>\n",
       "<style scoped>\n",
       "    .dataframe tbody tr th:only-of-type {\n",
       "        vertical-align: middle;\n",
       "    }\n",
       "\n",
       "    .dataframe tbody tr th {\n",
       "        vertical-align: top;\n",
       "    }\n",
       "\n",
       "    .dataframe thead th {\n",
       "        text-align: right;\n",
       "    }\n",
       "</style>\n",
       "<table border=\"1\" class=\"dataframe\">\n",
       "  <thead>\n",
       "    <tr style=\"text-align: right;\">\n",
       "      <th></th>\n",
       "      <th>model</th>\n",
       "      <th>year</th>\n",
       "      <th>price</th>\n",
       "      <th>transmission</th>\n",
       "      <th>mileage</th>\n",
       "      <th>fuelType</th>\n",
       "      <th>tax</th>\n",
       "      <th>mpg</th>\n",
       "      <th>engineSize</th>\n",
       "      <th>Manufacturer</th>\n",
       "    </tr>\n",
       "  </thead>\n",
       "  <tbody>\n",
       "    <tr>\n",
       "      <th>11457</th>\n",
       "      <td>Mokka</td>\n",
       "      <td>2019</td>\n",
       "      <td>22499</td>\n",
       "      <td>Other</td>\n",
       "      <td>4500</td>\n",
       "      <td>Petrol</td>\n",
       "      <td>145</td>\n",
       "      <td>42.2</td>\n",
       "      <td>1.5</td>\n",
       "      <td>vauxhall</td>\n",
       "    </tr>\n",
       "    <tr>\n",
       "      <th>15221</th>\n",
       "      <td>Scala</td>\n",
       "      <td>2019</td>\n",
       "      <td>15999</td>\n",
       "      <td>Other</td>\n",
       "      <td>3500</td>\n",
       "      <td>Petrol</td>\n",
       "      <td>145</td>\n",
       "      <td>47.1</td>\n",
       "      <td>1.0</td>\n",
       "      <td>skoda</td>\n",
       "    </tr>\n",
       "    <tr>\n",
       "      <th>16356</th>\n",
       "      <td>GLA Class</td>\n",
       "      <td>2016</td>\n",
       "      <td>18700</td>\n",
       "      <td>Other</td>\n",
       "      <td>30895</td>\n",
       "      <td>Other</td>\n",
       "      <td>125</td>\n",
       "      <td>56.5</td>\n",
       "      <td>0.0</td>\n",
       "      <td>merc</td>\n",
       "    </tr>\n",
       "    <tr>\n",
       "      <th>38284</th>\n",
       "      <td>SLK</td>\n",
       "      <td>2015</td>\n",
       "      <td>12995</td>\n",
       "      <td>Other</td>\n",
       "      <td>39000</td>\n",
       "      <td>Diesel</td>\n",
       "      <td>150</td>\n",
       "      <td>56.5</td>\n",
       "      <td>2.1</td>\n",
       "      <td>merc</td>\n",
       "    </tr>\n",
       "    <tr>\n",
       "      <th>48193</th>\n",
       "      <td>Mokka</td>\n",
       "      <td>2019</td>\n",
       "      <td>13499</td>\n",
       "      <td>Other</td>\n",
       "      <td>3000</td>\n",
       "      <td>Petrol</td>\n",
       "      <td>145</td>\n",
       "      <td>44.8</td>\n",
       "      <td>1.4</td>\n",
       "      <td>vauxhall</td>\n",
       "    </tr>\n",
       "    <tr>\n",
       "      <th>49375</th>\n",
       "      <td>Ioniq</td>\n",
       "      <td>2017</td>\n",
       "      <td>12495</td>\n",
       "      <td>Other</td>\n",
       "      <td>27779</td>\n",
       "      <td>Hybrid</td>\n",
       "      <td>0</td>\n",
       "      <td>78.5</td>\n",
       "      <td>1.6</td>\n",
       "      <td>hyundi</td>\n",
       "    </tr>\n",
       "    <tr>\n",
       "      <th>59185</th>\n",
       "      <td>Yaris</td>\n",
       "      <td>2015</td>\n",
       "      <td>12795</td>\n",
       "      <td>Other</td>\n",
       "      <td>16733</td>\n",
       "      <td>Hybrid</td>\n",
       "      <td>0</td>\n",
       "      <td>78.0</td>\n",
       "      <td>1.5</td>\n",
       "      <td>toyota</td>\n",
       "    </tr>\n",
       "    <tr>\n",
       "      <th>66522</th>\n",
       "      <td>Mokka</td>\n",
       "      <td>2019</td>\n",
       "      <td>19995</td>\n",
       "      <td>Other</td>\n",
       "      <td>1450</td>\n",
       "      <td>Diesel</td>\n",
       "      <td>145</td>\n",
       "      <td>57.7</td>\n",
       "      <td>1.5</td>\n",
       "      <td>vauxhall</td>\n",
       "    </tr>\n",
       "    <tr>\n",
       "      <th>94860</th>\n",
       "      <td>Tucson</td>\n",
       "      <td>2017</td>\n",
       "      <td>16995</td>\n",
       "      <td>Other</td>\n",
       "      <td>25915</td>\n",
       "      <td>Petrol</td>\n",
       "      <td>145</td>\n",
       "      <td>39.8</td>\n",
       "      <td>1.6</td>\n",
       "      <td>hyundi</td>\n",
       "    </tr>\n",
       "  </tbody>\n",
       "</table>\n",
       "</div>"
      ],
      "text/plain": [
       "            model  year  price transmission  mileage fuelType  tax   mpg  \\\n",
       "11457       Mokka  2019  22499        Other     4500   Petrol  145  42.2   \n",
       "15221       Scala  2019  15999        Other     3500   Petrol  145  47.1   \n",
       "16356   GLA Class  2016  18700        Other    30895    Other  125  56.5   \n",
       "38284         SLK  2015  12995        Other    39000   Diesel  150  56.5   \n",
       "48193       Mokka  2019  13499        Other     3000   Petrol  145  44.8   \n",
       "49375       Ioniq  2017  12495        Other    27779   Hybrid    0  78.5   \n",
       "59185       Yaris  2015  12795        Other    16733   Hybrid    0  78.0   \n",
       "66522       Mokka  2019  19995        Other     1450   Diesel  145  57.7   \n",
       "94860      Tucson  2017  16995        Other    25915   Petrol  145  39.8   \n",
       "\n",
       "       engineSize Manufacturer  \n",
       "11457         1.5     vauxhall  \n",
       "15221         1.0        skoda  \n",
       "16356         0.0         merc  \n",
       "38284         2.1         merc  \n",
       "48193         1.4     vauxhall  \n",
       "49375         1.6       hyundi  \n",
       "59185         1.5       toyota  \n",
       "66522         1.5     vauxhall  \n",
       "94860         1.6       hyundi  "
      ]
     },
     "execution_count": 16,
     "metadata": {},
     "output_type": "execute_result"
    }
   ],
   "source": [
    "df[(df['transmission']== 'Other')]"
   ]
  },
  {
   "cell_type": "code",
   "execution_count": 17,
   "metadata": {},
   "outputs": [
    {
     "name": "stdout",
     "output_type": "stream",
     "text": [
      "transmission\n",
      "Manual       55502\n",
      "Semi-Auto    22296\n",
      "Automatic    19905\n",
      "Other            9\n",
      "Name: count, dtype: int64\n"
     ]
    },
    {
     "data": {
      "image/png": "[encoded data removed]",
      "text/plain": [
       "<Figure size 640x480 with 1 Axes>"
      ]
     },
     "metadata": {},
     "output_type": "display_data"
    }
   ],
   "source": [
    "sns.countplot(df, x = 'transmission')\n",
    "print(df['transmission'].value_counts())\n",
    "plt.show()"
   ]
  },
  {
   "cell_type": "code",
   "execution_count": 18,
   "metadata": {},
   "outputs": [
    {
     "name": "stdout",
     "output_type": "stream",
     "text": [
      "fuelType\n",
      "Petrol      53982\n",
      "Diesel      40419\n",
      "Hybrid       3059\n",
      "Other         246\n",
      "Electric        6\n",
      "Name: count, dtype: int64\n"
     ]
    },
    {
     "data": {
      "image/png": "[encoded data removed]",
      "text/plain": [
       "<Figure size 640x480 with 1 Axes>"
      ]
     },
     "metadata": {},
     "output_type": "display_data"
    }
   ],
   "source": [
    "sns.countplot(df, x = 'fuelType')\n",
    "print(df['fuelType'].value_counts())\n",
    "plt.show()"
   ]
  },
  {
   "cell_type": "code",
   "execution_count": 19,
   "metadata": {},
   "outputs": [
    {
     "data": {
      "text/html": [
       "<div>\n",
       "<style scoped>\n",
       "    .dataframe tbody tr th:only-of-type {\n",
       "        vertical-align: middle;\n",
       "    }\n",
       "\n",
       "    .dataframe tbody tr th {\n",
       "        vertical-align: top;\n",
       "    }\n",
       "\n",
       "    .dataframe thead th {\n",
       "        text-align: right;\n",
       "    }\n",
       "</style>\n",
       "<table border=\"1\" class=\"dataframe\">\n",
       "  <thead>\n",
       "    <tr style=\"text-align: right;\">\n",
       "      <th></th>\n",
       "      <th>year</th>\n",
       "      <th>price</th>\n",
       "      <th>mileage</th>\n",
       "      <th>tax</th>\n",
       "      <th>mpg</th>\n",
       "      <th>engineSize</th>\n",
       "    </tr>\n",
       "  </thead>\n",
       "  <tbody>\n",
       "    <tr>\n",
       "      <th>count</th>\n",
       "      <td>252.000000</td>\n",
       "      <td>252.000000</td>\n",
       "      <td>252.000000</td>\n",
       "      <td>252.000000</td>\n",
       "      <td>252.000000</td>\n",
       "      <td>252.000000</td>\n",
       "    </tr>\n",
       "    <tr>\n",
       "      <th>mean</th>\n",
       "      <td>2017.357143</td>\n",
       "      <td>17439.400794</td>\n",
       "      <td>21310.980159</td>\n",
       "      <td>101.706349</td>\n",
       "      <td>90.788095</td>\n",
       "      <td>1.500000</td>\n",
       "    </tr>\n",
       "    <tr>\n",
       "      <th>std</th>\n",
       "      <td>1.700547</td>\n",
       "      <td>8019.846705</td>\n",
       "      <td>19091.607000</td>\n",
       "      <td>69.428982</td>\n",
       "      <td>88.060851</td>\n",
       "      <td>0.526357</td>\n",
       "    </tr>\n",
       "    <tr>\n",
       "      <th>min</th>\n",
       "      <td>2008.000000</td>\n",
       "      <td>4995.000000</td>\n",
       "      <td>100.000000</td>\n",
       "      <td>0.000000</td>\n",
       "      <td>25.500000</td>\n",
       "      <td>0.000000</td>\n",
       "    </tr>\n",
       "    <tr>\n",
       "      <th>25%</th>\n",
       "      <td>2016.000000</td>\n",
       "      <td>10959.750000</td>\n",
       "      <td>6039.750000</td>\n",
       "      <td>0.000000</td>\n",
       "      <td>48.700000</td>\n",
       "      <td>1.000000</td>\n",
       "    </tr>\n",
       "    <tr>\n",
       "      <th>50%</th>\n",
       "      <td>2017.000000</td>\n",
       "      <td>16450.000000</td>\n",
       "      <td>14506.500000</td>\n",
       "      <td>145.000000</td>\n",
       "      <td>64.950000</td>\n",
       "      <td>1.500000</td>\n",
       "    </tr>\n",
       "    <tr>\n",
       "      <th>75%</th>\n",
       "      <td>2019.000000</td>\n",
       "      <td>21831.250000</td>\n",
       "      <td>30869.500000</td>\n",
       "      <td>145.000000</td>\n",
       "      <td>78.000000</td>\n",
       "      <td>2.000000</td>\n",
       "    </tr>\n",
       "    <tr>\n",
       "      <th>max</th>\n",
       "      <td>2020.000000</td>\n",
       "      <td>59995.000000</td>\n",
       "      <td>112000.000000</td>\n",
       "      <td>300.000000</td>\n",
       "      <td>470.800000</td>\n",
       "      <td>3.000000</td>\n",
       "    </tr>\n",
       "  </tbody>\n",
       "</table>\n",
       "</div>"
      ],
      "text/plain": [
       "              year         price        mileage         tax         mpg  \\\n",
       "count   252.000000    252.000000     252.000000  252.000000  252.000000   \n",
       "mean   2017.357143  17439.400794   21310.980159  101.706349   90.788095   \n",
       "std       1.700547   8019.846705   19091.607000   69.428982   88.060851   \n",
       "min    2008.000000   4995.000000     100.000000    0.000000   25.500000   \n",
       "25%    2016.000000  10959.750000    6039.750000    0.000000   48.700000   \n",
       "50%    2017.000000  16450.000000   14506.500000  145.000000   64.950000   \n",
       "75%    2019.000000  21831.250000   30869.500000  145.000000   78.000000   \n",
       "max    2020.000000  59995.000000  112000.000000  300.000000  470.800000   \n",
       "\n",
       "       engineSize  \n",
       "count  252.000000  \n",
       "mean     1.500000  \n",
       "std      0.526357  \n",
       "min      0.000000  \n",
       "25%      1.000000  \n",
       "50%      1.500000  \n",
       "75%      2.000000  \n",
       "max      3.000000  "
      ]
     },
     "execution_count": 19,
     "metadata": {},
     "output_type": "execute_result"
    }
   ],
   "source": [
    "df_other_electric = df[(df['fuelType']== 'Other') | (df['fuelType'] == 'Electric')]\n",
    "df_other_electric.describe()"
   ]
  },
  {
   "cell_type": "code",
   "execution_count": 20,
   "metadata": {},
   "outputs": [
    {
     "name": "stdout",
     "output_type": "stream",
     "text": [
      "Manufacturer\n",
      "ford          17811\n",
      "volkswagen    14893\n",
      "vauxhall      13258\n",
      "merc          12860\n",
      "BMW           10664\n",
      "Audi          10565\n",
      "toyota         6699\n",
      "skoda          6188\n",
      "hyundi         4774\n",
      "Name: count, dtype: int64\n"
     ]
    },
    {
     "data": {
      "image/png": "[encoded data removed]",
      "text/plain": [
       "<Figure size 640x480 with 1 Axes>"
      ]
     },
     "metadata": {},
     "output_type": "display_data"
    }
   ],
   "source": [
    "sns.countplot(df, x = 'Manufacturer')\n",
    "print(df['Manufacturer'].value_counts())\n",
    "plt.xticks(rotation = 45)\n",
    "plt.show()"
   ]
  },
  {
   "cell_type": "code",
   "execution_count": 21,
   "metadata": {},
   "outputs": [
    {
     "name": "stdout",
     "output_type": "stream",
     "text": [
      "<class 'pandas.core.frame.DataFrame'>\n",
      "RangeIndex: 97712 entries, 0 to 97711\n",
      "Data columns (total 10 columns):\n",
      " #   Column        Non-Null Count  Dtype  \n",
      "---  ------        --------------  -----  \n",
      " 0   model         97712 non-null  object \n",
      " 1   year          97712 non-null  int64  \n",
      " 2   price         97712 non-null  int64  \n",
      " 3   transmission  97712 non-null  object \n",
      " 4   mileage       97712 non-null  int64  \n",
      " 5   fuelType      97712 non-null  object \n",
      " 6   tax           97712 non-null  int64  \n",
      " 7   mpg           97712 non-null  float64\n",
      " 8   engineSize    97712 non-null  float64\n",
      " 9   Manufacturer  97712 non-null  object \n",
      "dtypes: float64(2), int64(4), object(4)\n",
      "memory usage: 7.5+ MB\n"
     ]
    }
   ],
   "source": [
    "df.info()"
   ]
  },
  {
   "cell_type": "code",
   "execution_count": 22,
   "metadata": {},
   "outputs": [
    {
     "data": {
      "text/html": [
       "<div>\n",
       "<style scoped>\n",
       "    .dataframe tbody tr th:only-of-type {\n",
       "        vertical-align: middle;\n",
       "    }\n",
       "\n",
       "    .dataframe tbody tr th {\n",
       "        vertical-align: top;\n",
       "    }\n",
       "\n",
       "    .dataframe thead th {\n",
       "        text-align: right;\n",
       "    }\n",
       "</style>\n",
       "<table border=\"1\" class=\"dataframe\">\n",
       "  <thead>\n",
       "    <tr style=\"text-align: right;\">\n",
       "      <th></th>\n",
       "      <th>year</th>\n",
       "      <th>price</th>\n",
       "    </tr>\n",
       "  </thead>\n",
       "  <tbody>\n",
       "    <tr>\n",
       "      <th>0</th>\n",
       "      <td>1970</td>\n",
       "      <td>17747.000000</td>\n",
       "    </tr>\n",
       "    <tr>\n",
       "      <th>1</th>\n",
       "      <td>1996</td>\n",
       "      <td>4497.500000</td>\n",
       "    </tr>\n",
       "    <tr>\n",
       "      <th>2</th>\n",
       "      <td>1997</td>\n",
       "      <td>4886.250000</td>\n",
       "    </tr>\n",
       "    <tr>\n",
       "      <th>3</th>\n",
       "      <td>1998</td>\n",
       "      <td>8257.250000</td>\n",
       "    </tr>\n",
       "    <tr>\n",
       "      <th>4</th>\n",
       "      <td>1999</td>\n",
       "      <td>3521.666667</td>\n",
       "    </tr>\n",
       "    <tr>\n",
       "      <th>5</th>\n",
       "      <td>2000</td>\n",
       "      <td>3162.555556</td>\n",
       "    </tr>\n",
       "    <tr>\n",
       "      <th>6</th>\n",
       "      <td>2001</td>\n",
       "      <td>4149.500000</td>\n",
       "    </tr>\n",
       "    <tr>\n",
       "      <th>7</th>\n",
       "      <td>2002</td>\n",
       "      <td>3579.290323</td>\n",
       "    </tr>\n",
       "    <tr>\n",
       "      <th>8</th>\n",
       "      <td>2003</td>\n",
       "      <td>3658.029412</td>\n",
       "    </tr>\n",
       "    <tr>\n",
       "      <th>9</th>\n",
       "      <td>2004</td>\n",
       "      <td>4523.769231</td>\n",
       "    </tr>\n",
       "    <tr>\n",
       "      <th>10</th>\n",
       "      <td>2005</td>\n",
       "      <td>3017.420290</td>\n",
       "    </tr>\n",
       "    <tr>\n",
       "      <th>11</th>\n",
       "      <td>2006</td>\n",
       "      <td>3714.093023</td>\n",
       "    </tr>\n",
       "    <tr>\n",
       "      <th>12</th>\n",
       "      <td>2007</td>\n",
       "      <td>3706.435583</td>\n",
       "    </tr>\n",
       "    <tr>\n",
       "      <th>13</th>\n",
       "      <td>2008</td>\n",
       "      <td>4002.924623</td>\n",
       "    </tr>\n",
       "    <tr>\n",
       "      <th>14</th>\n",
       "      <td>2009</td>\n",
       "      <td>4320.292419</td>\n",
       "    </tr>\n",
       "    <tr>\n",
       "      <th>15</th>\n",
       "      <td>2010</td>\n",
       "      <td>5286.147059</td>\n",
       "    </tr>\n",
       "    <tr>\n",
       "      <th>16</th>\n",
       "      <td>2011</td>\n",
       "      <td>6829.562500</td>\n",
       "    </tr>\n",
       "    <tr>\n",
       "      <th>17</th>\n",
       "      <td>2012</td>\n",
       "      <td>7586.617694</td>\n",
       "    </tr>\n",
       "    <tr>\n",
       "      <th>18</th>\n",
       "      <td>2013</td>\n",
       "      <td>8599.331274</td>\n",
       "    </tr>\n",
       "    <tr>\n",
       "      <th>19</th>\n",
       "      <td>2014</td>\n",
       "      <td>9963.713792</td>\n",
       "    </tr>\n",
       "    <tr>\n",
       "      <th>20</th>\n",
       "      <td>2015</td>\n",
       "      <td>11668.836146</td>\n",
       "    </tr>\n",
       "    <tr>\n",
       "      <th>21</th>\n",
       "      <td>2016</td>\n",
       "      <td>13292.296171</td>\n",
       "    </tr>\n",
       "    <tr>\n",
       "      <th>22</th>\n",
       "      <td>2017</td>\n",
       "      <td>14371.352239</td>\n",
       "    </tr>\n",
       "    <tr>\n",
       "      <th>23</th>\n",
       "      <td>2018</td>\n",
       "      <td>16243.035151</td>\n",
       "    </tr>\n",
       "    <tr>\n",
       "      <th>24</th>\n",
       "      <td>2019</td>\n",
       "      <td>23570.006459</td>\n",
       "    </tr>\n",
       "    <tr>\n",
       "      <th>25</th>\n",
       "      <td>2020</td>\n",
       "      <td>29107.626485</td>\n",
       "    </tr>\n",
       "    <tr>\n",
       "      <th>26</th>\n",
       "      <td>2024</td>\n",
       "      <td>6495.000000</td>\n",
       "    </tr>\n",
       "  </tbody>\n",
       "</table>\n",
       "</div>"
      ],
      "text/plain": [
       "    year         price\n",
       "0   1970  17747.000000\n",
       "1   1996   4497.500000\n",
       "2   1997   4886.250000\n",
       "3   1998   8257.250000\n",
       "4   1999   3521.666667\n",
       "5   2000   3162.555556\n",
       "6   2001   4149.500000\n",
       "7   2002   3579.290323\n",
       "8   2003   3658.029412\n",
       "9   2004   4523.769231\n",
       "10  2005   3017.420290\n",
       "11  2006   3714.093023\n",
       "12  2007   3706.435583\n",
       "13  2008   4002.924623\n",
       "14  2009   4320.292419\n",
       "15  2010   5286.147059\n",
       "16  2011   6829.562500\n",
       "17  2012   7586.617694\n",
       "18  2013   8599.331274\n",
       "19  2014   9963.713792\n",
       "20  2015  11668.836146\n",
       "21  2016  13292.296171\n",
       "22  2017  14371.352239\n",
       "23  2018  16243.035151\n",
       "24  2019  23570.006459\n",
       "25  2020  29107.626485\n",
       "26  2024   6495.000000"
      ]
     },
     "execution_count": 22,
     "metadata": {},
     "output_type": "execute_result"
    }
   ],
   "source": [
    "df.groupby(['year'])['price'].mean().reset_index().sort_values(by = 'year')"
   ]
  },
  {
   "cell_type": "code",
   "execution_count": 23,
   "metadata": {},
   "outputs": [
    {
     "data": {
      "image/png": "[encoded data removed]",
      "text/plain": [
       "<Figure size 1200x1200 with 1 Axes>"
      ]
     },
     "metadata": {},
     "output_type": "display_data"
    }
   ],
   "source": [
    "plt.figure(figsize= (12,12))\n",
    "sns.barplot(data = df, x = 'year', y = 'price')\n",
    "plt.xticks(rotation = 45)\n",
    "plt.show()"
   ]
  },
  {
   "cell_type": "code",
   "execution_count": 24,
   "metadata": {},
   "outputs": [
    {
     "data": {
      "text/html": [
       "<div>\n",
       "<style scoped>\n",
       "    .dataframe tbody tr th:only-of-type {\n",
       "        vertical-align: middle;\n",
       "    }\n",
       "\n",
       "    .dataframe tbody tr th {\n",
       "        vertical-align: top;\n",
       "    }\n",
       "\n",
       "    .dataframe thead th {\n",
       "        text-align: right;\n",
       "    }\n",
       "</style>\n",
       "<table border=\"1\" class=\"dataframe\">\n",
       "  <thead>\n",
       "    <tr style=\"text-align: right;\">\n",
       "      <th></th>\n",
       "      <th>model</th>\n",
       "      <th>price</th>\n",
       "    </tr>\n",
       "  </thead>\n",
       "  <tbody>\n",
       "    <tr>\n",
       "      <th>0</th>\n",
       "      <td>1 Series</td>\n",
       "      <td>15810.910805</td>\n",
       "    </tr>\n",
       "    <tr>\n",
       "      <th>1</th>\n",
       "      <td>2 Series</td>\n",
       "      <td>19445.345118</td>\n",
       "    </tr>\n",
       "    <tr>\n",
       "      <th>2</th>\n",
       "      <td>3 Series</td>\n",
       "      <td>19851.691044</td>\n",
       "    </tr>\n",
       "    <tr>\n",
       "      <th>3</th>\n",
       "      <td>4 Series</td>\n",
       "      <td>22441.975659</td>\n",
       "    </tr>\n",
       "    <tr>\n",
       "      <th>4</th>\n",
       "      <td>5 Series</td>\n",
       "      <td>22496.283539</td>\n",
       "    </tr>\n",
       "    <tr>\n",
       "      <th>...</th>\n",
       "      <td>...</td>\n",
       "      <td>...</td>\n",
       "    </tr>\n",
       "    <tr>\n",
       "      <th>191</th>\n",
       "      <td>180</td>\n",
       "      <td>10799.000000</td>\n",
       "    </tr>\n",
       "    <tr>\n",
       "      <th>192</th>\n",
       "      <td>200</td>\n",
       "      <td>19495.000000</td>\n",
       "    </tr>\n",
       "    <tr>\n",
       "      <th>193</th>\n",
       "      <td>220</td>\n",
       "      <td>19995.000000</td>\n",
       "    </tr>\n",
       "    <tr>\n",
       "      <th>194</th>\n",
       "      <td>230</td>\n",
       "      <td>4500.000000</td>\n",
       "    </tr>\n",
       "    <tr>\n",
       "      <th>195</th>\n",
       "      <td>E Class</td>\n",
       "      <td>18886.000000</td>\n",
       "    </tr>\n",
       "  </tbody>\n",
       "</table>\n",
       "<p>196 rows × 2 columns</p>\n",
       "</div>"
      ],
      "text/plain": [
       "         model         price\n",
       "0     1 Series  15810.910805\n",
       "1     2 Series  19445.345118\n",
       "2     3 Series  19851.691044\n",
       "3     4 Series  22441.975659\n",
       "4     5 Series  22496.283539\n",
       "..         ...           ...\n",
       "191        180  10799.000000\n",
       "192        200  19495.000000\n",
       "193        220  19995.000000\n",
       "194        230   4500.000000\n",
       "195    E Class  18886.000000\n",
       "\n",
       "[196 rows x 2 columns]"
      ]
     },
     "execution_count": 24,
     "metadata": {},
     "output_type": "execute_result"
    }
   ],
   "source": [
    "df.groupby(['model'])['price'].mean().reset_index().sort_values(by = 'model')"
   ]
  },
  {
   "cell_type": "code",
   "execution_count": 25,
   "metadata": {},
   "outputs": [
    {
     "data": {
      "text/html": [
       "<div>\n",
       "<style scoped>\n",
       "    .dataframe tbody tr th:only-of-type {\n",
       "        vertical-align: middle;\n",
       "    }\n",
       "\n",
       "    .dataframe tbody tr th {\n",
       "        vertical-align: top;\n",
       "    }\n",
       "\n",
       "    .dataframe thead th {\n",
       "        text-align: right;\n",
       "    }\n",
       "</style>\n",
       "<table border=\"1\" class=\"dataframe\">\n",
       "  <thead>\n",
       "    <tr style=\"text-align: right;\">\n",
       "      <th></th>\n",
       "      <th>transmission</th>\n",
       "      <th>price</th>\n",
       "    </tr>\n",
       "  </thead>\n",
       "  <tbody>\n",
       "    <tr>\n",
       "      <th>0</th>\n",
       "      <td>Automatic</td>\n",
       "      <td>21512.202512</td>\n",
       "    </tr>\n",
       "    <tr>\n",
       "      <th>1</th>\n",
       "      <td>Manual</td>\n",
       "      <td>12076.615635</td>\n",
       "    </tr>\n",
       "    <tr>\n",
       "      <th>2</th>\n",
       "      <td>Other</td>\n",
       "      <td>16219.111111</td>\n",
       "    </tr>\n",
       "    <tr>\n",
       "      <th>3</th>\n",
       "      <td>Semi-Auto</td>\n",
       "      <td>24235.214029</td>\n",
       "    </tr>\n",
       "  </tbody>\n",
       "</table>\n",
       "</div>"
      ],
      "text/plain": [
       "  transmission         price\n",
       "0    Automatic  21512.202512\n",
       "1       Manual  12076.615635\n",
       "2        Other  16219.111111\n",
       "3    Semi-Auto  24235.214029"
      ]
     },
     "execution_count": 25,
     "metadata": {},
     "output_type": "execute_result"
    }
   ],
   "source": [
    "df.groupby(['transmission'])['price'].mean().reset_index().sort_values(by = 'transmission')"
   ]
  },
  {
   "cell_type": "code",
   "execution_count": 26,
   "metadata": {},
   "outputs": [
    {
     "data": {
      "image/png": "[encoded data removed]",
      "text/plain": [
       "<Figure size 1200x1200 with 1 Axes>"
      ]
     },
     "metadata": {},
     "output_type": "display_data"
    }
   ],
   "source": [
    "plt.figure(figsize= (12,12))\n",
    "sns.barplot(data = df, x = 'transmission', y = 'price')\n",
    "plt.xticks(rotation = 45)\n",
    "plt.show()"
   ]
  },
  {
   "cell_type": "code",
   "execution_count": 27,
   "metadata": {},
   "outputs": [
    {
     "name": "stdout",
     "output_type": "stream",
     "text": [
      "   fuelType         price\n",
      "0    Diesel  19306.870704\n",
      "1  Electric  16645.333333\n",
      "2    Hybrid  19252.851585\n",
      "3     Other  17458.768293\n",
      "4    Petrol  14733.011133\n"
     ]
    },
    {
     "data": {
      "image/png": "[encoded data removed]",
      "text/plain": [
       "<Figure size 1200x1200 with 1 Axes>"
      ]
     },
     "metadata": {},
     "output_type": "display_data"
    }
   ],
   "source": [
    "print(df.groupby(['fuelType'])['price'].mean().reset_index().sort_values(by = 'fuelType'))\n",
    "plt.figure(figsize= (12,12))\n",
    "sns.barplot(data = df, x = 'fuelType', y = 'price')\n",
    "plt.xticks(rotation = 45)\n",
    "plt.show()\n"
   ]
  },
  {
   "cell_type": "code",
   "execution_count": 28,
   "metadata": {},
   "outputs": [
    {
     "name": "stdout",
     "output_type": "stream",
     "text": [
      "  Manufacturer         price\n",
      "0         Audi  22853.956081\n",
      "1          BMW  22692.888691\n",
      "2         ford  12269.779238\n",
      "3       hyundi  12727.809384\n",
      "4         merc  24636.426361\n",
      "5        skoda  14284.802683\n",
      "6       toyota  12529.799074\n",
      "7     vauxhall  10314.259541\n",
      "8   volkswagen  16807.898073\n"
     ]
    },
    {
     "data": {
      "image/png": "[encoded data removed]",
      "text/plain": [
       "<Figure size 1200x1200 with 1 Axes>"
      ]
     },
     "metadata": {},
     "output_type": "display_data"
    }
   ],
   "source": [
    "print(df.groupby(['Manufacturer'])['price'].mean().reset_index().sort_values(by = 'Manufacturer'))\n",
    "plt.figure(figsize= (12,12))\n",
    "sns.barplot(data = df, x = 'Manufacturer', y = 'price')\n",
    "plt.xticks(rotation = 45)\n",
    "plt.show()"
   ]
  },
  {
   "cell_type": "code",
   "execution_count": 29,
   "metadata": {},
   "outputs": [],
   "source": [
    "import statsmodels.api as sm \n",
    "from statsmodels.formula.api import ols"
   ]
  },
  {
   "cell_type": "code",
   "execution_count": 30,
   "metadata": {},
   "outputs": [
    {
     "name": "stdout",
     "output_type": "stream",
     "text": [
      "                sum_sq       df          F        PR(>F)\n",
      "price     6.042257e+05      1.0  219.04471  1.653787e-49\n",
      "Residual  2.695290e+08  97710.0        NaN           NaN\n"
     ]
    }
   ],
   "source": [
    "from sklearn.preprocessing import LabelEncoder\n",
    "label_encoder = LabelEncoder()\n",
    "\n",
    "df['model_encoded'] = label_encoder.fit_transform(df['model'])\n",
    "\n",
    "model_lm = ols('model_encoded ~ price', data=df).fit()\n",
    "\n",
    "table = sm.stats.anova_lm(model_lm, typ=2)\n",
    "print(table)"
   ]
  },
  {
   "cell_type": "code",
   "execution_count": 31,
   "metadata": {},
   "outputs": [
    {
     "data": {
      "text/html": [
       "<div>\n",
       "<style scoped>\n",
       "    .dataframe tbody tr th:only-of-type {\n",
       "        vertical-align: middle;\n",
       "    }\n",
       "\n",
       "    .dataframe tbody tr th {\n",
       "        vertical-align: top;\n",
       "    }\n",
       "\n",
       "    .dataframe thead th {\n",
       "        text-align: right;\n",
       "    }\n",
       "</style>\n",
       "<table border=\"1\" class=\"dataframe\">\n",
       "  <thead>\n",
       "    <tr style=\"text-align: right;\">\n",
       "      <th></th>\n",
       "      <th>year</th>\n",
       "      <th>price</th>\n",
       "      <th>transmission</th>\n",
       "      <th>mileage</th>\n",
       "      <th>fuelType</th>\n",
       "      <th>tax</th>\n",
       "      <th>mpg</th>\n",
       "      <th>engineSize</th>\n",
       "      <th>Manufacturer</th>\n",
       "    </tr>\n",
       "  </thead>\n",
       "  <tbody>\n",
       "    <tr>\n",
       "      <th>0</th>\n",
       "      <td>2017</td>\n",
       "      <td>7495</td>\n",
       "      <td>Manual</td>\n",
       "      <td>11630</td>\n",
       "      <td>Petrol</td>\n",
       "      <td>145</td>\n",
       "      <td>60.1</td>\n",
       "      <td>1.0</td>\n",
       "      <td>hyundi</td>\n",
       "    </tr>\n",
       "    <tr>\n",
       "      <th>1</th>\n",
       "      <td>2017</td>\n",
       "      <td>10989</td>\n",
       "      <td>Manual</td>\n",
       "      <td>9200</td>\n",
       "      <td>Petrol</td>\n",
       "      <td>145</td>\n",
       "      <td>58.9</td>\n",
       "      <td>1.0</td>\n",
       "      <td>volkswagen</td>\n",
       "    </tr>\n",
       "    <tr>\n",
       "      <th>2</th>\n",
       "      <td>2019</td>\n",
       "      <td>27990</td>\n",
       "      <td>Semi-Auto</td>\n",
       "      <td>1614</td>\n",
       "      <td>Diesel</td>\n",
       "      <td>145</td>\n",
       "      <td>49.6</td>\n",
       "      <td>2.0</td>\n",
       "      <td>BMW</td>\n",
       "    </tr>\n",
       "    <tr>\n",
       "      <th>3</th>\n",
       "      <td>2017</td>\n",
       "      <td>12495</td>\n",
       "      <td>Manual</td>\n",
       "      <td>30960</td>\n",
       "      <td>Diesel</td>\n",
       "      <td>150</td>\n",
       "      <td>62.8</td>\n",
       "      <td>2.0</td>\n",
       "      <td>skoda</td>\n",
       "    </tr>\n",
       "    <tr>\n",
       "      <th>4</th>\n",
       "      <td>2017</td>\n",
       "      <td>7999</td>\n",
       "      <td>Manual</td>\n",
       "      <td>19353</td>\n",
       "      <td>Petrol</td>\n",
       "      <td>125</td>\n",
       "      <td>54.3</td>\n",
       "      <td>1.2</td>\n",
       "      <td>ford</td>\n",
       "    </tr>\n",
       "    <tr>\n",
       "      <th>...</th>\n",
       "      <td>...</td>\n",
       "      <td>...</td>\n",
       "      <td>...</td>\n",
       "      <td>...</td>\n",
       "      <td>...</td>\n",
       "      <td>...</td>\n",
       "      <td>...</td>\n",
       "      <td>...</td>\n",
       "      <td>...</td>\n",
       "    </tr>\n",
       "    <tr>\n",
       "      <th>97707</th>\n",
       "      <td>2017</td>\n",
       "      <td>10447</td>\n",
       "      <td>Automatic</td>\n",
       "      <td>8337</td>\n",
       "      <td>Petrol</td>\n",
       "      <td>145</td>\n",
       "      <td>54.3</td>\n",
       "      <td>1.0</td>\n",
       "      <td>ford</td>\n",
       "    </tr>\n",
       "    <tr>\n",
       "      <th>97708</th>\n",
       "      <td>2014</td>\n",
       "      <td>14995</td>\n",
       "      <td>Manual</td>\n",
       "      <td>25372</td>\n",
       "      <td>Diesel</td>\n",
       "      <td>30</td>\n",
       "      <td>61.4</td>\n",
       "      <td>2.0</td>\n",
       "      <td>BMW</td>\n",
       "    </tr>\n",
       "    <tr>\n",
       "      <th>97709</th>\n",
       "      <td>2017</td>\n",
       "      <td>8950</td>\n",
       "      <td>Manual</td>\n",
       "      <td>19910</td>\n",
       "      <td>Petrol</td>\n",
       "      <td>125</td>\n",
       "      <td>54.3</td>\n",
       "      <td>1.2</td>\n",
       "      <td>ford</td>\n",
       "    </tr>\n",
       "    <tr>\n",
       "      <th>97710</th>\n",
       "      <td>2017</td>\n",
       "      <td>10700</td>\n",
       "      <td>Automatic</td>\n",
       "      <td>24468</td>\n",
       "      <td>Petrol</td>\n",
       "      <td>125</td>\n",
       "      <td>50.4</td>\n",
       "      <td>1.4</td>\n",
       "      <td>vauxhall</td>\n",
       "    </tr>\n",
       "    <tr>\n",
       "      <th>97711</th>\n",
       "      <td>2019</td>\n",
       "      <td>15798</td>\n",
       "      <td>Manual</td>\n",
       "      <td>10586</td>\n",
       "      <td>Diesel</td>\n",
       "      <td>150</td>\n",
       "      <td>48.7</td>\n",
       "      <td>1.5</td>\n",
       "      <td>vauxhall</td>\n",
       "    </tr>\n",
       "  </tbody>\n",
       "</table>\n",
       "<p>97712 rows × 9 columns</p>\n",
       "</div>"
      ],
      "text/plain": [
       "       year  price transmission  mileage fuelType  tax   mpg  engineSize  \\\n",
       "0      2017   7495       Manual    11630   Petrol  145  60.1         1.0   \n",
       "1      2017  10989       Manual     9200   Petrol  145  58.9         1.0   \n",
       "2      2019  27990    Semi-Auto     1614   Diesel  145  49.6         2.0   \n",
       "3      2017  12495       Manual    30960   Diesel  150  62.8         2.0   \n",
       "4      2017   7999       Manual    19353   Petrol  125  54.3         1.2   \n",
       "...     ...    ...          ...      ...      ...  ...   ...         ...   \n",
       "97707  2017  10447    Automatic     8337   Petrol  145  54.3         1.0   \n",
       "97708  2014  14995       Manual    25372   Diesel   30  61.4         2.0   \n",
       "97709  2017   8950       Manual    19910   Petrol  125  54.3         1.2   \n",
       "97710  2017  10700    Automatic    24468   Petrol  125  50.4         1.4   \n",
       "97711  2019  15798       Manual    10586   Diesel  150  48.7         1.5   \n",
       "\n",
       "      Manufacturer  \n",
       "0           hyundi  \n",
       "1       volkswagen  \n",
       "2              BMW  \n",
       "3            skoda  \n",
       "4             ford  \n",
       "...            ...  \n",
       "97707         ford  \n",
       "97708          BMW  \n",
       "97709         ford  \n",
       "97710     vauxhall  \n",
       "97711     vauxhall  \n",
       "\n",
       "[97712 rows x 9 columns]"
      ]
     },
     "execution_count": 31,
     "metadata": {},
     "output_type": "execute_result"
    }
   ],
   "source": [
    "model_df = df.copy()\n",
    "\n",
    "model_df = model_df.drop(['model_encoded', 'model'], axis = 1)\n",
    "\n",
    "model_df"
   ]
  },
  {
   "cell_type": "code",
   "execution_count": 32,
   "metadata": {},
   "outputs": [
    {
     "data": {
      "text/html": [
       "<div>\n",
       "<style scoped>\n",
       "    .dataframe tbody tr th:only-of-type {\n",
       "        vertical-align: middle;\n",
       "    }\n",
       "\n",
       "    .dataframe tbody tr th {\n",
       "        vertical-align: top;\n",
       "    }\n",
       "\n",
       "    .dataframe thead th {\n",
       "        text-align: right;\n",
       "    }\n",
       "</style>\n",
       "<table border=\"1\" class=\"dataframe\">\n",
       "  <thead>\n",
       "    <tr style=\"text-align: right;\">\n",
       "      <th></th>\n",
       "      <th>year</th>\n",
       "      <th>price</th>\n",
       "      <th>transmission</th>\n",
       "      <th>mileage</th>\n",
       "      <th>fuelType</th>\n",
       "      <th>tax</th>\n",
       "      <th>mpg</th>\n",
       "      <th>engineSize</th>\n",
       "      <th>Manufacturer</th>\n",
       "    </tr>\n",
       "  </thead>\n",
       "  <tbody>\n",
       "    <tr>\n",
       "      <th>0</th>\n",
       "      <td>2017</td>\n",
       "      <td>7495</td>\n",
       "      <td>1</td>\n",
       "      <td>11630</td>\n",
       "      <td>4</td>\n",
       "      <td>145</td>\n",
       "      <td>60.1</td>\n",
       "      <td>1.0</td>\n",
       "      <td>3</td>\n",
       "    </tr>\n",
       "    <tr>\n",
       "      <th>1</th>\n",
       "      <td>2017</td>\n",
       "      <td>10989</td>\n",
       "      <td>1</td>\n",
       "      <td>9200</td>\n",
       "      <td>4</td>\n",
       "      <td>145</td>\n",
       "      <td>58.9</td>\n",
       "      <td>1.0</td>\n",
       "      <td>8</td>\n",
       "    </tr>\n",
       "    <tr>\n",
       "      <th>2</th>\n",
       "      <td>2019</td>\n",
       "      <td>27990</td>\n",
       "      <td>3</td>\n",
       "      <td>1614</td>\n",
       "      <td>0</td>\n",
       "      <td>145</td>\n",
       "      <td>49.6</td>\n",
       "      <td>2.0</td>\n",
       "      <td>1</td>\n",
       "    </tr>\n",
       "    <tr>\n",
       "      <th>3</th>\n",
       "      <td>2017</td>\n",
       "      <td>12495</td>\n",
       "      <td>1</td>\n",
       "      <td>30960</td>\n",
       "      <td>0</td>\n",
       "      <td>150</td>\n",
       "      <td>62.8</td>\n",
       "      <td>2.0</td>\n",
       "      <td>5</td>\n",
       "    </tr>\n",
       "    <tr>\n",
       "      <th>4</th>\n",
       "      <td>2017</td>\n",
       "      <td>7999</td>\n",
       "      <td>1</td>\n",
       "      <td>19353</td>\n",
       "      <td>4</td>\n",
       "      <td>125</td>\n",
       "      <td>54.3</td>\n",
       "      <td>1.2</td>\n",
       "      <td>2</td>\n",
       "    </tr>\n",
       "    <tr>\n",
       "      <th>...</th>\n",
       "      <td>...</td>\n",
       "      <td>...</td>\n",
       "      <td>...</td>\n",
       "      <td>...</td>\n",
       "      <td>...</td>\n",
       "      <td>...</td>\n",
       "      <td>...</td>\n",
       "      <td>...</td>\n",
       "      <td>...</td>\n",
       "    </tr>\n",
       "    <tr>\n",
       "      <th>97707</th>\n",
       "      <td>2017</td>\n",
       "      <td>10447</td>\n",
       "      <td>0</td>\n",
       "      <td>8337</td>\n",
       "      <td>4</td>\n",
       "      <td>145</td>\n",
       "      <td>54.3</td>\n",
       "      <td>1.0</td>\n",
       "      <td>2</td>\n",
       "    </tr>\n",
       "    <tr>\n",
       "      <th>97708</th>\n",
       "      <td>2014</td>\n",
       "      <td>14995</td>\n",
       "      <td>1</td>\n",
       "      <td>25372</td>\n",
       "      <td>0</td>\n",
       "      <td>30</td>\n",
       "      <td>61.4</td>\n",
       "      <td>2.0</td>\n",
       "      <td>1</td>\n",
       "    </tr>\n",
       "    <tr>\n",
       "      <th>97709</th>\n",
       "      <td>2017</td>\n",
       "      <td>8950</td>\n",
       "      <td>1</td>\n",
       "      <td>19910</td>\n",
       "      <td>4</td>\n",
       "      <td>125</td>\n",
       "      <td>54.3</td>\n",
       "      <td>1.2</td>\n",
       "      <td>2</td>\n",
       "    </tr>\n",
       "    <tr>\n",
       "      <th>97710</th>\n",
       "      <td>2017</td>\n",
       "      <td>10700</td>\n",
       "      <td>0</td>\n",
       "      <td>24468</td>\n",
       "      <td>4</td>\n",
       "      <td>125</td>\n",
       "      <td>50.4</td>\n",
       "      <td>1.4</td>\n",
       "      <td>7</td>\n",
       "    </tr>\n",
       "    <tr>\n",
       "      <th>97711</th>\n",
       "      <td>2019</td>\n",
       "      <td>15798</td>\n",
       "      <td>1</td>\n",
       "      <td>10586</td>\n",
       "      <td>0</td>\n",
       "      <td>150</td>\n",
       "      <td>48.7</td>\n",
       "      <td>1.5</td>\n",
       "      <td>7</td>\n",
       "    </tr>\n",
       "  </tbody>\n",
       "</table>\n",
       "<p>97712 rows × 9 columns</p>\n",
       "</div>"
      ],
      "text/plain": [
       "       year  price  transmission  mileage  fuelType  tax   mpg  engineSize  \\\n",
       "0      2017   7495             1    11630         4  145  60.1         1.0   \n",
       "1      2017  10989             1     9200         4  145  58.9         1.0   \n",
       "2      2019  27990             3     1614         0  145  49.6         2.0   \n",
       "3      2017  12495             1    30960         0  150  62.8         2.0   \n",
       "4      2017   7999             1    19353         4  125  54.3         1.2   \n",
       "...     ...    ...           ...      ...       ...  ...   ...         ...   \n",
       "97707  2017  10447             0     8337         4  145  54.3         1.0   \n",
       "97708  2014  14995             1    25372         0   30  61.4         2.0   \n",
       "97709  2017   8950             1    19910         4  125  54.3         1.2   \n",
       "97710  2017  10700             0    24468         4  125  50.4         1.4   \n",
       "97711  2019  15798             1    10586         0  150  48.7         1.5   \n",
       "\n",
       "       Manufacturer  \n",
       "0                 3  \n",
       "1                 8  \n",
       "2                 1  \n",
       "3                 5  \n",
       "4                 2  \n",
       "...             ...  \n",
       "97707             2  \n",
       "97708             1  \n",
       "97709             2  \n",
       "97710             7  \n",
       "97711             7  \n",
       "\n",
       "[97712 rows x 9 columns]"
      ]
     },
     "execution_count": 32,
     "metadata": {},
     "output_type": "execute_result"
    }
   ],
   "source": [
    "le = LabelEncoder()\n",
    "for column in model_df.select_dtypes(include = 'object').columns:\n",
    "    model_df[column] = le.fit_transform(model_df[column])\n",
    "\n",
    "model_df"
   ]
  },
  {
   "cell_type": "code",
   "execution_count": 33,
   "metadata": {},
   "outputs": [
    {
     "data": {
      "text/plain": [
       "<Axes: >"
      ]
     },
     "execution_count": 33,
     "metadata": {},
     "output_type": "execute_result"
    },
    {
     "data": {
      "image/png": "[encoded data removed]",
      "text/plain": [
       "<Figure size 640x480 with 2 Axes>"
      ]
     },
     "metadata": {},
     "output_type": "display_data"
    }
   ],
   "source": [
    "sns.heatmap(model_df.corr(), annot=True)"
   ]
  },
  {
   "cell_type": "code",
   "execution_count": 34,
   "metadata": {},
   "outputs": [
    {
     "data": {
      "text/plain": [
       "<Axes: xlabel='engineSize', ylabel='price'>"
      ]
     },
     "execution_count": 34,
     "metadata": {},
     "output_type": "execute_result"
    },
    {
     "data": {
      "image/png": "[encoded data removed]",
      "text/plain": [
       "<Figure size 640x480 with 1 Axes>"
      ]
     },
     "metadata": {},
     "output_type": "display_data"
    }
   ],
   "source": [
    "sns.scatterplot(model_df, x = 'engineSize', y = 'price')"
   ]
  },
  {
   "cell_type": "code",
   "execution_count": 35,
   "metadata": {},
   "outputs": [
    {
     "data": {
      "text/plain": [
       "<Axes: xlabel='year', ylabel='price'>"
      ]
     },
     "execution_count": 35,
     "metadata": {},
     "output_type": "execute_result"
    },
    {
     "data": {
      "image/png": "[encoded data removed]",
      "text/plain": [
       "<Figure size 640x480 with 1 Axes>"
      ]
     },
     "metadata": {},
     "output_type": "display_data"
    }
   ],
   "source": [
    "sns.scatterplot(model_df, x = 'year', y = 'price')"
   ]
  },
  {
   "cell_type": "code",
   "execution_count": 36,
   "metadata": {},
   "outputs": [],
   "source": [
    "df.drop('model', axis = 1, inplace=True)"
   ]
  },
  {
   "cell_type": "code",
   "execution_count": 37,
   "metadata": {},
   "outputs": [
    {
     "data": {
      "text/plain": [
       "['year', 'transmission', 'fuelType', 'Manufacturer']"
      ]
     },
     "execution_count": 37,
     "metadata": {},
     "output_type": "execute_result"
    }
   ],
   "source": [
    "df['year'] = model_df['year'].astype('object')\n",
    "model_df['year'] = model_df['year'].astype('object')\n",
    "\n",
    "categorical_columns = df.select_dtypes(include = 'object').columns.to_list()\n",
    "\n",
    "categorical_columns"
   ]
  },
  {
   "cell_type": "code",
   "execution_count": 38,
   "metadata": {},
   "outputs": [
    {
     "data": {
      "text/html": [
       "<div>\n",
       "<style scoped>\n",
       "    .dataframe tbody tr th:only-of-type {\n",
       "        vertical-align: middle;\n",
       "    }\n",
       "\n",
       "    .dataframe tbody tr th {\n",
       "        vertical-align: top;\n",
       "    }\n",
       "\n",
       "    .dataframe thead th {\n",
       "        text-align: right;\n",
       "    }\n",
       "</style>\n",
       "<table border=\"1\" class=\"dataframe\">\n",
       "  <thead>\n",
       "    <tr style=\"text-align: right;\">\n",
       "      <th></th>\n",
       "      <th>year_1970</th>\n",
       "      <th>year_1996</th>\n",
       "      <th>year_1997</th>\n",
       "      <th>year_1998</th>\n",
       "      <th>year_1999</th>\n",
       "      <th>year_2000</th>\n",
       "      <th>year_2001</th>\n",
       "      <th>year_2002</th>\n",
       "      <th>year_2003</th>\n",
       "      <th>year_2004</th>\n",
       "      <th>...</th>\n",
       "      <th>fuelType_4</th>\n",
       "      <th>Manufacturer_0</th>\n",
       "      <th>Manufacturer_1</th>\n",
       "      <th>Manufacturer_2</th>\n",
       "      <th>Manufacturer_3</th>\n",
       "      <th>Manufacturer_4</th>\n",
       "      <th>Manufacturer_5</th>\n",
       "      <th>Manufacturer_6</th>\n",
       "      <th>Manufacturer_7</th>\n",
       "      <th>Manufacturer_8</th>\n",
       "    </tr>\n",
       "  </thead>\n",
       "  <tbody>\n",
       "    <tr>\n",
       "      <th>0</th>\n",
       "      <td>0.0</td>\n",
       "      <td>0.0</td>\n",
       "      <td>0.0</td>\n",
       "      <td>0.0</td>\n",
       "      <td>0.0</td>\n",
       "      <td>0.0</td>\n",
       "      <td>0.0</td>\n",
       "      <td>0.0</td>\n",
       "      <td>0.0</td>\n",
       "      <td>0.0</td>\n",
       "      <td>...</td>\n",
       "      <td>1.0</td>\n",
       "      <td>0.0</td>\n",
       "      <td>0.0</td>\n",
       "      <td>0.0</td>\n",
       "      <td>1.0</td>\n",
       "      <td>0.0</td>\n",
       "      <td>0.0</td>\n",
       "      <td>0.0</td>\n",
       "      <td>0.0</td>\n",
       "      <td>0.0</td>\n",
       "    </tr>\n",
       "    <tr>\n",
       "      <th>1</th>\n",
       "      <td>0.0</td>\n",
       "      <td>0.0</td>\n",
       "      <td>0.0</td>\n",
       "      <td>0.0</td>\n",
       "      <td>0.0</td>\n",
       "      <td>0.0</td>\n",
       "      <td>0.0</td>\n",
       "      <td>0.0</td>\n",
       "      <td>0.0</td>\n",
       "      <td>0.0</td>\n",
       "      <td>...</td>\n",
       "      <td>1.0</td>\n",
       "      <td>0.0</td>\n",
       "      <td>0.0</td>\n",
       "      <td>0.0</td>\n",
       "      <td>0.0</td>\n",
       "      <td>0.0</td>\n",
       "      <td>0.0</td>\n",
       "      <td>0.0</td>\n",
       "      <td>0.0</td>\n",
       "      <td>1.0</td>\n",
       "    </tr>\n",
       "    <tr>\n",
       "      <th>2</th>\n",
       "      <td>0.0</td>\n",
       "      <td>0.0</td>\n",
       "      <td>0.0</td>\n",
       "      <td>0.0</td>\n",
       "      <td>0.0</td>\n",
       "      <td>0.0</td>\n",
       "      <td>0.0</td>\n",
       "      <td>0.0</td>\n",
       "      <td>0.0</td>\n",
       "      <td>0.0</td>\n",
       "      <td>...</td>\n",
       "      <td>0.0</td>\n",
       "      <td>0.0</td>\n",
       "      <td>1.0</td>\n",
       "      <td>0.0</td>\n",
       "      <td>0.0</td>\n",
       "      <td>0.0</td>\n",
       "      <td>0.0</td>\n",
       "      <td>0.0</td>\n",
       "      <td>0.0</td>\n",
       "      <td>0.0</td>\n",
       "    </tr>\n",
       "    <tr>\n",
       "      <th>3</th>\n",
       "      <td>0.0</td>\n",
       "      <td>0.0</td>\n",
       "      <td>0.0</td>\n",
       "      <td>0.0</td>\n",
       "      <td>0.0</td>\n",
       "      <td>0.0</td>\n",
       "      <td>0.0</td>\n",
       "      <td>0.0</td>\n",
       "      <td>0.0</td>\n",
       "      <td>0.0</td>\n",
       "      <td>...</td>\n",
       "      <td>0.0</td>\n",
       "      <td>0.0</td>\n",
       "      <td>0.0</td>\n",
       "      <td>0.0</td>\n",
       "      <td>0.0</td>\n",
       "      <td>0.0</td>\n",
       "      <td>1.0</td>\n",
       "      <td>0.0</td>\n",
       "      <td>0.0</td>\n",
       "      <td>0.0</td>\n",
       "    </tr>\n",
       "    <tr>\n",
       "      <th>4</th>\n",
       "      <td>0.0</td>\n",
       "      <td>0.0</td>\n",
       "      <td>0.0</td>\n",
       "      <td>0.0</td>\n",
       "      <td>0.0</td>\n",
       "      <td>0.0</td>\n",
       "      <td>0.0</td>\n",
       "      <td>0.0</td>\n",
       "      <td>0.0</td>\n",
       "      <td>0.0</td>\n",
       "      <td>...</td>\n",
       "      <td>1.0</td>\n",
       "      <td>0.0</td>\n",
       "      <td>0.0</td>\n",
       "      <td>1.0</td>\n",
       "      <td>0.0</td>\n",
       "      <td>0.0</td>\n",
       "      <td>0.0</td>\n",
       "      <td>0.0</td>\n",
       "      <td>0.0</td>\n",
       "      <td>0.0</td>\n",
       "    </tr>\n",
       "    <tr>\n",
       "      <th>...</th>\n",
       "      <td>...</td>\n",
       "      <td>...</td>\n",
       "      <td>...</td>\n",
       "      <td>...</td>\n",
       "      <td>...</td>\n",
       "      <td>...</td>\n",
       "      <td>...</td>\n",
       "      <td>...</td>\n",
       "      <td>...</td>\n",
       "      <td>...</td>\n",
       "      <td>...</td>\n",
       "      <td>...</td>\n",
       "      <td>...</td>\n",
       "      <td>...</td>\n",
       "      <td>...</td>\n",
       "      <td>...</td>\n",
       "      <td>...</td>\n",
       "      <td>...</td>\n",
       "      <td>...</td>\n",
       "      <td>...</td>\n",
       "      <td>...</td>\n",
       "    </tr>\n",
       "    <tr>\n",
       "      <th>97707</th>\n",
       "      <td>0.0</td>\n",
       "      <td>0.0</td>\n",
       "      <td>0.0</td>\n",
       "      <td>0.0</td>\n",
       "      <td>0.0</td>\n",
       "      <td>0.0</td>\n",
       "      <td>0.0</td>\n",
       "      <td>0.0</td>\n",
       "      <td>0.0</td>\n",
       "      <td>0.0</td>\n",
       "      <td>...</td>\n",
       "      <td>1.0</td>\n",
       "      <td>0.0</td>\n",
       "      <td>0.0</td>\n",
       "      <td>1.0</td>\n",
       "      <td>0.0</td>\n",
       "      <td>0.0</td>\n",
       "      <td>0.0</td>\n",
       "      <td>0.0</td>\n",
       "      <td>0.0</td>\n",
       "      <td>0.0</td>\n",
       "    </tr>\n",
       "    <tr>\n",
       "      <th>97708</th>\n",
       "      <td>0.0</td>\n",
       "      <td>0.0</td>\n",
       "      <td>0.0</td>\n",
       "      <td>0.0</td>\n",
       "      <td>0.0</td>\n",
       "      <td>0.0</td>\n",
       "      <td>0.0</td>\n",
       "      <td>0.0</td>\n",
       "      <td>0.0</td>\n",
       "      <td>0.0</td>\n",
       "      <td>...</td>\n",
       "      <td>0.0</td>\n",
       "      <td>0.0</td>\n",
       "      <td>1.0</td>\n",
       "      <td>0.0</td>\n",
       "      <td>0.0</td>\n",
       "      <td>0.0</td>\n",
       "      <td>0.0</td>\n",
       "      <td>0.0</td>\n",
       "      <td>0.0</td>\n",
       "      <td>0.0</td>\n",
       "    </tr>\n",
       "    <tr>\n",
       "      <th>97709</th>\n",
       "      <td>0.0</td>\n",
       "      <td>0.0</td>\n",
       "      <td>0.0</td>\n",
       "      <td>0.0</td>\n",
       "      <td>0.0</td>\n",
       "      <td>0.0</td>\n",
       "      <td>0.0</td>\n",
       "      <td>0.0</td>\n",
       "      <td>0.0</td>\n",
       "      <td>0.0</td>\n",
       "      <td>...</td>\n",
       "      <td>1.0</td>\n",
       "      <td>0.0</td>\n",
       "      <td>0.0</td>\n",
       "      <td>1.0</td>\n",
       "      <td>0.0</td>\n",
       "      <td>0.0</td>\n",
       "      <td>0.0</td>\n",
       "      <td>0.0</td>\n",
       "      <td>0.0</td>\n",
       "      <td>0.0</td>\n",
       "    </tr>\n",
       "    <tr>\n",
       "      <th>97710</th>\n",
       "      <td>0.0</td>\n",
       "      <td>0.0</td>\n",
       "      <td>0.0</td>\n",
       "      <td>0.0</td>\n",
       "      <td>0.0</td>\n",
       "      <td>0.0</td>\n",
       "      <td>0.0</td>\n",
       "      <td>0.0</td>\n",
       "      <td>0.0</td>\n",
       "      <td>0.0</td>\n",
       "      <td>...</td>\n",
       "      <td>1.0</td>\n",
       "      <td>0.0</td>\n",
       "      <td>0.0</td>\n",
       "      <td>0.0</td>\n",
       "      <td>0.0</td>\n",
       "      <td>0.0</td>\n",
       "      <td>0.0</td>\n",
       "      <td>0.0</td>\n",
       "      <td>1.0</td>\n",
       "      <td>0.0</td>\n",
       "    </tr>\n",
       "    <tr>\n",
       "      <th>97711</th>\n",
       "      <td>0.0</td>\n",
       "      <td>0.0</td>\n",
       "      <td>0.0</td>\n",
       "      <td>0.0</td>\n",
       "      <td>0.0</td>\n",
       "      <td>0.0</td>\n",
       "      <td>0.0</td>\n",
       "      <td>0.0</td>\n",
       "      <td>0.0</td>\n",
       "      <td>0.0</td>\n",
       "      <td>...</td>\n",
       "      <td>0.0</td>\n",
       "      <td>0.0</td>\n",
       "      <td>0.0</td>\n",
       "      <td>0.0</td>\n",
       "      <td>0.0</td>\n",
       "      <td>0.0</td>\n",
       "      <td>0.0</td>\n",
       "      <td>0.0</td>\n",
       "      <td>1.0</td>\n",
       "      <td>0.0</td>\n",
       "    </tr>\n",
       "  </tbody>\n",
       "</table>\n",
       "<p>97712 rows × 45 columns</p>\n",
       "</div>"
      ],
      "text/plain": [
       "       year_1970  year_1996  year_1997  year_1998  year_1999  year_2000  \\\n",
       "0            0.0        0.0        0.0        0.0        0.0        0.0   \n",
       "1            0.0        0.0        0.0        0.0        0.0        0.0   \n",
       "2            0.0        0.0        0.0        0.0        0.0        0.0   \n",
       "3            0.0        0.0        0.0        0.0        0.0        0.0   \n",
       "4            0.0        0.0        0.0        0.0        0.0        0.0   \n",
       "...          ...        ...        ...        ...        ...        ...   \n",
       "97707        0.0        0.0        0.0        0.0        0.0        0.0   \n",
       "97708        0.0        0.0        0.0        0.0        0.0        0.0   \n",
       "97709        0.0        0.0        0.0        0.0        0.0        0.0   \n",
       "97710        0.0        0.0        0.0        0.0        0.0        0.0   \n",
       "97711        0.0        0.0        0.0        0.0        0.0        0.0   \n",
       "\n",
       "       year_2001  year_2002  year_2003  year_2004  ...  fuelType_4  \\\n",
       "0            0.0        0.0        0.0        0.0  ...         1.0   \n",
       "1            0.0        0.0        0.0        0.0  ...         1.0   \n",
       "2            0.0        0.0        0.0        0.0  ...         0.0   \n",
       "3            0.0        0.0        0.0        0.0  ...         0.0   \n",
       "4            0.0        0.0        0.0        0.0  ...         1.0   \n",
       "...          ...        ...        ...        ...  ...         ...   \n",
       "97707        0.0        0.0        0.0        0.0  ...         1.0   \n",
       "97708        0.0        0.0        0.0        0.0  ...         0.0   \n",
       "97709        0.0        0.0        0.0        0.0  ...         1.0   \n",
       "97710        0.0        0.0        0.0        0.0  ...         1.0   \n",
       "97711        0.0        0.0        0.0        0.0  ...         0.0   \n",
       "\n",
       "       Manufacturer_0  Manufacturer_1  Manufacturer_2  Manufacturer_3  \\\n",
       "0                 0.0             0.0             0.0             1.0   \n",
       "1                 0.0             0.0             0.0             0.0   \n",
       "2                 0.0             1.0             0.0             0.0   \n",
       "3                 0.0             0.0             0.0             0.0   \n",
       "4                 0.0             0.0             1.0             0.0   \n",
       "...               ...             ...             ...             ...   \n",
       "97707             0.0             0.0             1.0             0.0   \n",
       "97708             0.0             1.0             0.0             0.0   \n",
       "97709             0.0             0.0             1.0             0.0   \n",
       "97710             0.0             0.0             0.0             0.0   \n",
       "97711             0.0             0.0             0.0             0.0   \n",
       "\n",
       "       Manufacturer_4  Manufacturer_5  Manufacturer_6  Manufacturer_7  \\\n",
       "0                 0.0             0.0             0.0             0.0   \n",
       "1                 0.0             0.0             0.0             0.0   \n",
       "2                 0.0             0.0             0.0             0.0   \n",
       "3                 0.0             1.0             0.0             0.0   \n",
       "4                 0.0             0.0             0.0             0.0   \n",
       "...               ...             ...             ...             ...   \n",
       "97707             0.0             0.0             0.0             0.0   \n",
       "97708             0.0             0.0             0.0             0.0   \n",
       "97709             0.0             0.0             0.0             0.0   \n",
       "97710             0.0             0.0             0.0             1.0   \n",
       "97711             0.0             0.0             0.0             1.0   \n",
       "\n",
       "       Manufacturer_8  \n",
       "0                 0.0  \n",
       "1                 1.0  \n",
       "2                 0.0  \n",
       "3                 0.0  \n",
       "4                 0.0  \n",
       "...               ...  \n",
       "97707             0.0  \n",
       "97708             0.0  \n",
       "97709             0.0  \n",
       "97710             0.0  \n",
       "97711             0.0  \n",
       "\n",
       "[97712 rows x 45 columns]"
      ]
     },
     "execution_count": 38,
     "metadata": {},
     "output_type": "execute_result"
    }
   ],
   "source": [
    "from sklearn.preprocessing import OneHotEncoder\n",
    "onehot = OneHotEncoder(sparse_output=False)\n",
    "onehot_data = onehot.fit_transform(model_df[categorical_columns])\n",
    "one_hot_df = pd.DataFrame(onehot_data, columns = onehot.get_feature_names_out())\n",
    "one_hot_df"
   ]
  },
  {
   "cell_type": "code",
   "execution_count": 39,
   "metadata": {},
   "outputs": [
    {
     "data": {
      "text/html": [
       "<div>\n",
       "<style scoped>\n",
       "    .dataframe tbody tr th:only-of-type {\n",
       "        vertical-align: middle;\n",
       "    }\n",
       "\n",
       "    .dataframe tbody tr th {\n",
       "        vertical-align: top;\n",
       "    }\n",
       "\n",
       "    .dataframe thead th {\n",
       "        text-align: right;\n",
       "    }\n",
       "</style>\n",
       "<table border=\"1\" class=\"dataframe\">\n",
       "  <thead>\n",
       "    <tr style=\"text-align: right;\">\n",
       "      <th></th>\n",
       "      <th>year_1970</th>\n",
       "      <th>year_1996</th>\n",
       "      <th>year_1997</th>\n",
       "      <th>year_1998</th>\n",
       "      <th>year_1999</th>\n",
       "      <th>year_2000</th>\n",
       "      <th>year_2001</th>\n",
       "      <th>year_2002</th>\n",
       "      <th>year_2003</th>\n",
       "      <th>year_2004</th>\n",
       "      <th>...</th>\n",
       "      <th>Manufacturer_5</th>\n",
       "      <th>Manufacturer_6</th>\n",
       "      <th>Manufacturer_7</th>\n",
       "      <th>Manufacturer_8</th>\n",
       "      <th>price</th>\n",
       "      <th>mileage</th>\n",
       "      <th>tax</th>\n",
       "      <th>mpg</th>\n",
       "      <th>engineSize</th>\n",
       "      <th>model_encoded</th>\n",
       "    </tr>\n",
       "  </thead>\n",
       "  <tbody>\n",
       "    <tr>\n",
       "      <th>0</th>\n",
       "      <td>0.0</td>\n",
       "      <td>0.0</td>\n",
       "      <td>0.0</td>\n",
       "      <td>0.0</td>\n",
       "      <td>0.0</td>\n",
       "      <td>0.0</td>\n",
       "      <td>0.0</td>\n",
       "      <td>0.0</td>\n",
       "      <td>0.0</td>\n",
       "      <td>0.0</td>\n",
       "      <td>...</td>\n",
       "      <td>0.0</td>\n",
       "      <td>0.0</td>\n",
       "      <td>0.0</td>\n",
       "      <td>0.0</td>\n",
       "      <td>7495</td>\n",
       "      <td>11630</td>\n",
       "      <td>145</td>\n",
       "      <td>60.1</td>\n",
       "      <td>1.0</td>\n",
       "      <td>81</td>\n",
       "    </tr>\n",
       "    <tr>\n",
       "      <th>1</th>\n",
       "      <td>0.0</td>\n",
       "      <td>0.0</td>\n",
       "      <td>0.0</td>\n",
       "      <td>0.0</td>\n",
       "      <td>0.0</td>\n",
       "      <td>0.0</td>\n",
       "      <td>0.0</td>\n",
       "      <td>0.0</td>\n",
       "      <td>0.0</td>\n",
       "      <td>0.0</td>\n",
       "      <td>...</td>\n",
       "      <td>0.0</td>\n",
       "      <td>0.0</td>\n",
       "      <td>0.0</td>\n",
       "      <td>1.0</td>\n",
       "      <td>10989</td>\n",
       "      <td>9200</td>\n",
       "      <td>145</td>\n",
       "      <td>58.9</td>\n",
       "      <td>1.0</td>\n",
       "      <td>115</td>\n",
       "    </tr>\n",
       "    <tr>\n",
       "      <th>2</th>\n",
       "      <td>0.0</td>\n",
       "      <td>0.0</td>\n",
       "      <td>0.0</td>\n",
       "      <td>0.0</td>\n",
       "      <td>0.0</td>\n",
       "      <td>0.0</td>\n",
       "      <td>0.0</td>\n",
       "      <td>0.0</td>\n",
       "      <td>0.0</td>\n",
       "      <td>0.0</td>\n",
       "      <td>...</td>\n",
       "      <td>0.0</td>\n",
       "      <td>0.0</td>\n",
       "      <td>0.0</td>\n",
       "      <td>0.0</td>\n",
       "      <td>27990</td>\n",
       "      <td>1614</td>\n",
       "      <td>145</td>\n",
       "      <td>49.6</td>\n",
       "      <td>2.0</td>\n",
       "      <td>1</td>\n",
       "    </tr>\n",
       "    <tr>\n",
       "      <th>3</th>\n",
       "      <td>0.0</td>\n",
       "      <td>0.0</td>\n",
       "      <td>0.0</td>\n",
       "      <td>0.0</td>\n",
       "      <td>0.0</td>\n",
       "      <td>0.0</td>\n",
       "      <td>0.0</td>\n",
       "      <td>0.0</td>\n",
       "      <td>0.0</td>\n",
       "      <td>0.0</td>\n",
       "      <td>...</td>\n",
       "      <td>1.0</td>\n",
       "      <td>0.0</td>\n",
       "      <td>0.0</td>\n",
       "      <td>0.0</td>\n",
       "      <td>12495</td>\n",
       "      <td>30960</td>\n",
       "      <td>150</td>\n",
       "      <td>62.8</td>\n",
       "      <td>2.0</td>\n",
       "      <td>184</td>\n",
       "    </tr>\n",
       "    <tr>\n",
       "      <th>4</th>\n",
       "      <td>0.0</td>\n",
       "      <td>0.0</td>\n",
       "      <td>0.0</td>\n",
       "      <td>0.0</td>\n",
       "      <td>0.0</td>\n",
       "      <td>0.0</td>\n",
       "      <td>0.0</td>\n",
       "      <td>0.0</td>\n",
       "      <td>0.0</td>\n",
       "      <td>0.0</td>\n",
       "      <td>...</td>\n",
       "      <td>0.0</td>\n",
       "      <td>0.0</td>\n",
       "      <td>0.0</td>\n",
       "      <td>0.0</td>\n",
       "      <td>7999</td>\n",
       "      <td>19353</td>\n",
       "      <td>125</td>\n",
       "      <td>54.3</td>\n",
       "      <td>1.2</td>\n",
       "      <td>60</td>\n",
       "    </tr>\n",
       "    <tr>\n",
       "      <th>...</th>\n",
       "      <td>...</td>\n",
       "      <td>...</td>\n",
       "      <td>...</td>\n",
       "      <td>...</td>\n",
       "      <td>...</td>\n",
       "      <td>...</td>\n",
       "      <td>...</td>\n",
       "      <td>...</td>\n",
       "      <td>...</td>\n",
       "      <td>...</td>\n",
       "      <td>...</td>\n",
       "      <td>...</td>\n",
       "      <td>...</td>\n",
       "      <td>...</td>\n",
       "      <td>...</td>\n",
       "      <td>...</td>\n",
       "      <td>...</td>\n",
       "      <td>...</td>\n",
       "      <td>...</td>\n",
       "      <td>...</td>\n",
       "      <td>...</td>\n",
       "    </tr>\n",
       "    <tr>\n",
       "      <th>97707</th>\n",
       "      <td>0.0</td>\n",
       "      <td>0.0</td>\n",
       "      <td>0.0</td>\n",
       "      <td>0.0</td>\n",
       "      <td>0.0</td>\n",
       "      <td>0.0</td>\n",
       "      <td>0.0</td>\n",
       "      <td>0.0</td>\n",
       "      <td>0.0</td>\n",
       "      <td>0.0</td>\n",
       "      <td>...</td>\n",
       "      <td>0.0</td>\n",
       "      <td>0.0</td>\n",
       "      <td>0.0</td>\n",
       "      <td>0.0</td>\n",
       "      <td>10447</td>\n",
       "      <td>8337</td>\n",
       "      <td>145</td>\n",
       "      <td>54.3</td>\n",
       "      <td>1.0</td>\n",
       "      <td>60</td>\n",
       "    </tr>\n",
       "    <tr>\n",
       "      <th>97708</th>\n",
       "      <td>0.0</td>\n",
       "      <td>0.0</td>\n",
       "      <td>0.0</td>\n",
       "      <td>0.0</td>\n",
       "      <td>0.0</td>\n",
       "      <td>0.0</td>\n",
       "      <td>0.0</td>\n",
       "      <td>0.0</td>\n",
       "      <td>0.0</td>\n",
       "      <td>0.0</td>\n",
       "      <td>...</td>\n",
       "      <td>0.0</td>\n",
       "      <td>0.0</td>\n",
       "      <td>0.0</td>\n",
       "      <td>0.0</td>\n",
       "      <td>14995</td>\n",
       "      <td>25372</td>\n",
       "      <td>30</td>\n",
       "      <td>61.4</td>\n",
       "      <td>2.0</td>\n",
       "      <td>2</td>\n",
       "    </tr>\n",
       "    <tr>\n",
       "      <th>97709</th>\n",
       "      <td>0.0</td>\n",
       "      <td>0.0</td>\n",
       "      <td>0.0</td>\n",
       "      <td>0.0</td>\n",
       "      <td>0.0</td>\n",
       "      <td>0.0</td>\n",
       "      <td>0.0</td>\n",
       "      <td>0.0</td>\n",
       "      <td>0.0</td>\n",
       "      <td>0.0</td>\n",
       "      <td>...</td>\n",
       "      <td>0.0</td>\n",
       "      <td>0.0</td>\n",
       "      <td>0.0</td>\n",
       "      <td>0.0</td>\n",
       "      <td>8950</td>\n",
       "      <td>19910</td>\n",
       "      <td>125</td>\n",
       "      <td>54.3</td>\n",
       "      <td>1.2</td>\n",
       "      <td>60</td>\n",
       "    </tr>\n",
       "    <tr>\n",
       "      <th>97710</th>\n",
       "      <td>0.0</td>\n",
       "      <td>0.0</td>\n",
       "      <td>0.0</td>\n",
       "      <td>0.0</td>\n",
       "      <td>0.0</td>\n",
       "      <td>0.0</td>\n",
       "      <td>0.0</td>\n",
       "      <td>0.0</td>\n",
       "      <td>0.0</td>\n",
       "      <td>0.0</td>\n",
       "      <td>...</td>\n",
       "      <td>0.0</td>\n",
       "      <td>0.0</td>\n",
       "      <td>1.0</td>\n",
       "      <td>0.0</td>\n",
       "      <td>10700</td>\n",
       "      <td>24468</td>\n",
       "      <td>125</td>\n",
       "      <td>50.4</td>\n",
       "      <td>1.4</td>\n",
       "      <td>25</td>\n",
       "    </tr>\n",
       "    <tr>\n",
       "      <th>97711</th>\n",
       "      <td>0.0</td>\n",
       "      <td>0.0</td>\n",
       "      <td>0.0</td>\n",
       "      <td>0.0</td>\n",
       "      <td>0.0</td>\n",
       "      <td>0.0</td>\n",
       "      <td>0.0</td>\n",
       "      <td>0.0</td>\n",
       "      <td>0.0</td>\n",
       "      <td>0.0</td>\n",
       "      <td>...</td>\n",
       "      <td>0.0</td>\n",
       "      <td>0.0</td>\n",
       "      <td>1.0</td>\n",
       "      <td>0.0</td>\n",
       "      <td>15798</td>\n",
       "      <td>10586</td>\n",
       "      <td>150</td>\n",
       "      <td>48.7</td>\n",
       "      <td>1.5</td>\n",
       "      <td>79</td>\n",
       "    </tr>\n",
       "  </tbody>\n",
       "</table>\n",
       "<p>97712 rows × 51 columns</p>\n",
       "</div>"
      ],
      "text/plain": [
       "       year_1970  year_1996  year_1997  year_1998  year_1999  year_2000  \\\n",
       "0            0.0        0.0        0.0        0.0        0.0        0.0   \n",
       "1            0.0        0.0        0.0        0.0        0.0        0.0   \n",
       "2            0.0        0.0        0.0        0.0        0.0        0.0   \n",
       "3            0.0        0.0        0.0        0.0        0.0        0.0   \n",
       "4            0.0        0.0        0.0        0.0        0.0        0.0   \n",
       "...          ...        ...        ...        ...        ...        ...   \n",
       "97707        0.0        0.0        0.0        0.0        0.0        0.0   \n",
       "97708        0.0        0.0        0.0        0.0        0.0        0.0   \n",
       "97709        0.0        0.0        0.0        0.0        0.0        0.0   \n",
       "97710        0.0        0.0        0.0        0.0        0.0        0.0   \n",
       "97711        0.0        0.0        0.0        0.0        0.0        0.0   \n",
       "\n",
       "       year_2001  year_2002  year_2003  year_2004  ...  Manufacturer_5  \\\n",
       "0            0.0        0.0        0.0        0.0  ...             0.0   \n",
       "1            0.0        0.0        0.0        0.0  ...             0.0   \n",
       "2            0.0        0.0        0.0        0.0  ...             0.0   \n",
       "3            0.0        0.0        0.0        0.0  ...             1.0   \n",
       "4            0.0        0.0        0.0        0.0  ...             0.0   \n",
       "...          ...        ...        ...        ...  ...             ...   \n",
       "97707        0.0        0.0        0.0        0.0  ...             0.0   \n",
       "97708        0.0        0.0        0.0        0.0  ...             0.0   \n",
       "97709        0.0        0.0        0.0        0.0  ...             0.0   \n",
       "97710        0.0        0.0        0.0        0.0  ...             0.0   \n",
       "97711        0.0        0.0        0.0        0.0  ...             0.0   \n",
       "\n",
       "       Manufacturer_6  Manufacturer_7  Manufacturer_8  price  mileage  tax  \\\n",
       "0                 0.0             0.0             0.0   7495    11630  145   \n",
       "1                 0.0             0.0             1.0  10989     9200  145   \n",
       "2                 0.0             0.0             0.0  27990     1614  145   \n",
       "3                 0.0             0.0             0.0  12495    30960  150   \n",
       "4                 0.0             0.0             0.0   7999    19353  125   \n",
       "...               ...             ...             ...    ...      ...  ...   \n",
       "97707             0.0             0.0             0.0  10447     8337  145   \n",
       "97708             0.0             0.0             0.0  14995    25372   30   \n",
       "97709             0.0             0.0             0.0   8950    19910  125   \n",
       "97710             0.0             1.0             0.0  10700    24468  125   \n",
       "97711             0.0             1.0             0.0  15798    10586  150   \n",
       "\n",
       "        mpg  engineSize  model_encoded  \n",
       "0      60.1         1.0             81  \n",
       "1      58.9         1.0            115  \n",
       "2      49.6         2.0              1  \n",
       "3      62.8         2.0            184  \n",
       "4      54.3         1.2             60  \n",
       "...     ...         ...            ...  \n",
       "97707  54.3         1.0             60  \n",
       "97708  61.4         2.0              2  \n",
       "97709  54.3         1.2             60  \n",
       "97710  50.4         1.4             25  \n",
       "97711  48.7         1.5             79  \n",
       "\n",
       "[97712 rows x 51 columns]"
      ]
     },
     "execution_count": 39,
     "metadata": {},
     "output_type": "execute_result"
    }
   ],
   "source": [
    "model_df = pd.concat([one_hot_df, df.select_dtypes(exclude = 'object')], axis = 1)\n",
    "model_df"
   ]
  },
  {
   "cell_type": "code",
   "execution_count": 40,
   "metadata": {},
   "outputs": [
    {
     "data": {
      "text/plain": [
       "year_1970         0\n",
       "year_1996         0\n",
       "year_1997         0\n",
       "year_1998         0\n",
       "year_1999         0\n",
       "year_2000         0\n",
       "year_2001         0\n",
       "year_2002         0\n",
       "year_2003         0\n",
       "year_2004         0\n",
       "year_2005         0\n",
       "year_2006         0\n",
       "year_2007         0\n",
       "year_2008         0\n",
       "year_2009         0\n",
       "year_2010         0\n",
       "year_2011         0\n",
       "year_2012         0\n",
       "year_2013         0\n",
       "year_2014         0\n",
       "year_2015         0\n",
       "year_2016         0\n",
       "year_2017         0\n",
       "year_2018         0\n",
       "year_2019         0\n",
       "year_2020         0\n",
       "year_2024         0\n",
       "transmission_0    0\n",
       "transmission_1    0\n",
       "transmission_2    0\n",
       "transmission_3    0\n",
       "fuelType_0        0\n",
       "fuelType_1        0\n",
       "fuelType_2        0\n",
       "fuelType_3        0\n",
       "fuelType_4        0\n",
       "Manufacturer_0    0\n",
       "Manufacturer_1    0\n",
       "Manufacturer_2    0\n",
       "Manufacturer_3    0\n",
       "Manufacturer_4    0\n",
       "Manufacturer_5    0\n",
       "Manufacturer_6    0\n",
       "Manufacturer_7    0\n",
       "Manufacturer_8    0\n",
       "price             0\n",
       "mileage           0\n",
       "tax               0\n",
       "mpg               0\n",
       "engineSize        0\n",
       "model_encoded     0\n",
       "dtype: int64"
      ]
     },
     "execution_count": 40,
     "metadata": {},
     "output_type": "execute_result"
    }
   ],
   "source": [
    "model_df.isnull().sum()"
   ]
  },
  {
   "cell_type": "code",
   "execution_count": 41,
   "metadata": {},
   "outputs": [
    {
     "data": {
      "text/plain": [
       "Index(['year_1970', 'year_1996', 'year_1997', 'year_1998', 'year_1999',\n",
       "       'year_2000', 'year_2001', 'year_2002', 'year_2003', 'year_2004',\n",
       "       'year_2005', 'year_2006', 'year_2007', 'year_2008', 'year_2009',\n",
       "       'year_2010', 'year_2011', 'year_2012', 'year_2013', 'year_2014',\n",
       "       'year_2015', 'year_2016', 'year_2017', 'year_2018', 'year_2019',\n",
       "       'year_2020', 'year_2024', 'transmission_0', 'transmission_1',\n",
       "       'transmission_2', 'transmission_3', 'fuelType_0', 'fuelType_1',\n",
       "       'fuelType_2', 'fuelType_3', 'fuelType_4', 'Manufacturer_0',\n",
       "       'Manufacturer_1', 'Manufacturer_2', 'Manufacturer_3', 'Manufacturer_4',\n",
       "       'Manufacturer_5', 'Manufacturer_6', 'Manufacturer_7', 'Manufacturer_8',\n",
       "       'price', 'mileage', 'tax', 'mpg', 'engineSize', 'model_encoded'],\n",
       "      dtype='object')"
      ]
     },
     "execution_count": 41,
     "metadata": {},
     "output_type": "execute_result"
    }
   ],
   "source": [
    "model_df.columns"
   ]
  },
  {
   "cell_type": "code",
   "execution_count": 42,
   "metadata": {},
   "outputs": [],
   "source": [
    "model_df.drop('model_encoded', axis = 1, inplace = True)"
   ]
  },
  {
   "cell_type": "code",
   "execution_count": 43,
   "metadata": {},
   "outputs": [],
   "source": [
    "x = model_df.drop('price', axis = 1)\n",
    "y = model_df['price']"
   ]
  },
  {
   "cell_type": "code",
   "execution_count": 44,
   "metadata": {},
   "outputs": [
    {
     "data": {
      "text/html": [
       "<div>\n",
       "<style scoped>\n",
       "    .dataframe tbody tr th:only-of-type {\n",
       "        vertical-align: middle;\n",
       "    }\n",
       "\n",
       "    .dataframe tbody tr th {\n",
       "        vertical-align: top;\n",
       "    }\n",
       "\n",
       "    .dataframe thead th {\n",
       "        text-align: right;\n",
       "    }\n",
       "</style>\n",
       "<table border=\"1\" class=\"dataframe\">\n",
       "  <thead>\n",
       "    <tr style=\"text-align: right;\">\n",
       "      <th></th>\n",
       "      <th>year_1970</th>\n",
       "      <th>year_1996</th>\n",
       "      <th>year_1997</th>\n",
       "      <th>year_1998</th>\n",
       "      <th>year_1999</th>\n",
       "      <th>year_2000</th>\n",
       "      <th>year_2001</th>\n",
       "      <th>year_2002</th>\n",
       "      <th>year_2003</th>\n",
       "      <th>year_2004</th>\n",
       "      <th>...</th>\n",
       "      <th>Manufacturer_3</th>\n",
       "      <th>Manufacturer_4</th>\n",
       "      <th>Manufacturer_5</th>\n",
       "      <th>Manufacturer_6</th>\n",
       "      <th>Manufacturer_7</th>\n",
       "      <th>Manufacturer_8</th>\n",
       "      <th>mileage</th>\n",
       "      <th>tax</th>\n",
       "      <th>mpg</th>\n",
       "      <th>engineSize</th>\n",
       "    </tr>\n",
       "  </thead>\n",
       "  <tbody>\n",
       "    <tr>\n",
       "      <th>0</th>\n",
       "      <td>0.0</td>\n",
       "      <td>0.0</td>\n",
       "      <td>0.0</td>\n",
       "      <td>0.0</td>\n",
       "      <td>0.0</td>\n",
       "      <td>0.0</td>\n",
       "      <td>0.0</td>\n",
       "      <td>0.0</td>\n",
       "      <td>0.0</td>\n",
       "      <td>0.0</td>\n",
       "      <td>...</td>\n",
       "      <td>1.0</td>\n",
       "      <td>0.0</td>\n",
       "      <td>0.0</td>\n",
       "      <td>0.0</td>\n",
       "      <td>0.0</td>\n",
       "      <td>0.0</td>\n",
       "      <td>-0.550287</td>\n",
       "      <td>0.392342</td>\n",
       "      <td>0.302466</td>\n",
       "      <td>-1.190382</td>\n",
       "    </tr>\n",
       "    <tr>\n",
       "      <th>1</th>\n",
       "      <td>0.0</td>\n",
       "      <td>0.0</td>\n",
       "      <td>0.0</td>\n",
       "      <td>0.0</td>\n",
       "      <td>0.0</td>\n",
       "      <td>0.0</td>\n",
       "      <td>0.0</td>\n",
       "      <td>0.0</td>\n",
       "      <td>0.0</td>\n",
       "      <td>0.0</td>\n",
       "      <td>...</td>\n",
       "      <td>0.0</td>\n",
       "      <td>0.0</td>\n",
       "      <td>0.0</td>\n",
       "      <td>0.0</td>\n",
       "      <td>0.0</td>\n",
       "      <td>1.0</td>\n",
       "      <td>-0.665668</td>\n",
       "      <td>0.392342</td>\n",
       "      <td>0.228308</td>\n",
       "      <td>-1.190382</td>\n",
       "    </tr>\n",
       "    <tr>\n",
       "      <th>2</th>\n",
       "      <td>0.0</td>\n",
       "      <td>0.0</td>\n",
       "      <td>0.0</td>\n",
       "      <td>0.0</td>\n",
       "      <td>0.0</td>\n",
       "      <td>0.0</td>\n",
       "      <td>0.0</td>\n",
       "      <td>0.0</td>\n",
       "      <td>0.0</td>\n",
       "      <td>0.0</td>\n",
       "      <td>...</td>\n",
       "      <td>0.0</td>\n",
       "      <td>0.0</td>\n",
       "      <td>0.0</td>\n",
       "      <td>0.0</td>\n",
       "      <td>0.0</td>\n",
       "      <td>0.0</td>\n",
       "      <td>-1.025863</td>\n",
       "      <td>0.392342</td>\n",
       "      <td>-0.346420</td>\n",
       "      <td>0.599900</td>\n",
       "    </tr>\n",
       "    <tr>\n",
       "      <th>3</th>\n",
       "      <td>0.0</td>\n",
       "      <td>0.0</td>\n",
       "      <td>0.0</td>\n",
       "      <td>0.0</td>\n",
       "      <td>0.0</td>\n",
       "      <td>0.0</td>\n",
       "      <td>0.0</td>\n",
       "      <td>0.0</td>\n",
       "      <td>0.0</td>\n",
       "      <td>0.0</td>\n",
       "      <td>...</td>\n",
       "      <td>0.0</td>\n",
       "      <td>0.0</td>\n",
       "      <td>1.0</td>\n",
       "      <td>0.0</td>\n",
       "      <td>0.0</td>\n",
       "      <td>0.0</td>\n",
       "      <td>0.367533</td>\n",
       "      <td>0.471260</td>\n",
       "      <td>0.469322</td>\n",
       "      <td>0.599900</td>\n",
       "    </tr>\n",
       "    <tr>\n",
       "      <th>4</th>\n",
       "      <td>0.0</td>\n",
       "      <td>0.0</td>\n",
       "      <td>0.0</td>\n",
       "      <td>0.0</td>\n",
       "      <td>0.0</td>\n",
       "      <td>0.0</td>\n",
       "      <td>0.0</td>\n",
       "      <td>0.0</td>\n",
       "      <td>0.0</td>\n",
       "      <td>0.0</td>\n",
       "      <td>...</td>\n",
       "      <td>0.0</td>\n",
       "      <td>0.0</td>\n",
       "      <td>0.0</td>\n",
       "      <td>0.0</td>\n",
       "      <td>0.0</td>\n",
       "      <td>0.0</td>\n",
       "      <td>-0.183587</td>\n",
       "      <td>0.076670</td>\n",
       "      <td>-0.055966</td>\n",
       "      <td>-0.832326</td>\n",
       "    </tr>\n",
       "    <tr>\n",
       "      <th>...</th>\n",
       "      <td>...</td>\n",
       "      <td>...</td>\n",
       "      <td>...</td>\n",
       "      <td>...</td>\n",
       "      <td>...</td>\n",
       "      <td>...</td>\n",
       "      <td>...</td>\n",
       "      <td>...</td>\n",
       "      <td>...</td>\n",
       "      <td>...</td>\n",
       "      <td>...</td>\n",
       "      <td>...</td>\n",
       "      <td>...</td>\n",
       "      <td>...</td>\n",
       "      <td>...</td>\n",
       "      <td>...</td>\n",
       "      <td>...</td>\n",
       "      <td>...</td>\n",
       "      <td>...</td>\n",
       "      <td>...</td>\n",
       "      <td>...</td>\n",
       "    </tr>\n",
       "    <tr>\n",
       "      <th>97707</th>\n",
       "      <td>0.0</td>\n",
       "      <td>0.0</td>\n",
       "      <td>0.0</td>\n",
       "      <td>0.0</td>\n",
       "      <td>0.0</td>\n",
       "      <td>0.0</td>\n",
       "      <td>0.0</td>\n",
       "      <td>0.0</td>\n",
       "      <td>0.0</td>\n",
       "      <td>0.0</td>\n",
       "      <td>...</td>\n",
       "      <td>0.0</td>\n",
       "      <td>0.0</td>\n",
       "      <td>0.0</td>\n",
       "      <td>0.0</td>\n",
       "      <td>0.0</td>\n",
       "      <td>0.0</td>\n",
       "      <td>-0.706644</td>\n",
       "      <td>0.392342</td>\n",
       "      <td>-0.055966</td>\n",
       "      <td>-1.190382</td>\n",
       "    </tr>\n",
       "    <tr>\n",
       "      <th>97708</th>\n",
       "      <td>0.0</td>\n",
       "      <td>0.0</td>\n",
       "      <td>0.0</td>\n",
       "      <td>0.0</td>\n",
       "      <td>0.0</td>\n",
       "      <td>0.0</td>\n",
       "      <td>0.0</td>\n",
       "      <td>0.0</td>\n",
       "      <td>0.0</td>\n",
       "      <td>0.0</td>\n",
       "      <td>...</td>\n",
       "      <td>0.0</td>\n",
       "      <td>0.0</td>\n",
       "      <td>0.0</td>\n",
       "      <td>0.0</td>\n",
       "      <td>0.0</td>\n",
       "      <td>0.0</td>\n",
       "      <td>0.102205</td>\n",
       "      <td>-1.422771</td>\n",
       "      <td>0.382804</td>\n",
       "      <td>0.599900</td>\n",
       "    </tr>\n",
       "    <tr>\n",
       "      <th>97709</th>\n",
       "      <td>0.0</td>\n",
       "      <td>0.0</td>\n",
       "      <td>0.0</td>\n",
       "      <td>0.0</td>\n",
       "      <td>0.0</td>\n",
       "      <td>0.0</td>\n",
       "      <td>0.0</td>\n",
       "      <td>0.0</td>\n",
       "      <td>0.0</td>\n",
       "      <td>0.0</td>\n",
       "      <td>...</td>\n",
       "      <td>0.0</td>\n",
       "      <td>0.0</td>\n",
       "      <td>0.0</td>\n",
       "      <td>0.0</td>\n",
       "      <td>0.0</td>\n",
       "      <td>0.0</td>\n",
       "      <td>-0.157139</td>\n",
       "      <td>0.076670</td>\n",
       "      <td>-0.055966</td>\n",
       "      <td>-0.832326</td>\n",
       "    </tr>\n",
       "    <tr>\n",
       "      <th>97710</th>\n",
       "      <td>0.0</td>\n",
       "      <td>0.0</td>\n",
       "      <td>0.0</td>\n",
       "      <td>0.0</td>\n",
       "      <td>0.0</td>\n",
       "      <td>0.0</td>\n",
       "      <td>0.0</td>\n",
       "      <td>0.0</td>\n",
       "      <td>0.0</td>\n",
       "      <td>0.0</td>\n",
       "      <td>...</td>\n",
       "      <td>0.0</td>\n",
       "      <td>0.0</td>\n",
       "      <td>0.0</td>\n",
       "      <td>0.0</td>\n",
       "      <td>1.0</td>\n",
       "      <td>0.0</td>\n",
       "      <td>0.059282</td>\n",
       "      <td>0.076670</td>\n",
       "      <td>-0.296981</td>\n",
       "      <td>-0.474269</td>\n",
       "    </tr>\n",
       "    <tr>\n",
       "      <th>97711</th>\n",
       "      <td>0.0</td>\n",
       "      <td>0.0</td>\n",
       "      <td>0.0</td>\n",
       "      <td>0.0</td>\n",
       "      <td>0.0</td>\n",
       "      <td>0.0</td>\n",
       "      <td>0.0</td>\n",
       "      <td>0.0</td>\n",
       "      <td>0.0</td>\n",
       "      <td>0.0</td>\n",
       "      <td>...</td>\n",
       "      <td>0.0</td>\n",
       "      <td>0.0</td>\n",
       "      <td>0.0</td>\n",
       "      <td>0.0</td>\n",
       "      <td>1.0</td>\n",
       "      <td>0.0</td>\n",
       "      <td>-0.599858</td>\n",
       "      <td>0.471260</td>\n",
       "      <td>-0.402039</td>\n",
       "      <td>-0.295241</td>\n",
       "    </tr>\n",
       "  </tbody>\n",
       "</table>\n",
       "<p>97712 rows × 49 columns</p>\n",
       "</div>"
      ],
      "text/plain": [
       "       year_1970  year_1996  year_1997  year_1998  year_1999  year_2000  \\\n",
       "0            0.0        0.0        0.0        0.0        0.0        0.0   \n",
       "1            0.0        0.0        0.0        0.0        0.0        0.0   \n",
       "2            0.0        0.0        0.0        0.0        0.0        0.0   \n",
       "3            0.0        0.0        0.0        0.0        0.0        0.0   \n",
       "4            0.0        0.0        0.0        0.0        0.0        0.0   \n",
       "...          ...        ...        ...        ...        ...        ...   \n",
       "97707        0.0        0.0        0.0        0.0        0.0        0.0   \n",
       "97708        0.0        0.0        0.0        0.0        0.0        0.0   \n",
       "97709        0.0        0.0        0.0        0.0        0.0        0.0   \n",
       "97710        0.0        0.0        0.0        0.0        0.0        0.0   \n",
       "97711        0.0        0.0        0.0        0.0        0.0        0.0   \n",
       "\n",
       "       year_2001  year_2002  year_2003  year_2004  ...  Manufacturer_3  \\\n",
       "0            0.0        0.0        0.0        0.0  ...             1.0   \n",
       "1            0.0        0.0        0.0        0.0  ...             0.0   \n",
       "2            0.0        0.0        0.0        0.0  ...             0.0   \n",
       "3            0.0        0.0        0.0        0.0  ...             0.0   \n",
       "4            0.0        0.0        0.0        0.0  ...             0.0   \n",
       "...          ...        ...        ...        ...  ...             ...   \n",
       "97707        0.0        0.0        0.0        0.0  ...             0.0   \n",
       "97708        0.0        0.0        0.0        0.0  ...             0.0   \n",
       "97709        0.0        0.0        0.0        0.0  ...             0.0   \n",
       "97710        0.0        0.0        0.0        0.0  ...             0.0   \n",
       "97711        0.0        0.0        0.0        0.0  ...             0.0   \n",
       "\n",
       "       Manufacturer_4  Manufacturer_5  Manufacturer_6  Manufacturer_7  \\\n",
       "0                 0.0             0.0             0.0             0.0   \n",
       "1                 0.0             0.0             0.0             0.0   \n",
       "2                 0.0             0.0             0.0             0.0   \n",
       "3                 0.0             1.0             0.0             0.0   \n",
       "4                 0.0             0.0             0.0             0.0   \n",
       "...               ...             ...             ...             ...   \n",
       "97707             0.0             0.0             0.0             0.0   \n",
       "97708             0.0             0.0             0.0             0.0   \n",
       "97709             0.0             0.0             0.0             0.0   \n",
       "97710             0.0             0.0             0.0             1.0   \n",
       "97711             0.0             0.0             0.0             1.0   \n",
       "\n",
       "       Manufacturer_8   mileage       tax       mpg  engineSize  \n",
       "0                 0.0 -0.550287  0.392342  0.302466   -1.190382  \n",
       "1                 1.0 -0.665668  0.392342  0.228308   -1.190382  \n",
       "2                 0.0 -1.025863  0.392342 -0.346420    0.599900  \n",
       "3                 0.0  0.367533  0.471260  0.469322    0.599900  \n",
       "4                 0.0 -0.183587  0.076670 -0.055966   -0.832326  \n",
       "...               ...       ...       ...       ...         ...  \n",
       "97707             0.0 -0.706644  0.392342 -0.055966   -1.190382  \n",
       "97708             0.0  0.102205 -1.422771  0.382804    0.599900  \n",
       "97709             0.0 -0.157139  0.076670 -0.055966   -0.832326  \n",
       "97710             0.0  0.059282  0.076670 -0.296981   -0.474269  \n",
       "97711             0.0 -0.599858  0.471260 -0.402039   -0.295241  \n",
       "\n",
       "[97712 rows x 49 columns]"
      ]
     },
     "execution_count": 44,
     "metadata": {},
     "output_type": "execute_result"
    }
   ],
   "source": [
    "from sklearn.preprocessing import StandardScaler\n",
    "numerical_columns = [ 'mileage', 'tax', 'mpg', 'engineSize']\n",
    "for i in numerical_columns:\n",
    "    scaler = StandardScaler()\n",
    "    x[i] = scaler.fit_transform(x[[i]])\n",
    "x\n"
   ]
  },
  {
   "cell_type": "code",
   "execution_count": 45,
   "metadata": {},
   "outputs": [
    {
     "name": "stdout",
     "output_type": "stream",
     "text": [
      "(78169, 49) \n",
      " (78169,)\n"
     ]
    }
   ],
   "source": [
    "x_train, x_test, y_train, y_test = train_test_split(x, y, test_size=0.2, random_state=7)\n",
    "\n",
    "print(x_train.shape, '\\n', y_train.shape)"
   ]
  },
  {
   "cell_type": "code",
   "execution_count": 87,
   "metadata": {},
   "outputs": [],
   "source": [
    "class sklearn_model_build():\n",
    "    def __init__(self, clf, params, x_train, y_train, x_test, y_test):\n",
    "        self.x_train = x_train\n",
    "        self.y_train = y_train\n",
    "        self.x_test = x_test\n",
    "        self.y_test = y_test\n",
    "        self.clf = clf\n",
    "        self.params = params\n",
    "        self.grid_search = GridSearchCV(estimator=self.clf, param_grid=self.params, scoring='neg_root_mean_squared_error')\n",
    "    def perform_grid_search(self):\n",
    "        self.grid_search.fit(x_train, y_train)\n",
    "        best_score = self.grid_search.best_score_\n",
    "        best_params = self.grid_search.best_params_\n",
    "        print('Best score:', best_score, '\\n', 'Best Parameters:', best_params, '\\n')\n",
    "    def train_model(self):\n",
    "        self.best_model = self.grid_search.best_estimator_\n",
    "        self.best_model.fit(self.x_train, self.y_train)\n",
    "        train_predictions = self.best_model.predict(self.x_train)\n",
    "        r2_score_train = r2_score(self.y_train, train_predictions)\n",
    "        root_mean_squared_error_train = np.sqrt(mean_squared_error(self.y_train, train_predictions))\n",
    "        print('r2 Score using training data:', r2_score_train, '\\n', 'root mean squared error using training data:', root_mean_squared_error_train)\n",
    "    def test_model(self):\n",
    "        test_predictions = self.best_model.predict(self.x_test)\n",
    "        r2_score_test = r2_score(self.y_test, test_predictions)\n",
    "        root_mean_squared_error_test = np.sqrt(mean_squared_error(self.y_test, test_predictions))\n",
    "        print('r2 Score using testing data:', r2_score_test, '\\n', 'root mean squared error using testing data:', root_mean_squared_error_test)"
   ]
  },
  {
   "cell_type": "code",
   "execution_count": 84,
   "metadata": {},
   "outputs": [],
   "source": [
    "params_lr = {'fit_intercept': [True, False]}\n",
    "param_svm = {'C': [0.001, 0.01, 5, 10, 50, 100]}\n",
    "param_knn = {'n_neighbors':[2,4,8,16]}\n",
    "param_rf = {'n_estimators': [300, 500, 800], 'max_depth': [5,8,15]}\n",
    "param_xg = {'eta': [0.01, 0.015, 0.025, 0.025, 0.05, 0.1], 'gamma': [0.05, 0.3, 0.5, 0.7, 0.9], 'min_child_weight': [1,3,5,7]}"
   ]
  },
  {
   "cell_type": "code",
   "execution_count": 90,
   "metadata": {},
   "outputs": [
    {
     "name": "stdout",
     "output_type": "stream",
     "text": [
      "Best score: -314762485292.28033 \n",
      " Best Parameters: {'fit_intercept': True} \n",
      "\n"
     ]
    }
   ],
   "source": [
    "base_lr = sklearn_model_build(clf = LinearRegression(), params = params_lr, x_train=x_train, y_train=y_train, x_test=x_test, y_test=y_test)\n",
    "base_lr.perform_grid_search()"
   ]
  },
  {
   "cell_type": "code",
   "execution_count": 91,
   "metadata": {},
   "outputs": [
    {
     "name": "stdout",
     "output_type": "stream",
     "text": [
      "r2 Score using training data: 0.7848836896512232 \n",
      " root mean squared error using training data: 4600.963836652935\n"
     ]
    }
   ],
   "source": [
    "base_lr.train_model()"
   ]
  },
  {
   "cell_type": "code",
   "execution_count": 92,
   "metadata": {},
   "outputs": [
    {
     "name": "stdout",
     "output_type": "stream",
     "text": [
      "r2 Score using testing data: 0.7947695597093152 \n",
      " root mean squared error using testing data: 4376.0604186107885\n"
     ]
    }
   ],
   "source": [
    "base_lr.test_model()"
   ]
  },
  {
   "cell_type": "code",
   "execution_count": 93,
   "metadata": {},
   "outputs": [
    {
     "name": "stdout",
     "output_type": "stream",
     "text": [
      "Best score: -2769.69690461745 \n",
      " Best Parameters: {'n_neighbors': 4} \n",
      "\n"
     ]
    }
   ],
   "source": [
    "base_knn = sklearn_model_build(clf = KNeighborsRegressor(), params = param_knn, x_train=x_train, y_train=y_train, x_test=x_test, y_test=y_test)\n",
    "base_knn.perform_grid_search()"
   ]
  },
  {
   "cell_type": "code",
   "execution_count": 94,
   "metadata": {},
   "outputs": [
    {
     "name": "stdout",
     "output_type": "stream",
     "text": [
      "r2 Score using training data: 0.9566205001270538 \n",
      " root mean squared error using training data: 2066.114663340511\n"
     ]
    }
   ],
   "source": [
    "base_knn.train_model()"
   ]
  },
  {
   "cell_type": "code",
   "execution_count": 95,
   "metadata": {},
   "outputs": [
    {
     "name": "stdout",
     "output_type": "stream",
     "text": [
      "r2 Score using testing data: 0.9286121934844732 \n",
      " root mean squared error using testing data: 2580.9193876951513\n"
     ]
    }
   ],
   "source": [
    "base_knn.test_model()"
   ]
  },
  {
   "cell_type": "code",
   "execution_count": 96,
   "metadata": {},
   "outputs": [
    {
     "name": "stdout",
     "output_type": "stream",
     "text": [
      "Best score: -2476.1189905768997 \n",
      " Best Parameters: {'max_depth': 15, 'n_estimators': 500} \n",
      "\n"
     ]
    }
   ],
   "source": [
    "base_rf= sklearn_model_build(clf = RandomForestRegressor(), params = param_rf, x_train=x_train, y_train=y_train, x_test=x_test, y_test=y_test)\n",
    "base_rf.perform_grid_search()"
   ]
  },
  {
   "cell_type": "code",
   "execution_count": 97,
   "metadata": {},
   "outputs": [
    {
     "name": "stdout",
     "output_type": "stream",
     "text": [
      "r2 Score using training data: 0.9707693324027744 \n",
      " root mean squared error using training data: 1696.0221379190527\n"
     ]
    }
   ],
   "source": [
    "base_rf.train_model()"
   ]
  },
  {
   "cell_type": "code",
   "execution_count": 98,
   "metadata": {},
   "outputs": [
    {
     "name": "stdout",
     "output_type": "stream",
     "text": [
      "r2 Score using testing data: 0.941625269343435 \n",
      " root mean squared error using testing data: 2333.8603505852284\n"
     ]
    }
   ],
   "source": [
    "base_rf.test_model()"
   ]
  },
  {
   "cell_type": "code",
   "execution_count": 99,
   "metadata": {},
   "outputs": [
    {
     "name": "stdout",
     "output_type": "stream",
     "text": [
      "Best score: -2741.5465827417684 \n",
      " Best Parameters: {'eta': 0.1, 'gamma': 0.05, 'min_child_weight': 3} \n",
      "\n"
     ]
    }
   ],
   "source": [
    "base_xg= sklearn_model_build(clf = XGBRegressor(), params = param_xg, x_train=x_train, y_train=y_train, x_test=x_test, y_test=y_test)\n",
    "base_xg.perform_grid_search()"
   ]
  },
  {
   "cell_type": "code",
   "execution_count": 100,
   "metadata": {},
   "outputs": [
    {
     "name": "stdout",
     "output_type": "stream",
     "text": [
      "r2 Score using training data: 0.9328327544643901 \n",
      " root mean squared error using training data: 2570.9339477448875\n"
     ]
    }
   ],
   "source": [
    "base_xg.train_model()"
   ]
  },
  {
   "cell_type": "code",
   "execution_count": 101,
   "metadata": {},
   "outputs": [
    {
     "name": "stdout",
     "output_type": "stream",
     "text": [
      "r2 Score using testing data: 0.9234062545382052 \n",
      " root mean squared error using testing data: 2673.3700276778436\n"
     ]
    }
   ],
   "source": [
    "base_xg.test_model()"
   ]
  },
  {
   "cell_type": "code",
   "execution_count": 102,
   "metadata": {},
   "outputs": [
    {
     "name": "stdout",
     "output_type": "stream",
     "text": [
      "Best score: -4292.5510336279085 \n",
      " Best Parameters: {'C': 100} \n",
      "\n"
     ]
    }
   ],
   "source": [
    "base_svm= sklearn_model_build(clf = SVR(), params = param_svm, x_train=x_train, y_train=y_train, x_test=x_test, y_test=y_test)\n",
    "base_svm.perform_grid_search()"
   ]
  },
  {
   "cell_type": "code",
   "execution_count": 103,
   "metadata": {},
   "outputs": [
    {
     "name": "stdout",
     "output_type": "stream",
     "text": [
      "r2 Score using training data: 0.8224409362816961 \n",
      " root mean squared error using training data: 4180.070174689068\n"
     ]
    }
   ],
   "source": [
    "base_svm.train_model()"
   ]
  },
  {
   "cell_type": "code",
   "execution_count": 104,
   "metadata": {},
   "outputs": [
    {
     "name": "stdout",
     "output_type": "stream",
     "text": [
      "r2 Score using testing data: 0.8526702572646292 \n",
      " root mean squared error using testing data: 3707.7260334420794\n"
     ]
    }
   ],
   "source": [
    "base_svm.test_model()"
   ]
  },
  {
   "cell_type": "code",
   "execution_count": 62,
   "metadata": {},
   "outputs": [
    {
     "data": {
      "text/plain": [
       "49"
      ]
     },
     "execution_count": 62,
     "metadata": {},
     "output_type": "execute_result"
    }
   ],
   "source": [
    "x_train.shape[1]"
   ]
  },
  {
   "cell_type": "code",
   "execution_count": 73,
   "metadata": {},
   "outputs": [],
   "source": [
    "import tensorflow"
   ]
  },
  {
   "cell_type": "code",
   "execution_count": 74,
   "metadata": {},
   "outputs": [],
   "source": [
    "inputs1 = Input(shape = (x_train.shape[1], ))\n",
    "x = Dense(100, activation = 'relu')(inputs1)\n",
    "x = Dense(50, activation = 'relu')(x)\n",
    "x = Dense(10, activation = 'relu')(x)\n",
    "output1 = Dense(1)(x)\n",
    "\n",
    "model_1 = Model(inputs = inputs1, outputs = output1)\n",
    "\n",
    "model_1.compile(loss = 'mse', optimizer = 'adam', metrics = [tensorflow.keras.metrics.RootMeanSquaredError()])"
   ]
  },
  {
   "cell_type": "code",
   "execution_count": 75,
   "metadata": {},
   "outputs": [
    {
     "name": "stdout",
     "output_type": "stream",
     "text": [
      "Epoch 1/50\n",
      "2443/2443 [==============================] - 2s 663us/step - loss: 57413008.0000 - root_mean_squared_error: 7577.1372 - val_loss: 16298563.0000 - val_root_mean_squared_error: 4037.1479\n",
      "Epoch 2/50\n",
      "2443/2443 [==============================] - 2s 669us/step - loss: 16484072.0000 - root_mean_squared_error: 4060.0581 - val_loss: 13637209.0000 - val_root_mean_squared_error: 3692.8591\n",
      "Epoch 3/50\n",
      "2443/2443 [==============================] - 2s 645us/step - loss: 14399980.0000 - root_mean_squared_error: 3794.7305 - val_loss: 12305989.0000 - val_root_mean_squared_error: 3507.9893\n",
      "Epoch 4/50\n",
      "2443/2443 [==============================] - 1s 610us/step - loss: 13267840.0000 - root_mean_squared_error: 3642.5046 - val_loss: 11676433.0000 - val_root_mean_squared_error: 3417.0796\n",
      "Epoch 5/50\n",
      "2443/2443 [==============================] - 2s 655us/step - loss: 12663456.0000 - root_mean_squared_error: 3558.5750 - val_loss: 11238333.0000 - val_root_mean_squared_error: 3352.3623\n",
      "Epoch 6/50\n",
      "2443/2443 [==============================] - 2s 642us/step - loss: 12264380.0000 - root_mean_squared_error: 3502.0537 - val_loss: 11136605.0000 - val_root_mean_squared_error: 3337.1553\n",
      "Epoch 7/50\n",
      "2443/2443 [==============================] - 2s 615us/step - loss: 11992582.0000 - root_mean_squared_error: 3463.0308 - val_loss: 10722844.0000 - val_root_mean_squared_error: 3274.5754\n",
      "Epoch 8/50\n",
      "2443/2443 [==============================] - 2s 676us/step - loss: 11744790.0000 - root_mean_squared_error: 3427.0671 - val_loss: 10500804.0000 - val_root_mean_squared_error: 3240.4944\n",
      "Epoch 9/50\n",
      "2443/2443 [==============================] - 2s 655us/step - loss: 11549106.0000 - root_mean_squared_error: 3398.3975 - val_loss: 10286834.0000 - val_root_mean_squared_error: 3207.3096\n",
      "Epoch 10/50\n",
      "2443/2443 [==============================] - 2s 655us/step - loss: 11386481.0000 - root_mean_squared_error: 3374.3860 - val_loss: 10175775.0000 - val_root_mean_squared_error: 3189.9490\n",
      "Epoch 11/50\n",
      "2443/2443 [==============================] - 2s 649us/step - loss: 11245701.0000 - root_mean_squared_error: 3353.4609 - val_loss: 10020900.0000 - val_root_mean_squared_error: 3165.5806\n",
      "Epoch 12/50\n",
      "2443/2443 [==============================] - 2s 646us/step - loss: 11118421.0000 - root_mean_squared_error: 3334.4297 - val_loss: 9882475.0000 - val_root_mean_squared_error: 3143.6404\n",
      "Epoch 13/50\n",
      "2443/2443 [==============================] - 2s 648us/step - loss: 10993316.0000 - root_mean_squared_error: 3315.6169 - val_loss: 10157820.0000 - val_root_mean_squared_error: 3187.1335\n",
      "Epoch 14/50\n",
      "2443/2443 [==============================] - 2s 676us/step - loss: 10900041.0000 - root_mean_squared_error: 3301.5210 - val_loss: 9751755.0000 - val_root_mean_squared_error: 3122.7800\n",
      "Epoch 15/50\n",
      "2443/2443 [==============================] - 2s 649us/step - loss: 10787027.0000 - root_mean_squared_error: 3284.3611 - val_loss: 9536571.0000 - val_root_mean_squared_error: 3088.1338\n",
      "Epoch 16/50\n",
      "2443/2443 [==============================] - 2s 660us/step - loss: 10690769.0000 - root_mean_squared_error: 3269.6741 - val_loss: 9383989.0000 - val_root_mean_squared_error: 3063.3298\n",
      "Epoch 17/50\n",
      "2443/2443 [==============================] - 2s 651us/step - loss: 10585021.0000 - root_mean_squared_error: 3253.4629 - val_loss: 9328088.0000 - val_root_mean_squared_error: 3054.1919\n",
      "Epoch 18/50\n",
      "2443/2443 [==============================] - 2s 645us/step - loss: 10508954.0000 - root_mean_squared_error: 3241.7517 - val_loss: 9330857.0000 - val_root_mean_squared_error: 3054.6453\n",
      "Epoch 19/50\n",
      "2443/2443 [==============================] - 2s 669us/step - loss: 10436592.0000 - root_mean_squared_error: 3230.5715 - val_loss: 9318551.0000 - val_root_mean_squared_error: 3052.6301\n",
      "Epoch 20/50\n",
      "2443/2443 [==============================] - 2s 662us/step - loss: 10367277.0000 - root_mean_squared_error: 3219.8257 - val_loss: 9174343.0000 - val_root_mean_squared_error: 3028.9177\n",
      "Epoch 21/50\n",
      "2443/2443 [==============================] - 2s 640us/step - loss: 10303001.0000 - root_mean_squared_error: 3209.8289 - val_loss: 9141945.0000 - val_root_mean_squared_error: 3023.5649\n",
      "Epoch 22/50\n",
      "2443/2443 [==============================] - 2s 642us/step - loss: 10215949.0000 - root_mean_squared_error: 3196.2397 - val_loss: 9164888.0000 - val_root_mean_squared_error: 3027.3567\n",
      "Epoch 23/50\n",
      "2443/2443 [==============================] - 2s 622us/step - loss: 10154897.0000 - root_mean_squared_error: 3186.6748 - val_loss: 8978917.0000 - val_root_mean_squared_error: 2996.4841\n",
      "Epoch 24/50\n",
      "2443/2443 [==============================] - 2s 626us/step - loss: 10087224.0000 - root_mean_squared_error: 3176.0391 - val_loss: 8917028.0000 - val_root_mean_squared_error: 2986.1394\n",
      "Epoch 25/50\n",
      "2443/2443 [==============================] - 2s 621us/step - loss: 9992607.0000 - root_mean_squared_error: 3161.1084 - val_loss: 8950784.0000 - val_root_mean_squared_error: 2991.7861\n",
      "Epoch 26/50\n",
      "2443/2443 [==============================] - 1s 607us/step - loss: 9931575.0000 - root_mean_squared_error: 3151.4402 - val_loss: 8833755.0000 - val_root_mean_squared_error: 2972.1633\n",
      "Epoch 27/50\n",
      "2443/2443 [==============================] - 2s 627us/step - loss: 9856963.0000 - root_mean_squared_error: 3139.5801 - val_loss: 8799471.0000 - val_root_mean_squared_error: 2966.3901\n",
      "Epoch 28/50\n",
      "2443/2443 [==============================] - 2s 631us/step - loss: 9787148.0000 - root_mean_squared_error: 3128.4419 - val_loss: 8836367.0000 - val_root_mean_squared_error: 2972.6028\n",
      "Epoch 29/50\n",
      "2443/2443 [==============================] - 2s 672us/step - loss: 9711109.0000 - root_mean_squared_error: 3116.2651 - val_loss: 8702223.0000 - val_root_mean_squared_error: 2949.9531\n",
      "Epoch 30/50\n",
      "2443/2443 [==============================] - 1s 614us/step - loss: 9645404.0000 - root_mean_squared_error: 3105.7051 - val_loss: 8659332.0000 - val_root_mean_squared_error: 2942.6743\n",
      "Epoch 31/50\n",
      "2443/2443 [==============================] - 2s 615us/step - loss: 9583701.0000 - root_mean_squared_error: 3095.7554 - val_loss: 8600312.0000 - val_root_mean_squared_error: 2932.6289\n",
      "Epoch 32/50\n",
      "2443/2443 [==============================] - 2s 620us/step - loss: 9521525.0000 - root_mean_squared_error: 3085.6968 - val_loss: 8541969.0000 - val_root_mean_squared_error: 2922.6648\n",
      "Epoch 33/50\n",
      "2443/2443 [==============================] - 1s 614us/step - loss: 9463778.0000 - root_mean_squared_error: 3076.3254 - val_loss: 8830081.0000 - val_root_mean_squared_error: 2971.5452\n",
      "Epoch 34/50\n",
      "2443/2443 [==============================] - 1s 607us/step - loss: 9420088.0000 - root_mean_squared_error: 3069.2163 - val_loss: 8870672.0000 - val_root_mean_squared_error: 2978.3674\n",
      "Epoch 35/50\n",
      "2443/2443 [==============================] - 2s 663us/step - loss: 9355655.0000 - root_mean_squared_error: 3058.7014 - val_loss: 8523561.0000 - val_root_mean_squared_error: 2919.5139\n",
      "Epoch 36/50\n",
      "2443/2443 [==============================] - 2s 661us/step - loss: 9284954.0000 - root_mean_squared_error: 3047.1223 - val_loss: 8470020.0000 - val_root_mean_squared_error: 2910.3298\n",
      "Epoch 37/50\n",
      "2443/2443 [==============================] - 2s 655us/step - loss: 9237739.0000 - root_mean_squared_error: 3039.3650 - val_loss: 8393864.0000 - val_root_mean_squared_error: 2897.2166\n",
      "Epoch 38/50\n",
      "2443/2443 [==============================] - 2s 629us/step - loss: 9185501.0000 - root_mean_squared_error: 3030.7590 - val_loss: 8652223.0000 - val_root_mean_squared_error: 2941.4661\n",
      "Epoch 39/50\n",
      "2443/2443 [==============================] - 2s 638us/step - loss: 9111095.0000 - root_mean_squared_error: 3018.4590 - val_loss: 8651963.0000 - val_root_mean_squared_error: 2941.4219\n",
      "Epoch 40/50\n",
      "2443/2443 [==============================] - 2s 651us/step - loss: 9038668.0000 - root_mean_squared_error: 3006.4377 - val_loss: 8345483.0000 - val_root_mean_squared_error: 2888.8550\n",
      "Epoch 41/50\n",
      "2443/2443 [==============================] - 2s 640us/step - loss: 9003331.0000 - root_mean_squared_error: 3000.5552 - val_loss: 8405870.0000 - val_root_mean_squared_error: 2899.2878\n",
      "Epoch 42/50\n",
      "2443/2443 [==============================] - 2s 654us/step - loss: 8951308.0000 - root_mean_squared_error: 2991.8738 - val_loss: 8446307.0000 - val_root_mean_squared_error: 2906.2532\n",
      "Epoch 43/50\n",
      "2443/2443 [==============================] - 2s 642us/step - loss: 8902338.0000 - root_mean_squared_error: 2983.6787 - val_loss: 8304968.5000 - val_root_mean_squared_error: 2881.8342\n",
      "Epoch 44/50\n",
      "2443/2443 [==============================] - 2s 642us/step - loss: 8862570.0000 - root_mean_squared_error: 2977.0068 - val_loss: 8177507.5000 - val_root_mean_squared_error: 2859.6340\n",
      "Epoch 45/50\n",
      "2443/2443 [==============================] - 2s 660us/step - loss: 8798351.0000 - root_mean_squared_error: 2966.2014 - val_loss: 8224794.0000 - val_root_mean_squared_error: 2867.8901\n",
      "Epoch 46/50\n",
      "2443/2443 [==============================] - 2s 635us/step - loss: 8755104.0000 - root_mean_squared_error: 2958.9026 - val_loss: 8309431.0000 - val_root_mean_squared_error: 2882.6084\n",
      "Epoch 47/50\n",
      "2443/2443 [==============================] - 2s 642us/step - loss: 8712028.0000 - root_mean_squared_error: 2951.6145 - val_loss: 8108556.0000 - val_root_mean_squared_error: 2847.5527\n",
      "Epoch 48/50\n",
      "2443/2443 [==============================] - 2s 662us/step - loss: 8677988.0000 - root_mean_squared_error: 2945.8425 - val_loss: 8141569.5000 - val_root_mean_squared_error: 2853.3435\n",
      "Epoch 49/50\n",
      "2443/2443 [==============================] - 1s 611us/step - loss: 8599192.0000 - root_mean_squared_error: 2932.4380 - val_loss: 8299630.5000 - val_root_mean_squared_error: 2880.9080\n",
      "Epoch 50/50\n",
      "2443/2443 [==============================] - 2s 624us/step - loss: 8588088.0000 - root_mean_squared_error: 2930.5439 - val_loss: 8110255.0000 - val_root_mean_squared_error: 2847.8508\n"
     ]
    },
    {
     "data": {
      "text/plain": [
       "<keras.src.callbacks.History at 0x259f80bc610>"
      ]
     },
     "execution_count": 75,
     "metadata": {},
     "output_type": "execute_result"
    }
   ],
   "source": [
    "model_1.fit(x_train, y_train, epochs = 50, validation_data=(x_test, y_test), callbacks=[EarlyStopping(patience=10, monitor='val_loss', min_delta=.001)])"
   ]
  },
  {
   "cell_type": "code",
   "execution_count": 77,
   "metadata": {},
   "outputs": [],
   "source": [
    "inputs2 = Input(shape = (x_train.shape[1], ))\n",
    "x2 = Dense(400, activation = 'relu')(inputs2)\n",
    "x2 = Dense(300, activation = 'relu')(x2)\n",
    "x2 = Dense(200, activation = 'relu')(x2)\n",
    "x2 = Dense(200, activation = 'relu')(x2)\n",
    "x2 = Dense(50, activation = 'relu')(x2)\n",
    "x2 = Dense(10, activation = 'relu')(x2)\n",
    "output2 = Dense(1)(x2)\n",
    "\n",
    "model_2 = Model(inputs = inputs2, outputs = output2)\n",
    "\n",
    "model_2.compile(loss = 'mse', optimizer = 'adam', metrics = [tensorflow.keras.metrics.RootMeanSquaredError()])"
   ]
  },
  {
   "cell_type": "code",
   "execution_count": 78,
   "metadata": {},
   "outputs": [
    {
     "name": "stdout",
     "output_type": "stream",
     "text": [
      "Epoch 1/50\n",
      "2443/2443 [==============================] - 5s 2ms/step - loss: 20975714.0000 - root_mean_squared_error: 4579.9253 - val_loss: 12527530.0000 - val_root_mean_squared_error: 3539.4250\n",
      "Epoch 2/50\n",
      "2443/2443 [==============================] - 4s 2ms/step - loss: 11969792.0000 - root_mean_squared_error: 3459.7388 - val_loss: 9830195.0000 - val_root_mean_squared_error: 3135.3142\n",
      "Epoch 3/50\n",
      "2443/2443 [==============================] - 4s 2ms/step - loss: 11171355.0000 - root_mean_squared_error: 3342.3577 - val_loss: 9021181.0000 - val_root_mean_squared_error: 3003.5281\n",
      "Epoch 4/50\n",
      "2443/2443 [==============================] - 4s 2ms/step - loss: 10633621.0000 - root_mean_squared_error: 3260.9233 - val_loss: 9260052.0000 - val_root_mean_squared_error: 3043.0334\n",
      "Epoch 5/50\n",
      "2443/2443 [==============================] - 4s 2ms/step - loss: 10297984.0000 - root_mean_squared_error: 3209.0471 - val_loss: 8886835.0000 - val_root_mean_squared_error: 2981.0796\n",
      "Epoch 6/50\n",
      "2443/2443 [==============================] - 4s 2ms/step - loss: 9875794.0000 - root_mean_squared_error: 3142.5776 - val_loss: 8128922.0000 - val_root_mean_squared_error: 2851.1265\n",
      "Epoch 7/50\n",
      "2443/2443 [==============================] - 5s 2ms/step - loss: 9456797.0000 - root_mean_squared_error: 3075.1907 - val_loss: 8730444.0000 - val_root_mean_squared_error: 2954.7324\n",
      "Epoch 8/50\n",
      "2443/2443 [==============================] - 4s 2ms/step - loss: 9219817.0000 - root_mean_squared_error: 3036.4150 - val_loss: 7900237.0000 - val_root_mean_squared_error: 2810.7361\n",
      "Epoch 9/50\n",
      "2443/2443 [==============================] - 4s 2ms/step - loss: 9113773.0000 - root_mean_squared_error: 3018.9026 - val_loss: 7970059.5000 - val_root_mean_squared_error: 2823.1294\n",
      "Epoch 10/50\n",
      "2443/2443 [==============================] - 4s 2ms/step - loss: 8898653.0000 - root_mean_squared_error: 2983.0610 - val_loss: 8262262.0000 - val_root_mean_squared_error: 2874.4150\n",
      "Epoch 11/50\n",
      "2443/2443 [==============================] - 4s 2ms/step - loss: 8660748.0000 - root_mean_squared_error: 2942.9148 - val_loss: 9426018.0000 - val_root_mean_squared_error: 3070.1821\n",
      "Epoch 12/50\n",
      "2443/2443 [==============================] - 4s 2ms/step - loss: 8507850.0000 - root_mean_squared_error: 2916.8220 - val_loss: 9041151.0000 - val_root_mean_squared_error: 3006.8506\n",
      "Epoch 13/50\n",
      "2443/2443 [==============================] - 4s 2ms/step - loss: 8351955.5000 - root_mean_squared_error: 2889.9751 - val_loss: 8542712.0000 - val_root_mean_squared_error: 2922.7917\n",
      "Epoch 14/50\n",
      "2443/2443 [==============================] - 4s 2ms/step - loss: 8297026.5000 - root_mean_squared_error: 2880.4561 - val_loss: 7459574.0000 - val_root_mean_squared_error: 2731.2222\n",
      "Epoch 15/50\n",
      "2443/2443 [==============================] - 4s 2ms/step - loss: 7984727.0000 - root_mean_squared_error: 2825.7258 - val_loss: 7554522.0000 - val_root_mean_squared_error: 2748.5491\n",
      "Epoch 16/50\n",
      "2443/2443 [==============================] - 4s 2ms/step - loss: 7957990.5000 - root_mean_squared_error: 2820.9910 - val_loss: 7438538.0000 - val_root_mean_squared_error: 2727.3684\n",
      "Epoch 17/50\n",
      "2443/2443 [==============================] - 4s 2ms/step - loss: 7821010.5000 - root_mean_squared_error: 2796.6069 - val_loss: 8719599.0000 - val_root_mean_squared_error: 2952.8967\n",
      "Epoch 18/50\n",
      "2443/2443 [==============================] - 5s 2ms/step - loss: 7818384.5000 - root_mean_squared_error: 2796.1375 - val_loss: 8737030.0000 - val_root_mean_squared_error: 2955.8467\n",
      "Epoch 19/50\n",
      "2443/2443 [==============================] - 4s 2ms/step - loss: 7731505.0000 - root_mean_squared_error: 2780.5583 - val_loss: 7001108.0000 - val_root_mean_squared_error: 2645.9607\n",
      "Epoch 20/50\n",
      "2443/2443 [==============================] - 4s 2ms/step - loss: 7471337.0000 - root_mean_squared_error: 2733.3748 - val_loss: 7233290.0000 - val_root_mean_squared_error: 2689.4775\n",
      "Epoch 21/50\n",
      "2443/2443 [==============================] - 4s 2ms/step - loss: 7464835.5000 - root_mean_squared_error: 2732.1851 - val_loss: 6885438.5000 - val_root_mean_squared_error: 2624.0120\n",
      "Epoch 22/50\n",
      "2443/2443 [==============================] - 4s 2ms/step - loss: 7379485.5000 - root_mean_squared_error: 2716.5208 - val_loss: 6992995.5000 - val_root_mean_squared_error: 2644.4272\n",
      "Epoch 23/50\n",
      "2443/2443 [==============================] - 4s 2ms/step - loss: 7282087.0000 - root_mean_squared_error: 2698.5342 - val_loss: 8508080.0000 - val_root_mean_squared_error: 2916.8613\n",
      "Epoch 24/50\n",
      "2443/2443 [==============================] - 5s 2ms/step - loss: 7274106.0000 - root_mean_squared_error: 2697.0552 - val_loss: 6737559.5000 - val_root_mean_squared_error: 2595.6809\n",
      "Epoch 25/50\n",
      "2443/2443 [==============================] - 4s 2ms/step - loss: 7217180.5000 - root_mean_squared_error: 2686.4810 - val_loss: 7459014.0000 - val_root_mean_squared_error: 2731.1196\n",
      "Epoch 26/50\n",
      "2443/2443 [==============================] - 4s 2ms/step - loss: 7084607.5000 - root_mean_squared_error: 2661.6926 - val_loss: 9396700.0000 - val_root_mean_squared_error: 3065.4038\n",
      "Epoch 27/50\n",
      "2443/2443 [==============================] - 4s 2ms/step - loss: 7100938.0000 - root_mean_squared_error: 2664.7585 - val_loss: 8451000.0000 - val_root_mean_squared_error: 2907.0603\n",
      "Epoch 28/50\n",
      "2443/2443 [==============================] - 5s 2ms/step - loss: 7016928.5000 - root_mean_squared_error: 2648.9485 - val_loss: 6689321.5000 - val_root_mean_squared_error: 2586.3723\n",
      "Epoch 29/50\n",
      "2443/2443 [==============================] - 4s 2ms/step - loss: 7009088.0000 - root_mean_squared_error: 2647.4683 - val_loss: 6524077.5000 - val_root_mean_squared_error: 2554.2273\n",
      "Epoch 30/50\n",
      "2443/2443 [==============================] - 5s 2ms/step - loss: 6913325.5000 - root_mean_squared_error: 2629.3203 - val_loss: 6601493.5000 - val_root_mean_squared_error: 2569.3372\n",
      "Epoch 31/50\n",
      "2443/2443 [==============================] - 4s 2ms/step - loss: 6800795.0000 - root_mean_squared_error: 2607.8335 - val_loss: 6820614.5000 - val_root_mean_squared_error: 2611.6306\n",
      "Epoch 32/50\n",
      "2443/2443 [==============================] - 4s 2ms/step - loss: 6838457.0000 - root_mean_squared_error: 2615.0444 - val_loss: 6463701.5000 - val_root_mean_squared_error: 2542.3811\n",
      "Epoch 33/50\n",
      "2443/2443 [==============================] - 4s 2ms/step - loss: 6811620.0000 - root_mean_squared_error: 2609.9080 - val_loss: 6859748.5000 - val_root_mean_squared_error: 2619.1121\n",
      "Epoch 34/50\n",
      "2443/2443 [==============================] - 4s 2ms/step - loss: 6732801.0000 - root_mean_squared_error: 2594.7642 - val_loss: 6899341.5000 - val_root_mean_squared_error: 2626.6597\n",
      "Epoch 35/50\n",
      "2443/2443 [==============================] - 4s 2ms/step - loss: 6660094.0000 - root_mean_squared_error: 2580.7158 - val_loss: 6733426.0000 - val_root_mean_squared_error: 2594.8845\n",
      "Epoch 36/50\n",
      "2443/2443 [==============================] - 4s 2ms/step - loss: 6638440.0000 - root_mean_squared_error: 2576.5171 - val_loss: 6778958.0000 - val_root_mean_squared_error: 2603.6433\n",
      "Epoch 37/50\n",
      "2443/2443 [==============================] - 4s 2ms/step - loss: 6647149.5000 - root_mean_squared_error: 2578.2065 - val_loss: 6459351.5000 - val_root_mean_squared_error: 2541.5254\n",
      "Epoch 38/50\n",
      "2443/2443 [==============================] - 4s 2ms/step - loss: 6560044.0000 - root_mean_squared_error: 2561.2583 - val_loss: 7606337.0000 - val_root_mean_squared_error: 2757.9587\n",
      "Epoch 39/50\n",
      "2443/2443 [==============================] - 4s 2ms/step - loss: 6613184.5000 - root_mean_squared_error: 2571.6113 - val_loss: 6407095.5000 - val_root_mean_squared_error: 2531.2241\n",
      "Epoch 40/50\n",
      "2443/2443 [==============================] - 4s 2ms/step - loss: 6503830.5000 - root_mean_squared_error: 2550.2610 - val_loss: 6959488.5000 - val_root_mean_squared_error: 2638.0842\n",
      "Epoch 41/50\n",
      "2443/2443 [==============================] - 5s 2ms/step - loss: 6509526.0000 - root_mean_squared_error: 2551.3772 - val_loss: 6249219.5000 - val_root_mean_squared_error: 2499.8440\n",
      "Epoch 42/50\n",
      "2443/2443 [==============================] - 4s 2ms/step - loss: 6367512.0000 - root_mean_squared_error: 2523.3931 - val_loss: 6928207.5000 - val_root_mean_squared_error: 2632.1489\n",
      "Epoch 43/50\n",
      "2443/2443 [==============================] - 4s 2ms/step - loss: 6447861.0000 - root_mean_squared_error: 2539.2639 - val_loss: 6128125.5000 - val_root_mean_squared_error: 2475.5051\n",
      "Epoch 44/50\n",
      "2443/2443 [==============================] - 4s 2ms/step - loss: 6459257.0000 - root_mean_squared_error: 2541.5068 - val_loss: 6846550.0000 - val_root_mean_squared_error: 2616.5913\n",
      "Epoch 45/50\n",
      "2443/2443 [==============================] - 4s 2ms/step - loss: 6327560.0000 - root_mean_squared_error: 2515.4641 - val_loss: 6628073.5000 - val_root_mean_squared_error: 2574.5044\n",
      "Epoch 46/50\n",
      "2443/2443 [==============================] - 4s 2ms/step - loss: 6194298.0000 - root_mean_squared_error: 2488.8347 - val_loss: 6663483.5000 - val_root_mean_squared_error: 2581.3723\n",
      "Epoch 47/50\n",
      "2443/2443 [==============================] - 4s 2ms/step - loss: 6318401.0000 - root_mean_squared_error: 2513.6431 - val_loss: 6371297.5000 - val_root_mean_squared_error: 2524.1428\n",
      "Epoch 48/50\n",
      "2443/2443 [==============================] - 4s 2ms/step - loss: 6260781.0000 - root_mean_squared_error: 2502.1553 - val_loss: 6382521.0000 - val_root_mean_squared_error: 2526.3652\n",
      "Epoch 49/50\n",
      "2443/2443 [==============================] - 4s 2ms/step - loss: 6182400.5000 - root_mean_squared_error: 2486.4434 - val_loss: 7082650.0000 - val_root_mean_squared_error: 2661.3250\n",
      "Epoch 50/50\n",
      "2443/2443 [==============================] - 4s 2ms/step - loss: 6213349.0000 - root_mean_squared_error: 2492.6589 - val_loss: 6589583.0000 - val_root_mean_squared_error: 2567.0183\n"
     ]
    },
    {
     "data": {
      "text/plain": [
       "<keras.src.callbacks.History at 0x25a2e256530>"
      ]
     },
     "execution_count": 78,
     "metadata": {},
     "output_type": "execute_result"
    }
   ],
   "source": [
    "model_2.fit(x_train, y_train, epochs = 50, validation_data=(x_test, y_test), callbacks=[EarlyStopping(patience=10, monitor='val_loss', min_delta=.001, restore_best_weights=True)])"
   ]
  },
  {
   "cell_type": "code",
   "execution_count": 79,
   "metadata": {},
   "outputs": [
    {
     "name": "stdout",
     "output_type": "stream",
     "text": [
      "Epoch 1/200\n",
      "2443/2443 [==============================] - 16s 6ms/step - loss: 18499646.0000 - root_mean_squared_error: 4301.1216 - val_loss: 13330698.0000 - val_root_mean_squared_error: 3651.1228\n",
      "Epoch 2/200\n",
      "2443/2443 [==============================] - 15s 6ms/step - loss: 12653643.0000 - root_mean_squared_error: 3557.1960 - val_loss: 20077328.0000 - val_root_mean_squared_error: 4480.7729\n",
      "Epoch 3/200\n",
      "2443/2443 [==============================] - 15s 6ms/step - loss: 11422902.0000 - root_mean_squared_error: 3379.7783 - val_loss: 11422140.0000 - val_root_mean_squared_error: 3379.6658\n",
      "Epoch 4/200\n",
      "2443/2443 [==============================] - 16s 7ms/step - loss: 10877369.0000 - root_mean_squared_error: 3298.0857 - val_loss: 8245888.5000 - val_root_mean_squared_error: 2871.5654\n",
      "Epoch 5/200\n",
      "2443/2443 [==============================] - 16s 7ms/step - loss: 10012100.0000 - root_mean_squared_error: 3164.1902 - val_loss: 7878815.0000 - val_root_mean_squared_error: 2806.9226\n",
      "Epoch 6/200\n",
      "2443/2443 [==============================] - 16s 6ms/step - loss: 9871457.0000 - root_mean_squared_error: 3141.8875 - val_loss: 8350172.0000 - val_root_mean_squared_error: 2889.6665\n",
      "Epoch 7/200\n",
      "2443/2443 [==============================] - 16s 6ms/step - loss: 9473978.0000 - root_mean_squared_error: 3077.9827 - val_loss: 7880486.0000 - val_root_mean_squared_error: 2807.2202\n",
      "Epoch 8/200\n",
      "2443/2443 [==============================] - 16s 7ms/step - loss: 9246665.0000 - root_mean_squared_error: 3040.8330 - val_loss: 7894200.0000 - val_root_mean_squared_error: 2809.6619\n",
      "Epoch 9/200\n",
      "2443/2443 [==============================] - 16s 7ms/step - loss: 8927896.0000 - root_mean_squared_error: 2987.9585 - val_loss: 7701295.0000 - val_root_mean_squared_error: 2775.1206\n",
      "Epoch 10/200\n",
      "2443/2443 [==============================] - 16s 7ms/step - loss: 8830928.0000 - root_mean_squared_error: 2971.6877 - val_loss: 7649752.5000 - val_root_mean_squared_error: 2765.8186\n",
      "Epoch 11/200\n",
      "2443/2443 [==============================] - 16s 6ms/step - loss: 8624870.0000 - root_mean_squared_error: 2936.8130 - val_loss: 7842185.5000 - val_root_mean_squared_error: 2800.3901\n",
      "Epoch 12/200\n",
      "2443/2443 [==============================] - 16s 7ms/step - loss: 8355913.5000 - root_mean_squared_error: 2890.6597 - val_loss: 8318791.5000 - val_root_mean_squared_error: 2884.2314\n",
      "Epoch 13/200\n",
      "2443/2443 [==============================] - 16s 7ms/step - loss: 8155474.0000 - root_mean_squared_error: 2855.7791 - val_loss: 7305758.5000 - val_root_mean_squared_error: 2702.9167\n",
      "Epoch 14/200\n",
      "2443/2443 [==============================] - 16s 7ms/step - loss: 8124037.5000 - root_mean_squared_error: 2850.2698 - val_loss: 7173914.0000 - val_root_mean_squared_error: 2678.4163\n",
      "Epoch 15/200\n",
      "2443/2443 [==============================] - 15s 6ms/step - loss: 8000948.0000 - root_mean_squared_error: 2828.5947 - val_loss: 8774163.0000 - val_root_mean_squared_error: 2962.1213\n",
      "Epoch 16/200\n",
      "2443/2443 [==============================] - 16s 6ms/step - loss: 7802328.5000 - root_mean_squared_error: 2793.2649 - val_loss: 12216582.0000 - val_root_mean_squared_error: 3495.2227\n",
      "Epoch 17/200\n",
      "2443/2443 [==============================] - 16s 7ms/step - loss: 7798151.0000 - root_mean_squared_error: 2792.5168 - val_loss: 10616179.0000 - val_root_mean_squared_error: 3258.2478\n",
      "Epoch 18/200\n",
      "2443/2443 [==============================] - 16s 7ms/step - loss: 7558934.5000 - root_mean_squared_error: 2749.3516 - val_loss: 6763002.0000 - val_root_mean_squared_error: 2600.5771\n",
      "Epoch 19/200\n",
      "2443/2443 [==============================] - 16s 6ms/step - loss: 7587818.5000 - root_mean_squared_error: 2754.5996 - val_loss: 6870706.5000 - val_root_mean_squared_error: 2621.2034\n",
      "Epoch 20/200\n",
      "2443/2443 [==============================] - 16s 7ms/step - loss: 7395277.5000 - root_mean_squared_error: 2719.4260 - val_loss: 7211212.0000 - val_root_mean_squared_error: 2685.3699\n",
      "Epoch 21/200\n",
      "2443/2443 [==============================] - 16s 6ms/step - loss: 7408684.5000 - root_mean_squared_error: 2721.8899 - val_loss: 10087139.0000 - val_root_mean_squared_error: 3176.0256\n",
      "Epoch 22/200\n",
      "2443/2443 [==============================] - 16s 6ms/step - loss: 7307344.0000 - root_mean_squared_error: 2703.2100 - val_loss: 7532377.0000 - val_root_mean_squared_error: 2744.5176\n",
      "Epoch 23/200\n",
      "2443/2443 [==============================] - 15s 6ms/step - loss: 7223076.0000 - root_mean_squared_error: 2687.5781 - val_loss: 6847561.5000 - val_root_mean_squared_error: 2616.7847\n",
      "Epoch 24/200\n",
      "2443/2443 [==============================] - 16s 7ms/step - loss: 7045451.5000 - root_mean_squared_error: 2654.3269 - val_loss: 11141319.0000 - val_root_mean_squared_error: 3337.8613\n",
      "Epoch 25/200\n",
      "2443/2443 [==============================] - 17s 7ms/step - loss: 7076907.0000 - root_mean_squared_error: 2660.2456 - val_loss: 6424555.0000 - val_root_mean_squared_error: 2534.6707\n",
      "Epoch 26/200\n",
      "2443/2443 [==============================] - 17s 7ms/step - loss: 7097401.5000 - root_mean_squared_error: 2664.0950 - val_loss: 10210030.0000 - val_root_mean_squared_error: 3195.3137\n",
      "Epoch 27/200\n",
      "2443/2443 [==============================] - 17s 7ms/step - loss: 6991149.0000 - root_mean_squared_error: 2644.0781 - val_loss: 7660072.0000 - val_root_mean_squared_error: 2767.6836\n",
      "Epoch 28/200\n",
      "2443/2443 [==============================] - 17s 7ms/step - loss: 6831203.0000 - root_mean_squared_error: 2613.6570 - val_loss: 6688835.5000 - val_root_mean_squared_error: 2586.2783\n",
      "Epoch 29/200\n",
      "2443/2443 [==============================] - 17s 7ms/step - loss: 6855730.5000 - root_mean_squared_error: 2618.3450 - val_loss: 6503630.0000 - val_root_mean_squared_error: 2550.2217\n",
      "Epoch 30/200\n",
      "2443/2443 [==============================] - 16s 7ms/step - loss: 6726024.5000 - root_mean_squared_error: 2593.4580 - val_loss: 9358622.0000 - val_root_mean_squared_error: 3059.1865\n",
      "Epoch 31/200\n",
      "2443/2443 [==============================] - 16s 7ms/step - loss: 6752294.0000 - root_mean_squared_error: 2598.5176 - val_loss: 7617414.0000 - val_root_mean_squared_error: 2759.9663\n",
      "Epoch 32/200\n",
      "2443/2443 [==============================] - 16s 6ms/step - loss: 6525015.0000 - root_mean_squared_error: 2554.4109 - val_loss: 6263101.0000 - val_root_mean_squared_error: 2502.6189\n",
      "Epoch 33/200\n",
      "2443/2443 [==============================] - 16s 7ms/step - loss: 6546911.5000 - root_mean_squared_error: 2558.6934 - val_loss: 6559136.5000 - val_root_mean_squared_error: 2561.0811\n",
      "Epoch 34/200\n",
      "2443/2443 [==============================] - 16s 7ms/step - loss: 6525709.5000 - root_mean_squared_error: 2554.5469 - val_loss: 6390895.0000 - val_root_mean_squared_error: 2528.0220\n",
      "Epoch 35/200\n",
      "2443/2443 [==============================] - 16s 7ms/step - loss: 6494896.0000 - root_mean_squared_error: 2548.5085 - val_loss: 6441855.0000 - val_root_mean_squared_error: 2538.0811\n",
      "Epoch 36/200\n",
      "2443/2443 [==============================] - 16s 6ms/step - loss: 6490148.0000 - root_mean_squared_error: 2547.5769 - val_loss: 6231803.0000 - val_root_mean_squared_error: 2496.3579\n",
      "Epoch 37/200\n",
      "2443/2443 [==============================] - 16s 7ms/step - loss: 6349536.5000 - root_mean_squared_error: 2519.8286 - val_loss: 6432170.5000 - val_root_mean_squared_error: 2536.1724\n",
      "Epoch 38/200\n",
      "2443/2443 [==============================] - 16s 7ms/step - loss: 6358251.0000 - root_mean_squared_error: 2521.5574 - val_loss: 6592099.0000 - val_root_mean_squared_error: 2567.5083\n",
      "Epoch 39/200\n",
      "2443/2443 [==============================] - 15s 6ms/step - loss: 6433315.5000 - root_mean_squared_error: 2536.3982 - val_loss: 8948803.0000 - val_root_mean_squared_error: 2991.4551\n",
      "Epoch 40/200\n",
      "2443/2443 [==============================] - 15s 6ms/step - loss: 6220893.5000 - root_mean_squared_error: 2494.1719 - val_loss: 5964904.0000 - val_root_mean_squared_error: 2442.3152\n",
      "Epoch 41/200\n",
      "2443/2443 [==============================] - 16s 6ms/step - loss: 6203814.0000 - root_mean_squared_error: 2490.7456 - val_loss: 6049266.0000 - val_root_mean_squared_error: 2459.5256\n",
      "Epoch 42/200\n",
      "2443/2443 [==============================] - 16s 6ms/step - loss: 6227480.5000 - root_mean_squared_error: 2495.4919 - val_loss: 6180020.0000 - val_root_mean_squared_error: 2485.9646\n",
      "Epoch 43/200\n",
      "2443/2443 [==============================] - 16s 6ms/step - loss: 6219866.0000 - root_mean_squared_error: 2493.9658 - val_loss: 6128152.5000 - val_root_mean_squared_error: 2475.5105\n",
      "Epoch 44/200\n",
      "2443/2443 [==============================] - 16s 6ms/step - loss: 6052496.5000 - root_mean_squared_error: 2460.1821 - val_loss: 6105622.0000 - val_root_mean_squared_error: 2470.9556\n",
      "Epoch 45/200\n",
      "2443/2443 [==============================] - 16s 6ms/step - loss: 6029144.5000 - root_mean_squared_error: 2455.4316 - val_loss: 6139827.5000 - val_root_mean_squared_error: 2477.8674\n",
      "Epoch 46/200\n",
      "2443/2443 [==============================] - 16s 6ms/step - loss: 6030868.5000 - root_mean_squared_error: 2455.7827 - val_loss: 6088749.0000 - val_root_mean_squared_error: 2467.5391\n",
      "Epoch 47/200\n",
      "2443/2443 [==============================] - 16s 6ms/step - loss: 6028191.5000 - root_mean_squared_error: 2455.2375 - val_loss: 8749344.0000 - val_root_mean_squared_error: 2957.9290\n",
      "Epoch 48/200\n",
      "2443/2443 [==============================] - 16s 7ms/step - loss: 5939356.0000 - root_mean_squared_error: 2437.0793 - val_loss: 6417699.5000 - val_root_mean_squared_error: 2533.3179\n",
      "Epoch 49/200\n",
      "2443/2443 [==============================] - 16s 6ms/step - loss: 5989303.5000 - root_mean_squared_error: 2447.3054 - val_loss: 6366184.5000 - val_root_mean_squared_error: 2523.1299\n",
      "Epoch 50/200\n",
      "2443/2443 [==============================] - 16s 6ms/step - loss: 5915688.5000 - root_mean_squared_error: 2432.2188 - val_loss: 6225895.5000 - val_root_mean_squared_error: 2495.1746\n"
     ]
    },
    {
     "data": {
      "text/plain": [
       "<keras.src.callbacks.History at 0x25a4c5347f0>"
      ]
     },
     "execution_count": 79,
     "metadata": {},
     "output_type": "execute_result"
    }
   ],
   "source": [
    "inputs3 = Input(shape = (x_train.shape[1], ))\n",
    "x3 = Dense(600, activation = 'relu')(inputs3)\n",
    "x3 = Dense(500, activation = 'relu')(x3)\n",
    "x3 = Dense(400, activation = 'relu')(x3)\n",
    "x3 = Dense(300, activation = 'relu')(x3)\n",
    "x3 = Dense(300, activation = 'relu')(x3)\n",
    "x3 = Dense(200, activation = 'relu')(x3)\n",
    "x3 = Dense(100, activation = 'relu')(x3)\n",
    "x3 = Dense(50, activation = 'relu')(x3)\n",
    "x3 = Dense(10, activation = 'relu')(x3)\n",
    "output3 = Dense(1)(x3)\n",
    "\n",
    "model_3 = Model(inputs = inputs3, outputs = output3)\n",
    "\n",
    "model_3.compile(loss = 'mse', optimizer = 'adam', metrics = [tensorflow.keras.metrics.RootMeanSquaredError()])\n",
    "\n",
    "model_3.fit(x_train, y_train, epochs = 200, validation_data=(x_test, y_test), callbacks=[EarlyStopping(patience=10, monitor='val_loss', min_delta=.001, restore_best_weights=True)])"
   ]
  },
  {
   "cell_type": "code",
   "execution_count": 82,
   "metadata": {},
   "outputs": [
    {
     "name": "stdout",
     "output_type": "stream",
     "text": [
      "611/611 [==============================] - 1s 1ms/step\n",
      "Best r2 Score: 0.9360738092867651 \n",
      " Best rmse score: 2442.315884864505\n"
     ]
    }
   ],
   "source": [
    "ann_prediction = model_3.predict(x_test)\n",
    "ann_r2score = r2_score(y_test, ann_prediction)\n",
    "ann_rmse = np.sqrt(mean_squared_error(y_test, ann_prediction))\n",
    "print('Best r2 Score:', ann_r2score, '\\n', 'Best rmse score:', ann_rmse)"
   ]
  },
  {
   "cell_type": "code",
   "execution_count": 182,
   "metadata": {},
   "outputs": [],
   "source": [
    "from sklearn.ensemble import IsolationForest\n",
    "from sklearn.neighbors import LocalOutlierFactor\n",
    "from sklearn.covariance import EllipticEnvelope\n",
    "def outlier_detect(outlier_algo, x_train, y_train):\n",
    "    predictions = outlier_algo.fit_predict(x_train)\n",
    "    \n",
    "    not_outliers = predictions != -1 \n",
    "    new_x_train, new_y_train = x_train[not_outliers], y_train[not_outliers]\n",
    "    number_of_rows_removed = x_train.shape[0] - new_x_train.shape[0]\n",
    "\n",
    "    return new_x_train, new_y_train, number_of_rows_removed "
   ]
  },
  {
   "cell_type": "code",
   "execution_count": 109,
   "metadata": {},
   "outputs": [
    {
     "name": "stdout",
     "output_type": "stream",
     "text": [
      "(78169, 49) (78169,)\n"
     ]
    }
   ],
   "source": [
    "print(x_train.shape, y_train.shape)\n"
   ]
  },
  {
   "cell_type": "code",
   "execution_count": 183,
   "metadata": {},
   "outputs": [],
   "source": [
    "local_x_train, local_y_train, local_nor = outlier_detect(LocalOutlierFactor(), x_train=x_train, y_train=y_train)"
   ]
  },
  {
   "cell_type": "code",
   "execution_count": 140,
   "metadata": {},
   "outputs": [
    {
     "name": "stdout",
     "output_type": "stream",
     "text": [
      "Best score: -314762485292.28033 \n",
      " Best Parameters: {'fit_intercept': True} \n",
      "\n",
      "r2 Score using training data: 0.7920298570910214 \n",
      " root mean squared error using training data: 4456.9833853765895\n",
      "r2 Score using testing data: 0.7948431194917736 \n",
      " root mean squared error using testing data: 4375.276102937168\n",
      "\n",
      " number of observations removed 7349\n"
     ]
    }
   ],
   "source": [
    "local_lr = sklearn_model_build(LinearRegression(), params=params_lr, x_train=local_x_train, y_train = local_y_train, x_test=x_test, y_test = y_test)\n",
    "local_lr.perform_grid_search()\n",
    "local_lr.train_model()\n",
    "local_lr.test_model()\n",
    "print('\\n', 'number of observations removed', local_nor)"
   ]
  },
  {
   "cell_type": "code",
   "execution_count": 142,
   "metadata": {},
   "outputs": [
    {
     "name": "stdout",
     "output_type": "stream",
     "text": [
      "Best score: -2769.69690461745 \n",
      " Best Parameters: {'n_neighbors': 4} \n",
      "\n",
      "r2 Score using training data: 0.9595470307532602 \n",
      " root mean squared error using training data: 1965.6931406139395\n",
      "r2 Score using testing data: 0.9186677337881145 \n",
      " root mean squared error using testing data: 2754.823999507231\n",
      "\n",
      " number of observations removed 7349\n"
     ]
    }
   ],
   "source": [
    "local_knn = sklearn_model_build(KNeighborsRegressor(), params=param_knn, x_train=local_x_train, y_train = local_y_train, x_test=x_test, y_test = y_test)\n",
    "local_knn.perform_grid_search()\n",
    "local_knn.train_model()\n",
    "local_knn.test_model()\n",
    "print('\\n', 'number of observations removed', local_nor)"
   ]
  },
  {
   "cell_type": "code",
   "execution_count": 143,
   "metadata": {},
   "outputs": [
    {
     "name": "stdout",
     "output_type": "stream",
     "text": [
      "Best score: -2475.5280188648317 \n",
      " Best Parameters: {'max_depth': 15, 'n_estimators': 800} \n",
      "\n",
      "r2 Score using training data: 0.9721703319858734 \n",
      " root mean squared error using training data: 1630.4013745372977\n",
      "r2 Score using testing data: 0.9320329899757721 \n",
      " root mean squared error using testing data: 2518.3234155529135\n",
      "\n",
      " number of observations removed 7349\n"
     ]
    }
   ],
   "source": [
    "local_rf = sklearn_model_build(RandomForestRegressor(), params=param_rf, x_train=local_x_train, y_train = local_y_train, x_test=x_test, y_test = y_test)\n",
    "local_rf.perform_grid_search()\n",
    "local_rf.train_model()\n",
    "local_rf.test_model()\n",
    "print('\\n', 'number of observations removed', local_nor)"
   ]
  },
  {
   "cell_type": "code",
   "execution_count": 144,
   "metadata": {},
   "outputs": [
    {
     "name": "stdout",
     "output_type": "stream",
     "text": [
      "Best score: -2741.5465827417684 \n",
      " Best Parameters: {'eta': 0.1, 'gamma': 0.05, 'min_child_weight': 3} \n",
      "\n",
      "r2 Score using training data: 0.9352819242167821 \n",
      " root mean squared error using training data: 2486.2987872082344\n",
      "r2 Score using testing data: 0.9192702698890629 \n",
      " root mean squared error using testing data: 2744.600710123281\n",
      "\n",
      " number of observations removed 7349\n"
     ]
    }
   ],
   "source": [
    "local_xg = sklearn_model_build(XGBRegressor(), params=param_xg, x_train=local_x_train, y_train = local_y_train, x_test=x_test, y_test = y_test)\n",
    "local_xg.perform_grid_search()\n",
    "local_xg.train_model()\n",
    "local_xg.test_model()\n",
    "print('\\n', 'number of observations removed', local_nor)"
   ]
  },
  {
   "cell_type": "code",
   "execution_count": 145,
   "metadata": {},
   "outputs": [
    {
     "name": "stdout",
     "output_type": "stream",
     "text": [
      "Epoch 1/200\n",
      "2214/2214 [==============================] - 16s 7ms/step - loss: 5877798.0000 - root_mean_squared_error: 2424.4170 - val_loss: 6301835.5000 - val_root_mean_squared_error: 2510.3457\n",
      "Epoch 2/200\n",
      "2214/2214 [==============================] - 16s 7ms/step - loss: 5594756.5000 - root_mean_squared_error: 2365.3237 - val_loss: 6140899.5000 - val_root_mean_squared_error: 2478.0837\n",
      "Epoch 3/200\n",
      "2214/2214 [==============================] - 16s 7ms/step - loss: 5607817.5000 - root_mean_squared_error: 2368.0830 - val_loss: 5940674.0000 - val_root_mean_squared_error: 2437.3499\n",
      "Epoch 4/200\n",
      "2214/2214 [==============================] - 16s 7ms/step - loss: 5619427.0000 - root_mean_squared_error: 2370.5330 - val_loss: 6903626.5000 - val_root_mean_squared_error: 2627.4753\n",
      "Epoch 5/200\n",
      "2214/2214 [==============================] - 16s 7ms/step - loss: 5576361.5000 - root_mean_squared_error: 2361.4321 - val_loss: 6792006.0000 - val_root_mean_squared_error: 2606.1477\n",
      "Epoch 6/200\n",
      "2214/2214 [==============================] - 17s 7ms/step - loss: 5442821.0000 - root_mean_squared_error: 2332.9854 - val_loss: 6173414.5000 - val_root_mean_squared_error: 2484.6357\n",
      "Epoch 7/200\n",
      "2214/2214 [==============================] - 17s 7ms/step - loss: 5506632.5000 - root_mean_squared_error: 2346.6216 - val_loss: 6401451.5000 - val_root_mean_squared_error: 2530.1089\n",
      "Epoch 8/200\n",
      "2214/2214 [==============================] - 17s 8ms/step - loss: 5473498.0000 - root_mean_squared_error: 2339.5508 - val_loss: 6156708.5000 - val_root_mean_squared_error: 2481.2715\n",
      "Epoch 9/200\n",
      "2214/2214 [==============================] - 16s 7ms/step - loss: 5384498.0000 - root_mean_squared_error: 2320.4521 - val_loss: 6089888.0000 - val_root_mean_squared_error: 2467.7698\n",
      "Epoch 10/200\n",
      "2214/2214 [==============================] - 16s 7ms/step - loss: 5436378.5000 - root_mean_squared_error: 2331.6042 - val_loss: 6628041.0000 - val_root_mean_squared_error: 2574.4983\n",
      "Epoch 11/200\n",
      "2214/2214 [==============================] - 16s 7ms/step - loss: 5342675.5000 - root_mean_squared_error: 2311.4229 - val_loss: 6309575.5000 - val_root_mean_squared_error: 2511.8867\n",
      "Epoch 12/200\n",
      "2214/2214 [==============================] - 16s 7ms/step - loss: 5404669.5000 - root_mean_squared_error: 2324.7944 - val_loss: 7466754.5000 - val_root_mean_squared_error: 2732.5364\n",
      "Epoch 13/200\n",
      "2214/2214 [==============================] - 16s 7ms/step - loss: 5399653.5000 - root_mean_squared_error: 2323.7153 - val_loss: 6555865.0000 - val_root_mean_squared_error: 2560.4424\n"
     ]
    },
    {
     "data": {
      "text/plain": [
       "<keras.src.callbacks.History at 0x259fee9a590>"
      ]
     },
     "execution_count": 145,
     "metadata": {},
     "output_type": "execute_result"
    }
   ],
   "source": [
    "model_3.fit(local_x_train, local_y_train, epochs = 200, validation_data=(x_test, y_test), callbacks=[EarlyStopping(patience=10, monitor='val_loss', min_delta=.001, restore_best_weights=True)])"
   ]
  },
  {
   "cell_type": "code",
   "execution_count": 175,
   "metadata": {},
   "outputs": [
    {
     "name": "stdout",
     "output_type": "stream",
     "text": [
      "611/611 [==============================] - 1s 1ms/step\n",
      "Best r2 Score: 0.9363335298016335 \n",
      " Best rmse score: 2437.3494921744605\n",
      "number of records removed: 7349\n"
     ]
    }
   ],
   "source": [
    "local_ann_prediction = model_3.predict(x_test)\n",
    "local_ann_r2score = r2_score(y_test, local_ann_prediction)\n",
    "local_ann_rmse = np.sqrt(mean_squared_error(y_test, local_ann_prediction))\n",
    "print('Best r2 Score:', local_ann_r2score, '\\n', 'Best rmse score:', local_ann_rmse)\n",
    "print('number of records removed:', local_nor)"
   ]
  },
  {
   "cell_type": "code",
   "execution_count": 123,
   "metadata": {},
   "outputs": [],
   "source": [
    "iso_x_train, iso_y_train, iso_nor = outlier_detect(IsolationForest(), x_train=x_train, y_train=y_train)"
   ]
  },
  {
   "cell_type": "code",
   "execution_count": 124,
   "metadata": {},
   "outputs": [
    {
     "name": "stdout",
     "output_type": "stream",
     "text": [
      "Best score: -314762485292.28033 \n",
      " Best Parameters: {'fit_intercept': True} \n",
      "\n",
      "r2 Score using training data: 0.8085317850598095 \n",
      " root mean squared error using training data: 4221.745481013432\n",
      "r2 Score using testing data: 0.7567681156103058 \n",
      " root mean squared error using testing data: 4764.010097239297\n",
      "\n",
      " number of observations removed 3385\n"
     ]
    }
   ],
   "source": [
    "iso_lr = sklearn_model_build(LinearRegression(), params=params_lr, x_train=iso_x_train, y_train = iso_y_train, x_test=x_test, y_test = y_test)\n",
    "iso_lr.perform_grid_search()\n",
    "iso_lr.train_model()\n",
    "iso_lr.test_model()\n",
    "print('\\n', 'number of observations removed', iso_nor)"
   ]
  },
  {
   "cell_type": "code",
   "execution_count": 125,
   "metadata": {},
   "outputs": [
    {
     "name": "stdout",
     "output_type": "stream",
     "text": [
      "Best score: -2769.69690461745 \n",
      " Best Parameters: {'n_neighbors': 4} \n",
      "\n",
      "r2 Score using training data: 0.9587097376757223 \n",
      " root mean squared error using training data: 1960.5030578139454\n",
      "r2 Score using testing data: 0.9126024906437136 \n",
      " root mean squared error using testing data: 2855.6958423659103\n",
      "\n",
      " number of observations removed 3385\n"
     ]
    }
   ],
   "source": [
    "iso_knn = sklearn_model_build(KNeighborsRegressor(), params=param_knn, x_train=iso_x_train, y_train = iso_y_train, x_test=x_test, y_test = y_test)\n",
    "iso_knn.perform_grid_search()\n",
    "iso_knn.train_model()\n",
    "iso_knn.test_model()\n",
    "print('\\n', 'number of observations removed', iso_nor)"
   ]
  },
  {
   "cell_type": "code",
   "execution_count": 126,
   "metadata": {},
   "outputs": [
    {
     "name": "stdout",
     "output_type": "stream",
     "text": [
      "Best score: -2473.077154513253 \n",
      " Best Parameters: {'max_depth': 15, 'n_estimators': 800} \n",
      "\n",
      "r2 Score using training data: 0.9714523978900115 \n",
      " root mean squared error using training data: 1630.1535741162943\n",
      "r2 Score using testing data: 0.9270201873540734 \n",
      " root mean squared error using testing data: 2609.539007733068\n",
      "\n",
      " number of observations removed 3385\n"
     ]
    }
   ],
   "source": [
    "iso_rf = sklearn_model_build(RandomForestRegressor(), params=param_rf, x_train=iso_x_train, y_train = iso_y_train, x_test=x_test, y_test = y_test)\n",
    "iso_rf.perform_grid_search()\n",
    "iso_rf.train_model()\n",
    "iso_rf.test_model()\n",
    "print('\\n', 'number of observations removed', iso_nor)"
   ]
  },
  {
   "cell_type": "code",
   "execution_count": 127,
   "metadata": {},
   "outputs": [
    {
     "name": "stdout",
     "output_type": "stream",
     "text": [
      "Best score: -2741.5465827417684 \n",
      " Best Parameters: {'eta': 0.1, 'gamma': 0.05, 'min_child_weight': 3} \n",
      "\n",
      "r2 Score using training data: 0.9352253786319104 \n",
      " root mean squared error using training data: 2455.5350892519564\n",
      "r2 Score using testing data: 0.9189348081752731 \n",
      " root mean squared error using testing data: 2750.297211078821\n",
      "\n",
      " number of observations removed 3385\n"
     ]
    }
   ],
   "source": [
    "iso_xg = sklearn_model_build(XGBRegressor(), params=param_xg, x_train=iso_x_train, y_train = iso_y_train, x_test=x_test, y_test = y_test)\n",
    "iso_xg.perform_grid_search()\n",
    "iso_xg.train_model()\n",
    "iso_xg.test_model()\n",
    "print('\\n', 'number of observations removed', iso_nor)"
   ]
  },
  {
   "cell_type": "code",
   "execution_count": 128,
   "metadata": {},
   "outputs": [
    {
     "name": "stdout",
     "output_type": "stream",
     "text": [
      "Epoch 1/200\n",
      "2337/2337 [==============================] - 17s 7ms/step - loss: 5812427.0000 - root_mean_squared_error: 2410.8975 - val_loss: 6317469.0000 - val_root_mean_squared_error: 2513.4575\n",
      "Epoch 2/200\n",
      "2337/2337 [==============================] - 17s 7ms/step - loss: 5615476.0000 - root_mean_squared_error: 2369.6995 - val_loss: 6067397.5000 - val_root_mean_squared_error: 2463.2087\n",
      "Epoch 3/200\n",
      "2337/2337 [==============================] - 17s 7ms/step - loss: 5709528.0000 - root_mean_squared_error: 2389.4619 - val_loss: 6065310.5000 - val_root_mean_squared_error: 2462.7852\n",
      "Epoch 4/200\n",
      "2337/2337 [==============================] - 17s 7ms/step - loss: 5600413.0000 - root_mean_squared_error: 2366.5193 - val_loss: 6299273.5000 - val_root_mean_squared_error: 2509.8354\n",
      "Epoch 5/200\n",
      "2337/2337 [==============================] - 17s 7ms/step - loss: 5620046.0000 - root_mean_squared_error: 2370.6636 - val_loss: 6510228.5000 - val_root_mean_squared_error: 2551.5149\n",
      "Epoch 6/200\n",
      "2337/2337 [==============================] - 17s 7ms/step - loss: 5595485.0000 - root_mean_squared_error: 2365.4778 - val_loss: 6153524.5000 - val_root_mean_squared_error: 2480.6299\n",
      "Epoch 7/200\n",
      "2337/2337 [==============================] - 17s 7ms/step - loss: 5549805.5000 - root_mean_squared_error: 2355.8025 - val_loss: 6316876.5000 - val_root_mean_squared_error: 2513.3396\n",
      "Epoch 8/200\n",
      "2337/2337 [==============================] - 17s 7ms/step - loss: 5462342.0000 - root_mean_squared_error: 2337.1653 - val_loss: 6796425.5000 - val_root_mean_squared_error: 2606.9956\n",
      "Epoch 9/200\n",
      "2337/2337 [==============================] - 17s 7ms/step - loss: 5467848.5000 - root_mean_squared_error: 2338.3430 - val_loss: 6564363.0000 - val_root_mean_squared_error: 2562.1013\n",
      "Epoch 10/200\n",
      "2337/2337 [==============================] - 16s 7ms/step - loss: 5396336.5000 - root_mean_squared_error: 2323.0017 - val_loss: 6404529.5000 - val_root_mean_squared_error: 2530.7173\n",
      "Epoch 11/200\n",
      "2337/2337 [==============================] - 16s 7ms/step - loss: 5506662.5000 - root_mean_squared_error: 2346.6279 - val_loss: 6367904.5000 - val_root_mean_squared_error: 2523.4707\n",
      "Epoch 12/200\n",
      "2337/2337 [==============================] - 16s 7ms/step - loss: 5393611.5000 - root_mean_squared_error: 2322.4150 - val_loss: 6162972.0000 - val_root_mean_squared_error: 2482.5334\n",
      "Epoch 13/200\n",
      "2337/2337 [==============================] - 16s 7ms/step - loss: 5325841.5000 - root_mean_squared_error: 2307.7786 - val_loss: 6444728.0000 - val_root_mean_squared_error: 2538.6470\n"
     ]
    },
    {
     "data": {
      "text/plain": [
       "<keras.src.callbacks.History at 0x259fee9b310>"
      ]
     },
     "execution_count": 128,
     "metadata": {},
     "output_type": "execute_result"
    }
   ],
   "source": [
    "model_3.fit(iso_x_train, iso_y_train, epochs = 200, validation_data=(x_test, y_test), callbacks=[EarlyStopping(patience=10, monitor='val_loss', min_delta=.001, restore_best_weights=True)])"
   ]
  },
  {
   "cell_type": "code",
   "execution_count": 131,
   "metadata": {},
   "outputs": [
    {
     "name": "stdout",
     "output_type": "stream",
     "text": [
      "611/611 [==============================] - 1s 2ms/step\n",
      "Best r2 Score: 0.9349977656397688 \n",
      " Best rmse score: 2462.7853622070215\n",
      "number of records removed: 3385\n"
     ]
    }
   ],
   "source": [
    "iso_ann_prediction = model_3.predict(x_test)\n",
    "iso_ann_r2score = r2_score(y_test, iso_ann_prediction)\n",
    "iso_ann_rmse = np.sqrt(mean_squared_error(y_test, iso_ann_prediction))\n",
    "print('Best r2 Score:', iso_ann_r2score, '\\n', 'Best rmse score:', iso_ann_rmse)\n",
    "print('number of records removed:', iso_nor)"
   ]
  },
  {
   "cell_type": "code",
   "execution_count": 130,
   "metadata": {},
   "outputs": [
    {
     "name": "stderr",
     "output_type": "stream",
     "text": [
      "c:\\Users\\dgmur\\python\\lib\\site-packages\\sklearn\\covariance\\_robust_covariance.py:747: UserWarning: The covariance matrix associated to your dataset is not full rank\n",
      "  warnings.warn(\n"
     ]
    }
   ],
   "source": [
    "ee_x_train, ee_y_train, ee_nor = outlier_detect(EllipticEnvelope(), x_train=x_train, y_train=y_train)"
   ]
  },
  {
   "cell_type": "code",
   "execution_count": 132,
   "metadata": {},
   "outputs": [
    {
     "name": "stdout",
     "output_type": "stream",
     "text": [
      "Best score: -314762485292.28033 \n",
      " Best Parameters: {'fit_intercept': True} \n",
      "\n",
      "r2 Score using training data: 0.8267943873384694 \n",
      " root mean squared error using training data: 3710.21348934115\n",
      "r2 Score using testing data: -9.028954368927193e+18 \n",
      " root mean squared error using testing data: 29025596269230.734\n",
      "\n",
      " number of observations removed 7817\n"
     ]
    }
   ],
   "source": [
    "ee_lr = sklearn_model_build(LinearRegression(), params=params_lr, x_train=ee_x_train, y_train = ee_y_train, x_test=x_test, y_test = y_test)\n",
    "ee_lr.perform_grid_search()\n",
    "ee_lr.train_model()\n",
    "ee_lr.test_model()\n",
    "print('\\n', 'number of observations removed', ee_nor)"
   ]
  },
  {
   "cell_type": "code",
   "execution_count": 133,
   "metadata": {},
   "outputs": [
    {
     "name": "stdout",
     "output_type": "stream",
     "text": [
      "Best score: -2769.69690461745 \n",
      " Best Parameters: {'n_neighbors': 4} \n",
      "\n",
      "r2 Score using training data: 0.9603737710011604 \n",
      " root mean squared error using training data: 1774.636019308711\n",
      "r2 Score using testing data: 0.8676001075525606 \n",
      " root mean squared error using testing data: 3514.8454796537644\n",
      "\n",
      " number of observations removed 7817\n"
     ]
    }
   ],
   "source": [
    "ee_knn = sklearn_model_build(KNeighborsRegressor(), params=param_knn, x_train=ee_x_train, y_train = ee_y_train, x_test=x_test, y_test = y_test)\n",
    "ee_knn.perform_grid_search()\n",
    "ee_knn.train_model()\n",
    "ee_knn.test_model()\n",
    "print('\\n', 'number of observations removed', ee_nor)"
   ]
  },
  {
   "cell_type": "code",
   "execution_count": 134,
   "metadata": {},
   "outputs": [
    {
     "name": "stdout",
     "output_type": "stream",
     "text": [
      "Best score: -2475.607723401813 \n",
      " Best Parameters: {'max_depth': 15, 'n_estimators': 800} \n",
      "\n",
      "r2 Score using training data: 0.9696199114709904 \n",
      " root mean squared error using training data: 1553.8619678683958\n",
      "r2 Score using testing data: 0.8805160963928479 \n",
      " root mean squared error using testing data: 3339.005408199537\n",
      "\n",
      " number of observations removed 7817\n"
     ]
    }
   ],
   "source": [
    "ee_rf = sklearn_model_build(RandomForestRegressor(), params=param_rf, x_train=ee_x_train, y_train = ee_y_train, x_test=x_test, y_test = y_test)\n",
    "ee_rf.perform_grid_search()\n",
    "ee_rf.train_model()\n",
    "ee_rf.test_model()\n",
    "print('\\n', 'number of observations removed', ee_nor)"
   ]
  },
  {
   "cell_type": "code",
   "execution_count": 135,
   "metadata": {},
   "outputs": [
    {
     "name": "stdout",
     "output_type": "stream",
     "text": [
      "Best score: -2741.5465827417684 \n",
      " Best Parameters: {'eta': 0.1, 'gamma': 0.05, 'min_child_weight': 3} \n",
      "\n",
      "r2 Score using training data: 0.9369276760164652 \n",
      " root mean squared error using training data: 2238.913609515733\n",
      "r2 Score using testing data: 0.8729379087581999 \n",
      " root mean squared error using testing data: 3443.264781300853\n",
      "\n",
      " number of observations removed 7817\n"
     ]
    }
   ],
   "source": [
    "ee_xg = sklearn_model_build(XGBRegressor(), params=param_xg, x_train=ee_x_train, y_train = ee_y_train, x_test=x_test, y_test = y_test)\n",
    "ee_xg.perform_grid_search()\n",
    "ee_xg.train_model()\n",
    "ee_xg.test_model()\n",
    "print('\\n', 'number of observations removed', ee_nor)"
   ]
  },
  {
   "cell_type": "code",
   "execution_count": 136,
   "metadata": {},
   "outputs": [
    {
     "name": "stdout",
     "output_type": "stream",
     "text": [
      "Epoch 1/200\n",
      "2199/2199 [==============================] - 15s 7ms/step - loss: 4790867.0000 - root_mean_squared_error: 2188.8049 - val_loss: 6024216.5000 - val_root_mean_squared_error: 2454.4280\n",
      "Epoch 2/200\n",
      "2199/2199 [==============================] - 15s 7ms/step - loss: 4816594.5000 - root_mean_squared_error: 2194.6741 - val_loss: 7455923.0000 - val_root_mean_squared_error: 2730.5537\n",
      "Epoch 3/200\n",
      "2199/2199 [==============================] - 15s 7ms/step - loss: 4721428.5000 - root_mean_squared_error: 2172.8848 - val_loss: 6083786.0000 - val_root_mean_squared_error: 2466.5332\n",
      "Epoch 4/200\n",
      "2199/2199 [==============================] - 16s 7ms/step - loss: 4713642.0000 - root_mean_squared_error: 2171.0923 - val_loss: 6140289.0000 - val_root_mean_squared_error: 2477.9607\n",
      "Epoch 5/200\n",
      "2199/2199 [==============================] - 16s 7ms/step - loss: 4683061.5000 - root_mean_squared_error: 2164.0383 - val_loss: 6367369.5000 - val_root_mean_squared_error: 2523.3647\n",
      "Epoch 6/200\n",
      "2199/2199 [==============================] - 16s 7ms/step - loss: 4649107.0000 - root_mean_squared_error: 2156.1787 - val_loss: 6085965.5000 - val_root_mean_squared_error: 2466.9749\n",
      "Epoch 7/200\n",
      "2199/2199 [==============================] - 16s 7ms/step - loss: 4628563.5000 - root_mean_squared_error: 2151.4097 - val_loss: 7232502.5000 - val_root_mean_squared_error: 2689.3313\n",
      "Epoch 8/200\n",
      "2199/2199 [==============================] - 16s 7ms/step - loss: 4579363.5000 - root_mean_squared_error: 2139.9448 - val_loss: 6088394.0000 - val_root_mean_squared_error: 2467.4670\n",
      "Epoch 9/200\n",
      "2199/2199 [==============================] - 16s 7ms/step - loss: 4543930.5000 - root_mean_squared_error: 2131.6497 - val_loss: 6144547.5000 - val_root_mean_squared_error: 2478.8198\n",
      "Epoch 10/200\n",
      "2199/2199 [==============================] - 16s 7ms/step - loss: 4563470.5000 - root_mean_squared_error: 2136.2280 - val_loss: 6178652.5000 - val_root_mean_squared_error: 2485.6895\n",
      "Epoch 11/200\n",
      "2199/2199 [==============================] - 16s 7ms/step - loss: 4517598.0000 - root_mean_squared_error: 2125.4641 - val_loss: 6286271.0000 - val_root_mean_squared_error: 2507.2437\n"
     ]
    },
    {
     "data": {
      "text/plain": [
       "<keras.src.callbacks.History at 0x25a7b4c9c60>"
      ]
     },
     "execution_count": 136,
     "metadata": {},
     "output_type": "execute_result"
    }
   ],
   "source": [
    "model_3.fit(ee_x_train, ee_y_train, epochs = 200, validation_data=(x_test, y_test), callbacks=[EarlyStopping(patience=10, monitor='val_loss', min_delta=.001, restore_best_weights=True)])"
   ]
  },
  {
   "cell_type": "code",
   "execution_count": 137,
   "metadata": {},
   "outputs": [
    {
     "name": "stdout",
     "output_type": "stream",
     "text": [
      "611/611 [==============================] - 1s 1ms/step\n",
      "Best r2 Score: 0.9354381647630813 \n",
      " Best rmse score: 2454.428327498695\n",
      "number of records removed: 7817\n"
     ]
    }
   ],
   "source": [
    "ee_ann_prediction = model_3.predict(x_test)\n",
    "ee_ann_r2score = r2_score(y_test, ee_ann_prediction)\n",
    "ee_ann_rmse = np.sqrt(mean_squared_error(y_test, ee_ann_prediction))\n",
    "print('Best r2 Score:', ee_ann_r2score, '\\n', 'Best rmse score:', ee_ann_rmse)\n",
    "print('number of records removed:', ee_nor)"
   ]
  },
  {
   "cell_type": "markdown",
   "metadata": {},
   "source": [
    "# Linear Regression"
   ]
  },
  {
   "cell_type": "markdown",
   "metadata": {},
   "source": [
    "## Baseline "
   ]
  },
  {
   "cell_type": "code",
   "execution_count": 148,
   "metadata": {},
   "outputs": [
    {
     "name": "stdout",
     "output_type": "stream",
     "text": [
      "r2 Score using testing data: 0.7947695597093152 \n",
      " root mean squared error using testing data: 4376.0604186107885\n"
     ]
    }
   ],
   "source": [
    "base_lr.test_model()"
   ]
  },
  {
   "cell_type": "markdown",
   "metadata": {},
   "source": [
    "## Local Outlier Factor"
   ]
  },
  {
   "cell_type": "code",
   "execution_count": 153,
   "metadata": {},
   "outputs": [
    {
     "name": "stdout",
     "output_type": "stream",
     "text": [
      "r2 Score using testing data: 0.7948431194917736 \n",
      " root mean squared error using testing data: 4375.276102937168\n",
      "None \n",
      " number of records 7349\n"
     ]
    }
   ],
   "source": [
    "print(local_lr.test_model(), '\\n','number of records',local_nor)"
   ]
  },
  {
   "cell_type": "markdown",
   "metadata": {},
   "source": [
    "## Isolation Forest"
   ]
  },
  {
   "cell_type": "code",
   "execution_count": 154,
   "metadata": {},
   "outputs": [
    {
     "name": "stdout",
     "output_type": "stream",
     "text": [
      "r2 Score using testing data: 0.7567681156103058 \n",
      " root mean squared error using testing data: 4764.010097239297\n",
      "None \n",
      " number of records 3385\n"
     ]
    }
   ],
   "source": [
    "print(iso_lr.test_model(), '\\n','number of records',iso_nor)"
   ]
  },
  {
   "cell_type": "markdown",
   "metadata": {},
   "source": [
    "## Elliptic Envelope"
   ]
  },
  {
   "cell_type": "code",
   "execution_count": 155,
   "metadata": {},
   "outputs": [
    {
     "name": "stdout",
     "output_type": "stream",
     "text": [
      "r2 Score using testing data: -9.028954368927193e+18 \n",
      " root mean squared error using testing data: 29025596269230.734\n",
      "None \n",
      " number of records 7817\n"
     ]
    }
   ],
   "source": [
    "print(ee_lr.test_model(), '\\n','number of records',ee_nor)"
   ]
  },
  {
   "cell_type": "markdown",
   "metadata": {},
   "source": [
    "# KNN"
   ]
  },
  {
   "cell_type": "markdown",
   "metadata": {},
   "source": [
    "## Baseline "
   ]
  },
  {
   "cell_type": "code",
   "execution_count": 160,
   "metadata": {},
   "outputs": [
    {
     "name": "stdout",
     "output_type": "stream",
     "text": [
      "r2 Score using testing data: 0.9286121934844732 \n",
      " root mean squared error using testing data: 2580.9193876951513\n"
     ]
    }
   ],
   "source": [
    "base_knn.test_model()"
   ]
  },
  {
   "cell_type": "markdown",
   "metadata": {},
   "source": [
    "## Local Outlier Factor"
   ]
  },
  {
   "cell_type": "code",
   "execution_count": 156,
   "metadata": {},
   "outputs": [
    {
     "name": "stdout",
     "output_type": "stream",
     "text": [
      "r2 Score using testing data: 0.9186677337881145 \n",
      " root mean squared error using testing data: 2754.823999507231\n",
      "None \n",
      " number of records 7349\n"
     ]
    }
   ],
   "source": [
    "print(local_knn.test_model(), '\\n','number of records',local_nor)"
   ]
  },
  {
   "cell_type": "markdown",
   "metadata": {},
   "source": [
    "## Isolation Forest"
   ]
  },
  {
   "cell_type": "code",
   "execution_count": 157,
   "metadata": {},
   "outputs": [
    {
     "name": "stdout",
     "output_type": "stream",
     "text": [
      "r2 Score using testing data: 0.9126024906437136 \n",
      " root mean squared error using testing data: 2855.6958423659103\n",
      "None \n",
      " number of records 3385\n"
     ]
    }
   ],
   "source": [
    "print(iso_knn.test_model(), '\\n','number of records',iso_nor)"
   ]
  },
  {
   "cell_type": "markdown",
   "metadata": {},
   "source": [
    "## Elliptic Envelope "
   ]
  },
  {
   "cell_type": "code",
   "execution_count": 158,
   "metadata": {},
   "outputs": [
    {
     "name": "stdout",
     "output_type": "stream",
     "text": [
      "r2 Score using testing data: 0.8676001075525606 \n",
      " root mean squared error using testing data: 3514.8454796537644\n",
      "None \n",
      " number of records 7817\n"
     ]
    }
   ],
   "source": [
    "print(ee_knn.test_model(), '\\n','number of records',ee_nor)"
   ]
  },
  {
   "cell_type": "markdown",
   "metadata": {},
   "source": [
    "# Random Forest"
   ]
  },
  {
   "cell_type": "markdown",
   "metadata": {},
   "source": [
    "## Baseline"
   ]
  },
  {
   "cell_type": "code",
   "execution_count": 161,
   "metadata": {},
   "outputs": [
    {
     "name": "stdout",
     "output_type": "stream",
     "text": [
      "r2 Score using testing data: 0.941625269343435 \n",
      " root mean squared error using testing data: 2333.8603505852284\n"
     ]
    }
   ],
   "source": [
    "base_rf.test_model()"
   ]
  },
  {
   "cell_type": "markdown",
   "metadata": {},
   "source": [
    "## Local Outlier Factor"
   ]
  },
  {
   "cell_type": "code",
   "execution_count": 162,
   "metadata": {},
   "outputs": [
    {
     "name": "stdout",
     "output_type": "stream",
     "text": [
      "r2 Score using testing data: 0.9320329899757721 \n",
      " root mean squared error using testing data: 2518.3234155529135\n",
      "None \n",
      " number of records 7349\n"
     ]
    }
   ],
   "source": [
    "print(local_rf.test_model(), '\\n','number of records',local_nor)"
   ]
  },
  {
   "cell_type": "markdown",
   "metadata": {},
   "source": [
    "## Isolation Forest"
   ]
  },
  {
   "cell_type": "code",
   "execution_count": 163,
   "metadata": {},
   "outputs": [
    {
     "name": "stdout",
     "output_type": "stream",
     "text": [
      "r2 Score using testing data: 0.9270201873540734 \n",
      " root mean squared error using testing data: 2609.539007733068\n",
      "None \n",
      " number of records 3385\n"
     ]
    }
   ],
   "source": [
    "print(iso_rf.test_model(), '\\n','number of records',iso_nor)"
   ]
  },
  {
   "cell_type": "markdown",
   "metadata": {},
   "source": [
    "## Elliptic Envelope"
   ]
  },
  {
   "cell_type": "code",
   "execution_count": 164,
   "metadata": {},
   "outputs": [
    {
     "name": "stdout",
     "output_type": "stream",
     "text": [
      "r2 Score using testing data: 0.8805160963928479 \n",
      " root mean squared error using testing data: 3339.005408199537\n",
      "None \n",
      " number of records 7817\n"
     ]
    }
   ],
   "source": [
    "print(ee_rf.test_model(), '\\n','number of records',ee_nor)"
   ]
  },
  {
   "cell_type": "markdown",
   "metadata": {},
   "source": [
    "# XGBoost"
   ]
  },
  {
   "cell_type": "markdown",
   "metadata": {},
   "source": [
    "## Baseline"
   ]
  },
  {
   "cell_type": "code",
   "execution_count": 166,
   "metadata": {},
   "outputs": [
    {
     "name": "stdout",
     "output_type": "stream",
     "text": [
      "r2 Score using testing data: 0.9234062545382052 \n",
      " root mean squared error using testing data: 2673.3700276778436\n"
     ]
    }
   ],
   "source": [
    "base_xg.test_model()"
   ]
  },
  {
   "cell_type": "markdown",
   "metadata": {},
   "source": [
    "## Local Outlier Factor"
   ]
  },
  {
   "cell_type": "code",
   "execution_count": 167,
   "metadata": {},
   "outputs": [
    {
     "name": "stdout",
     "output_type": "stream",
     "text": [
      "r2 Score using testing data: 0.9192702698890629 \n",
      " root mean squared error using testing data: 2744.600710123281\n",
      "None \n",
      " number of records 7349\n"
     ]
    }
   ],
   "source": [
    "print(local_xg.test_model(), '\\n','number of records',local_nor)"
   ]
  },
  {
   "cell_type": "markdown",
   "metadata": {},
   "source": [
    "## Isolation Forest"
   ]
  },
  {
   "cell_type": "code",
   "execution_count": 169,
   "metadata": {},
   "outputs": [
    {
     "name": "stdout",
     "output_type": "stream",
     "text": [
      "r2 Score using testing data: 0.9270201873540734 \n",
      " root mean squared error using testing data: 2609.539007733068\n",
      "None \n",
      " number of records 3385\n"
     ]
    }
   ],
   "source": [
    "print(iso_rf.test_model(), '\\n','number of records',iso_nor)"
   ]
  },
  {
   "cell_type": "markdown",
   "metadata": {},
   "source": [
    "## Elliptic Envelope"
   ]
  },
  {
   "cell_type": "code",
   "execution_count": 170,
   "metadata": {},
   "outputs": [
    {
     "name": "stdout",
     "output_type": "stream",
     "text": [
      "r2 Score using testing data: 0.8729379087581999 \n",
      " root mean squared error using testing data: 3443.264781300853\n",
      "None \n",
      " number of records 7817\n"
     ]
    }
   ],
   "source": [
    "print(ee_xg.test_model(), '\\n','number of records',ee_nor)"
   ]
  },
  {
   "cell_type": "markdown",
   "metadata": {},
   "source": [
    "# ANN"
   ]
  },
  {
   "cell_type": "markdown",
   "metadata": {},
   "source": [
    "## Baseline"
   ]
  },
  {
   "cell_type": "code",
   "execution_count": 172,
   "metadata": {},
   "outputs": [
    {
     "name": "stdout",
     "output_type": "stream",
     "text": [
      "Best r2 Score: 0.9360738092867651 \n",
      " Best rmse score: 2442.315884864505\n"
     ]
    }
   ],
   "source": [
    "print('Best r2 Score:', ann_r2score, '\\n', 'Best rmse score:', ann_rmse)"
   ]
  },
  {
   "cell_type": "markdown",
   "metadata": {},
   "source": [
    "## Local Outlier Factor "
   ]
  },
  {
   "cell_type": "code",
   "execution_count": 176,
   "metadata": {},
   "outputs": [
    {
     "name": "stdout",
     "output_type": "stream",
     "text": [
      "Best r2 Score: 0.9363335298016335 \n",
      " Best rmse score: 2437.3494921744605\n",
      "number of records removed: 7349\n"
     ]
    }
   ],
   "source": [
    "print('Best r2 Score:', local_ann_r2score, '\\n', 'Best rmse score:', local_ann_rmse)\n",
    "print('number of records removed:', local_nor)"
   ]
  },
  {
   "cell_type": "markdown",
   "metadata": {},
   "source": [
    "## Isolation Forest"
   ]
  },
  {
   "cell_type": "code",
   "execution_count": 177,
   "metadata": {},
   "outputs": [
    {
     "name": "stdout",
     "output_type": "stream",
     "text": [
      "Best r2 Score: 0.9349977656397688 \n",
      " Best rmse score: 2462.7853622070215\n",
      "number of records removed: 3385\n"
     ]
    }
   ],
   "source": [
    "print('Best r2 Score:', iso_ann_r2score, '\\n', 'Best rmse score:', iso_ann_rmse)\n",
    "print('number of records removed:', iso_nor)"
   ]
  },
  {
   "cell_type": "markdown",
   "metadata": {},
   "source": [
    "## Elliptic Envelope"
   ]
  },
  {
   "cell_type": "code",
   "execution_count": 179,
   "metadata": {},
   "outputs": [
    {
     "name": "stdout",
     "output_type": "stream",
     "text": [
      "Best r2 Score: 0.9354381647630813 \n",
      " Best rmse score: 2454.428327498695\n",
      "number of records removed: 7817\n"
     ]
    }
   ],
   "source": [
    "print('Best r2 Score:', ee_ann_r2score, '\\n', 'Best rmse score:', ee_ann_rmse)\n",
    "print('number of records removed:', ee_nor)"
   ]
  }
 ],
 "metadata": {
  "kernelspec": {
   "display_name": "Python 3",
   "language": "python",
   "name": "python3"
  },
  "language_info": {
   "codemirror_mode": {
    "name": "ipython",
    "version": 3
   },
   "file_extension": ".py",
   "mimetype": "text/x-python",
   "name": "python",
   "nbconvert_exporter": "python",
   "pygments_lexer": "ipython3",
   "version": "3.10.8"
  }
 },
 "nbformat": 4,
 "nbformat_minor": 2
}
