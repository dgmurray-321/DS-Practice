{
 "cells": [
  {
   "cell_type": "code",
   "execution_count": 1,
   "metadata": {},
   "outputs": [],
   "source": [
    "import pandas as pd \n",
    "import matplotlib.pyplot as plt \n",
    "from sklearn.linear_model import LinearRegression, LassoCV, RidgeCV\n",
    "from sklearn.ensemble import RandomForestRegressor, GradientBoostingRegressor\n",
    "from sklearn.preprocessing import OneHotEncoder\n",
    "from sklearn.model_selection import GridSearchCV, train_test_split\n",
    "from sklearn.metrics import r2_score, mean_squared_error\n",
    "import tensorflow as tf"
   ]
  },
  {
   "cell_type": "code",
   "execution_count": 2,
   "metadata": {},
   "outputs": [],
   "source": [
    "from tensorflow.keras.models import Sequential\n",
    "from tensorflow.keras.layers import Dense"
   ]
  },
  {
   "cell_type": "code",
   "execution_count": 3,
   "metadata": {},
   "outputs": [
    {
     "name": "stderr",
     "output_type": "stream",
     "text": [
      "C:\\Users\\dgmur\\AppData\\Local\\Temp\\ipykernel_3172\\981206919.py:6: DtypeWarning: Columns (15) have mixed types. Specify dtype option on import or set low_memory=False.\n",
      "  df = pd.read_csv('apartments_for_rent_classified_100K.csv', sep=';', encoding='latin1')\n"
     ]
    }
   ],
   "source": [
    "import pandas as pd\n",
    "\n",
    "try:\n",
    "    df = pd.read_csv('apartments_for_rent_classified_100K.csv', sep=';', encoding='utf-8')\n",
    "except UnicodeDecodeError:\n",
    "    df = pd.read_csv('apartments_for_rent_classified_100K.csv', sep=';', encoding='latin1')\n"
   ]
  },
  {
   "cell_type": "code",
   "execution_count": 4,
   "metadata": {},
   "outputs": [
    {
     "data": {
      "text/html": [
       "<div>\n",
       "<style scoped>\n",
       "    .dataframe tbody tr th:only-of-type {\n",
       "        vertical-align: middle;\n",
       "    }\n",
       "\n",
       "    .dataframe tbody tr th {\n",
       "        vertical-align: top;\n",
       "    }\n",
       "\n",
       "    .dataframe thead th {\n",
       "        text-align: right;\n",
       "    }\n",
       "</style>\n",
       "<table border=\"1\" class=\"dataframe\">\n",
       "  <thead>\n",
       "    <tr style=\"text-align: right;\">\n",
       "      <th></th>\n",
       "      <th>id</th>\n",
       "      <th>category</th>\n",
       "      <th>title</th>\n",
       "      <th>body</th>\n",
       "      <th>amenities</th>\n",
       "      <th>bathrooms</th>\n",
       "      <th>bedrooms</th>\n",
       "      <th>currency</th>\n",
       "      <th>fee</th>\n",
       "      <th>has_photo</th>\n",
       "      <th>...</th>\n",
       "      <th>price_display</th>\n",
       "      <th>price_type</th>\n",
       "      <th>square_feet</th>\n",
       "      <th>address</th>\n",
       "      <th>cityname</th>\n",
       "      <th>state</th>\n",
       "      <th>latitude</th>\n",
       "      <th>longitude</th>\n",
       "      <th>source</th>\n",
       "      <th>time</th>\n",
       "    </tr>\n",
       "  </thead>\n",
       "  <tbody>\n",
       "    <tr>\n",
       "      <th>0</th>\n",
       "      <td>5668640009</td>\n",
       "      <td>housing/rent/apartment</td>\n",
       "      <td>One BR 507 &amp; 509 Esplanade</td>\n",
       "      <td>This unit is located at 507 &amp; 509 Esplanade, R...</td>\n",
       "      <td>NaN</td>\n",
       "      <td>1.0</td>\n",
       "      <td>1.0</td>\n",
       "      <td>USD</td>\n",
       "      <td>No</td>\n",
       "      <td>Thumbnail</td>\n",
       "      <td>...</td>\n",
       "      <td>$2,195</td>\n",
       "      <td>Monthly</td>\n",
       "      <td>542</td>\n",
       "      <td>507  509 Esplanade</td>\n",
       "      <td>Redondo Beach</td>\n",
       "      <td>CA</td>\n",
       "      <td>33.8520</td>\n",
       "      <td>-118.3759</td>\n",
       "      <td>RentLingo</td>\n",
       "      <td>1577360355</td>\n",
       "    </tr>\n",
       "    <tr>\n",
       "      <th>1</th>\n",
       "      <td>5668639818</td>\n",
       "      <td>housing/rent/apartment</td>\n",
       "      <td>Three BR 146 Lochview Drive</td>\n",
       "      <td>This unit is located at 146 Lochview Drive, Ne...</td>\n",
       "      <td>NaN</td>\n",
       "      <td>1.5</td>\n",
       "      <td>3.0</td>\n",
       "      <td>USD</td>\n",
       "      <td>No</td>\n",
       "      <td>Thumbnail</td>\n",
       "      <td>...</td>\n",
       "      <td>$1,250</td>\n",
       "      <td>Monthly</td>\n",
       "      <td>1500</td>\n",
       "      <td>146 Lochview Dr</td>\n",
       "      <td>Newport News</td>\n",
       "      <td>VA</td>\n",
       "      <td>37.0867</td>\n",
       "      <td>-76.4941</td>\n",
       "      <td>RentLingo</td>\n",
       "      <td>1577360340</td>\n",
       "    </tr>\n",
       "    <tr>\n",
       "      <th>2</th>\n",
       "      <td>5668639686</td>\n",
       "      <td>housing/rent/apartment</td>\n",
       "      <td>Three BR 3101 Morningside Drive</td>\n",
       "      <td>This unit is located at 3101 Morningside Drive...</td>\n",
       "      <td>NaN</td>\n",
       "      <td>2.0</td>\n",
       "      <td>3.0</td>\n",
       "      <td>USD</td>\n",
       "      <td>No</td>\n",
       "      <td>Thumbnail</td>\n",
       "      <td>...</td>\n",
       "      <td>$1,395</td>\n",
       "      <td>Monthly</td>\n",
       "      <td>1650</td>\n",
       "      <td>3101 Morningside Dr</td>\n",
       "      <td>Raleigh</td>\n",
       "      <td>NC</td>\n",
       "      <td>35.8230</td>\n",
       "      <td>-78.6438</td>\n",
       "      <td>RentLingo</td>\n",
       "      <td>1577360332</td>\n",
       "    </tr>\n",
       "    <tr>\n",
       "      <th>3</th>\n",
       "      <td>5668639659</td>\n",
       "      <td>housing/rent/apartment</td>\n",
       "      <td>Two BR 209 Aegean Way</td>\n",
       "      <td>This unit is located at 209 Aegean Way, Vacavi...</td>\n",
       "      <td>NaN</td>\n",
       "      <td>1.0</td>\n",
       "      <td>2.0</td>\n",
       "      <td>USD</td>\n",
       "      <td>No</td>\n",
       "      <td>Thumbnail</td>\n",
       "      <td>...</td>\n",
       "      <td>$1,600</td>\n",
       "      <td>Monthly</td>\n",
       "      <td>820</td>\n",
       "      <td>209 Aegean Way</td>\n",
       "      <td>Vacaville</td>\n",
       "      <td>CA</td>\n",
       "      <td>38.3622</td>\n",
       "      <td>-121.9712</td>\n",
       "      <td>RentLingo</td>\n",
       "      <td>1577360330</td>\n",
       "    </tr>\n",
       "    <tr>\n",
       "      <th>4</th>\n",
       "      <td>5668639374</td>\n",
       "      <td>housing/rent/apartment</td>\n",
       "      <td>One BR 4805 Marquette NE</td>\n",
       "      <td>This unit is located at 4805 Marquette NE, Alb...</td>\n",
       "      <td>NaN</td>\n",
       "      <td>1.0</td>\n",
       "      <td>1.0</td>\n",
       "      <td>USD</td>\n",
       "      <td>No</td>\n",
       "      <td>Thumbnail</td>\n",
       "      <td>...</td>\n",
       "      <td>$975</td>\n",
       "      <td>Monthly</td>\n",
       "      <td>624</td>\n",
       "      <td>4805 Marquette NE</td>\n",
       "      <td>Albuquerque</td>\n",
       "      <td>NM</td>\n",
       "      <td>35.1038</td>\n",
       "      <td>-106.6110</td>\n",
       "      <td>RentLingo</td>\n",
       "      <td>1577360308</td>\n",
       "    </tr>\n",
       "  </tbody>\n",
       "</table>\n",
       "<p>5 rows × 22 columns</p>\n",
       "</div>"
      ],
      "text/plain": [
       "           id                category                            title  \\\n",
       "0  5668640009  housing/rent/apartment       One BR 507 & 509 Esplanade   \n",
       "1  5668639818  housing/rent/apartment      Three BR 146 Lochview Drive   \n",
       "2  5668639686  housing/rent/apartment  Three BR 3101 Morningside Drive   \n",
       "3  5668639659  housing/rent/apartment            Two BR 209 Aegean Way   \n",
       "4  5668639374  housing/rent/apartment         One BR 4805 Marquette NE   \n",
       "\n",
       "                                                body amenities  bathrooms  \\\n",
       "0  This unit is located at 507 & 509 Esplanade, R...       NaN        1.0   \n",
       "1  This unit is located at 146 Lochview Drive, Ne...       NaN        1.5   \n",
       "2  This unit is located at 3101 Morningside Drive...       NaN        2.0   \n",
       "3  This unit is located at 209 Aegean Way, Vacavi...       NaN        1.0   \n",
       "4  This unit is located at 4805 Marquette NE, Alb...       NaN        1.0   \n",
       "\n",
       "   bedrooms currency fee  has_photo  ... price_display  price_type  \\\n",
       "0       1.0      USD  No  Thumbnail  ...        $2,195     Monthly   \n",
       "1       3.0      USD  No  Thumbnail  ...        $1,250     Monthly   \n",
       "2       3.0      USD  No  Thumbnail  ...        $1,395     Monthly   \n",
       "3       2.0      USD  No  Thumbnail  ...        $1,600     Monthly   \n",
       "4       1.0      USD  No  Thumbnail  ...          $975     Monthly   \n",
       "\n",
       "  square_feet              address       cityname state latitude longitude  \\\n",
       "0         542   507  509 Esplanade  Redondo Beach    CA  33.8520 -118.3759   \n",
       "1        1500      146 Lochview Dr   Newport News    VA  37.0867  -76.4941   \n",
       "2        1650  3101 Morningside Dr        Raleigh    NC  35.8230  -78.6438   \n",
       "3         820       209 Aegean Way      Vacaville    CA  38.3622 -121.9712   \n",
       "4         624    4805 Marquette NE    Albuquerque    NM  35.1038 -106.6110   \n",
       "\n",
       "      source        time  \n",
       "0  RentLingo  1577360355  \n",
       "1  RentLingo  1577360340  \n",
       "2  RentLingo  1577360332  \n",
       "3  RentLingo  1577360330  \n",
       "4  RentLingo  1577360308  \n",
       "\n",
       "[5 rows x 22 columns]"
      ]
     },
     "execution_count": 4,
     "metadata": {},
     "output_type": "execute_result"
    }
   ],
   "source": [
    "df.head()"
   ]
  },
  {
   "cell_type": "code",
   "execution_count": 5,
   "metadata": {},
   "outputs": [
    {
     "data": {
      "text/plain": [
       "(99492, 22)"
      ]
     },
     "execution_count": 5,
     "metadata": {},
     "output_type": "execute_result"
    }
   ],
   "source": [
    "df.shape"
   ]
  },
  {
   "cell_type": "code",
   "execution_count": 6,
   "metadata": {},
   "outputs": [
    {
     "data": {
      "text/html": [
       "<div>\n",
       "<style scoped>\n",
       "    .dataframe tbody tr th:only-of-type {\n",
       "        vertical-align: middle;\n",
       "    }\n",
       "\n",
       "    .dataframe tbody tr th {\n",
       "        vertical-align: top;\n",
       "    }\n",
       "\n",
       "    .dataframe thead th {\n",
       "        text-align: right;\n",
       "    }\n",
       "</style>\n",
       "<table border=\"1\" class=\"dataframe\">\n",
       "  <thead>\n",
       "    <tr style=\"text-align: right;\">\n",
       "      <th></th>\n",
       "      <th>id</th>\n",
       "      <th>bathrooms</th>\n",
       "      <th>bedrooms</th>\n",
       "      <th>price</th>\n",
       "      <th>square_feet</th>\n",
       "      <th>latitude</th>\n",
       "      <th>longitude</th>\n",
       "      <th>time</th>\n",
       "    </tr>\n",
       "  </thead>\n",
       "  <tbody>\n",
       "    <tr>\n",
       "      <th>count</th>\n",
       "      <td>9.949200e+04</td>\n",
       "      <td>99429.000000</td>\n",
       "      <td>99368.000000</td>\n",
       "      <td>99491.000000</td>\n",
       "      <td>99492.000000</td>\n",
       "      <td>99467.000000</td>\n",
       "      <td>99467.000000</td>\n",
       "      <td>9.949200e+04</td>\n",
       "    </tr>\n",
       "    <tr>\n",
       "      <th>mean</th>\n",
       "      <td>5.358321e+09</td>\n",
       "      <td>1.445323</td>\n",
       "      <td>1.728212</td>\n",
       "      <td>1527.057281</td>\n",
       "      <td>956.430688</td>\n",
       "      <td>36.947988</td>\n",
       "      <td>-91.568656</td>\n",
       "      <td>1.559665e+09</td>\n",
       "    </tr>\n",
       "    <tr>\n",
       "      <th>std</th>\n",
       "      <td>1.847404e+08</td>\n",
       "      <td>0.547021</td>\n",
       "      <td>0.749200</td>\n",
       "      <td>904.245882</td>\n",
       "      <td>417.571522</td>\n",
       "      <td>4.599461</td>\n",
       "      <td>15.817168</td>\n",
       "      <td>1.105077e+07</td>\n",
       "    </tr>\n",
       "    <tr>\n",
       "      <th>min</th>\n",
       "      <td>5.121046e+09</td>\n",
       "      <td>1.000000</td>\n",
       "      <td>0.000000</td>\n",
       "      <td>100.000000</td>\n",
       "      <td>101.000000</td>\n",
       "      <td>19.573800</td>\n",
       "      <td>-159.369800</td>\n",
       "      <td>1.544174e+09</td>\n",
       "    </tr>\n",
       "    <tr>\n",
       "      <th>25%</th>\n",
       "      <td>5.197950e+09</td>\n",
       "      <td>1.000000</td>\n",
       "      <td>1.000000</td>\n",
       "      <td>1013.000000</td>\n",
       "      <td>729.000000</td>\n",
       "      <td>33.746500</td>\n",
       "      <td>-104.791900</td>\n",
       "      <td>1.550832e+09</td>\n",
       "    </tr>\n",
       "    <tr>\n",
       "      <th>50%</th>\n",
       "      <td>5.508673e+09</td>\n",
       "      <td>1.000000</td>\n",
       "      <td>2.000000</td>\n",
       "      <td>1350.000000</td>\n",
       "      <td>900.000000</td>\n",
       "      <td>37.228200</td>\n",
       "      <td>-84.562300</td>\n",
       "      <td>1.568745e+09</td>\n",
       "    </tr>\n",
       "    <tr>\n",
       "      <th>75%</th>\n",
       "      <td>5.509007e+09</td>\n",
       "      <td>2.000000</td>\n",
       "      <td>2.000000</td>\n",
       "      <td>1795.000000</td>\n",
       "      <td>1115.000000</td>\n",
       "      <td>39.953000</td>\n",
       "      <td>-77.608200</td>\n",
       "      <td>1.568767e+09</td>\n",
       "    </tr>\n",
       "    <tr>\n",
       "      <th>max</th>\n",
       "      <td>5.669439e+09</td>\n",
       "      <td>9.000000</td>\n",
       "      <td>9.000000</td>\n",
       "      <td>52500.000000</td>\n",
       "      <td>50000.000000</td>\n",
       "      <td>64.833200</td>\n",
       "      <td>-68.778800</td>\n",
       "      <td>1.577391e+09</td>\n",
       "    </tr>\n",
       "  </tbody>\n",
       "</table>\n",
       "</div>"
      ],
      "text/plain": [
       "                 id     bathrooms      bedrooms         price   square_feet  \\\n",
       "count  9.949200e+04  99429.000000  99368.000000  99491.000000  99492.000000   \n",
       "mean   5.358321e+09      1.445323      1.728212   1527.057281    956.430688   \n",
       "std    1.847404e+08      0.547021      0.749200    904.245882    417.571522   \n",
       "min    5.121046e+09      1.000000      0.000000    100.000000    101.000000   \n",
       "25%    5.197950e+09      1.000000      1.000000   1013.000000    729.000000   \n",
       "50%    5.508673e+09      1.000000      2.000000   1350.000000    900.000000   \n",
       "75%    5.509007e+09      2.000000      2.000000   1795.000000   1115.000000   \n",
       "max    5.669439e+09      9.000000      9.000000  52500.000000  50000.000000   \n",
       "\n",
       "           latitude     longitude          time  \n",
       "count  99467.000000  99467.000000  9.949200e+04  \n",
       "mean      36.947988    -91.568656  1.559665e+09  \n",
       "std        4.599461     15.817168  1.105077e+07  \n",
       "min       19.573800   -159.369800  1.544174e+09  \n",
       "25%       33.746500   -104.791900  1.550832e+09  \n",
       "50%       37.228200    -84.562300  1.568745e+09  \n",
       "75%       39.953000    -77.608200  1.568767e+09  \n",
       "max       64.833200    -68.778800  1.577391e+09  "
      ]
     },
     "execution_count": 6,
     "metadata": {},
     "output_type": "execute_result"
    }
   ],
   "source": [
    "df.describe()"
   ]
  },
  {
   "cell_type": "code",
   "execution_count": 7,
   "metadata": {},
   "outputs": [
    {
     "name": "stdout",
     "output_type": "stream",
     "text": [
      "250.18279297374028 21.155039503388284\n"
     ]
    }
   ],
   "source": [
    "print(df['longitude'].var(), df['latitude'].var())\n"
   ]
  },
  {
   "cell_type": "code",
   "execution_count": 8,
   "metadata": {},
   "outputs": [
    {
     "name": "stdout",
     "output_type": "stream",
     "text": [
      "<class 'pandas.core.frame.DataFrame'>\n",
      "RangeIndex: 99492 entries, 0 to 99491\n",
      "Data columns (total 22 columns):\n",
      " #   Column         Non-Null Count  Dtype  \n",
      "---  ------         --------------  -----  \n",
      " 0   id             99492 non-null  int64  \n",
      " 1   category       99492 non-null  object \n",
      " 2   title          99492 non-null  object \n",
      " 3   body           99492 non-null  object \n",
      " 4   amenities      83448 non-null  object \n",
      " 5   bathrooms      99429 non-null  float64\n",
      " 6   bedrooms       99368 non-null  float64\n",
      " 7   currency       99492 non-null  object \n",
      " 8   fee            99492 non-null  object \n",
      " 9   has_photo      99492 non-null  object \n",
      " 10  pets_allowed   39068 non-null  object \n",
      " 11  price          99491 non-null  float64\n",
      " 12  price_display  99491 non-null  object \n",
      " 13  price_type     99492 non-null  object \n",
      " 14  square_feet    99492 non-null  int64  \n",
      " 15  address        7943 non-null   object \n",
      " 16  cityname       99190 non-null  object \n",
      " 17  state          99190 non-null  object \n",
      " 18  latitude       99467 non-null  float64\n",
      " 19  longitude      99467 non-null  float64\n",
      " 20  source         99492 non-null  object \n",
      " 21  time           99492 non-null  int64  \n",
      "dtypes: float64(5), int64(3), object(14)\n",
      "memory usage: 16.7+ MB\n"
     ]
    }
   ],
   "source": [
    "df.info()"
   ]
  },
  {
   "cell_type": "code",
   "execution_count": 9,
   "metadata": {},
   "outputs": [
    {
     "data": {
      "text/plain": [
       "id               99408\n",
       "category             7\n",
       "title            58503\n",
       "body             94503\n",
       "amenities         9827\n",
       "bathrooms           16\n",
       "bedrooms            10\n",
       "currency             1\n",
       "fee                  2\n",
       "has_photo            3\n",
       "pets_allowed         4\n",
       "price             3687\n",
       "price_display     3718\n",
       "price_type           3\n",
       "square_feet       2538\n",
       "address           7771\n",
       "cityname          2979\n",
       "state               51\n",
       "latitude          7212\n",
       "longitude         7270\n",
       "source              25\n",
       "time             75360\n",
       "dtype: int64"
      ]
     },
     "execution_count": 9,
     "metadata": {},
     "output_type": "execute_result"
    }
   ],
   "source": [
    "df.nunique()"
   ]
  },
  {
   "cell_type": "code",
   "execution_count": 10,
   "metadata": {},
   "outputs": [
    {
     "data": {
      "text/plain": [
       "id                   0\n",
       "category             0\n",
       "title                0\n",
       "body                 0\n",
       "amenities        16044\n",
       "bathrooms           63\n",
       "bedrooms           124\n",
       "currency             0\n",
       "fee                  0\n",
       "has_photo            0\n",
       "pets_allowed     60424\n",
       "price                1\n",
       "price_display        1\n",
       "price_type           0\n",
       "square_feet          0\n",
       "address          91549\n",
       "cityname           302\n",
       "state              302\n",
       "latitude            25\n",
       "longitude           25\n",
       "source               0\n",
       "time                 0\n",
       "dtype: int64"
      ]
     },
     "execution_count": 10,
     "metadata": {},
     "output_type": "execute_result"
    }
   ],
   "source": [
    "df.isnull().sum()"
   ]
  },
  {
   "cell_type": "code",
   "execution_count": 11,
   "metadata": {},
   "outputs": [
    {
     "data": {
      "text/plain": [
       "amenities\n",
       "Parking                                                                                                    6188\n",
       "Parking,Storage                                                                                            2116\n",
       "Gym,Pool                                                                                                   1871\n",
       "Pool                                                                                                       1485\n",
       "Gym,Parking,Pool                                                                                           1187\n",
       "                                                                                                           ... \n",
       "Clubhouse,Gym,Patio/Deck,Pool,Storage,Tennis                                                                  1\n",
       "Elevator,Gated,Parking,Wood Floors                                                                            1\n",
       "AC,Cable or Satellite,Dishwasher,Fireplace,Garbage Disposal,Patio/Deck,Refrigerator,Tennis,Washer Dryer       1\n",
       "Gated,Parking,Pool,Washer Dryer,Wood Floors                                                                   1\n",
       "Dishwasher,Doorman,Patio/Deck,Refrigerator,Storage,Washer Dryer,Wood Floors                                   1\n",
       "Name: count, Length: 9827, dtype: int64"
      ]
     },
     "execution_count": 11,
     "metadata": {},
     "output_type": "execute_result"
    }
   ],
   "source": [
    "df['amenities'].value_counts()"
   ]
  },
  {
   "cell_type": "code",
   "execution_count": 12,
   "metadata": {},
   "outputs": [],
   "source": [
    "df = df.drop(['time', 'amenities'], axis = 1)"
   ]
  },
  {
   "cell_type": "code",
   "execution_count": 13,
   "metadata": {},
   "outputs": [
    {
     "data": {
      "text/plain": [
       "array(['Cats', 'Cats,Dogs', nan, 'Dogs', 'Cats,Dogs,None'], dtype=object)"
      ]
     },
     "execution_count": 13,
     "metadata": {},
     "output_type": "execute_result"
    }
   ],
   "source": [
    "df['pets_allowed'].unique()"
   ]
  },
  {
   "cell_type": "code",
   "execution_count": 14,
   "metadata": {},
   "outputs": [
    {
     "data": {
      "text/plain": [
       "0          Cats\n",
       "1     Cats,Dogs\n",
       "2           NaN\n",
       "3     Cats,Dogs\n",
       "4     Cats,Dogs\n",
       "5     Cats,Dogs\n",
       "6           NaN\n",
       "7     Cats,Dogs\n",
       "8          Dogs\n",
       "9           NaN\n",
       "10          NaN\n",
       "11          NaN\n",
       "12          NaN\n",
       "13          NaN\n",
       "14          NaN\n",
       "15    Cats,Dogs\n",
       "16    Cats,Dogs\n",
       "17    Cats,Dogs\n",
       "18    Cats,Dogs\n",
       "19    Cats,Dogs\n",
       "Name: pets_allowed, dtype: object"
      ]
     },
     "execution_count": 14,
     "metadata": {},
     "output_type": "execute_result"
    }
   ],
   "source": [
    "df['pets_allowed'].head(20)"
   ]
  },
  {
   "cell_type": "code",
   "execution_count": 15,
   "metadata": {},
   "outputs": [],
   "source": [
    "df = df.drop(['pets_allowed', 'address'], axis = 1)"
   ]
  },
  {
   "cell_type": "code",
   "execution_count": 16,
   "metadata": {},
   "outputs": [
    {
     "name": "stdout",
     "output_type": "stream",
     "text": [
      "<class 'pandas.core.frame.DataFrame'>\n",
      "RangeIndex: 99492 entries, 0 to 99491\n",
      "Data columns (total 18 columns):\n",
      " #   Column         Non-Null Count  Dtype  \n",
      "---  ------         --------------  -----  \n",
      " 0   id             99492 non-null  int64  \n",
      " 1   category       99492 non-null  object \n",
      " 2   title          99492 non-null  object \n",
      " 3   body           99492 non-null  object \n",
      " 4   bathrooms      99429 non-null  float64\n",
      " 5   bedrooms       99368 non-null  float64\n",
      " 6   currency       99492 non-null  object \n",
      " 7   fee            99492 non-null  object \n",
      " 8   has_photo      99492 non-null  object \n",
      " 9   price          99491 non-null  float64\n",
      " 10  price_display  99491 non-null  object \n",
      " 11  price_type     99492 non-null  object \n",
      " 12  square_feet    99492 non-null  int64  \n",
      " 13  cityname       99190 non-null  object \n",
      " 14  state          99190 non-null  object \n",
      " 15  latitude       99467 non-null  float64\n",
      " 16  longitude      99467 non-null  float64\n",
      " 17  source         99492 non-null  object \n",
      "dtypes: float64(5), int64(2), object(11)\n",
      "memory usage: 13.7+ MB\n"
     ]
    }
   ],
   "source": [
    "df.info()"
   ]
  },
  {
   "cell_type": "code",
   "execution_count": 17,
   "metadata": {},
   "outputs": [
    {
     "data": {
      "text/plain": [
       "id                 0\n",
       "category           0\n",
       "title              0\n",
       "body               0\n",
       "bathrooms         63\n",
       "bedrooms         124\n",
       "currency           0\n",
       "fee                0\n",
       "has_photo          0\n",
       "price              1\n",
       "price_display      1\n",
       "price_type         0\n",
       "square_feet        0\n",
       "cityname         302\n",
       "state            302\n",
       "latitude          25\n",
       "longitude         25\n",
       "source             0\n",
       "dtype: int64"
      ]
     },
     "execution_count": 17,
     "metadata": {},
     "output_type": "execute_result"
    }
   ],
   "source": [
    "df.isnull().sum()"
   ]
  },
  {
   "cell_type": "code",
   "execution_count": 18,
   "metadata": {},
   "outputs": [
    {
     "name": "stdout",
     "output_type": "stream",
     "text": [
      "(99007, 18)\n"
     ]
    }
   ],
   "source": [
    "df = df.dropna()\n",
    "\n",
    "print(df.shape)"
   ]
  },
  {
   "cell_type": "code",
   "execution_count": 19,
   "metadata": {},
   "outputs": [],
   "source": [
    "num_df = df.select_dtypes(include=['float64', 'int64'])"
   ]
  },
  {
   "cell_type": "code",
   "execution_count": 20,
   "metadata": {},
   "outputs": [
    {
     "data": {
      "text/plain": [
       "array([[<Axes: title={'center': 'id'}>,\n",
       "        <Axes: title={'center': 'bathrooms'}>,\n",
       "        <Axes: title={'center': 'bedrooms'}>],\n",
       "       [<Axes: title={'center': 'price'}>,\n",
       "        <Axes: title={'center': 'square_feet'}>,\n",
       "        <Axes: title={'center': 'latitude'}>],\n",
       "       [<Axes: title={'center': 'longitude'}>, <Axes: >, <Axes: >]],\n",
       "      dtype=object)"
      ]
     },
     "execution_count": 20,
     "metadata": {},
     "output_type": "execute_result"
    },
    {
     "data": {
      "image/png": "[encoded data removed]",
      "text/plain": [
       "<Figure size 1200x1200 with 9 Axes>"
      ]
     },
     "metadata": {},
     "output_type": "display_data"
    }
   ],
   "source": [
    "num_df.hist(figsize= (12,12))"
   ]
  },
  {
   "cell_type": "code",
   "execution_count": 21,
   "metadata": {},
   "outputs": [
    {
     "data": {
      "text/plain": [
       "<Axes: xlabel='price', ylabel='Count'>"
      ]
     },
     "execution_count": 21,
     "metadata": {},
     "output_type": "execute_result"
    },
    {
     "data": {
      "image/png": "[encoded data removed]",
      "text/plain": [
       "<Figure size 640x480 with 1 Axes>"
      ]
     },
     "metadata": {},
     "output_type": "display_data"
    }
   ],
   "source": [
    "import seaborn as sns\n",
    "\n",
    "sns.histplot(data = num_df, x = 'price', binrange= (num_df['price'].min(), num_df['price'].max()))"
   ]
  },
  {
   "cell_type": "code",
   "execution_count": null,
   "metadata": {},
   "outputs": [],
   "source": []
  },
  {
   "cell_type": "code",
   "execution_count": 22,
   "metadata": {},
   "outputs": [
    {
     "data": {
      "text/plain": [
       "<Axes: >"
      ]
     },
     "execution_count": 22,
     "metadata": {},
     "output_type": "execute_result"
    },
    {
     "data": {
      "image/png": "[encoded data removed]",
      "text/plain": [
       "<Figure size 640x480 with 2 Axes>"
      ]
     },
     "metadata": {},
     "output_type": "display_data"
    }
   ],
   "source": [
    "df_corr = num_df.corr()\n",
    "\n",
    "sns.heatmap(df_corr, annot= True)"
   ]
  },
  {
   "cell_type": "code",
   "execution_count": 23,
   "metadata": {},
   "outputs": [
    {
     "data": {
      "text/html": [
       "<div>\n",
       "<style scoped>\n",
       "    .dataframe tbody tr th:only-of-type {\n",
       "        vertical-align: middle;\n",
       "    }\n",
       "\n",
       "    .dataframe tbody tr th {\n",
       "        vertical-align: top;\n",
       "    }\n",
       "\n",
       "    .dataframe thead th {\n",
       "        text-align: right;\n",
       "    }\n",
       "</style>\n",
       "<table border=\"1\" class=\"dataframe\">\n",
       "  <thead>\n",
       "    <tr style=\"text-align: right;\">\n",
       "      <th></th>\n",
       "      <th>id</th>\n",
       "      <th>category</th>\n",
       "      <th>title</th>\n",
       "      <th>body</th>\n",
       "      <th>bathrooms</th>\n",
       "      <th>bedrooms</th>\n",
       "      <th>currency</th>\n",
       "      <th>fee</th>\n",
       "      <th>has_photo</th>\n",
       "      <th>price</th>\n",
       "      <th>price_display</th>\n",
       "      <th>price_type</th>\n",
       "      <th>square_feet</th>\n",
       "      <th>cityname</th>\n",
       "      <th>state</th>\n",
       "      <th>latitude</th>\n",
       "      <th>longitude</th>\n",
       "      <th>source</th>\n",
       "    </tr>\n",
       "  </thead>\n",
       "  <tbody>\n",
       "    <tr>\n",
       "      <th>0</th>\n",
       "      <td>5668640009</td>\n",
       "      <td>housing/rent/apartment</td>\n",
       "      <td>One BR 507 &amp; 509 Esplanade</td>\n",
       "      <td>This unit is located at 507 &amp; 509 Esplanade, R...</td>\n",
       "      <td>1.0</td>\n",
       "      <td>1.0</td>\n",
       "      <td>USD</td>\n",
       "      <td>No</td>\n",
       "      <td>Thumbnail</td>\n",
       "      <td>2195.0</td>\n",
       "      <td>$2,195</td>\n",
       "      <td>Monthly</td>\n",
       "      <td>542</td>\n",
       "      <td>Redondo Beach</td>\n",
       "      <td>CA</td>\n",
       "      <td>33.8520</td>\n",
       "      <td>-118.3759</td>\n",
       "      <td>RentLingo</td>\n",
       "    </tr>\n",
       "    <tr>\n",
       "      <th>1</th>\n",
       "      <td>5668639818</td>\n",
       "      <td>housing/rent/apartment</td>\n",
       "      <td>Three BR 146 Lochview Drive</td>\n",
       "      <td>This unit is located at 146 Lochview Drive, Ne...</td>\n",
       "      <td>1.5</td>\n",
       "      <td>3.0</td>\n",
       "      <td>USD</td>\n",
       "      <td>No</td>\n",
       "      <td>Thumbnail</td>\n",
       "      <td>1250.0</td>\n",
       "      <td>$1,250</td>\n",
       "      <td>Monthly</td>\n",
       "      <td>1500</td>\n",
       "      <td>Newport News</td>\n",
       "      <td>VA</td>\n",
       "      <td>37.0867</td>\n",
       "      <td>-76.4941</td>\n",
       "      <td>RentLingo</td>\n",
       "    </tr>\n",
       "    <tr>\n",
       "      <th>2</th>\n",
       "      <td>5668639686</td>\n",
       "      <td>housing/rent/apartment</td>\n",
       "      <td>Three BR 3101 Morningside Drive</td>\n",
       "      <td>This unit is located at 3101 Morningside Drive...</td>\n",
       "      <td>2.0</td>\n",
       "      <td>3.0</td>\n",
       "      <td>USD</td>\n",
       "      <td>No</td>\n",
       "      <td>Thumbnail</td>\n",
       "      <td>1395.0</td>\n",
       "      <td>$1,395</td>\n",
       "      <td>Monthly</td>\n",
       "      <td>1650</td>\n",
       "      <td>Raleigh</td>\n",
       "      <td>NC</td>\n",
       "      <td>35.8230</td>\n",
       "      <td>-78.6438</td>\n",
       "      <td>RentLingo</td>\n",
       "    </tr>\n",
       "    <tr>\n",
       "      <th>3</th>\n",
       "      <td>5668639659</td>\n",
       "      <td>housing/rent/apartment</td>\n",
       "      <td>Two BR 209 Aegean Way</td>\n",
       "      <td>This unit is located at 209 Aegean Way, Vacavi...</td>\n",
       "      <td>1.0</td>\n",
       "      <td>2.0</td>\n",
       "      <td>USD</td>\n",
       "      <td>No</td>\n",
       "      <td>Thumbnail</td>\n",
       "      <td>1600.0</td>\n",
       "      <td>$1,600</td>\n",
       "      <td>Monthly</td>\n",
       "      <td>820</td>\n",
       "      <td>Vacaville</td>\n",
       "      <td>CA</td>\n",
       "      <td>38.3622</td>\n",
       "      <td>-121.9712</td>\n",
       "      <td>RentLingo</td>\n",
       "    </tr>\n",
       "    <tr>\n",
       "      <th>4</th>\n",
       "      <td>5668639374</td>\n",
       "      <td>housing/rent/apartment</td>\n",
       "      <td>One BR 4805 Marquette NE</td>\n",
       "      <td>This unit is located at 4805 Marquette NE, Alb...</td>\n",
       "      <td>1.0</td>\n",
       "      <td>1.0</td>\n",
       "      <td>USD</td>\n",
       "      <td>No</td>\n",
       "      <td>Thumbnail</td>\n",
       "      <td>975.0</td>\n",
       "      <td>$975</td>\n",
       "      <td>Monthly</td>\n",
       "      <td>624</td>\n",
       "      <td>Albuquerque</td>\n",
       "      <td>NM</td>\n",
       "      <td>35.1038</td>\n",
       "      <td>-106.6110</td>\n",
       "      <td>RentLingo</td>\n",
       "    </tr>\n",
       "  </tbody>\n",
       "</table>\n",
       "</div>"
      ],
      "text/plain": [
       "           id                category                            title  \\\n",
       "0  5668640009  housing/rent/apartment       One BR 507 & 509 Esplanade   \n",
       "1  5668639818  housing/rent/apartment      Three BR 146 Lochview Drive   \n",
       "2  5668639686  housing/rent/apartment  Three BR 3101 Morningside Drive   \n",
       "3  5668639659  housing/rent/apartment            Two BR 209 Aegean Way   \n",
       "4  5668639374  housing/rent/apartment         One BR 4805 Marquette NE   \n",
       "\n",
       "                                                body  bathrooms  bedrooms  \\\n",
       "0  This unit is located at 507 & 509 Esplanade, R...        1.0       1.0   \n",
       "1  This unit is located at 146 Lochview Drive, Ne...        1.5       3.0   \n",
       "2  This unit is located at 3101 Morningside Drive...        2.0       3.0   \n",
       "3  This unit is located at 209 Aegean Way, Vacavi...        1.0       2.0   \n",
       "4  This unit is located at 4805 Marquette NE, Alb...        1.0       1.0   \n",
       "\n",
       "  currency fee  has_photo   price price_display price_type  square_feet  \\\n",
       "0      USD  No  Thumbnail  2195.0        $2,195    Monthly          542   \n",
       "1      USD  No  Thumbnail  1250.0        $1,250    Monthly         1500   \n",
       "2      USD  No  Thumbnail  1395.0        $1,395    Monthly         1650   \n",
       "3      USD  No  Thumbnail  1600.0        $1,600    Monthly          820   \n",
       "4      USD  No  Thumbnail   975.0          $975    Monthly          624   \n",
       "\n",
       "        cityname state  latitude  longitude     source  \n",
       "0  Redondo Beach    CA   33.8520  -118.3759  RentLingo  \n",
       "1   Newport News    VA   37.0867   -76.4941  RentLingo  \n",
       "2        Raleigh    NC   35.8230   -78.6438  RentLingo  \n",
       "3      Vacaville    CA   38.3622  -121.9712  RentLingo  \n",
       "4    Albuquerque    NM   35.1038  -106.6110  RentLingo  "
      ]
     },
     "execution_count": 23,
     "metadata": {},
     "output_type": "execute_result"
    }
   ],
   "source": [
    "df.head()"
   ]
  },
  {
   "cell_type": "code",
   "execution_count": 24,
   "metadata": {},
   "outputs": [
    {
     "data": {
      "text/plain": [
       "array(['housing/rent/apartment', 'housing/rent/home',\n",
       "       'housing/rent/short_term', 'housing/rent', 'housing/rent/condo',\n",
       "       'housing/rent/other', 'housing/rent/commercial/retail'],\n",
       "      dtype=object)"
      ]
     },
     "execution_count": 24,
     "metadata": {},
     "output_type": "execute_result"
    }
   ],
   "source": [
    "df['category'].unique()"
   ]
  },
  {
   "cell_type": "code",
   "execution_count": 25,
   "metadata": {},
   "outputs": [
    {
     "data": {
      "text/plain": [
       "id               98923\n",
       "category             7\n",
       "title            58173\n",
       "body             94046\n",
       "bathrooms           16\n",
       "bedrooms            10\n",
       "currency             1\n",
       "fee                  2\n",
       "has_photo            3\n",
       "price             3681\n",
       "price_display     3712\n",
       "price_type           2\n",
       "square_feet       2522\n",
       "cityname          2977\n",
       "state               51\n",
       "latitude          7190\n",
       "longitude         7248\n",
       "source              25\n",
       "dtype: int64"
      ]
     },
     "execution_count": 25,
     "metadata": {},
     "output_type": "execute_result"
    }
   ],
   "source": [
    "df.nunique()"
   ]
  },
  {
   "cell_type": "code",
   "execution_count": 26,
   "metadata": {},
   "outputs": [
    {
     "data": {
      "text/plain": [
       "array(['RentLingo', 'ListedBuy', 'RentDigs.com', 'RENTCafé', 'GoSection8',\n",
       "       'Listanza', 'RealRentals', 'RENTOCULAR', 'tenantcloud',\n",
       "       'Real Estate Agent', 'rentbits', 'Home Rentals', 'Nest Seekers',\n",
       "       'RentFeeder', 'vFlyer', 'Real Estate Shows', 'Seattle Rentals',\n",
       "       'Claz', 'BostonApartments', 'SpreadMyAd', 'Apartable', 'Z57',\n",
       "       'FreeAdsTime', 'AgentWebsite', 'HousesForRent'], dtype=object)"
      ]
     },
     "execution_count": 26,
     "metadata": {},
     "output_type": "execute_result"
    }
   ],
   "source": [
    "df['source'].unique()"
   ]
  },
  {
   "cell_type": "code",
   "execution_count": 27,
   "metadata": {},
   "outputs": [
    {
     "data": {
      "image/png": "[encoded data removed]",
      "text/plain": [
       "<Figure size 1200x1200 with 1 Axes>"
      ]
     },
     "metadata": {},
     "output_type": "display_data"
    }
   ],
   "source": [
    "plt.figure(figsize=(12,12))\n",
    "sns.barplot( data = df, x = 'source', y = 'price')\n",
    "plt.xticks(fontsize = 6, rotation = 45)\n",
    "plt.show()"
   ]
  },
  {
   "cell_type": "code",
   "execution_count": 28,
   "metadata": {},
   "outputs": [
    {
     "data": {
      "text/plain": [
       "([0,\n",
       "  1,\n",
       "  2,\n",
       "  3,\n",
       "  4,\n",
       "  5,\n",
       "  6,\n",
       "  7,\n",
       "  8,\n",
       "  9,\n",
       "  10,\n",
       "  11,\n",
       "  12,\n",
       "  13,\n",
       "  14,\n",
       "  15,\n",
       "  16,\n",
       "  17,\n",
       "  18,\n",
       "  19,\n",
       "  20,\n",
       "  21,\n",
       "  22,\n",
       "  23,\n",
       "  24],\n",
       " [Text(0, 0, 'RentLingo'),\n",
       "  Text(1, 0, 'ListedBuy'),\n",
       "  Text(2, 0, 'RentDigs.com'),\n",
       "  Text(3, 0, 'RENTCafé'),\n",
       "  Text(4, 0, 'GoSection8'),\n",
       "  Text(5, 0, 'Listanza'),\n",
       "  Text(6, 0, 'RealRentals'),\n",
       "  Text(7, 0, 'RENTOCULAR'),\n",
       "  Text(8, 0, 'tenantcloud'),\n",
       "  Text(9, 0, 'Real Estate Agent'),\n",
       "  Text(10, 0, 'rentbits'),\n",
       "  Text(11, 0, 'Home Rentals'),\n",
       "  Text(12, 0, 'Nest Seekers'),\n",
       "  Text(13, 0, 'RentFeeder'),\n",
       "  Text(14, 0, 'vFlyer'),\n",
       "  Text(15, 0, 'Real Estate Shows'),\n",
       "  Text(16, 0, 'Seattle Rentals'),\n",
       "  Text(17, 0, 'Claz'),\n",
       "  Text(18, 0, 'BostonApartments'),\n",
       "  Text(19, 0, 'SpreadMyAd'),\n",
       "  Text(20, 0, 'Apartable'),\n",
       "  Text(21, 0, 'Z57'),\n",
       "  Text(22, 0, 'FreeAdsTime'),\n",
       "  Text(23, 0, 'AgentWebsite'),\n",
       "  Text(24, 0, 'HousesForRent')])"
      ]
     },
     "execution_count": 28,
     "metadata": {},
     "output_type": "execute_result"
    },
    {
     "data": {
      "image/png": "[encoded data removed]",
      "text/plain": [
       "<Figure size 1200x1200 with 1 Axes>"
      ]
     },
     "metadata": {},
     "output_type": "display_data"
    }
   ],
   "source": [
    "plt.figure(figsize=(12,12))\n",
    "sns.countplot(data=df, x = 'source')\n",
    "plt.xticks(fontsize = 6, rotation = 45)"
   ]
  },
  {
   "cell_type": "code",
   "execution_count": 29,
   "metadata": {},
   "outputs": [
    {
     "data": {
      "text/plain": [
       "source\n",
       "RentDigs.com         90577\n",
       "RentLingo             6815\n",
       "ListedBuy              561\n",
       "GoSection8             434\n",
       "RealRentals            268\n",
       "tenantcloud            121\n",
       "BostonApartments        93\n",
       "RENTCafé                41\n",
       "Listanza                25\n",
       "RENTOCULAR              18\n",
       "RentFeeder              12\n",
       "Home Rentals             8\n",
       "SpreadMyAd               6\n",
       "Claz                     5\n",
       "rentbits                 5\n",
       "vFlyer                   5\n",
       "Nest Seekers             4\n",
       "Seattle Rentals          2\n",
       "Real Estate Shows        1\n",
       "Real Estate Agent        1\n",
       "Apartable                1\n",
       "Z57                      1\n",
       "FreeAdsTime              1\n",
       "AgentWebsite             1\n",
       "HousesForRent            1\n",
       "Name: count, dtype: int64"
      ]
     },
     "execution_count": 29,
     "metadata": {},
     "output_type": "execute_result"
    }
   ],
   "source": [
    "df['source'].value_counts()"
   ]
  },
  {
   "cell_type": "code",
   "execution_count": 30,
   "metadata": {},
   "outputs": [],
   "source": [
    "df = df[(df['source'] == 'RentDigs.com') | (df['source'] == 'RentLingo')]"
   ]
  },
  {
   "cell_type": "code",
   "execution_count": 31,
   "metadata": {},
   "outputs": [
    {
     "name": "stdout",
     "output_type": "stream",
     "text": [
      "<class 'pandas.core.frame.DataFrame'>\n",
      "Index: 97392 entries, 0 to 99491\n",
      "Data columns (total 18 columns):\n",
      " #   Column         Non-Null Count  Dtype  \n",
      "---  ------         --------------  -----  \n",
      " 0   id             97392 non-null  int64  \n",
      " 1   category       97392 non-null  object \n",
      " 2   title          97392 non-null  object \n",
      " 3   body           97392 non-null  object \n",
      " 4   bathrooms      97392 non-null  float64\n",
      " 5   bedrooms       97392 non-null  float64\n",
      " 6   currency       97392 non-null  object \n",
      " 7   fee            97392 non-null  object \n",
      " 8   has_photo      97392 non-null  object \n",
      " 9   price          97392 non-null  float64\n",
      " 10  price_display  97392 non-null  object \n",
      " 11  price_type     97392 non-null  object \n",
      " 12  square_feet    97392 non-null  int64  \n",
      " 13  cityname       97392 non-null  object \n",
      " 14  state          97392 non-null  object \n",
      " 15  latitude       97392 non-null  float64\n",
      " 16  longitude      97392 non-null  float64\n",
      " 17  source         97392 non-null  object \n",
      "dtypes: float64(5), int64(2), object(11)\n",
      "memory usage: 14.1+ MB\n"
     ]
    }
   ],
   "source": [
    "df.info()"
   ]
  },
  {
   "cell_type": "code",
   "execution_count": 32,
   "metadata": {},
   "outputs": [
    {
     "data": {
      "text/plain": [
       "id               97308\n",
       "category             3\n",
       "title            56789\n",
       "body             92500\n",
       "bathrooms           16\n",
       "bedrooms            10\n",
       "currency             1\n",
       "fee                  1\n",
       "has_photo            3\n",
       "price             3666\n",
       "price_display     3666\n",
       "price_type           1\n",
       "square_feet       2515\n",
       "cityname          2917\n",
       "state               51\n",
       "latitude          6862\n",
       "longitude         6915\n",
       "source               2\n",
       "dtype: int64"
      ]
     },
     "execution_count": 32,
     "metadata": {},
     "output_type": "execute_result"
    }
   ],
   "source": [
    "df.nunique()"
   ]
  },
  {
   "cell_type": "code",
   "execution_count": 33,
   "metadata": {},
   "outputs": [
    {
     "data": {
      "text/html": [
       "<div>\n",
       "<style scoped>\n",
       "    .dataframe tbody tr th:only-of-type {\n",
       "        vertical-align: middle;\n",
       "    }\n",
       "\n",
       "    .dataframe tbody tr th {\n",
       "        vertical-align: top;\n",
       "    }\n",
       "\n",
       "    .dataframe thead th {\n",
       "        text-align: right;\n",
       "    }\n",
       "</style>\n",
       "<table border=\"1\" class=\"dataframe\">\n",
       "  <thead>\n",
       "    <tr style=\"text-align: right;\">\n",
       "      <th></th>\n",
       "      <th>id</th>\n",
       "      <th>category</th>\n",
       "      <th>title</th>\n",
       "      <th>body</th>\n",
       "      <th>bathrooms</th>\n",
       "      <th>bedrooms</th>\n",
       "      <th>currency</th>\n",
       "      <th>fee</th>\n",
       "      <th>has_photo</th>\n",
       "      <th>price</th>\n",
       "      <th>price_display</th>\n",
       "      <th>price_type</th>\n",
       "      <th>square_feet</th>\n",
       "      <th>cityname</th>\n",
       "      <th>state</th>\n",
       "      <th>latitude</th>\n",
       "      <th>longitude</th>\n",
       "      <th>source</th>\n",
       "    </tr>\n",
       "  </thead>\n",
       "  <tbody>\n",
       "    <tr>\n",
       "      <th>0</th>\n",
       "      <td>5668640009</td>\n",
       "      <td>housing/rent/apartment</td>\n",
       "      <td>One BR 507 &amp; 509 Esplanade</td>\n",
       "      <td>This unit is located at 507 &amp; 509 Esplanade, R...</td>\n",
       "      <td>1.0</td>\n",
       "      <td>1.0</td>\n",
       "      <td>USD</td>\n",
       "      <td>No</td>\n",
       "      <td>Thumbnail</td>\n",
       "      <td>2195.0</td>\n",
       "      <td>$2,195</td>\n",
       "      <td>Monthly</td>\n",
       "      <td>542</td>\n",
       "      <td>Redondo Beach</td>\n",
       "      <td>CA</td>\n",
       "      <td>33.8520</td>\n",
       "      <td>-118.3759</td>\n",
       "      <td>RentLingo</td>\n",
       "    </tr>\n",
       "    <tr>\n",
       "      <th>1</th>\n",
       "      <td>5668639818</td>\n",
       "      <td>housing/rent/apartment</td>\n",
       "      <td>Three BR 146 Lochview Drive</td>\n",
       "      <td>This unit is located at 146 Lochview Drive, Ne...</td>\n",
       "      <td>1.5</td>\n",
       "      <td>3.0</td>\n",
       "      <td>USD</td>\n",
       "      <td>No</td>\n",
       "      <td>Thumbnail</td>\n",
       "      <td>1250.0</td>\n",
       "      <td>$1,250</td>\n",
       "      <td>Monthly</td>\n",
       "      <td>1500</td>\n",
       "      <td>Newport News</td>\n",
       "      <td>VA</td>\n",
       "      <td>37.0867</td>\n",
       "      <td>-76.4941</td>\n",
       "      <td>RentLingo</td>\n",
       "    </tr>\n",
       "    <tr>\n",
       "      <th>2</th>\n",
       "      <td>5668639686</td>\n",
       "      <td>housing/rent/apartment</td>\n",
       "      <td>Three BR 3101 Morningside Drive</td>\n",
       "      <td>This unit is located at 3101 Morningside Drive...</td>\n",
       "      <td>2.0</td>\n",
       "      <td>3.0</td>\n",
       "      <td>USD</td>\n",
       "      <td>No</td>\n",
       "      <td>Thumbnail</td>\n",
       "      <td>1395.0</td>\n",
       "      <td>$1,395</td>\n",
       "      <td>Monthly</td>\n",
       "      <td>1650</td>\n",
       "      <td>Raleigh</td>\n",
       "      <td>NC</td>\n",
       "      <td>35.8230</td>\n",
       "      <td>-78.6438</td>\n",
       "      <td>RentLingo</td>\n",
       "    </tr>\n",
       "    <tr>\n",
       "      <th>3</th>\n",
       "      <td>5668639659</td>\n",
       "      <td>housing/rent/apartment</td>\n",
       "      <td>Two BR 209 Aegean Way</td>\n",
       "      <td>This unit is located at 209 Aegean Way, Vacavi...</td>\n",
       "      <td>1.0</td>\n",
       "      <td>2.0</td>\n",
       "      <td>USD</td>\n",
       "      <td>No</td>\n",
       "      <td>Thumbnail</td>\n",
       "      <td>1600.0</td>\n",
       "      <td>$1,600</td>\n",
       "      <td>Monthly</td>\n",
       "      <td>820</td>\n",
       "      <td>Vacaville</td>\n",
       "      <td>CA</td>\n",
       "      <td>38.3622</td>\n",
       "      <td>-121.9712</td>\n",
       "      <td>RentLingo</td>\n",
       "    </tr>\n",
       "    <tr>\n",
       "      <th>4</th>\n",
       "      <td>5668639374</td>\n",
       "      <td>housing/rent/apartment</td>\n",
       "      <td>One BR 4805 Marquette NE</td>\n",
       "      <td>This unit is located at 4805 Marquette NE, Alb...</td>\n",
       "      <td>1.0</td>\n",
       "      <td>1.0</td>\n",
       "      <td>USD</td>\n",
       "      <td>No</td>\n",
       "      <td>Thumbnail</td>\n",
       "      <td>975.0</td>\n",
       "      <td>$975</td>\n",
       "      <td>Monthly</td>\n",
       "      <td>624</td>\n",
       "      <td>Albuquerque</td>\n",
       "      <td>NM</td>\n",
       "      <td>35.1038</td>\n",
       "      <td>-106.6110</td>\n",
       "      <td>RentLingo</td>\n",
       "    </tr>\n",
       "  </tbody>\n",
       "</table>\n",
       "</div>"
      ],
      "text/plain": [
       "           id                category                            title  \\\n",
       "0  5668640009  housing/rent/apartment       One BR 507 & 509 Esplanade   \n",
       "1  5668639818  housing/rent/apartment      Three BR 146 Lochview Drive   \n",
       "2  5668639686  housing/rent/apartment  Three BR 3101 Morningside Drive   \n",
       "3  5668639659  housing/rent/apartment            Two BR 209 Aegean Way   \n",
       "4  5668639374  housing/rent/apartment         One BR 4805 Marquette NE   \n",
       "\n",
       "                                                body  bathrooms  bedrooms  \\\n",
       "0  This unit is located at 507 & 509 Esplanade, R...        1.0       1.0   \n",
       "1  This unit is located at 146 Lochview Drive, Ne...        1.5       3.0   \n",
       "2  This unit is located at 3101 Morningside Drive...        2.0       3.0   \n",
       "3  This unit is located at 209 Aegean Way, Vacavi...        1.0       2.0   \n",
       "4  This unit is located at 4805 Marquette NE, Alb...        1.0       1.0   \n",
       "\n",
       "  currency fee  has_photo   price price_display price_type  square_feet  \\\n",
       "0      USD  No  Thumbnail  2195.0        $2,195    Monthly          542   \n",
       "1      USD  No  Thumbnail  1250.0        $1,250    Monthly         1500   \n",
       "2      USD  No  Thumbnail  1395.0        $1,395    Monthly         1650   \n",
       "3      USD  No  Thumbnail  1600.0        $1,600    Monthly          820   \n",
       "4      USD  No  Thumbnail   975.0          $975    Monthly          624   \n",
       "\n",
       "        cityname state  latitude  longitude     source  \n",
       "0  Redondo Beach    CA   33.8520  -118.3759  RentLingo  \n",
       "1   Newport News    VA   37.0867   -76.4941  RentLingo  \n",
       "2        Raleigh    NC   35.8230   -78.6438  RentLingo  \n",
       "3      Vacaville    CA   38.3622  -121.9712  RentLingo  \n",
       "4    Albuquerque    NM   35.1038  -106.6110  RentLingo  "
      ]
     },
     "execution_count": 33,
     "metadata": {},
     "output_type": "execute_result"
    }
   ],
   "source": [
    "df.head()"
   ]
  },
  {
   "cell_type": "code",
   "execution_count": 34,
   "metadata": {},
   "outputs": [],
   "source": [
    "df = df.drop(['body', 'id', 'fee', 'currency', 'price_display', 'price_type', 'cityname', 'latitude', 'longitude', 'source'], axis = 1)"
   ]
  },
  {
   "cell_type": "code",
   "execution_count": 35,
   "metadata": {},
   "outputs": [],
   "source": [
    "df = df.drop(['state'], axis = 1)"
   ]
  },
  {
   "cell_type": "code",
   "execution_count": 36,
   "metadata": {},
   "outputs": [
    {
     "data": {
      "text/html": [
       "<div>\n",
       "<style scoped>\n",
       "    .dataframe tbody tr th:only-of-type {\n",
       "        vertical-align: middle;\n",
       "    }\n",
       "\n",
       "    .dataframe tbody tr th {\n",
       "        vertical-align: top;\n",
       "    }\n",
       "\n",
       "    .dataframe thead th {\n",
       "        text-align: right;\n",
       "    }\n",
       "</style>\n",
       "<table border=\"1\" class=\"dataframe\">\n",
       "  <thead>\n",
       "    <tr style=\"text-align: right;\">\n",
       "      <th></th>\n",
       "      <th>category</th>\n",
       "      <th>title</th>\n",
       "      <th>bathrooms</th>\n",
       "      <th>bedrooms</th>\n",
       "      <th>has_photo</th>\n",
       "      <th>price</th>\n",
       "      <th>square_feet</th>\n",
       "    </tr>\n",
       "  </thead>\n",
       "  <tbody>\n",
       "    <tr>\n",
       "      <th>0</th>\n",
       "      <td>housing/rent/apartment</td>\n",
       "      <td>One BR 507 &amp; 509 Esplanade</td>\n",
       "      <td>1.0</td>\n",
       "      <td>1.0</td>\n",
       "      <td>Thumbnail</td>\n",
       "      <td>2195.0</td>\n",
       "      <td>542</td>\n",
       "    </tr>\n",
       "    <tr>\n",
       "      <th>1</th>\n",
       "      <td>housing/rent/apartment</td>\n",
       "      <td>Three BR 146 Lochview Drive</td>\n",
       "      <td>1.5</td>\n",
       "      <td>3.0</td>\n",
       "      <td>Thumbnail</td>\n",
       "      <td>1250.0</td>\n",
       "      <td>1500</td>\n",
       "    </tr>\n",
       "    <tr>\n",
       "      <th>2</th>\n",
       "      <td>housing/rent/apartment</td>\n",
       "      <td>Three BR 3101 Morningside Drive</td>\n",
       "      <td>2.0</td>\n",
       "      <td>3.0</td>\n",
       "      <td>Thumbnail</td>\n",
       "      <td>1395.0</td>\n",
       "      <td>1650</td>\n",
       "    </tr>\n",
       "    <tr>\n",
       "      <th>3</th>\n",
       "      <td>housing/rent/apartment</td>\n",
       "      <td>Two BR 209 Aegean Way</td>\n",
       "      <td>1.0</td>\n",
       "      <td>2.0</td>\n",
       "      <td>Thumbnail</td>\n",
       "      <td>1600.0</td>\n",
       "      <td>820</td>\n",
       "    </tr>\n",
       "    <tr>\n",
       "      <th>4</th>\n",
       "      <td>housing/rent/apartment</td>\n",
       "      <td>One BR 4805 Marquette NE</td>\n",
       "      <td>1.0</td>\n",
       "      <td>1.0</td>\n",
       "      <td>Thumbnail</td>\n",
       "      <td>975.0</td>\n",
       "      <td>624</td>\n",
       "    </tr>\n",
       "  </tbody>\n",
       "</table>\n",
       "</div>"
      ],
      "text/plain": [
       "                 category                            title  bathrooms  \\\n",
       "0  housing/rent/apartment       One BR 507 & 509 Esplanade        1.0   \n",
       "1  housing/rent/apartment      Three BR 146 Lochview Drive        1.5   \n",
       "2  housing/rent/apartment  Three BR 3101 Morningside Drive        2.0   \n",
       "3  housing/rent/apartment            Two BR 209 Aegean Way        1.0   \n",
       "4  housing/rent/apartment         One BR 4805 Marquette NE        1.0   \n",
       "\n",
       "   bedrooms  has_photo   price  square_feet  \n",
       "0       1.0  Thumbnail  2195.0          542  \n",
       "1       3.0  Thumbnail  1250.0         1500  \n",
       "2       3.0  Thumbnail  1395.0         1650  \n",
       "3       2.0  Thumbnail  1600.0          820  \n",
       "4       1.0  Thumbnail   975.0          624  "
      ]
     },
     "execution_count": 36,
     "metadata": {},
     "output_type": "execute_result"
    }
   ],
   "source": [
    "df.head()"
   ]
  },
  {
   "cell_type": "code",
   "execution_count": 37,
   "metadata": {},
   "outputs": [],
   "source": [
    "df.drop(['title'], axis = 1, inplace = True)"
   ]
  },
  {
   "cell_type": "code",
   "execution_count": 38,
   "metadata": {},
   "outputs": [
    {
     "data": {
      "text/html": [
       "<div>\n",
       "<style scoped>\n",
       "    .dataframe tbody tr th:only-of-type {\n",
       "        vertical-align: middle;\n",
       "    }\n",
       "\n",
       "    .dataframe tbody tr th {\n",
       "        vertical-align: top;\n",
       "    }\n",
       "\n",
       "    .dataframe thead th {\n",
       "        text-align: right;\n",
       "    }\n",
       "</style>\n",
       "<table border=\"1\" class=\"dataframe\">\n",
       "  <thead>\n",
       "    <tr style=\"text-align: right;\">\n",
       "      <th></th>\n",
       "      <th>category</th>\n",
       "      <th>bathrooms</th>\n",
       "      <th>bedrooms</th>\n",
       "      <th>has_photo</th>\n",
       "      <th>price</th>\n",
       "      <th>square_feet</th>\n",
       "    </tr>\n",
       "  </thead>\n",
       "  <tbody>\n",
       "    <tr>\n",
       "      <th>0</th>\n",
       "      <td>housing/rent/apartment</td>\n",
       "      <td>1.0</td>\n",
       "      <td>1.0</td>\n",
       "      <td>Thumbnail</td>\n",
       "      <td>2195.0</td>\n",
       "      <td>542</td>\n",
       "    </tr>\n",
       "    <tr>\n",
       "      <th>1</th>\n",
       "      <td>housing/rent/apartment</td>\n",
       "      <td>1.5</td>\n",
       "      <td>3.0</td>\n",
       "      <td>Thumbnail</td>\n",
       "      <td>1250.0</td>\n",
       "      <td>1500</td>\n",
       "    </tr>\n",
       "    <tr>\n",
       "      <th>2</th>\n",
       "      <td>housing/rent/apartment</td>\n",
       "      <td>2.0</td>\n",
       "      <td>3.0</td>\n",
       "      <td>Thumbnail</td>\n",
       "      <td>1395.0</td>\n",
       "      <td>1650</td>\n",
       "    </tr>\n",
       "    <tr>\n",
       "      <th>3</th>\n",
       "      <td>housing/rent/apartment</td>\n",
       "      <td>1.0</td>\n",
       "      <td>2.0</td>\n",
       "      <td>Thumbnail</td>\n",
       "      <td>1600.0</td>\n",
       "      <td>820</td>\n",
       "    </tr>\n",
       "    <tr>\n",
       "      <th>4</th>\n",
       "      <td>housing/rent/apartment</td>\n",
       "      <td>1.0</td>\n",
       "      <td>1.0</td>\n",
       "      <td>Thumbnail</td>\n",
       "      <td>975.0</td>\n",
       "      <td>624</td>\n",
       "    </tr>\n",
       "    <tr>\n",
       "      <th>...</th>\n",
       "      <td>...</td>\n",
       "      <td>...</td>\n",
       "      <td>...</td>\n",
       "      <td>...</td>\n",
       "      <td>...</td>\n",
       "      <td>...</td>\n",
       "    </tr>\n",
       "    <tr>\n",
       "      <th>99487</th>\n",
       "      <td>housing/rent/apartment</td>\n",
       "      <td>1.0</td>\n",
       "      <td>1.0</td>\n",
       "      <td>Yes</td>\n",
       "      <td>780.0</td>\n",
       "      <td>605</td>\n",
       "    </tr>\n",
       "    <tr>\n",
       "      <th>99488</th>\n",
       "      <td>housing/rent/apartment</td>\n",
       "      <td>2.0</td>\n",
       "      <td>2.0</td>\n",
       "      <td>Yes</td>\n",
       "      <td>813.0</td>\n",
       "      <td>921</td>\n",
       "    </tr>\n",
       "    <tr>\n",
       "      <th>99489</th>\n",
       "      <td>housing/rent/apartment</td>\n",
       "      <td>1.0</td>\n",
       "      <td>1.0</td>\n",
       "      <td>Yes</td>\n",
       "      <td>1325.0</td>\n",
       "      <td>650</td>\n",
       "    </tr>\n",
       "    <tr>\n",
       "      <th>99490</th>\n",
       "      <td>housing/rent/apartment</td>\n",
       "      <td>1.0</td>\n",
       "      <td>1.0</td>\n",
       "      <td>Yes</td>\n",
       "      <td>931.0</td>\n",
       "      <td>701</td>\n",
       "    </tr>\n",
       "    <tr>\n",
       "      <th>99491</th>\n",
       "      <td>housing/rent/apartment</td>\n",
       "      <td>1.5</td>\n",
       "      <td>2.0</td>\n",
       "      <td>Yes</td>\n",
       "      <td>1595.0</td>\n",
       "      <td>900</td>\n",
       "    </tr>\n",
       "  </tbody>\n",
       "</table>\n",
       "<p>97392 rows × 6 columns</p>\n",
       "</div>"
      ],
      "text/plain": [
       "                     category  bathrooms  bedrooms  has_photo   price  \\\n",
       "0      housing/rent/apartment        1.0       1.0  Thumbnail  2195.0   \n",
       "1      housing/rent/apartment        1.5       3.0  Thumbnail  1250.0   \n",
       "2      housing/rent/apartment        2.0       3.0  Thumbnail  1395.0   \n",
       "3      housing/rent/apartment        1.0       2.0  Thumbnail  1600.0   \n",
       "4      housing/rent/apartment        1.0       1.0  Thumbnail   975.0   \n",
       "...                       ...        ...       ...        ...     ...   \n",
       "99487  housing/rent/apartment        1.0       1.0        Yes   780.0   \n",
       "99488  housing/rent/apartment        2.0       2.0        Yes   813.0   \n",
       "99489  housing/rent/apartment        1.0       1.0        Yes  1325.0   \n",
       "99490  housing/rent/apartment        1.0       1.0        Yes   931.0   \n",
       "99491  housing/rent/apartment        1.5       2.0        Yes  1595.0   \n",
       "\n",
       "       square_feet  \n",
       "0              542  \n",
       "1             1500  \n",
       "2             1650  \n",
       "3              820  \n",
       "4              624  \n",
       "...            ...  \n",
       "99487          605  \n",
       "99488          921  \n",
       "99489          650  \n",
       "99490          701  \n",
       "99491          900  \n",
       "\n",
       "[97392 rows x 6 columns]"
      ]
     },
     "execution_count": 38,
     "metadata": {},
     "output_type": "execute_result"
    }
   ],
   "source": [
    "df"
   ]
  },
  {
   "cell_type": "code",
   "execution_count": 39,
   "metadata": {},
   "outputs": [
    {
     "name": "stderr",
     "output_type": "stream",
     "text": [
      "c:\\Users\\dgmur\\python\\lib\\site-packages\\sklearn\\preprocessing\\_encoders.py:975: FutureWarning: `sparse` was renamed to `sparse_output` in version 1.2 and will be removed in 1.4. `sparse_output` is ignored unless you leave `sparse` to its default value.\n",
      "  warnings.warn(\n"
     ]
    }
   ],
   "source": [
    "onehot = OneHotEncoder(sparse=False)\n",
    "\n",
    "df_oh = onehot.fit_transform(df.select_dtypes(include=['object']))"
   ]
  },
  {
   "cell_type": "code",
   "execution_count": 40,
   "metadata": {},
   "outputs": [],
   "source": [
    "df_oh = pd.DataFrame(df_oh, columns = onehot.get_feature_names_out())"
   ]
  },
  {
   "cell_type": "code",
   "execution_count": 41,
   "metadata": {},
   "outputs": [
    {
     "data": {
      "text/html": [
       "<div>\n",
       "<style scoped>\n",
       "    .dataframe tbody tr th:only-of-type {\n",
       "        vertical-align: middle;\n",
       "    }\n",
       "\n",
       "    .dataframe tbody tr th {\n",
       "        vertical-align: top;\n",
       "    }\n",
       "\n",
       "    .dataframe thead th {\n",
       "        text-align: right;\n",
       "    }\n",
       "</style>\n",
       "<table border=\"1\" class=\"dataframe\">\n",
       "  <thead>\n",
       "    <tr style=\"text-align: right;\">\n",
       "      <th></th>\n",
       "      <th>category_housing/rent</th>\n",
       "      <th>category_housing/rent/apartment</th>\n",
       "      <th>category_housing/rent/commercial/retail</th>\n",
       "      <th>has_photo_No</th>\n",
       "      <th>has_photo_Thumbnail</th>\n",
       "      <th>has_photo_Yes</th>\n",
       "    </tr>\n",
       "  </thead>\n",
       "  <tbody>\n",
       "    <tr>\n",
       "      <th>0</th>\n",
       "      <td>0.0</td>\n",
       "      <td>1.0</td>\n",
       "      <td>0.0</td>\n",
       "      <td>0.0</td>\n",
       "      <td>1.0</td>\n",
       "      <td>0.0</td>\n",
       "    </tr>\n",
       "    <tr>\n",
       "      <th>1</th>\n",
       "      <td>0.0</td>\n",
       "      <td>1.0</td>\n",
       "      <td>0.0</td>\n",
       "      <td>0.0</td>\n",
       "      <td>1.0</td>\n",
       "      <td>0.0</td>\n",
       "    </tr>\n",
       "    <tr>\n",
       "      <th>2</th>\n",
       "      <td>0.0</td>\n",
       "      <td>1.0</td>\n",
       "      <td>0.0</td>\n",
       "      <td>0.0</td>\n",
       "      <td>1.0</td>\n",
       "      <td>0.0</td>\n",
       "    </tr>\n",
       "    <tr>\n",
       "      <th>3</th>\n",
       "      <td>0.0</td>\n",
       "      <td>1.0</td>\n",
       "      <td>0.0</td>\n",
       "      <td>0.0</td>\n",
       "      <td>1.0</td>\n",
       "      <td>0.0</td>\n",
       "    </tr>\n",
       "    <tr>\n",
       "      <th>4</th>\n",
       "      <td>0.0</td>\n",
       "      <td>1.0</td>\n",
       "      <td>0.0</td>\n",
       "      <td>0.0</td>\n",
       "      <td>1.0</td>\n",
       "      <td>0.0</td>\n",
       "    </tr>\n",
       "    <tr>\n",
       "      <th>...</th>\n",
       "      <td>...</td>\n",
       "      <td>...</td>\n",
       "      <td>...</td>\n",
       "      <td>...</td>\n",
       "      <td>...</td>\n",
       "      <td>...</td>\n",
       "    </tr>\n",
       "    <tr>\n",
       "      <th>97387</th>\n",
       "      <td>0.0</td>\n",
       "      <td>1.0</td>\n",
       "      <td>0.0</td>\n",
       "      <td>0.0</td>\n",
       "      <td>0.0</td>\n",
       "      <td>1.0</td>\n",
       "    </tr>\n",
       "    <tr>\n",
       "      <th>97388</th>\n",
       "      <td>0.0</td>\n",
       "      <td>1.0</td>\n",
       "      <td>0.0</td>\n",
       "      <td>0.0</td>\n",
       "      <td>0.0</td>\n",
       "      <td>1.0</td>\n",
       "    </tr>\n",
       "    <tr>\n",
       "      <th>97389</th>\n",
       "      <td>0.0</td>\n",
       "      <td>1.0</td>\n",
       "      <td>0.0</td>\n",
       "      <td>0.0</td>\n",
       "      <td>0.0</td>\n",
       "      <td>1.0</td>\n",
       "    </tr>\n",
       "    <tr>\n",
       "      <th>97390</th>\n",
       "      <td>0.0</td>\n",
       "      <td>1.0</td>\n",
       "      <td>0.0</td>\n",
       "      <td>0.0</td>\n",
       "      <td>0.0</td>\n",
       "      <td>1.0</td>\n",
       "    </tr>\n",
       "    <tr>\n",
       "      <th>97391</th>\n",
       "      <td>0.0</td>\n",
       "      <td>1.0</td>\n",
       "      <td>0.0</td>\n",
       "      <td>0.0</td>\n",
       "      <td>0.0</td>\n",
       "      <td>1.0</td>\n",
       "    </tr>\n",
       "  </tbody>\n",
       "</table>\n",
       "<p>97392 rows × 6 columns</p>\n",
       "</div>"
      ],
      "text/plain": [
       "       category_housing/rent  category_housing/rent/apartment  \\\n",
       "0                        0.0                              1.0   \n",
       "1                        0.0                              1.0   \n",
       "2                        0.0                              1.0   \n",
       "3                        0.0                              1.0   \n",
       "4                        0.0                              1.0   \n",
       "...                      ...                              ...   \n",
       "97387                    0.0                              1.0   \n",
       "97388                    0.0                              1.0   \n",
       "97389                    0.0                              1.0   \n",
       "97390                    0.0                              1.0   \n",
       "97391                    0.0                              1.0   \n",
       "\n",
       "       category_housing/rent/commercial/retail  has_photo_No  \\\n",
       "0                                          0.0           0.0   \n",
       "1                                          0.0           0.0   \n",
       "2                                          0.0           0.0   \n",
       "3                                          0.0           0.0   \n",
       "4                                          0.0           0.0   \n",
       "...                                        ...           ...   \n",
       "97387                                      0.0           0.0   \n",
       "97388                                      0.0           0.0   \n",
       "97389                                      0.0           0.0   \n",
       "97390                                      0.0           0.0   \n",
       "97391                                      0.0           0.0   \n",
       "\n",
       "       has_photo_Thumbnail  has_photo_Yes  \n",
       "0                      1.0            0.0  \n",
       "1                      1.0            0.0  \n",
       "2                      1.0            0.0  \n",
       "3                      1.0            0.0  \n",
       "4                      1.0            0.0  \n",
       "...                    ...            ...  \n",
       "97387                  0.0            1.0  \n",
       "97388                  0.0            1.0  \n",
       "97389                  0.0            1.0  \n",
       "97390                  0.0            1.0  \n",
       "97391                  0.0            1.0  \n",
       "\n",
       "[97392 rows x 6 columns]"
      ]
     },
     "execution_count": 41,
     "metadata": {},
     "output_type": "execute_result"
    }
   ],
   "source": [
    "df_oh"
   ]
  },
  {
   "cell_type": "code",
   "execution_count": 42,
   "metadata": {},
   "outputs": [],
   "source": [
    "df_after_one_hot = pd.concat([df, df_oh], axis = 1)"
   ]
  },
  {
   "cell_type": "code",
   "execution_count": 43,
   "metadata": {},
   "outputs": [
    {
     "data": {
      "text/html": [
       "<div>\n",
       "<style scoped>\n",
       "    .dataframe tbody tr th:only-of-type {\n",
       "        vertical-align: middle;\n",
       "    }\n",
       "\n",
       "    .dataframe tbody tr th {\n",
       "        vertical-align: top;\n",
       "    }\n",
       "\n",
       "    .dataframe thead th {\n",
       "        text-align: right;\n",
       "    }\n",
       "</style>\n",
       "<table border=\"1\" class=\"dataframe\">\n",
       "  <thead>\n",
       "    <tr style=\"text-align: right;\">\n",
       "      <th></th>\n",
       "      <th>category</th>\n",
       "      <th>bathrooms</th>\n",
       "      <th>bedrooms</th>\n",
       "      <th>has_photo</th>\n",
       "      <th>price</th>\n",
       "      <th>square_feet</th>\n",
       "      <th>category_housing/rent</th>\n",
       "      <th>category_housing/rent/apartment</th>\n",
       "      <th>category_housing/rent/commercial/retail</th>\n",
       "      <th>has_photo_No</th>\n",
       "      <th>has_photo_Thumbnail</th>\n",
       "      <th>has_photo_Yes</th>\n",
       "    </tr>\n",
       "  </thead>\n",
       "  <tbody>\n",
       "    <tr>\n",
       "      <th>0</th>\n",
       "      <td>housing/rent/apartment</td>\n",
       "      <td>1.0</td>\n",
       "      <td>1.0</td>\n",
       "      <td>Thumbnail</td>\n",
       "      <td>2195.0</td>\n",
       "      <td>542.0</td>\n",
       "      <td>0.0</td>\n",
       "      <td>1.0</td>\n",
       "      <td>0.0</td>\n",
       "      <td>0.0</td>\n",
       "      <td>1.0</td>\n",
       "      <td>0.0</td>\n",
       "    </tr>\n",
       "    <tr>\n",
       "      <th>1</th>\n",
       "      <td>housing/rent/apartment</td>\n",
       "      <td>1.5</td>\n",
       "      <td>3.0</td>\n",
       "      <td>Thumbnail</td>\n",
       "      <td>1250.0</td>\n",
       "      <td>1500.0</td>\n",
       "      <td>0.0</td>\n",
       "      <td>1.0</td>\n",
       "      <td>0.0</td>\n",
       "      <td>0.0</td>\n",
       "      <td>1.0</td>\n",
       "      <td>0.0</td>\n",
       "    </tr>\n",
       "    <tr>\n",
       "      <th>2</th>\n",
       "      <td>housing/rent/apartment</td>\n",
       "      <td>2.0</td>\n",
       "      <td>3.0</td>\n",
       "      <td>Thumbnail</td>\n",
       "      <td>1395.0</td>\n",
       "      <td>1650.0</td>\n",
       "      <td>0.0</td>\n",
       "      <td>1.0</td>\n",
       "      <td>0.0</td>\n",
       "      <td>0.0</td>\n",
       "      <td>1.0</td>\n",
       "      <td>0.0</td>\n",
       "    </tr>\n",
       "    <tr>\n",
       "      <th>3</th>\n",
       "      <td>housing/rent/apartment</td>\n",
       "      <td>1.0</td>\n",
       "      <td>2.0</td>\n",
       "      <td>Thumbnail</td>\n",
       "      <td>1600.0</td>\n",
       "      <td>820.0</td>\n",
       "      <td>0.0</td>\n",
       "      <td>1.0</td>\n",
       "      <td>0.0</td>\n",
       "      <td>0.0</td>\n",
       "      <td>1.0</td>\n",
       "      <td>0.0</td>\n",
       "    </tr>\n",
       "    <tr>\n",
       "      <th>4</th>\n",
       "      <td>housing/rent/apartment</td>\n",
       "      <td>1.0</td>\n",
       "      <td>1.0</td>\n",
       "      <td>Thumbnail</td>\n",
       "      <td>975.0</td>\n",
       "      <td>624.0</td>\n",
       "      <td>0.0</td>\n",
       "      <td>1.0</td>\n",
       "      <td>0.0</td>\n",
       "      <td>0.0</td>\n",
       "      <td>1.0</td>\n",
       "      <td>0.0</td>\n",
       "    </tr>\n",
       "  </tbody>\n",
       "</table>\n",
       "</div>"
      ],
      "text/plain": [
       "                 category  bathrooms  bedrooms  has_photo   price  \\\n",
       "0  housing/rent/apartment        1.0       1.0  Thumbnail  2195.0   \n",
       "1  housing/rent/apartment        1.5       3.0  Thumbnail  1250.0   \n",
       "2  housing/rent/apartment        2.0       3.0  Thumbnail  1395.0   \n",
       "3  housing/rent/apartment        1.0       2.0  Thumbnail  1600.0   \n",
       "4  housing/rent/apartment        1.0       1.0  Thumbnail   975.0   \n",
       "\n",
       "   square_feet  category_housing/rent  category_housing/rent/apartment  \\\n",
       "0        542.0                    0.0                              1.0   \n",
       "1       1500.0                    0.0                              1.0   \n",
       "2       1650.0                    0.0                              1.0   \n",
       "3        820.0                    0.0                              1.0   \n",
       "4        624.0                    0.0                              1.0   \n",
       "\n",
       "   category_housing/rent/commercial/retail  has_photo_No  has_photo_Thumbnail  \\\n",
       "0                                      0.0           0.0                  1.0   \n",
       "1                                      0.0           0.0                  1.0   \n",
       "2                                      0.0           0.0                  1.0   \n",
       "3                                      0.0           0.0                  1.0   \n",
       "4                                      0.0           0.0                  1.0   \n",
       "\n",
       "   has_photo_Yes  \n",
       "0            0.0  \n",
       "1            0.0  \n",
       "2            0.0  \n",
       "3            0.0  \n",
       "4            0.0  "
      ]
     },
     "execution_count": 43,
     "metadata": {},
     "output_type": "execute_result"
    }
   ],
   "source": [
    "df_after_one_hot.head()"
   ]
  },
  {
   "cell_type": "code",
   "execution_count": 44,
   "metadata": {},
   "outputs": [
    {
     "data": {
      "text/plain": [
       "category                                   2097\n",
       "bathrooms                                  2097\n",
       "bedrooms                                   2097\n",
       "has_photo                                  2097\n",
       "price                                      2097\n",
       "square_feet                                2097\n",
       "category_housing/rent                      2097\n",
       "category_housing/rent/apartment            2097\n",
       "category_housing/rent/commercial/retail    2097\n",
       "has_photo_No                               2097\n",
       "has_photo_Thumbnail                        2097\n",
       "has_photo_Yes                              2097\n",
       "dtype: int64"
      ]
     },
     "execution_count": 44,
     "metadata": {},
     "output_type": "execute_result"
    }
   ],
   "source": [
    "df_after_one_hot.isnull().sum()"
   ]
  },
  {
   "cell_type": "code",
   "execution_count": 45,
   "metadata": {},
   "outputs": [],
   "source": [
    "df_after_one_hot = df_after_one_hot.drop(['category', 'has_photo'], axis = 1)"
   ]
  },
  {
   "cell_type": "code",
   "execution_count": 46,
   "metadata": {},
   "outputs": [],
   "source": [
    "df_after_one_hot.dropna(inplace=True)"
   ]
  },
  {
   "cell_type": "code",
   "execution_count": 47,
   "metadata": {},
   "outputs": [],
   "source": [
    "df = df_after_one_hot"
   ]
  },
  {
   "cell_type": "code",
   "execution_count": 48,
   "metadata": {},
   "outputs": [
    {
     "data": {
      "text/html": [
       "<div>\n",
       "<style scoped>\n",
       "    .dataframe tbody tr th:only-of-type {\n",
       "        vertical-align: middle;\n",
       "    }\n",
       "\n",
       "    .dataframe tbody tr th {\n",
       "        vertical-align: top;\n",
       "    }\n",
       "\n",
       "    .dataframe thead th {\n",
       "        text-align: right;\n",
       "    }\n",
       "</style>\n",
       "<table border=\"1\" class=\"dataframe\">\n",
       "  <thead>\n",
       "    <tr style=\"text-align: right;\">\n",
       "      <th></th>\n",
       "      <th>bathrooms</th>\n",
       "      <th>bedrooms</th>\n",
       "      <th>price</th>\n",
       "      <th>square_feet</th>\n",
       "      <th>category_housing/rent</th>\n",
       "      <th>category_housing/rent/apartment</th>\n",
       "      <th>category_housing/rent/commercial/retail</th>\n",
       "      <th>has_photo_No</th>\n",
       "      <th>has_photo_Thumbnail</th>\n",
       "      <th>has_photo_Yes</th>\n",
       "    </tr>\n",
       "  </thead>\n",
       "  <tbody>\n",
       "    <tr>\n",
       "      <th>0</th>\n",
       "      <td>1.0</td>\n",
       "      <td>1.0</td>\n",
       "      <td>2195.0</td>\n",
       "      <td>542.0</td>\n",
       "      <td>0.0</td>\n",
       "      <td>1.0</td>\n",
       "      <td>0.0</td>\n",
       "      <td>0.0</td>\n",
       "      <td>1.0</td>\n",
       "      <td>0.0</td>\n",
       "    </tr>\n",
       "    <tr>\n",
       "      <th>1</th>\n",
       "      <td>1.5</td>\n",
       "      <td>3.0</td>\n",
       "      <td>1250.0</td>\n",
       "      <td>1500.0</td>\n",
       "      <td>0.0</td>\n",
       "      <td>1.0</td>\n",
       "      <td>0.0</td>\n",
       "      <td>0.0</td>\n",
       "      <td>1.0</td>\n",
       "      <td>0.0</td>\n",
       "    </tr>\n",
       "    <tr>\n",
       "      <th>2</th>\n",
       "      <td>2.0</td>\n",
       "      <td>3.0</td>\n",
       "      <td>1395.0</td>\n",
       "      <td>1650.0</td>\n",
       "      <td>0.0</td>\n",
       "      <td>1.0</td>\n",
       "      <td>0.0</td>\n",
       "      <td>0.0</td>\n",
       "      <td>1.0</td>\n",
       "      <td>0.0</td>\n",
       "    </tr>\n",
       "    <tr>\n",
       "      <th>3</th>\n",
       "      <td>1.0</td>\n",
       "      <td>2.0</td>\n",
       "      <td>1600.0</td>\n",
       "      <td>820.0</td>\n",
       "      <td>0.0</td>\n",
       "      <td>1.0</td>\n",
       "      <td>0.0</td>\n",
       "      <td>0.0</td>\n",
       "      <td>1.0</td>\n",
       "      <td>0.0</td>\n",
       "    </tr>\n",
       "    <tr>\n",
       "      <th>4</th>\n",
       "      <td>1.0</td>\n",
       "      <td>1.0</td>\n",
       "      <td>975.0</td>\n",
       "      <td>624.0</td>\n",
       "      <td>0.0</td>\n",
       "      <td>1.0</td>\n",
       "      <td>0.0</td>\n",
       "      <td>0.0</td>\n",
       "      <td>1.0</td>\n",
       "      <td>0.0</td>\n",
       "    </tr>\n",
       "  </tbody>\n",
       "</table>\n",
       "</div>"
      ],
      "text/plain": [
       "   bathrooms  bedrooms   price  square_feet  category_housing/rent  \\\n",
       "0        1.0       1.0  2195.0        542.0                    0.0   \n",
       "1        1.5       3.0  1250.0       1500.0                    0.0   \n",
       "2        2.0       3.0  1395.0       1650.0                    0.0   \n",
       "3        1.0       2.0  1600.0        820.0                    0.0   \n",
       "4        1.0       1.0   975.0        624.0                    0.0   \n",
       "\n",
       "   category_housing/rent/apartment  category_housing/rent/commercial/retail  \\\n",
       "0                              1.0                                      0.0   \n",
       "1                              1.0                                      0.0   \n",
       "2                              1.0                                      0.0   \n",
       "3                              1.0                                      0.0   \n",
       "4                              1.0                                      0.0   \n",
       "\n",
       "   has_photo_No  has_photo_Thumbnail  has_photo_Yes  \n",
       "0           0.0                  1.0            0.0  \n",
       "1           0.0                  1.0            0.0  \n",
       "2           0.0                  1.0            0.0  \n",
       "3           0.0                  1.0            0.0  \n",
       "4           0.0                  1.0            0.0  "
      ]
     },
     "execution_count": 48,
     "metadata": {},
     "output_type": "execute_result"
    }
   ],
   "source": [
    "df.head()"
   ]
  },
  {
   "cell_type": "code",
   "execution_count": 49,
   "metadata": {},
   "outputs": [],
   "source": [
    "from sklearn.preprocessing import StandardScaler\n",
    "\n",
    "stanscale = StandardScaler()"
   ]
  },
  {
   "cell_type": "code",
   "execution_count": 50,
   "metadata": {},
   "outputs": [],
   "source": [
    "scaled_df = stanscale.fit_transform(df)\n",
    "\n",
    "scaled_df = pd.DataFrame(scaled_df, columns = df.columns)"
   ]
  },
  {
   "cell_type": "code",
   "execution_count": 51,
   "metadata": {},
   "outputs": [],
   "source": [
    "x = scaled_df.drop(['price'], axis = 1)\n",
    "\n",
    "y = scaled_df['price']"
   ]
  },
  {
   "cell_type": "code",
   "execution_count": 52,
   "metadata": {},
   "outputs": [],
   "source": [
    "x_train, x_test, y_train, y_test = train_test_split(x, y, test_size=.20, random_state=7)"
   ]
  },
  {
   "cell_type": "code",
   "execution_count": 53,
   "metadata": {},
   "outputs": [
    {
     "name": "stdout",
     "output_type": "stream",
     "text": [
      "(76236, 9) (76236,)\n"
     ]
    }
   ],
   "source": [
    "print(x_train.shape, y_train.shape)"
   ]
  },
  {
   "cell_type": "code",
   "execution_count": 54,
   "metadata": {},
   "outputs": [],
   "source": [
    "base_lr = LinearRegression()\n",
    "\n",
    "base_lr.fit(x_train, y_train)\n",
    "\n",
    "predictions = base_lr.predict(x_test)\n",
    "\n",
    "r_square_base_lr = r2_score(y_test, predictions)\n",
    "\n",
    "rmse_base_lr = mean_squared_error(y_test, predictions, squared=True)\n"
   ]
  },
  {
   "cell_type": "code",
   "execution_count": 55,
   "metadata": {},
   "outputs": [
    {
     "name": "stdout",
     "output_type": "stream",
     "text": [
      "r_squared for baseline linear regression: 0.21267259242800196 \n",
      " root mean squared error for baseline linear regression: 1.0143366713522812\n"
     ]
    }
   ],
   "source": [
    "print('r_squared for baseline linear regression: {}'.format(r_square_base_lr), '\\n', 'root mean squared error for baseline linear regression: {}'.format(rmse_base_lr))"
   ]
  },
  {
   "cell_type": "code",
   "execution_count": 56,
   "metadata": {},
   "outputs": [],
   "source": [
    "predictions2 = base_lr.predict(x_train)\n",
    "\n",
    "r_square_base_lr2 = r2_score(y_train, predictions2)\n",
    "\n",
    "rmse_base_lr2 = mean_squared_error(y_train, predictions2, squared=True)\n"
   ]
  },
  {
   "cell_type": "code",
   "execution_count": 57,
   "metadata": {},
   "outputs": [
    {
     "name": "stdout",
     "output_type": "stream",
     "text": [
      "r_squared for baseline linear regression: 0.17876608686803164 \n",
      " root mean squared error for baseline linear regression: 0.7620247949571843\n"
     ]
    }
   ],
   "source": [
    "print('r_squared for baseline linear regression: {}'.format(r_square_base_lr2), '\\n', 'root mean squared error for baseline linear regression: {}'.format(rmse_base_lr2))"
   ]
  },
  {
   "cell_type": "code",
   "execution_count": 58,
   "metadata": {},
   "outputs": [],
   "source": [
    "base_lasso = LassoCV()\n",
    "\n",
    "base_lasso.fit(x_train, y_train)\n",
    "\n",
    "predict_base_lasso_train = base_lasso.predict(x_train)\n",
    "\n",
    "r_square_base_lasso_train = r2_score(y_train, predict_base_lasso_train)\n",
    "\n",
    "rmse_base_lasso_train = mean_squared_error(y_train, predict_base_lasso_train, squared=True)"
   ]
  },
  {
   "cell_type": "code",
   "execution_count": 59,
   "metadata": {},
   "outputs": [
    {
     "name": "stdout",
     "output_type": "stream",
     "text": [
      "r_squared for baseline lasso linear regression: 0.1787732382808399 \n",
      " root mean squared error for baseline lasso linear regression: 0.7620181591451559\n"
     ]
    }
   ],
   "source": [
    "print('r_squared for baseline lasso linear regression: {}'.format(r_square_base_lasso_train), '\\n', 'root mean squared error for baseline lasso linear regression: {}'.format(rmse_base_lasso_train))"
   ]
  },
  {
   "cell_type": "code",
   "execution_count": 60,
   "metadata": {},
   "outputs": [],
   "source": [
    "predict_base_lasso_test = base_lasso.predict(x_test)\n",
    "\n",
    "r_square_base_lasso_test = r2_score(y_test, predict_base_lasso_test)\n",
    "\n",
    "rmse_base_lasso_test = mean_squared_error(y_test, predict_base_lasso_test, squared=True)"
   ]
  },
  {
   "cell_type": "code",
   "execution_count": 61,
   "metadata": {},
   "outputs": [
    {
     "name": "stdout",
     "output_type": "stream",
     "text": [
      "r_squared for baseline lasso linear regression: 0.2124280055030039 \n",
      " root mean squared error for baseline lasso linear regression: 1.0146517797620391\n"
     ]
    }
   ],
   "source": [
    "print('r_squared for baseline lasso linear regression: {}'.format(r_square_base_lasso_test), '\\n', 'root mean squared error for baseline lasso linear regression: {}'.format(rmse_base_lasso_test))"
   ]
  },
  {
   "cell_type": "code",
   "execution_count": 62,
   "metadata": {},
   "outputs": [],
   "source": [
    "base_rf = RandomForestRegressor()\n",
    "\n",
    "base_rf.fit(x_train, y_train)\n",
    "\n",
    "base_rf_predict_train = base_rf.predict(x_train)\n",
    "\n",
    "r_square_base_rf_train = r2_score(y_train, base_rf_predict_train)\n",
    "\n",
    "rmse_base_rf_train = mean_squared_error(y_train, base_rf_predict_train, squared=True)"
   ]
  },
  {
   "cell_type": "code",
   "execution_count": 63,
   "metadata": {},
   "outputs": [
    {
     "name": "stdout",
     "output_type": "stream",
     "text": [
      "r_squared for baseline random forest; 0.5264724931220086 \n",
      " root mean squared error for baseline random forest: 0.43938723859946455\n"
     ]
    }
   ],
   "source": [
    "print('r_squared for baseline random forest; {}'.format(r_square_base_rf_train), '\\n', 'root mean squared error for baseline random forest: {}'.format(rmse_base_rf_train))"
   ]
  },
  {
   "cell_type": "code",
   "execution_count": 65,
   "metadata": {},
   "outputs": [],
   "source": [
    "base_rf_predict_test = base_rf.predict(x_test)\n",
    "\n",
    "r_square_base_rf_test = r2_score(y_test, base_rf_predict_test)\n",
    "\n",
    "rmse_base_rf_test = mean_squared_error(y_test, base_rf_predict_test, squared=True)"
   ]
  },
  {
   "cell_type": "code",
   "execution_count": 66,
   "metadata": {},
   "outputs": [
    {
     "name": "stdout",
     "output_type": "stream",
     "text": [
      "r_squared for baseline random forest; 0.2621667351196403 \n",
      " root mean squared error for baseline random forest: 0.9505719357842763\n"
     ]
    }
   ],
   "source": [
    "print('r_squared for baseline random forest; {}'.format(r_square_base_rf_test), '\\n', 'root mean squared error for baseline random forest: {}'.format(rmse_base_rf_test))"
   ]
  },
  {
   "cell_type": "code",
   "execution_count": 67,
   "metadata": {},
   "outputs": [
    {
     "name": "stdout",
     "output_type": "stream",
     "text": [
      "grid search best score: -0.8586973627626554 \n",
      " grid search best parameters: RandomForestRegressor(max_depth=8, n_estimators=250)\n"
     ]
    }
   ],
   "source": [
    "param_grid = {'n_estimators': [100,250, 500], 'max_depth': [2,4,6,8,10,12]}\n",
    "clf_rf_train = GridSearchCV(estimator=RandomForestRegressor(), param_grid=param_grid, cv = 5, scoring= 'neg_root_mean_squared_error')\n",
    "\n",
    "clf_rf_train.fit(x_train, y_train)\n",
    "\n",
    "print(\"grid search best score: {}\".format(clf_rf_train.best_score_), '\\n', \"grid search best parameters: {}\".format(clf_rf_train.best_estimator_))"
   ]
  },
  {
   "cell_type": "code",
   "execution_count": 68,
   "metadata": {},
   "outputs": [],
   "source": [
    "ag_rf = RandomForestRegressor(n_estimators=250, max_depth=8)\n",
    "\n",
    "ag_rf.fit(x_train, y_train)\n",
    "\n",
    "ag_rf_predict = ag_rf.predict(x_test)\n",
    "\n",
    "r_square_ag_rf = r2_score(y_test, ag_rf_predict)\n",
    "\n",
    "rmse_ag_rf = mean_squared_error(y_test, ag_rf_predict)"
   ]
  },
  {
   "cell_type": "code",
   "execution_count": 69,
   "metadata": {},
   "outputs": [
    {
     "name": "stdout",
     "output_type": "stream",
     "text": [
      "r_squared for after grid search random forest: 0.31023351020501766 \n",
      " rmse for after grid search random forest: 0.8886461191877266\n"
     ]
    }
   ],
   "source": [
    "print(\"r_squared for after grid search random forest: {}\".format(r_square_ag_rf), '\\n', \"rmse for after grid search random forest: {}\".format(rmse_ag_rf))"
   ]
  },
  {
   "cell_type": "code",
   "execution_count": 72,
   "metadata": {},
   "outputs": [
    {
     "name": "stdout",
     "output_type": "stream",
     "text": [
      "Model: \"sequential_2\"\n",
      "_________________________________________________________________\n",
      " Layer (type)                Output Shape              Param #   \n",
      "=================================================================\n",
      " dense_2 (Dense)             (None, 25)                250       \n",
      "                                                                 \n",
      " dense_3 (Dense)             (None, 10)                260       \n"
     ]
    },
    {
     "name": "stdout",
     "output_type": "stream",
     "text": [
      "                                                                 \n",
      " dense_4 (Dense)             (None, 1)                 11        \n",
      "                                                                 \n",
      "=================================================================\n",
      "Total params: 521 (2.04 KB)\n",
      "Trainable params: 521 (2.04 KB)\n",
      "Non-trainable params: 0 (0.00 Byte)\n",
      "_________________________________________________________________\n"
     ]
    }
   ],
   "source": [
    "nn_model_1 = Sequential()\n",
    "\n",
    "n_features = 9 \n",
    "nn_model_1.add(Dense(25, input_shape = (9,), activation = 'relu'))\n",
    "nn_model_1.add(Dense(10, activation = 'relu'))\n",
    "nn_model_1.add(Dense(1))\n",
    "\n",
    "nn_model_1.summary()"
   ]
  },
  {
   "cell_type": "code",
   "execution_count": 76,
   "metadata": {},
   "outputs": [],
   "source": [
    "nn_model_1.compile(optimizer='adam', loss = 'mean_squared_error', metrics=[tf.keras.metrics.RootMeanSquaredError()])"
   ]
  },
  {
   "cell_type": "code",
   "execution_count": 77,
   "metadata": {},
   "outputs": [
    {
     "name": "stdout",
     "output_type": "stream",
     "text": [
      "Epoch 1/50\n"
     ]
    },
    {
     "name": "stdout",
     "output_type": "stream",
     "text": [
      "2383/2383 [==============================] - 2s 464us/step - loss: 0.7885 - root_mean_squared_error: 0.8880\n",
      "Epoch 2/50\n",
      "2383/2383 [==============================] - 1s 415us/step - loss: 0.7470 - root_mean_squared_error: 0.8643\n",
      "Epoch 3/50\n",
      "2383/2383 [==============================] - 1s 415us/step - loss: 0.7485 - root_mean_squared_error: 0.8652\n",
      "Epoch 4/50\n",
      "2383/2383 [==============================] - 1s 432us/step - loss: 0.7396 - root_mean_squared_error: 0.8600\n",
      "Epoch 5/50\n",
      "2383/2383 [==============================] - 1s 414us/step - loss: 0.7413 - root_mean_squared_error: 0.8610\n",
      "Epoch 6/50\n",
      "2383/2383 [==============================] - 1s 420us/step - loss: 0.7381 - root_mean_squared_error: 0.8591\n",
      "Epoch 7/50\n",
      "2383/2383 [==============================] - 1s 439us/step - loss: 0.7335 - root_mean_squared_error: 0.8565\n",
      "Epoch 8/50\n",
      "2383/2383 [==============================] - 1s 434us/step - loss: 0.7344 - root_mean_squared_error: 0.8570\n",
      "Epoch 9/50\n",
      "2383/2383 [==============================] - 1s 420us/step - loss: 0.7323 - root_mean_squared_error: 0.8557\n",
      "Epoch 10/50\n",
      "2383/2383 [==============================] - 1s 421us/step - loss: 0.7317 - root_mean_squared_error: 0.8554\n",
      "Epoch 11/50\n",
      "2383/2383 [==============================] - 1s 435us/step - loss: 0.7302 - root_mean_squared_error: 0.8545\n",
      "Epoch 12/50\n",
      "2383/2383 [==============================] - 1s 417us/step - loss: 0.7299 - root_mean_squared_error: 0.8543\n",
      "Epoch 13/50\n",
      "2383/2383 [==============================] - 1s 421us/step - loss: 0.7262 - root_mean_squared_error: 0.8522\n",
      "Epoch 14/50\n",
      "2383/2383 [==============================] - 1s 418us/step - loss: 0.7268 - root_mean_squared_error: 0.8525\n",
      "Epoch 15/50\n",
      "2383/2383 [==============================] - 1s 413us/step - loss: 0.7294 - root_mean_squared_error: 0.8540\n",
      "Epoch 16/50\n",
      "2383/2383 [==============================] - 1s 418us/step - loss: 0.7246 - root_mean_squared_error: 0.8512\n",
      "Epoch 17/50\n",
      "2383/2383 [==============================] - 1s 413us/step - loss: 0.7268 - root_mean_squared_error: 0.8526\n",
      "Epoch 18/50\n",
      "2383/2383 [==============================] - 1s 421us/step - loss: 0.7244 - root_mean_squared_error: 0.8511\n",
      "Epoch 19/50\n",
      "2383/2383 [==============================] - 1s 421us/step - loss: 0.7239 - root_mean_squared_error: 0.8508\n",
      "Epoch 20/50\n",
      "2383/2383 [==============================] - 1s 419us/step - loss: 0.7216 - root_mean_squared_error: 0.8495\n",
      "Epoch 21/50\n",
      "2383/2383 [==============================] - 1s 420us/step - loss: 0.7226 - root_mean_squared_error: 0.8501\n",
      "Epoch 22/50\n",
      "2383/2383 [==============================] - 1s 419us/step - loss: 0.7217 - root_mean_squared_error: 0.8495\n",
      "Epoch 23/50\n",
      "2383/2383 [==============================] - 1s 441us/step - loss: 0.7205 - root_mean_squared_error: 0.8488\n",
      "Epoch 24/50\n",
      "2383/2383 [==============================] - 1s 419us/step - loss: 0.7212 - root_mean_squared_error: 0.8493\n",
      "Epoch 25/50\n",
      "2383/2383 [==============================] - 1s 427us/step - loss: 0.7183 - root_mean_squared_error: 0.8475\n",
      "Epoch 26/50\n",
      "2383/2383 [==============================] - 1s 432us/step - loss: 0.7184 - root_mean_squared_error: 0.8476\n",
      "Epoch 27/50\n",
      "2383/2383 [==============================] - 1s 423us/step - loss: 0.7185 - root_mean_squared_error: 0.8477\n",
      "Epoch 28/50\n",
      "2383/2383 [==============================] - 1s 423us/step - loss: 0.7177 - root_mean_squared_error: 0.8472\n",
      "Epoch 29/50\n",
      "2383/2383 [==============================] - 1s 419us/step - loss: 0.7170 - root_mean_squared_error: 0.8468\n",
      "Epoch 30/50\n",
      "2383/2383 [==============================] - 1s 421us/step - loss: 0.7141 - root_mean_squared_error: 0.8450\n",
      "Epoch 31/50\n",
      "2383/2383 [==============================] - 1s 434us/step - loss: 0.7168 - root_mean_squared_error: 0.8467\n",
      "Epoch 32/50\n",
      "2383/2383 [==============================] - 1s 430us/step - loss: 0.7136 - root_mean_squared_error: 0.8447\n",
      "Epoch 33/50\n",
      "2383/2383 [==============================] - 1s 422us/step - loss: 0.7154 - root_mean_squared_error: 0.8458\n",
      "Epoch 34/50\n",
      "2383/2383 [==============================] - 1s 426us/step - loss: 0.7145 - root_mean_squared_error: 0.8453\n",
      "Epoch 35/50\n",
      "2383/2383 [==============================] - 1s 425us/step - loss: 0.7134 - root_mean_squared_error: 0.8446\n",
      "Epoch 36/50\n",
      "2383/2383 [==============================] - 1s 418us/step - loss: 0.7134 - root_mean_squared_error: 0.8447\n",
      "Epoch 37/50\n",
      "2383/2383 [==============================] - 1s 427us/step - loss: 0.7161 - root_mean_squared_error: 0.8462\n",
      "Epoch 38/50\n",
      "2383/2383 [==============================] - 1s 436us/step - loss: 0.7146 - root_mean_squared_error: 0.8454\n",
      "Epoch 39/50\n",
      "2383/2383 [==============================] - 1s 469us/step - loss: 0.7143 - root_mean_squared_error: 0.8452\n",
      "Epoch 40/50\n",
      "2383/2383 [==============================] - 1s 480us/step - loss: 0.7113 - root_mean_squared_error: 0.8434\n",
      "Epoch 41/50\n",
      "2383/2383 [==============================] - 1s 556us/step - loss: 0.7114 - root_mean_squared_error: 0.8435\n",
      "Epoch 42/50\n",
      "2383/2383 [==============================] - 1s 475us/step - loss: 0.7104 - root_mean_squared_error: 0.8429\n",
      "Epoch 43/50\n",
      "2383/2383 [==============================] - 1s 431us/step - loss: 0.7128 - root_mean_squared_error: 0.8443\n",
      "Epoch 44/50\n",
      "2383/2383 [==============================] - 1s 427us/step - loss: 0.7124 - root_mean_squared_error: 0.8441\n",
      "Epoch 45/50\n",
      "2383/2383 [==============================] - 1s 435us/step - loss: 0.7130 - root_mean_squared_error: 0.8444\n",
      "Epoch 46/50\n",
      "2383/2383 [==============================] - 1s 417us/step - loss: 0.7110 - root_mean_squared_error: 0.8432\n",
      "Epoch 47/50\n",
      "2383/2383 [==============================] - 1s 427us/step - loss: 0.7114 - root_mean_squared_error: 0.8434\n",
      "Epoch 48/50\n",
      "2383/2383 [==============================] - 1s 422us/step - loss: 0.7107 - root_mean_squared_error: 0.8430\n",
      "Epoch 49/50\n",
      "2383/2383 [==============================] - 1s 424us/step - loss: 0.7112 - root_mean_squared_error: 0.8433\n",
      "Epoch 50/50\n",
      "2383/2383 [==============================] - 1s 425us/step - loss: 0.7103 - root_mean_squared_error: 0.8428\n"
     ]
    },
    {
     "data": {
      "text/plain": [
       "<keras.src.callbacks.History at 0x19f688377c0>"
      ]
     },
     "execution_count": 77,
     "metadata": {},
     "output_type": "execute_result"
    }
   ],
   "source": [
    "nn_model_1.fit(x_train, y_train, epochs=50)"
   ]
  },
  {
   "cell_type": "code",
   "execution_count": 78,
   "metadata": {},
   "outputs": [
    {
     "name": "stdout",
     "output_type": "stream",
     "text": [
      "596/596 [==============================] - 0s 344us/step\n"
     ]
    }
   ],
   "source": [
    "nn_1_predict = nn_model_1.predict(x_test)\n",
    "\n",
    "r_square_nn_1 = r2_score(y_test, nn_1_predict)\n",
    "\n",
    "rmse_nn_1 = mean_squared_error(y_test, nn_1_predict)"
   ]
  },
  {
   "cell_type": "code",
   "execution_count": 80,
   "metadata": {},
   "outputs": [
    {
     "name": "stdout",
     "output_type": "stream",
     "text": [
      "r square for neural network 1: 0.32660498890183076 \n",
      " rmse for neural network 1: 0.8675542696639673\n"
     ]
    }
   ],
   "source": [
    "print(\"r square for neural network 1: {}\".format(r_square_nn_1), '\\n', \"rmse for neural network 1: {}\".format(rmse_nn_1))"
   ]
  },
  {
   "cell_type": "code",
   "execution_count": 81,
   "metadata": {},
   "outputs": [
    {
     "name": "stdout",
     "output_type": "stream",
     "text": [
      "Model: \"sequential_3\"\n",
      "_________________________________________________________________\n",
      " Layer (type)                Output Shape              Param #   \n",
      "=================================================================\n",
      " dense_5 (Dense)             (None, 30)                300       \n",
      "                                                                 \n",
      " dense_6 (Dense)             (None, 15)                465       \n",
      "                                                                 \n",
      " dense_7 (Dense)             (None, 10)                160       \n",
      "                                                                 \n",
      " dense_8 (Dense)             (None, 1)                 11        \n",
      "                                                                 \n",
      "=================================================================\n",
      "Total params: 936 (3.66 KB)\n",
      "Trainable params: 936 (3.66 KB)\n",
      "Non-trainable params: 0 (0.00 Byte)\n",
      "_________________________________________________________________\n"
     ]
    }
   ],
   "source": [
    "nn_model_2 = Sequential()\n",
    "\n",
    "n_features = 9 \n",
    "nn_model_2.add(Dense(30, input_shape = (9,), activation = 'relu'))\n",
    "nn_model_2.add(Dense(15, activation = 'relu'))\n",
    "nn_model_2.add(Dense(10, activation = 'relu'))\n",
    "nn_model_2.add(Dense(1))\n",
    "\n",
    "nn_model_2.summary()"
   ]
  },
  {
   "cell_type": "code",
   "execution_count": 82,
   "metadata": {},
   "outputs": [
    {
     "name": "stdout",
     "output_type": "stream",
     "text": [
      "Epoch 1/50\n",
      "2383/2383 [==============================] - 1s 486us/step - loss: 0.7697 - root_mean_squared_error: 0.8773\n",
      "Epoch 2/50\n",
      "2383/2383 [==============================] - 1s 465us/step - loss: 0.7419 - root_mean_squared_error: 0.8613\n",
      "Epoch 3/50\n",
      "2383/2383 [==============================] - 1s 473us/step - loss: 0.7396 - root_mean_squared_error: 0.8600\n",
      "Epoch 4/50\n",
      "2383/2383 [==============================] - 1s 468us/step - loss: 0.7367 - root_mean_squared_error: 0.8583\n",
      "Epoch 5/50\n",
      "2383/2383 [==============================] - 1s 489us/step - loss: 0.7322 - root_mean_squared_error: 0.8557\n",
      "Epoch 6/50\n",
      "2383/2383 [==============================] - 1s 546us/step - loss: 0.7307 - root_mean_squared_error: 0.8548\n",
      "Epoch 7/50\n",
      "2383/2383 [==============================] - 1s 482us/step - loss: 0.7322 - root_mean_squared_error: 0.8557\n",
      "Epoch 8/50\n",
      "2383/2383 [==============================] - 1s 524us/step - loss: 0.7334 - root_mean_squared_error: 0.8564\n",
      "Epoch 9/50\n",
      "2383/2383 [==============================] - 1s 467us/step - loss: 0.7282 - root_mean_squared_error: 0.8533\n",
      "Epoch 10/50\n",
      "2383/2383 [==============================] - 1s 499us/step - loss: 0.7252 - root_mean_squared_error: 0.8516\n",
      "Epoch 11/50\n",
      "2383/2383 [==============================] - 1s 497us/step - loss: 0.7265 - root_mean_squared_error: 0.8524\n",
      "Epoch 12/50\n",
      "2383/2383 [==============================] - 1s 496us/step - loss: 0.7240 - root_mean_squared_error: 0.8509\n",
      "Epoch 13/50\n",
      "2383/2383 [==============================] - 1s 487us/step - loss: 0.7238 - root_mean_squared_error: 0.8508\n",
      "Epoch 14/50\n",
      "2383/2383 [==============================] - 1s 501us/step - loss: 0.7227 - root_mean_squared_error: 0.8501\n",
      "Epoch 15/50\n",
      "2383/2383 [==============================] - 1s 479us/step - loss: 0.7192 - root_mean_squared_error: 0.8480\n",
      "Epoch 16/50\n",
      "2383/2383 [==============================] - 1s 487us/step - loss: 0.7215 - root_mean_squared_error: 0.8494\n",
      "Epoch 17/50\n",
      "2383/2383 [==============================] - 1s 511us/step - loss: 0.7181 - root_mean_squared_error: 0.8474\n",
      "Epoch 18/50\n",
      "2383/2383 [==============================] - 1s 469us/step - loss: 0.7171 - root_mean_squared_error: 0.8468\n",
      "Epoch 19/50\n",
      "2383/2383 [==============================] - 1s 494us/step - loss: 0.7132 - root_mean_squared_error: 0.8445\n",
      "Epoch 20/50\n",
      "2383/2383 [==============================] - 1s 476us/step - loss: 0.7128 - root_mean_squared_error: 0.8443\n",
      "Epoch 21/50\n",
      "2383/2383 [==============================] - 1s 433us/step - loss: 0.7190 - root_mean_squared_error: 0.8479\n",
      "Epoch 22/50\n",
      "2383/2383 [==============================] - 1s 449us/step - loss: 0.7067 - root_mean_squared_error: 0.8406\n",
      "Epoch 23/50\n",
      "2383/2383 [==============================] - 1s 447us/step - loss: 0.7183 - root_mean_squared_error: 0.8475\n",
      "Epoch 24/50\n",
      "2383/2383 [==============================] - 1s 516us/step - loss: 0.7166 - root_mean_squared_error: 0.8465\n",
      "Epoch 25/50\n",
      "2383/2383 [==============================] - 1s 501us/step - loss: 0.7091 - root_mean_squared_error: 0.8421\n",
      "Epoch 26/50\n",
      "2383/2383 [==============================] - 1s 546us/step - loss: 0.7144 - root_mean_squared_error: 0.8452\n",
      "Epoch 27/50\n",
      "2383/2383 [==============================] - 1s 496us/step - loss: 0.7112 - root_mean_squared_error: 0.8433\n",
      "Epoch 28/50\n",
      "2383/2383 [==============================] - 1s 542us/step - loss: 0.7087 - root_mean_squared_error: 0.8419\n",
      "Epoch 29/50\n",
      "2383/2383 [==============================] - 1s 529us/step - loss: 0.7056 - root_mean_squared_error: 0.8400\n",
      "Epoch 30/50\n",
      "2383/2383 [==============================] - 1s 527us/step - loss: 0.7095 - root_mean_squared_error: 0.8423\n",
      "Epoch 31/50\n",
      "2383/2383 [==============================] - 1s 486us/step - loss: 0.7104 - root_mean_squared_error: 0.8429\n",
      "Epoch 32/50\n",
      "2383/2383 [==============================] - 1s 488us/step - loss: 0.7161 - root_mean_squared_error: 0.8462\n",
      "Epoch 33/50\n",
      "2383/2383 [==============================] - 1s 502us/step - loss: 0.7111 - root_mean_squared_error: 0.8432\n",
      "Epoch 34/50\n",
      "2383/2383 [==============================] - 1s 481us/step - loss: 0.7057 - root_mean_squared_error: 0.8401\n",
      "Epoch 35/50\n",
      "2383/2383 [==============================] - 1s 466us/step - loss: 0.7067 - root_mean_squared_error: 0.8406\n",
      "Epoch 36/50\n",
      "2383/2383 [==============================] - 1s 503us/step - loss: 0.7126 - root_mean_squared_error: 0.8442\n",
      "Epoch 37/50\n",
      "2383/2383 [==============================] - 1s 492us/step - loss: 0.7109 - root_mean_squared_error: 0.8431\n",
      "Epoch 38/50\n",
      "2383/2383 [==============================] - 1s 485us/step - loss: 0.7057 - root_mean_squared_error: 0.8401\n",
      "Epoch 39/50\n",
      "2383/2383 [==============================] - 1s 518us/step - loss: 0.7072 - root_mean_squared_error: 0.8409\n",
      "Epoch 40/50\n",
      "2383/2383 [==============================] - 1s 491us/step - loss: 0.7008 - root_mean_squared_error: 0.8371\n",
      "Epoch 41/50\n",
      "2383/2383 [==============================] - 1s 473us/step - loss: 0.7100 - root_mean_squared_error: 0.8426\n",
      "Epoch 42/50\n",
      "2383/2383 [==============================] - 1s 478us/step - loss: 0.6964 - root_mean_squared_error: 0.8345\n",
      "Epoch 43/50\n",
      "2383/2383 [==============================] - 1s 531us/step - loss: 0.7037 - root_mean_squared_error: 0.8389\n",
      "Epoch 44/50\n",
      "2383/2383 [==============================] - 1s 476us/step - loss: 0.6999 - root_mean_squared_error: 0.8366\n",
      "Epoch 45/50\n",
      "2383/2383 [==============================] - 1s 480us/step - loss: 0.7068 - root_mean_squared_error: 0.8407\n",
      "Epoch 46/50\n",
      "2383/2383 [==============================] - 1s 526us/step - loss: 0.7070 - root_mean_squared_error: 0.8408\n",
      "Epoch 47/50\n",
      "2383/2383 [==============================] - 1s 534us/step - loss: 0.7015 - root_mean_squared_error: 0.8376\n",
      "Epoch 48/50\n",
      "2383/2383 [==============================] - 1s 522us/step - loss: 0.6950 - root_mean_squared_error: 0.8337\n",
      "Epoch 49/50\n",
      "2383/2383 [==============================] - 1s 543us/step - loss: 0.6976 - root_mean_squared_error: 0.8352\n",
      "Epoch 50/50\n",
      "2383/2383 [==============================] - 1s 477us/step - loss: 0.7033 - root_mean_squared_error: 0.8386\n"
     ]
    },
    {
     "data": {
      "text/plain": [
       "<keras.src.callbacks.History at 0x19f9ea52ec0>"
      ]
     },
     "execution_count": 82,
     "metadata": {},
     "output_type": "execute_result"
    }
   ],
   "source": [
    "nn_model_2.compile(optimizer='adam', loss = 'mean_squared_error', metrics=[tf.keras.metrics.RootMeanSquaredError()])\n",
    "\n",
    "nn_model_2.fit(x_train, y_train, epochs=50)"
   ]
  },
  {
   "cell_type": "code",
   "execution_count": 84,
   "metadata": {},
   "outputs": [
    {
     "name": "stdout",
     "output_type": "stream",
     "text": [
      "596/596 [==============================] - 0s 331us/step\n",
      "r square for neural network 2: 0.3328350892519708 \n",
      " rmse for neural network 2: 0.8595278511872627\n"
     ]
    }
   ],
   "source": [
    "nn_2_predict = nn_model_2.predict(x_test)\n",
    "\n",
    "r_square_nn_2 = r2_score(y_test, nn_2_predict)\n",
    "\n",
    "rmse_nn_2 = mean_squared_error(y_test, nn_2_predict)\n",
    "\n",
    "print(\"r square for neural network 2: {}\".format(r_square_nn_2), '\\n', \"rmse for neural network 2: {}\".format(rmse_nn_2))"
   ]
  },
  {
   "cell_type": "code",
   "execution_count": 86,
   "metadata": {},
   "outputs": [],
   "source": [
    "from tensorflow.keras.layers import Conv1D"
   ]
  },
  {
   "cell_type": "code",
   "execution_count": 97,
   "metadata": {},
   "outputs": [
    {
     "name": "stdout",
     "output_type": "stream",
     "text": [
      "Model: \"sequential_10\"\n",
      "_________________________________________________________________\n",
      " Layer (type)                Output Shape              Param #   \n",
      "=================================================================\n",
      " dense_18 (Dense)            (None, 40)                400       \n",
      "                                                                 \n",
      " dense_19 (Dense)            (None, 20)                820       \n",
      "                                                                 \n",
      " dense_20 (Dense)            (None, 15)                315       \n",
      "                                                                 \n",
      " dense_21 (Dense)            (None, 10)                160       \n",
      "                                                                 \n",
      " dense_22 (Dense)            (None, 1)                 11        \n",
      "                                                                 \n",
      "=================================================================\n",
      "Total params: 1706 (6.66 KB)\n",
      "Trainable params: 1706 (6.66 KB)\n",
      "Non-trainable params: 0 (0.00 Byte)\n",
      "_________________________________________________________________\n"
     ]
    }
   ],
   "source": [
    "nn_model_3 = Sequential()\n",
    "n_features = 9 \n",
    "nn_model_3.add(Dense(40, input_shape = (9, ), activation = 'relu'))\n",
    "nn_model_3.add(Dense(20, activation = 'relu'))\n",
    "nn_model_3.add(Dense(15, activation = 'relu'))\n",
    "nn_model_3.add(Dense(10, activation = 'relu'))\n",
    "nn_model_3.add(Dense(1))\n",
    "\n",
    "nn_model_3.summary()"
   ]
  },
  {
   "cell_type": "code",
   "execution_count": 98,
   "metadata": {},
   "outputs": [
    {
     "name": "stdout",
     "output_type": "stream",
     "text": [
      "Epoch 1/50\n",
      "2383/2383 [==============================] - 2s 523us/step - loss: 0.7533 - root_mean_squared_error: 0.8679\n",
      "Epoch 2/50\n",
      "2383/2383 [==============================] - 1s 542us/step - loss: 0.7438 - root_mean_squared_error: 0.8624\n",
      "Epoch 3/50\n",
      "2383/2383 [==============================] - 1s 537us/step - loss: 0.7380 - root_mean_squared_error: 0.8591\n",
      "Epoch 4/50\n",
      "2383/2383 [==============================] - 1s 521us/step - loss: 0.7369 - root_mean_squared_error: 0.8584\n",
      "Epoch 5/50\n",
      "2383/2383 [==============================] - 1s 525us/step - loss: 0.7380 - root_mean_squared_error: 0.8591\n",
      "Epoch 6/50\n",
      "2383/2383 [==============================] - 1s 535us/step - loss: 0.7326 - root_mean_squared_error: 0.8559\n",
      "Epoch 7/50\n",
      "2383/2383 [==============================] - 1s 527us/step - loss: 0.7345 - root_mean_squared_error: 0.8570\n",
      "Epoch 8/50\n",
      "2383/2383 [==============================] - 1s 544us/step - loss: 0.7327 - root_mean_squared_error: 0.8560\n",
      "Epoch 9/50\n",
      "2383/2383 [==============================] - 1s 519us/step - loss: 0.7290 - root_mean_squared_error: 0.8538\n",
      "Epoch 10/50\n",
      "2383/2383 [==============================] - 1s 555us/step - loss: 0.7268 - root_mean_squared_error: 0.8525\n",
      "Epoch 11/50\n",
      "2383/2383 [==============================] - 1s 548us/step - loss: 0.7248 - root_mean_squared_error: 0.8513\n",
      "Epoch 12/50\n",
      "2383/2383 [==============================] - 1s 512us/step - loss: 0.7223 - root_mean_squared_error: 0.8499\n",
      "Epoch 13/50\n",
      "2383/2383 [==============================] - 1s 532us/step - loss: 0.7210 - root_mean_squared_error: 0.8491\n",
      "Epoch 14/50\n",
      "2383/2383 [==============================] - 1s 511us/step - loss: 0.7246 - root_mean_squared_error: 0.8513\n",
      "Epoch 15/50\n",
      "2383/2383 [==============================] - 2s 778us/step - loss: 0.7250 - root_mean_squared_error: 0.8515\n",
      "Epoch 16/50\n",
      "2383/2383 [==============================] - 2s 937us/step - loss: 0.7152 - root_mean_squared_error: 0.8457\n",
      "Epoch 17/50\n",
      "2383/2383 [==============================] - 2s 959us/step - loss: 0.7289 - root_mean_squared_error: 0.8538\n",
      "Epoch 18/50\n",
      "2383/2383 [==============================] - 2s 934us/step - loss: 0.7155 - root_mean_squared_error: 0.8459\n",
      "Epoch 19/50\n",
      "2383/2383 [==============================] - 2s 975us/step - loss: 0.7192 - root_mean_squared_error: 0.8481\n",
      "Epoch 20/50\n",
      "2383/2383 [==============================] - 2s 949us/step - loss: 0.7205 - root_mean_squared_error: 0.8488\n",
      "Epoch 21/50\n",
      "2383/2383 [==============================] - 2s 954us/step - loss: 0.7127 - root_mean_squared_error: 0.8442\n",
      "Epoch 22/50\n",
      "2383/2383 [==============================] - 2s 962us/step - loss: 0.7166 - root_mean_squared_error: 0.8465\n",
      "Epoch 23/50\n",
      "2383/2383 [==============================] - 2s 982us/step - loss: 0.7133 - root_mean_squared_error: 0.8446\n",
      "Epoch 24/50\n",
      "2383/2383 [==============================] - 2s 954us/step - loss: 0.7089 - root_mean_squared_error: 0.8419\n",
      "Epoch 25/50\n",
      "2383/2383 [==============================] - 2s 962us/step - loss: 0.7141 - root_mean_squared_error: 0.8451\n",
      "Epoch 26/50\n",
      "2383/2383 [==============================] - 2s 984us/step - loss: 0.7074 - root_mean_squared_error: 0.8411\n",
      "Epoch 27/50\n",
      "2383/2383 [==============================] - 2s 959us/step - loss: 0.7095 - root_mean_squared_error: 0.8423\n",
      "Epoch 28/50\n",
      "2383/2383 [==============================] - 2s 963us/step - loss: 0.7096 - root_mean_squared_error: 0.8424\n",
      "Epoch 29/50\n",
      "2383/2383 [==============================] - 2s 986us/step - loss: 0.7103 - root_mean_squared_error: 0.8428\n",
      "Epoch 30/50\n",
      "2383/2383 [==============================] - 2s 984us/step - loss: 0.7055 - root_mean_squared_error: 0.8399\n",
      "Epoch 31/50\n",
      "2383/2383 [==============================] - 2s 955us/step - loss: 0.7050 - root_mean_squared_error: 0.8397\n",
      "Epoch 32/50\n",
      "2383/2383 [==============================] - 2s 935us/step - loss: 0.7066 - root_mean_squared_error: 0.8406\n",
      "Epoch 33/50\n",
      "2383/2383 [==============================] - 2s 996us/step - loss: 0.7071 - root_mean_squared_error: 0.8409\n",
      "Epoch 34/50\n",
      "2383/2383 [==============================] - 2s 998us/step - loss: 0.7040 - root_mean_squared_error: 0.8390\n",
      "Epoch 35/50\n",
      "2383/2383 [==============================] - 2s 994us/step - loss: 0.7061 - root_mean_squared_error: 0.8403\n",
      "Epoch 36/50\n",
      "2383/2383 [==============================] - 2s 1ms/step - loss: 0.7046 - root_mean_squared_error: 0.8394\n",
      "Epoch 37/50\n",
      "2383/2383 [==============================] - 2s 947us/step - loss: 0.7026 - root_mean_squared_error: 0.8382\n",
      "Epoch 38/50\n",
      "2383/2383 [==============================] - 2s 947us/step - loss: 0.7082 - root_mean_squared_error: 0.8415\n",
      "Epoch 39/50\n",
      "2383/2383 [==============================] - 2s 942us/step - loss: 0.7040 - root_mean_squared_error: 0.8391\n",
      "Epoch 40/50\n",
      "2383/2383 [==============================] - 2s 979us/step - loss: 0.7113 - root_mean_squared_error: 0.8434\n",
      "Epoch 41/50\n",
      "2383/2383 [==============================] - 2s 958us/step - loss: 0.6940 - root_mean_squared_error: 0.8331\n",
      "Epoch 42/50\n",
      "2383/2383 [==============================] - 2s 974us/step - loss: 0.7040 - root_mean_squared_error: 0.8391\n",
      "Epoch 43/50\n",
      "2383/2383 [==============================] - 2s 1ms/step - loss: 0.7038 - root_mean_squared_error: 0.8389\n",
      "Epoch 44/50\n",
      "2383/2383 [==============================] - 2s 854us/step - loss: 0.6995 - root_mean_squared_error: 0.8363\n",
      "Epoch 45/50\n",
      "2383/2383 [==============================] - 1s 533us/step - loss: 0.6989 - root_mean_squared_error: 0.8360\n",
      "Epoch 46/50\n",
      "2383/2383 [==============================] - 1s 526us/step - loss: 0.6989 - root_mean_squared_error: 0.8360\n",
      "Epoch 47/50\n",
      "2383/2383 [==============================] - 1s 566us/step - loss: 0.6977 - root_mean_squared_error: 0.8353\n",
      "Epoch 48/50\n",
      "2383/2383 [==============================] - 1s 560us/step - loss: 0.6972 - root_mean_squared_error: 0.8350\n",
      "Epoch 49/50\n",
      "2383/2383 [==============================] - 1s 529us/step - loss: 0.6943 - root_mean_squared_error: 0.8332\n",
      "Epoch 50/50\n",
      "2383/2383 [==============================] - 1s 519us/step - loss: 0.6976 - root_mean_squared_error: 0.8353\n"
     ]
    },
    {
     "data": {
      "text/plain": [
       "<keras.src.callbacks.History at 0x19f67eefc10>"
      ]
     },
     "execution_count": 98,
     "metadata": {},
     "output_type": "execute_result"
    }
   ],
   "source": [
    "nn_model_3.compile(optimizer='adam', loss = 'mean_squared_error', metrics=[tf.keras.metrics.RootMeanSquaredError()])\n",
    "\n",
    "nn_model_3.fit(x_train, y_train, epochs=50)"
   ]
  },
  {
   "cell_type": "code",
   "execution_count": 99,
   "metadata": {},
   "outputs": [
    {
     "name": "stdout",
     "output_type": "stream",
     "text": [
      "596/596 [==============================] - 0s 505us/step\n",
      "r square for neural network 2: 0.3631347520088968 \n",
      " rmse for neural network 2: 0.8204919192885674\n"
     ]
    }
   ],
   "source": [
    "nn_3_predict = nn_model_3.predict(x_test)\n",
    "\n",
    "r_square_nn_3 = r2_score(y_test, nn_3_predict)\n",
    "\n",
    "rmse_nn_3 = mean_squared_error(y_test, nn_3_predict)\n",
    "\n",
    "print(\"r square for neural network 2: {}\".format(r_square_nn_3), '\\n', \"rmse for neural network 2: {}\".format(rmse_nn_3))"
   ]
  },
  {
   "cell_type": "code",
   "execution_count": 103,
   "metadata": {},
   "outputs": [
    {
     "name": "stdout",
     "output_type": "stream",
     "text": [
      "linear regression: 1.0143366713522812 \n",
      " lasso: 1.0146517797620391 \n",
      " baseline random forest: 0.9505719357842763 \n",
      " random forest after grid search: 0.8886461191877266 \n",
      " neural network 1: 0.8675542696639673 \n",
      " neural network 2: 0.8595278511872627 \n",
      " neural network 3: 0.8204919192885674\n"
     ]
    }
   ],
   "source": [
    "print(\"linear regression: {}\".format(rmse_base_lr), '\\n', \"lasso: {}\".format(rmse_base_lasso_test), '\\n', \n",
    "      \"baseline random forest: {}\".format(rmse_base_rf_test), '\\n', \"random forest after grid search: {}\".format(rmse_ag_rf), '\\n',\n",
    "      'neural network 1: {}'.format(rmse_nn_1), '\\n', 'neural network 2: {}'.format(rmse_nn_2), '\\n', 'neural network 3: {}'.format(rmse_nn_3))"
   ]
  }
 ],
 "metadata": {
  "kernelspec": {
   "display_name": "Python 3",
   "language": "python",
   "name": "python3"
  },
  "language_info": {
   "codemirror_mode": {
    "name": "ipython",
    "version": 3
   },
   "file_extension": ".py",
   "mimetype": "text/x-python",
   "name": "python",
   "nbconvert_exporter": "python",
   "pygments_lexer": "ipython3",
   "version": "3.10.8"
  }
 },
 "nbformat": 4,
 "nbformat_minor": 2
}
