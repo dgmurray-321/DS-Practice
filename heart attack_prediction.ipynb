{
 "cells": [
  {
   "cell_type": "code",
   "execution_count": 1,
   "metadata": {},
   "outputs": [],
   "source": [
    "import pandas as pd\n",
    "import matplotlib.pyplot as plt\n",
    "import seaborn as sns \n",
    "from sklearn.metrics import accuracy_score, classification_report, confusion_matrix, average_precision_score\n",
    "from xgboost import XGBClassifier\n",
    "from sklearn.linear_model import LogisticRegression, SGDClassifier\n",
    "from sklearn.ensemble import RandomForestClassifier, BaggingClassifier\n",
    "from sklearn.neighbors import KNeighborsClassifier\n",
    "from sklearn.svm import SVC\n",
    "from imblearn.over_sampling import BorderlineSMOTE, SMOTENC, RandomOverSampler\n",
    "from imblearn.ensemble import EasyEnsembleClassifier, BalancedBaggingClassifier, BalancedRandomForestClassifier\n",
    "import tensorflow \n",
    "from tensorflow.keras import Model \n",
    "from tensorflow.keras import Input\n",
    "from tensorflow.keras.layers import Dense\n",
    "from tensorflow.keras.callbacks import EarlyStopping, LearningRateScheduler, ReduceLROnPlateau\n",
    "from sklearn.model_selection import GridSearchCV\n",
    "from sklearn.preprocessing import OneHotEncoder\n",
    "from statsmodels.formula.api import ols\n",
    "import statsmodels.api as sm"
   ]
  },
  {
   "cell_type": "code",
   "execution_count": 2,
   "metadata": {},
   "outputs": [],
   "source": [
    "def sklearn_model_build(clf, params, x_train, y_train, x_test, y_test):\n",
    "    search = GridSearchCV(clf, params, cv=5, scoring='average_precision')\n",
    "    search.fit(x_train, y_train)\n",
    "    print('best parameters:', search.best_params_, '\\n')\n",
    "    print('best average precision with training data:', round(search.best_score_,2))\n",
    "    model = search.best_estimator_\n",
    "    model.fit(x_train, y_train)\n",
    "    preds = model.predict(x_test)\n",
    "    print('accuracy_score:', accuracy_score(y_test, preds), '\\n', 'average precision score with testing:', average_precision_score(y_test, preds), '\\n')\n",
    "    print('classification report', '\\n', classification_report(y_test, preds), '\\n')\n",
    "    sns.heatmap(confusion_matrix(y_test,preds), annot=True, fmt='.0f')\n",
    "    plt.show()\n",
    "    \n"
   ]
  },
  {
   "cell_type": "code",
   "execution_count": 3,
   "metadata": {},
   "outputs": [],
   "source": [
    "def anova_table(y, x, data):\n",
    "    lm = ols(f'Q(\"{y}\") ~ Q({\"x\"})', data = data).fit()\n",
    "    table = sm.stats.anova_lm(lm, type = 2)\n",
    "    print(table)"
   ]
  },
  {
   "cell_type": "code",
   "execution_count": 4,
   "metadata": {},
   "outputs": [
    {
     "data": {
      "text/html": [
       "<div>\n",
       "<style scoped>\n",
       "    .dataframe tbody tr th:only-of-type {\n",
       "        vertical-align: middle;\n",
       "    }\n",
       "\n",
       "    .dataframe tbody tr th {\n",
       "        vertical-align: top;\n",
       "    }\n",
       "\n",
       "    .dataframe thead th {\n",
       "        text-align: right;\n",
       "    }\n",
       "</style>\n",
       "<table border=\"1\" class=\"dataframe\">\n",
       "  <thead>\n",
       "    <tr style=\"text-align: right;\">\n",
       "      <th></th>\n",
       "      <th>Patient ID</th>\n",
       "      <th>Age</th>\n",
       "      <th>Sex</th>\n",
       "      <th>Cholesterol</th>\n",
       "      <th>Blood Pressure</th>\n",
       "      <th>Heart Rate</th>\n",
       "      <th>Diabetes</th>\n",
       "      <th>Family History</th>\n",
       "      <th>Smoking</th>\n",
       "      <th>Obesity</th>\n",
       "      <th>...</th>\n",
       "      <th>Sedentary Hours Per Day</th>\n",
       "      <th>Income</th>\n",
       "      <th>BMI</th>\n",
       "      <th>Triglycerides</th>\n",
       "      <th>Physical Activity Days Per Week</th>\n",
       "      <th>Sleep Hours Per Day</th>\n",
       "      <th>Country</th>\n",
       "      <th>Continent</th>\n",
       "      <th>Hemisphere</th>\n",
       "      <th>Heart Attack Risk</th>\n",
       "    </tr>\n",
       "  </thead>\n",
       "  <tbody>\n",
       "    <tr>\n",
       "      <th>0</th>\n",
       "      <td>BMW7812</td>\n",
       "      <td>67</td>\n",
       "      <td>Male</td>\n",
       "      <td>208</td>\n",
       "      <td>158/88</td>\n",
       "      <td>72</td>\n",
       "      <td>0</td>\n",
       "      <td>0</td>\n",
       "      <td>1</td>\n",
       "      <td>0</td>\n",
       "      <td>...</td>\n",
       "      <td>6.615001</td>\n",
       "      <td>261404</td>\n",
       "      <td>31.251233</td>\n",
       "      <td>286</td>\n",
       "      <td>0</td>\n",
       "      <td>6</td>\n",
       "      <td>Argentina</td>\n",
       "      <td>South America</td>\n",
       "      <td>Southern Hemisphere</td>\n",
       "      <td>0</td>\n",
       "    </tr>\n",
       "    <tr>\n",
       "      <th>1</th>\n",
       "      <td>CZE1114</td>\n",
       "      <td>21</td>\n",
       "      <td>Male</td>\n",
       "      <td>389</td>\n",
       "      <td>165/93</td>\n",
       "      <td>98</td>\n",
       "      <td>1</td>\n",
       "      <td>1</td>\n",
       "      <td>1</td>\n",
       "      <td>1</td>\n",
       "      <td>...</td>\n",
       "      <td>4.963459</td>\n",
       "      <td>285768</td>\n",
       "      <td>27.194973</td>\n",
       "      <td>235</td>\n",
       "      <td>1</td>\n",
       "      <td>7</td>\n",
       "      <td>Canada</td>\n",
       "      <td>North America</td>\n",
       "      <td>Northern Hemisphere</td>\n",
       "      <td>0</td>\n",
       "    </tr>\n",
       "    <tr>\n",
       "      <th>2</th>\n",
       "      <td>BNI9906</td>\n",
       "      <td>21</td>\n",
       "      <td>Female</td>\n",
       "      <td>324</td>\n",
       "      <td>174/99</td>\n",
       "      <td>72</td>\n",
       "      <td>1</td>\n",
       "      <td>0</td>\n",
       "      <td>0</td>\n",
       "      <td>0</td>\n",
       "      <td>...</td>\n",
       "      <td>9.463426</td>\n",
       "      <td>235282</td>\n",
       "      <td>28.176571</td>\n",
       "      <td>587</td>\n",
       "      <td>4</td>\n",
       "      <td>4</td>\n",
       "      <td>France</td>\n",
       "      <td>Europe</td>\n",
       "      <td>Northern Hemisphere</td>\n",
       "      <td>0</td>\n",
       "    </tr>\n",
       "    <tr>\n",
       "      <th>3</th>\n",
       "      <td>JLN3497</td>\n",
       "      <td>84</td>\n",
       "      <td>Male</td>\n",
       "      <td>383</td>\n",
       "      <td>163/100</td>\n",
       "      <td>73</td>\n",
       "      <td>1</td>\n",
       "      <td>1</td>\n",
       "      <td>1</td>\n",
       "      <td>0</td>\n",
       "      <td>...</td>\n",
       "      <td>7.648981</td>\n",
       "      <td>125640</td>\n",
       "      <td>36.464704</td>\n",
       "      <td>378</td>\n",
       "      <td>3</td>\n",
       "      <td>4</td>\n",
       "      <td>Canada</td>\n",
       "      <td>North America</td>\n",
       "      <td>Northern Hemisphere</td>\n",
       "      <td>0</td>\n",
       "    </tr>\n",
       "    <tr>\n",
       "      <th>4</th>\n",
       "      <td>GFO8847</td>\n",
       "      <td>66</td>\n",
       "      <td>Male</td>\n",
       "      <td>318</td>\n",
       "      <td>91/88</td>\n",
       "      <td>93</td>\n",
       "      <td>1</td>\n",
       "      <td>1</td>\n",
       "      <td>1</td>\n",
       "      <td>1</td>\n",
       "      <td>...</td>\n",
       "      <td>1.514821</td>\n",
       "      <td>160555</td>\n",
       "      <td>21.809144</td>\n",
       "      <td>231</td>\n",
       "      <td>1</td>\n",
       "      <td>5</td>\n",
       "      <td>Thailand</td>\n",
       "      <td>Asia</td>\n",
       "      <td>Northern Hemisphere</td>\n",
       "      <td>0</td>\n",
       "    </tr>\n",
       "  </tbody>\n",
       "</table>\n",
       "<p>5 rows × 26 columns</p>\n",
       "</div>"
      ],
      "text/plain": [
       "  Patient ID  Age     Sex  Cholesterol Blood Pressure  Heart Rate  Diabetes  \\\n",
       "0    BMW7812   67    Male          208         158/88          72         0   \n",
       "1    CZE1114   21    Male          389         165/93          98         1   \n",
       "2    BNI9906   21  Female          324         174/99          72         1   \n",
       "3    JLN3497   84    Male          383        163/100          73         1   \n",
       "4    GFO8847   66    Male          318          91/88          93         1   \n",
       "\n",
       "   Family History  Smoking  Obesity  ...  Sedentary Hours Per Day  Income  \\\n",
       "0               0        1        0  ...                 6.615001  261404   \n",
       "1               1        1        1  ...                 4.963459  285768   \n",
       "2               0        0        0  ...                 9.463426  235282   \n",
       "3               1        1        0  ...                 7.648981  125640   \n",
       "4               1        1        1  ...                 1.514821  160555   \n",
       "\n",
       "         BMI  Triglycerides  Physical Activity Days Per Week  \\\n",
       "0  31.251233            286                                0   \n",
       "1  27.194973            235                                1   \n",
       "2  28.176571            587                                4   \n",
       "3  36.464704            378                                3   \n",
       "4  21.809144            231                                1   \n",
       "\n",
       "   Sleep Hours Per Day    Country      Continent           Hemisphere  \\\n",
       "0                    6  Argentina  South America  Southern Hemisphere   \n",
       "1                    7     Canada  North America  Northern Hemisphere   \n",
       "2                    4     France         Europe  Northern Hemisphere   \n",
       "3                    4     Canada  North America  Northern Hemisphere   \n",
       "4                    5   Thailand           Asia  Northern Hemisphere   \n",
       "\n",
       "   Heart Attack Risk  \n",
       "0                  0  \n",
       "1                  0  \n",
       "2                  0  \n",
       "3                  0  \n",
       "4                  0  \n",
       "\n",
       "[5 rows x 26 columns]"
      ]
     },
     "execution_count": 4,
     "metadata": {},
     "output_type": "execute_result"
    }
   ],
   "source": [
    "df = pd.read_csv('heart_attack_prediction_dataset.csv')\n",
    "df.head()"
   ]
  },
  {
   "cell_type": "code",
   "execution_count": 5,
   "metadata": {},
   "outputs": [
    {
     "name": "stdout",
     "output_type": "stream",
     "text": [
      "<class 'pandas.core.frame.DataFrame'>\n",
      "RangeIndex: 8763 entries, 0 to 8762\n",
      "Data columns (total 26 columns):\n",
      " #   Column                           Non-Null Count  Dtype  \n",
      "---  ------                           --------------  -----  \n",
      " 0   Patient ID                       8763 non-null   object \n",
      " 1   Age                              8763 non-null   int64  \n",
      " 2   Sex                              8763 non-null   object \n",
      " 3   Cholesterol                      8763 non-null   int64  \n",
      " 4   Blood Pressure                   8763 non-null   object \n",
      " 5   Heart Rate                       8763 non-null   int64  \n",
      " 6   Diabetes                         8763 non-null   int64  \n",
      " 7   Family History                   8763 non-null   int64  \n",
      " 8   Smoking                          8763 non-null   int64  \n",
      " 9   Obesity                          8763 non-null   int64  \n",
      " 10  Alcohol Consumption              8763 non-null   int64  \n",
      " 11  Exercise Hours Per Week          8763 non-null   float64\n",
      " 12  Diet                             8763 non-null   object \n",
      " 13  Previous Heart Problems          8763 non-null   int64  \n",
      " 14  Medication Use                   8763 non-null   int64  \n",
      " 15  Stress Level                     8763 non-null   int64  \n",
      " 16  Sedentary Hours Per Day          8763 non-null   float64\n",
      " 17  Income                           8763 non-null   int64  \n",
      " 18  BMI                              8763 non-null   float64\n",
      " 19  Triglycerides                    8763 non-null   int64  \n",
      " 20  Physical Activity Days Per Week  8763 non-null   int64  \n",
      " 21  Sleep Hours Per Day              8763 non-null   int64  \n",
      " 22  Country                          8763 non-null   object \n",
      " 23  Continent                        8763 non-null   object \n",
      " 24  Hemisphere                       8763 non-null   object \n",
      " 25  Heart Attack Risk                8763 non-null   int64  \n",
      "dtypes: float64(3), int64(16), object(7)\n",
      "memory usage: 1.7+ MB\n"
     ]
    }
   ],
   "source": [
    "df.info()"
   ]
  },
  {
   "cell_type": "code",
   "execution_count": 6,
   "metadata": {},
   "outputs": [
    {
     "data": {
      "text/plain": [
       "(8763, 26)"
      ]
     },
     "execution_count": 6,
     "metadata": {},
     "output_type": "execute_result"
    }
   ],
   "source": [
    "df.shape"
   ]
  },
  {
   "cell_type": "code",
   "execution_count": 7,
   "metadata": {},
   "outputs": [
    {
     "data": {
      "text/plain": [
       "Patient ID                         8763\n",
       "Age                                  73\n",
       "Sex                                   2\n",
       "Cholesterol                         281\n",
       "Blood Pressure                     3915\n",
       "Heart Rate                           71\n",
       "Diabetes                              2\n",
       "Family History                        2\n",
       "Smoking                               2\n",
       "Obesity                               2\n",
       "Alcohol Consumption                   2\n",
       "Exercise Hours Per Week            8763\n",
       "Diet                                  3\n",
       "Previous Heart Problems               2\n",
       "Medication Use                        2\n",
       "Stress Level                         10\n",
       "Sedentary Hours Per Day            8763\n",
       "Income                             8615\n",
       "BMI                                8763\n",
       "Triglycerides                       771\n",
       "Physical Activity Days Per Week       8\n",
       "Sleep Hours Per Day                   7\n",
       "Country                              20\n",
       "Continent                             6\n",
       "Hemisphere                            2\n",
       "Heart Attack Risk                     2\n",
       "dtype: int64"
      ]
     },
     "execution_count": 7,
     "metadata": {},
     "output_type": "execute_result"
    }
   ],
   "source": [
    "df.nunique()"
   ]
  },
  {
   "cell_type": "code",
   "execution_count": 8,
   "metadata": {},
   "outputs": [
    {
     "data": {
      "text/plain": [
       "Patient ID                         0\n",
       "Age                                0\n",
       "Sex                                0\n",
       "Cholesterol                        0\n",
       "Blood Pressure                     0\n",
       "Heart Rate                         0\n",
       "Diabetes                           0\n",
       "Family History                     0\n",
       "Smoking                            0\n",
       "Obesity                            0\n",
       "Alcohol Consumption                0\n",
       "Exercise Hours Per Week            0\n",
       "Diet                               0\n",
       "Previous Heart Problems            0\n",
       "Medication Use                     0\n",
       "Stress Level                       0\n",
       "Sedentary Hours Per Day            0\n",
       "Income                             0\n",
       "BMI                                0\n",
       "Triglycerides                      0\n",
       "Physical Activity Days Per Week    0\n",
       "Sleep Hours Per Day                0\n",
       "Country                            0\n",
       "Continent                          0\n",
       "Hemisphere                         0\n",
       "Heart Attack Risk                  0\n",
       "dtype: int64"
      ]
     },
     "execution_count": 8,
     "metadata": {},
     "output_type": "execute_result"
    }
   ],
   "source": [
    "df.isnull().sum()"
   ]
  },
  {
   "cell_type": "code",
   "execution_count": 9,
   "metadata": {},
   "outputs": [
    {
     "data": {
      "text/plain": [
       "Patient ID  Age  Sex     Cholesterol  Blood Pressure  Heart Rate  Diabetes  Family History  Smoking  Obesity  Alcohol Consumption  Exercise Hours Per Week  Diet       Previous Heart Problems  Medication Use  Stress Level  Sedentary Hours Per Day  Income  BMI        Triglycerides  Physical Activity Days Per Week  Sleep Hours Per Day  Country        Continent      Hemisphere           Heart Attack Risk\n",
       "AAA9246     61   Male    171          148/90          89          1         1               1        0        1                    8.123736                 Unhealthy  1                        0               9             8.453044                 108612  27.098445  626            3                                5                    New Zealand    Australia      Southern Hemisphere  0                    1\n",
       "RPT9211     37   Male    394          133/90          70          0         0               1        0        1                    1.165282                 Average    1                        1               3             3.657330                 164116  28.851134  505            4                                4                    United States  North America  Northern Hemisphere  0                    1\n",
       "RPK2629     42   Female  147          144/76          81          0         0               1        0        1                    10.056501                Unhealthy  0                        1               2             6.546390                 202828  28.605789  623            7                                10                   Spain          Europe         Southern Hemisphere  1                    1\n",
       "RPM2702     86   Male    213          104/61          72          0         1               1        0        1                    8.272449                 Average    0                        1               5             0.460526                 190332  36.246554  481            1                                4                    Thailand       Asia           Northern Hemisphere  0                    1\n",
       "RPN7465     19   Male    239          131/65          102         1         0               1        0        1                    2.058600                 Average    0                        0               9             6.538110                 44102   23.553486  461            6                                7                    Japan          Asia           Northern Hemisphere  0                    1\n",
       "                                                                                                                                                                                                                                                                                                                                                                                                                      ..\n",
       "IQZ2280     35   Male    381          91/79           98          1         1               1        0        0                    3.550962                 Average    0                        0               2             0.422017                 204512  24.994494  62             6                                4                    Italy          Europe         Southern Hemisphere  1                    1\n",
       "IQX6851     21   Male    255          175/73          74          1         0               1        0        0                    12.793883                Unhealthy  1                        0               3             9.847692                 108206  18.361236  255            6                                9                    India          Asia           Northern Hemisphere  0                    1\n",
       "IQX4433     60   Female  261          155/81          45          0         1               1        0        0                    7.591221                 Healthy    0                        0               6             11.240517                32107   30.057933  537            0                                4                    China          Asia           Northern Hemisphere  0                    1\n",
       "IQT7907     51   Male    277          98/92           45          0         1               1        0        0                    6.651442                 Unhealthy  1                        1               9             2.563875                 113401  37.837296  49             3                                7                    Japan          Asia           Northern Hemisphere  0                    1\n",
       "ZZY4724     35   Male    352          157/67          81          0         0               1        1        1                    5.671502                 Unhealthy  1                        0               5             6.744015                 209651  37.971538  227            1                                7                    South Africa   Africa         Southern Hemisphere  0                    1\n",
       "Name: count, Length: 8763, dtype: int64"
      ]
     },
     "execution_count": 9,
     "metadata": {},
     "output_type": "execute_result"
    }
   ],
   "source": [
    "df.value_counts()"
   ]
  },
  {
   "cell_type": "code",
   "execution_count": 10,
   "metadata": {},
   "outputs": [
    {
     "name": "stdout",
     "output_type": "stream",
     "text": [
      "Sex\n",
      "Female    2652\n",
      "Male      6111\n",
      "Name: Heart Attack Risk, dtype: int64\n",
      "Diabetes\n",
      "0    3047\n",
      "1    5716\n",
      "Name: Heart Attack Risk, dtype: int64\n",
      "Family History\n",
      "0    4443\n",
      "1    4320\n",
      "Name: Heart Attack Risk, dtype: int64\n",
      "Smoking\n",
      "0     904\n",
      "1    7859\n",
      "Name: Heart Attack Risk, dtype: int64\n",
      "Alcohol Consumption\n",
      "0    3522\n",
      "1    5241\n",
      "Name: Heart Attack Risk, dtype: int64\n",
      "Diet\n",
      "Average      2912\n",
      "Healthy      2960\n",
      "Unhealthy    2891\n",
      "Name: Heart Attack Risk, dtype: int64\n",
      "Previous Heart Problems\n",
      "0    4418\n",
      "1    4345\n",
      "Name: Heart Attack Risk, dtype: int64\n",
      "Medication Use\n",
      "0    4396\n",
      "1    4367\n",
      "Name: Heart Attack Risk, dtype: int64\n"
     ]
    }
   ],
   "source": [
    "binary_columns = ['Sex', 'Diabetes', 'Family History', 'Smoking', 'Alcohol Consumption', 'Diet', 'Previous Heart Problems', 'Medication Use']\n",
    "binary_df = df[binary_columns]\n",
    "\n",
    "for column in binary_df.columns:\n",
    "    print(df.groupby(by = column)['Heart Attack Risk'].size())"
   ]
  },
  {
   "cell_type": "code",
   "execution_count": 11,
   "metadata": {},
   "outputs": [
    {
     "data": {
      "text/plain": [
       "Age                                4.515416e+02\n",
       "Cholesterol                        6.538869e+03\n",
       "Heart Rate                         4.223415e+02\n",
       "Diabetes                           2.268342e-01\n",
       "Family History                     2.499793e-01\n",
       "Smoking                            9.252938e-02\n",
       "Obesity                            2.500265e-01\n",
       "Alcohol Consumption                2.404072e-01\n",
       "Exercise Hours Per Week            3.345171e+01\n",
       "Previous Heart Problems            2.500112e-01\n",
       "Medication Use                     2.500258e-01\n",
       "Stress Level                       8.177437e+00\n",
       "Sedentary Hours Per Day            1.201565e+01\n",
       "Income                             6.492361e+09\n",
       "BMI                                3.993205e+01\n",
       "Triglycerides                      5.006323e+04\n",
       "Physical Activity Days Per Week    5.210661e+00\n",
       "Sleep Hours Per Day                3.954024e+00\n",
       "Heart Attack Risk                  2.299220e-01\n",
       "dtype: float64"
      ]
     },
     "execution_count": 11,
     "metadata": {},
     "output_type": "execute_result"
    }
   ],
   "source": [
    "df.select_dtypes(include=['int64', 'float64']).var()"
   ]
  },
  {
   "cell_type": "code",
   "execution_count": 12,
   "metadata": {},
   "outputs": [
    {
     "name": "stdout",
     "output_type": "stream",
     "text": [
      "Heart Attack Risk\n",
      "0    53.606330\n",
      "1    53.890092\n",
      "Name: Age, dtype: float64\n",
      "Heart Attack Risk\n",
      "0    258.708926\n",
      "1    261.970373\n",
      "Name: Cholesterol, dtype: float64\n",
      "Heart Attack Risk\n",
      "0    75.086949\n",
      "1    74.904747\n",
      "Name: Heart Rate, dtype: float64\n",
      "Heart Attack Risk\n",
      "0    0.646159\n",
      "1    0.663269\n",
      "Name: Diabetes, dtype: float64\n",
      "Heart Attack Risk\n",
      "0    0.493599\n",
      "1    0.491876\n",
      "Name: Family History, dtype: float64\n",
      "Heart Attack Risk\n",
      "0    0.89776\n",
      "1    0.89519\n",
      "Name: Smoking, dtype: float64\n",
      "Heart Attack Risk\n",
      "0    0.506401\n",
      "1    0.492514\n",
      "Name: Obesity, dtype: float64\n",
      "Heart Attack Risk\n",
      "0    0.603129\n",
      "1    0.589041\n",
      "Name: Alcohol Consumption, dtype: float64\n",
      "Heart Attack Risk\n",
      "0     9.966182\n",
      "1    10.100466\n",
      "Name: Exercise Hours Per Week, dtype: float64\n",
      "Heart Attack Risk\n",
      "0    0.495733\n",
      "1    0.496018\n",
      "Name: Previous Heart Problems, dtype: float64\n",
      "Heart Attack Risk\n",
      "0    0.497511\n",
      "1    0.499841\n",
      "Name: Medication Use, dtype: float64\n",
      "Heart Attack Risk\n",
      "0    5.478485\n",
      "1    5.453966\n",
      "Name: Stress Level, dtype: float64\n",
      "Heart Attack Risk\n",
      "0    6.008225\n",
      "1    5.967648\n",
      "Name: Sedentary Hours Per Day, dtype: float64\n",
      "Heart Attack Risk\n",
      "0    157683.662873\n",
      "1    159301.479133\n",
      "Name: Income, dtype: float64\n",
      "Heart Attack Risk\n",
      "0    28.891350\n",
      "1    28.891617\n",
      "Name: BMI, dtype: float64\n",
      "Heart Attack Risk\n",
      "0    415.926743\n",
      "1    420.812998\n",
      "Name: Triglycerides, dtype: float64\n",
      "Heart Attack Risk\n",
      "0    3.498222\n",
      "1    3.474355\n",
      "Name: Physical Activity Days Per Week, dtype: float64\n",
      "Heart Attack Risk\n",
      "0    7.051031\n",
      "1    6.974196\n",
      "Name: Sleep Hours Per Day, dtype: float64\n",
      "Heart Attack Risk\n",
      "0    0.0\n",
      "1    1.0\n",
      "Name: Heart Attack Risk, dtype: float64\n"
     ]
    }
   ],
   "source": [
    "for i in df.select_dtypes(include=['float64', 'int64']).columns:\n",
    "    print(df.groupby(by = 'Heart Attack Risk')[f'{i}'].mean())\n"
   ]
  },
  {
   "cell_type": "code",
   "execution_count": 13,
   "metadata": {},
   "outputs": [
    {
     "data": {
      "text/plain": [
       "Patient ID                         8763\n",
       "Age                                  73\n",
       "Sex                                   2\n",
       "Cholesterol                         281\n",
       "Blood Pressure                     3915\n",
       "Heart Rate                           71\n",
       "Diabetes                              2\n",
       "Family History                        2\n",
       "Smoking                               2\n",
       "Obesity                               2\n",
       "Alcohol Consumption                   2\n",
       "Exercise Hours Per Week            8763\n",
       "Diet                                  3\n",
       "Previous Heart Problems               2\n",
       "Medication Use                        2\n",
       "Stress Level                         10\n",
       "Sedentary Hours Per Day            8763\n",
       "Income                             8615\n",
       "BMI                                8763\n",
       "Triglycerides                       771\n",
       "Physical Activity Days Per Week       8\n",
       "Sleep Hours Per Day                   7\n",
       "Country                              20\n",
       "Continent                             6\n",
       "Hemisphere                            2\n",
       "Heart Attack Risk                     2\n",
       "dtype: int64"
      ]
     },
     "execution_count": 13,
     "metadata": {},
     "output_type": "execute_result"
    }
   ],
   "source": [
    "df.nunique()"
   ]
  },
  {
   "cell_type": "code",
   "execution_count": 14,
   "metadata": {},
   "outputs": [],
   "source": [
    "df.drop('Patient ID', axis = 1, inplace= True)\n"
   ]
  },
  {
   "cell_type": "code",
   "execution_count": 15,
   "metadata": {},
   "outputs": [
    {
     "name": "stdout",
     "output_type": "stream",
     "text": [
      "Anova Table for Age: \n",
      "\n",
      "              df       sum_sq   mean_sq         F    PR(>F)\n",
      "Q(x)         1.0     0.082599  0.082599  0.359223  0.548954\n",
      "Residual  8761.0  2014.494144  0.229939       NaN       NaN\n",
      "Anova Table for Sex: \n",
      "\n",
      "              df       sum_sq   mean_sq        F    PR(>F)\n",
      "Q(x)         1.0     0.019302  0.019302  0.08394  0.772034\n",
      "Residual  8761.0  2014.557441  0.229946      NaN       NaN\n",
      "Anova Table for Cholesterol: \n",
      "\n",
      "              df       sum_sq   mean_sq         F    PR(>F)\n",
      "Q(x)         1.0     0.753498  0.753498  3.278043  0.070247\n",
      "Residual  8761.0  2013.823245  0.229862       NaN       NaN\n",
      "Anova Table for Blood Pressure: \n",
      "\n",
      "              df       sum_sq   mean_sq         F    PR(>F)\n",
      "Q(x)      3914.0   892.856505  0.228119  0.985914  0.679247\n",
      "Residual  4848.0  1121.720238  0.231378       NaN       NaN\n",
      "Anova Table for Heart Rate: \n",
      "\n",
      "              df       sum_sq   mean_sq         F    PR(>F)\n",
      "Q(x)         1.0     0.036409  0.036409  0.158338  0.690701\n",
      "Residual  8761.0  2014.540334  0.229944       NaN       NaN\n",
      "Anova Table for Diabetes: \n",
      "\n",
      "              df       sum_sq   mean_sq         F    PR(>F)\n",
      "Q(x)         1.0     0.597747  0.597747  2.600255  0.106883\n",
      "Residual  8761.0  2013.978996  0.229880       NaN       NaN\n",
      "Anova Table for Family History: \n",
      "\n",
      "              df       sum_sq   mean_sq         F    PR(>F)\n",
      "Q(x)         1.0     0.005497  0.005497  0.023907  0.877124\n",
      "Residual  8761.0  2014.571246  0.229948       NaN       NaN\n",
      "Anova Table for Smoking: \n",
      "\n",
      "              df       sum_sq   mean_sq         F    PR(>F)\n",
      "Q(x)         1.0     0.033065  0.033065  0.143795  0.704546\n",
      "Residual  8761.0  2014.543678  0.229944       NaN       NaN\n",
      "Anova Table for Obesity: \n",
      "\n",
      "              df       sum_sq   mean_sq         F    PR(>F)\n",
      "Q(x)         1.0     0.357300  0.357300  1.554102  0.212564\n",
      "Residual  8761.0  2014.219443  0.229907       NaN       NaN\n",
      "Anova Table for Alcohol Consumption: \n",
      "\n",
      "              df       sum_sq   mean_sq         F    PR(>F)\n",
      "Q(x)         1.0     0.382417  0.382417  1.663372  0.197183\n",
      "Residual  8761.0  2014.194326  0.229905       NaN       NaN\n",
      "Anova Table for Exercise Hours Per Week: \n",
      "\n",
      "              df       sum_sq   mean_sq         F    PR(>F)\n",
      "Q(x)         1.0     0.249686  0.249686  1.085971  0.297394\n",
      "Residual  8761.0  2014.327057  0.229920       NaN       NaN\n",
      "Anova Table for Diet: \n",
      "\n",
      "              df       sum_sq   mean_sq        F    PR(>F)\n",
      "Q(x)         2.0     0.219491  0.109746  0.47726  0.620497\n",
      "Residual  8760.0  2014.357252  0.229949      NaN       NaN\n",
      "Anova Table for Previous Heart Problems: \n",
      "\n",
      "              df       sum_sq   mean_sq         F    PR(>F)\n",
      "Q(x)         1.0     0.000151  0.000151  0.000656  0.979572\n",
      "Residual  8761.0  2014.576592  0.229948       NaN       NaN\n",
      "Anova Table for Medication Use: \n",
      "\n",
      "              df       sum_sq   mean_sq        F    PR(>F)\n",
      "Q(x)         1.0     0.010058  0.010058  0.04374  0.834343\n",
      "Residual  8761.0  2014.566685  0.229947      NaN       NaN\n",
      "Anova Table for Stress Level: \n",
      "\n",
      "              df       sum_sq   mean_sq         F    PR(>F)\n",
      "Q(x)         1.0     0.034052  0.034052  0.148089  0.700377\n",
      "Residual  8761.0  2014.542691  0.229944       NaN       NaN\n",
      "Anova Table for Sedentary Hours Per Day: \n",
      "\n",
      "              df       sum_sq   mean_sq         F   PR(>F)\n",
      "Q(x)         1.0     0.063470  0.063470  0.276028  0.59933\n",
      "Residual  8761.0  2014.513273  0.229941       NaN      NaN\n",
      "Anova Table for Income: \n",
      "\n",
      "              df       sum_sq   mean_sq         F    PR(>F)\n",
      "Q(x)         1.0     0.186733  0.186733  0.812139  0.367513\n",
      "Residual  8761.0  2014.390011  0.229927       NaN       NaN\n",
      "Anova Table for BMI: \n",
      "\n",
      "              df        sum_sq       mean_sq         F    PR(>F)\n",
      "Q(x)         1.0  8.284727e-07  8.284727e-07  0.000004  0.998486\n",
      "Residual  8761.0  2.014577e+03  2.299483e-01       NaN       NaN\n",
      "Anova Table for Triglycerides: \n",
      "\n",
      "              df       sum_sq   mean_sq         F    PR(>F)\n",
      "Q(x)         1.0     0.220901  0.220901  0.960761  0.327022\n",
      "Residual  8761.0  2014.355842  0.229923       NaN       NaN\n",
      "Anova Table for Physical Activity Days Per Week: \n",
      "\n",
      "              df       sum_sq   mean_sq         F    PR(>F)\n",
      "Q(x)         1.0     0.050637  0.050637  0.220216  0.638887\n",
      "Residual  8761.0  2014.526106  0.229942       NaN       NaN\n",
      "Anova Table for Sleep Hours Per Day: \n",
      "\n",
      "              df       sum_sq   mean_sq         F    PR(>F)\n",
      "Q(x)         1.0     0.691594  0.691594  3.008639  0.082857\n",
      "Residual  8761.0  2013.885149  0.229869       NaN       NaN\n",
      "Anova Table for Country: \n",
      "\n",
      "              df       sum_sq   mean_sq        F    PR(>F)\n",
      "Q(x)        19.0     4.666893  0.245626  1.06846  0.376915\n",
      "Residual  8743.0  2009.909850  0.229888      NaN       NaN\n",
      "Anova Table for Continent: \n",
      "\n",
      "              df       sum_sq   mean_sq         F   PR(>F)\n",
      "Q(x)         5.0     0.881641  0.176328  0.766802  0.57358\n",
      "Residual  8757.0  2013.695102  0.229953       NaN      NaN\n",
      "Anova Table for Hemisphere: \n",
      "\n",
      "              df       sum_sq   mean_sq        F    PR(>F)\n",
      "Q(x)         1.0     0.325145  0.325145  1.41422  0.234389\n",
      "Residual  8761.0  2014.251598  0.229911      NaN       NaN\n",
      "Anova Table for Heart Attack Risk: \n",
      "\n",
      "              df        sum_sq       mean_sq             F  PR(>F)\n",
      "Q(x)         1.0  2.014577e+03  2.014577e+03  2.609096e+30     0.0\n",
      "Residual  8761.0  6.764684e-24  7.721360e-28           NaN     NaN\n"
     ]
    }
   ],
   "source": [
    "\n",
    "for column in df.columns:\n",
    "    print(f'Anova Table for {column}:', '\\n')\n",
    "    anova_table('Heart Attack Risk', f'{column}', data = df)"
   ]
  },
  {
   "cell_type": "code",
   "execution_count": 16,
   "metadata": {},
   "outputs": [
    {
     "data": {
      "text/plain": [
       "Age                                  73\n",
       "Sex                                   2\n",
       "Cholesterol                         281\n",
       "Blood Pressure                     3915\n",
       "Heart Rate                           71\n",
       "Diabetes                              2\n",
       "Family History                        2\n",
       "Smoking                               2\n",
       "Obesity                               2\n",
       "Alcohol Consumption                   2\n",
       "Exercise Hours Per Week            8763\n",
       "Diet                                  3\n",
       "Previous Heart Problems               2\n",
       "Medication Use                        2\n",
       "Stress Level                         10\n",
       "Sedentary Hours Per Day            8763\n",
       "Income                             8615\n",
       "BMI                                8763\n",
       "Triglycerides                       771\n",
       "Physical Activity Days Per Week       8\n",
       "Sleep Hours Per Day                   7\n",
       "Country                              20\n",
       "Continent                             6\n",
       "Hemisphere                            2\n",
       "Heart Attack Risk                     2\n",
       "dtype: int64"
      ]
     },
     "execution_count": 16,
     "metadata": {},
     "output_type": "execute_result"
    }
   ],
   "source": [
    "df.nunique()"
   ]
  },
  {
   "cell_type": "code",
   "execution_count": 17,
   "metadata": {},
   "outputs": [
    {
     "data": {
      "text/html": [
       "<div>\n",
       "<style scoped>\n",
       "    .dataframe tbody tr th:only-of-type {\n",
       "        vertical-align: middle;\n",
       "    }\n",
       "\n",
       "    .dataframe tbody tr th {\n",
       "        vertical-align: top;\n",
       "    }\n",
       "\n",
       "    .dataframe thead th {\n",
       "        text-align: right;\n",
       "    }\n",
       "</style>\n",
       "<table border=\"1\" class=\"dataframe\">\n",
       "  <thead>\n",
       "    <tr style=\"text-align: right;\">\n",
       "      <th></th>\n",
       "      <th>Age</th>\n",
       "      <th>Sex</th>\n",
       "      <th>Cholesterol</th>\n",
       "      <th>Blood Pressure</th>\n",
       "      <th>Heart Rate</th>\n",
       "      <th>Diabetes</th>\n",
       "      <th>Family History</th>\n",
       "      <th>Smoking</th>\n",
       "      <th>Obesity</th>\n",
       "      <th>Alcohol Consumption</th>\n",
       "      <th>...</th>\n",
       "      <th>Sedentary Hours Per Day</th>\n",
       "      <th>Income</th>\n",
       "      <th>BMI</th>\n",
       "      <th>Triglycerides</th>\n",
       "      <th>Physical Activity Days Per Week</th>\n",
       "      <th>Sleep Hours Per Day</th>\n",
       "      <th>Country</th>\n",
       "      <th>Continent</th>\n",
       "      <th>Hemisphere</th>\n",
       "      <th>Heart Attack Risk</th>\n",
       "    </tr>\n",
       "  </thead>\n",
       "  <tbody>\n",
       "    <tr>\n",
       "      <th>0</th>\n",
       "      <td>67</td>\n",
       "      <td>Male</td>\n",
       "      <td>208</td>\n",
       "      <td>158/88</td>\n",
       "      <td>72</td>\n",
       "      <td>0</td>\n",
       "      <td>0</td>\n",
       "      <td>1</td>\n",
       "      <td>0</td>\n",
       "      <td>0</td>\n",
       "      <td>...</td>\n",
       "      <td>6.615001</td>\n",
       "      <td>261404</td>\n",
       "      <td>31.251233</td>\n",
       "      <td>286</td>\n",
       "      <td>0</td>\n",
       "      <td>6</td>\n",
       "      <td>Argentina</td>\n",
       "      <td>South America</td>\n",
       "      <td>Southern Hemisphere</td>\n",
       "      <td>0</td>\n",
       "    </tr>\n",
       "  </tbody>\n",
       "</table>\n",
       "<p>1 rows × 25 columns</p>\n",
       "</div>"
      ],
      "text/plain": [
       "   Age   Sex  Cholesterol Blood Pressure  Heart Rate  Diabetes  \\\n",
       "0   67  Male          208         158/88          72         0   \n",
       "\n",
       "   Family History  Smoking  Obesity  Alcohol Consumption  ...  \\\n",
       "0               0        1        0                    0  ...   \n",
       "\n",
       "   Sedentary Hours Per Day  Income        BMI  Triglycerides  \\\n",
       "0                 6.615001  261404  31.251233            286   \n",
       "\n",
       "   Physical Activity Days Per Week  Sleep Hours Per Day    Country  \\\n",
       "0                                0                    6  Argentina   \n",
       "\n",
       "       Continent           Hemisphere  Heart Attack Risk  \n",
       "0  South America  Southern Hemisphere                  0  \n",
       "\n",
       "[1 rows x 25 columns]"
      ]
     },
     "execution_count": 17,
     "metadata": {},
     "output_type": "execute_result"
    }
   ],
   "source": [
    "df.head(1)"
   ]
  },
  {
   "cell_type": "code",
   "execution_count": 18,
   "metadata": {},
   "outputs": [],
   "source": [
    "df.drop(['Hemisphere', 'Country'], axis = 1, inplace=True)"
   ]
  },
  {
   "cell_type": "code",
   "execution_count": 19,
   "metadata": {},
   "outputs": [],
   "source": [
    "df.drop('Blood Pressure', axis = 1, inplace = True)"
   ]
  },
  {
   "cell_type": "code",
   "execution_count": 20,
   "metadata": {},
   "outputs": [
    {
     "data": {
      "text/html": [
       "<div>\n",
       "<style scoped>\n",
       "    .dataframe tbody tr th:only-of-type {\n",
       "        vertical-align: middle;\n",
       "    }\n",
       "\n",
       "    .dataframe tbody tr th {\n",
       "        vertical-align: top;\n",
       "    }\n",
       "\n",
       "    .dataframe thead th {\n",
       "        text-align: right;\n",
       "    }\n",
       "</style>\n",
       "<table border=\"1\" class=\"dataframe\">\n",
       "  <thead>\n",
       "    <tr style=\"text-align: right;\">\n",
       "      <th></th>\n",
       "      <th>Age</th>\n",
       "      <th>Sex</th>\n",
       "      <th>Cholesterol</th>\n",
       "      <th>Heart Rate</th>\n",
       "      <th>Diabetes</th>\n",
       "      <th>Family History</th>\n",
       "      <th>Smoking</th>\n",
       "      <th>Obesity</th>\n",
       "      <th>Alcohol Consumption</th>\n",
       "      <th>Exercise Hours Per Week</th>\n",
       "      <th>...</th>\n",
       "      <th>Medication Use</th>\n",
       "      <th>Stress Level</th>\n",
       "      <th>Sedentary Hours Per Day</th>\n",
       "      <th>Income</th>\n",
       "      <th>BMI</th>\n",
       "      <th>Triglycerides</th>\n",
       "      <th>Physical Activity Days Per Week</th>\n",
       "      <th>Sleep Hours Per Day</th>\n",
       "      <th>Continent</th>\n",
       "      <th>Heart Attack Risk</th>\n",
       "    </tr>\n",
       "  </thead>\n",
       "  <tbody>\n",
       "    <tr>\n",
       "      <th>0</th>\n",
       "      <td>67</td>\n",
       "      <td>0</td>\n",
       "      <td>208</td>\n",
       "      <td>72</td>\n",
       "      <td>0</td>\n",
       "      <td>0</td>\n",
       "      <td>1</td>\n",
       "      <td>0</td>\n",
       "      <td>0</td>\n",
       "      <td>4.168189</td>\n",
       "      <td>...</td>\n",
       "      <td>0</td>\n",
       "      <td>9</td>\n",
       "      <td>6.615001</td>\n",
       "      <td>261404</td>\n",
       "      <td>31.251233</td>\n",
       "      <td>286</td>\n",
       "      <td>0</td>\n",
       "      <td>6</td>\n",
       "      <td>South America</td>\n",
       "      <td>0</td>\n",
       "    </tr>\n",
       "    <tr>\n",
       "      <th>1</th>\n",
       "      <td>21</td>\n",
       "      <td>0</td>\n",
       "      <td>389</td>\n",
       "      <td>98</td>\n",
       "      <td>1</td>\n",
       "      <td>1</td>\n",
       "      <td>1</td>\n",
       "      <td>1</td>\n",
       "      <td>1</td>\n",
       "      <td>1.813242</td>\n",
       "      <td>...</td>\n",
       "      <td>0</td>\n",
       "      <td>1</td>\n",
       "      <td>4.963459</td>\n",
       "      <td>285768</td>\n",
       "      <td>27.194973</td>\n",
       "      <td>235</td>\n",
       "      <td>1</td>\n",
       "      <td>7</td>\n",
       "      <td>North America</td>\n",
       "      <td>0</td>\n",
       "    </tr>\n",
       "    <tr>\n",
       "      <th>2</th>\n",
       "      <td>21</td>\n",
       "      <td>1</td>\n",
       "      <td>324</td>\n",
       "      <td>72</td>\n",
       "      <td>1</td>\n",
       "      <td>0</td>\n",
       "      <td>0</td>\n",
       "      <td>0</td>\n",
       "      <td>0</td>\n",
       "      <td>2.078353</td>\n",
       "      <td>...</td>\n",
       "      <td>1</td>\n",
       "      <td>9</td>\n",
       "      <td>9.463426</td>\n",
       "      <td>235282</td>\n",
       "      <td>28.176571</td>\n",
       "      <td>587</td>\n",
       "      <td>4</td>\n",
       "      <td>4</td>\n",
       "      <td>Europe</td>\n",
       "      <td>0</td>\n",
       "    </tr>\n",
       "    <tr>\n",
       "      <th>3</th>\n",
       "      <td>84</td>\n",
       "      <td>0</td>\n",
       "      <td>383</td>\n",
       "      <td>73</td>\n",
       "      <td>1</td>\n",
       "      <td>1</td>\n",
       "      <td>1</td>\n",
       "      <td>0</td>\n",
       "      <td>1</td>\n",
       "      <td>9.828130</td>\n",
       "      <td>...</td>\n",
       "      <td>0</td>\n",
       "      <td>9</td>\n",
       "      <td>7.648981</td>\n",
       "      <td>125640</td>\n",
       "      <td>36.464704</td>\n",
       "      <td>378</td>\n",
       "      <td>3</td>\n",
       "      <td>4</td>\n",
       "      <td>North America</td>\n",
       "      <td>0</td>\n",
       "    </tr>\n",
       "    <tr>\n",
       "      <th>4</th>\n",
       "      <td>66</td>\n",
       "      <td>0</td>\n",
       "      <td>318</td>\n",
       "      <td>93</td>\n",
       "      <td>1</td>\n",
       "      <td>1</td>\n",
       "      <td>1</td>\n",
       "      <td>1</td>\n",
       "      <td>0</td>\n",
       "      <td>5.804299</td>\n",
       "      <td>...</td>\n",
       "      <td>0</td>\n",
       "      <td>6</td>\n",
       "      <td>1.514821</td>\n",
       "      <td>160555</td>\n",
       "      <td>21.809144</td>\n",
       "      <td>231</td>\n",
       "      <td>1</td>\n",
       "      <td>5</td>\n",
       "      <td>Asia</td>\n",
       "      <td>0</td>\n",
       "    </tr>\n",
       "  </tbody>\n",
       "</table>\n",
       "<p>5 rows × 22 columns</p>\n",
       "</div>"
      ],
      "text/plain": [
       "   Age  Sex  Cholesterol  Heart Rate  Diabetes  Family History  Smoking  \\\n",
       "0   67    0          208          72         0               0        1   \n",
       "1   21    0          389          98         1               1        1   \n",
       "2   21    1          324          72         1               0        0   \n",
       "3   84    0          383          73         1               1        1   \n",
       "4   66    0          318          93         1               1        1   \n",
       "\n",
       "   Obesity  Alcohol Consumption  Exercise Hours Per Week  ... Medication Use  \\\n",
       "0        0                    0                 4.168189  ...              0   \n",
       "1        1                    1                 1.813242  ...              0   \n",
       "2        0                    0                 2.078353  ...              1   \n",
       "3        0                    1                 9.828130  ...              0   \n",
       "4        1                    0                 5.804299  ...              0   \n",
       "\n",
       "   Stress Level  Sedentary Hours Per Day  Income        BMI  Triglycerides  \\\n",
       "0             9                 6.615001  261404  31.251233            286   \n",
       "1             1                 4.963459  285768  27.194973            235   \n",
       "2             9                 9.463426  235282  28.176571            587   \n",
       "3             9                 7.648981  125640  36.464704            378   \n",
       "4             6                 1.514821  160555  21.809144            231   \n",
       "\n",
       "   Physical Activity Days Per Week  Sleep Hours Per Day      Continent  \\\n",
       "0                                0                    6  South America   \n",
       "1                                1                    7  North America   \n",
       "2                                4                    4         Europe   \n",
       "3                                3                    4  North America   \n",
       "4                                1                    5           Asia   \n",
       "\n",
       "   Heart Attack Risk  \n",
       "0                  0  \n",
       "1                  0  \n",
       "2                  0  \n",
       "3                  0  \n",
       "4                  0  \n",
       "\n",
       "[5 rows x 22 columns]"
      ]
     },
     "execution_count": 20,
     "metadata": {},
     "output_type": "execute_result"
    }
   ],
   "source": [
    "sex_map = {'Male': 0, 'Female': 1}\n",
    "\n",
    "df['Sex'] = df['Sex'].map(sex_map)\n",
    "\n",
    "df.head()"
   ]
  },
  {
   "cell_type": "code",
   "execution_count": 21,
   "metadata": {},
   "outputs": [
    {
     "data": {
      "text/plain": [
       "Index(['Age', 'Sex', 'Cholesterol', 'Heart Rate', 'Diabetes', 'Family History',\n",
       "       'Smoking', 'Obesity', 'Alcohol Consumption', 'Exercise Hours Per Week',\n",
       "       'Diet', 'Previous Heart Problems', 'Medication Use', 'Stress Level',\n",
       "       'Sedentary Hours Per Day', 'Income', 'BMI', 'Triglycerides',\n",
       "       'Physical Activity Days Per Week', 'Sleep Hours Per Day', 'Continent',\n",
       "       'Heart Attack Risk'],\n",
       "      dtype='object')"
      ]
     },
     "execution_count": 21,
     "metadata": {},
     "output_type": "execute_result"
    }
   ],
   "source": [
    "df.columns"
   ]
  },
  {
   "cell_type": "code",
   "execution_count": 22,
   "metadata": {},
   "outputs": [
    {
     "name": "stdout",
     "output_type": "stream",
     "text": [
      "<class 'pandas.core.frame.DataFrame'>\n",
      "RangeIndex: 8763 entries, 0 to 8762\n",
      "Data columns (total 22 columns):\n",
      " #   Column                           Non-Null Count  Dtype  \n",
      "---  ------                           --------------  -----  \n",
      " 0   Age                              8763 non-null   int64  \n",
      " 1   Sex                              8763 non-null   int64  \n",
      " 2   Cholesterol                      8763 non-null   int64  \n",
      " 3   Heart Rate                       8763 non-null   int64  \n",
      " 4   Diabetes                         8763 non-null   int64  \n",
      " 5   Family History                   8763 non-null   int64  \n",
      " 6   Smoking                          8763 non-null   int64  \n",
      " 7   Obesity                          8763 non-null   int64  \n",
      " 8   Alcohol Consumption              8763 non-null   int64  \n",
      " 9   Exercise Hours Per Week          8763 non-null   float64\n",
      " 10  Diet                             8763 non-null   object \n",
      " 11  Previous Heart Problems          8763 non-null   int64  \n",
      " 12  Medication Use                   8763 non-null   int64  \n",
      " 13  Stress Level                     8763 non-null   int64  \n",
      " 14  Sedentary Hours Per Day          8763 non-null   float64\n",
      " 15  Income                           8763 non-null   int64  \n",
      " 16  BMI                              8763 non-null   float64\n",
      " 17  Triglycerides                    8763 non-null   int64  \n",
      " 18  Physical Activity Days Per Week  8763 non-null   int64  \n",
      " 19  Sleep Hours Per Day              8763 non-null   int64  \n",
      " 20  Continent                        8763 non-null   object \n",
      " 21  Heart Attack Risk                8763 non-null   int64  \n",
      "dtypes: float64(3), int64(17), object(2)\n",
      "memory usage: 1.5+ MB\n"
     ]
    }
   ],
   "source": [
    "df.info()"
   ]
  },
  {
   "cell_type": "code",
   "execution_count": 23,
   "metadata": {},
   "outputs": [],
   "source": [
    "df.drop('Stress Level', axis = 1, inplace = True)"
   ]
  },
  {
   "cell_type": "code",
   "execution_count": 24,
   "metadata": {},
   "outputs": [
    {
     "name": "stdout",
     "output_type": "stream",
     "text": [
      "      Diet_Average  Diet_Healthy  Diet_Unhealthy  Continent_Africa  \\\n",
      "0                1             0               0                 0   \n",
      "1                0             0               1                 0   \n",
      "2                0             1               0                 0   \n",
      "3                1             0               0                 0   \n",
      "4                0             0               1                 0   \n",
      "...            ...           ...             ...               ...   \n",
      "8758             0             1               0                 0   \n",
      "8759             0             1               0                 0   \n",
      "8760             1             0               0                 0   \n",
      "8761             0             0               1                 0   \n",
      "8762             0             1               0                 0   \n",
      "\n",
      "      Continent_Asia  Continent_Australia  Continent_Europe  \\\n",
      "0                  0                    0                 0   \n",
      "1                  0                    0                 0   \n",
      "2                  0                    0                 1   \n",
      "3                  0                    0                 0   \n",
      "4                  1                    0                 0   \n",
      "...              ...                  ...               ...   \n",
      "8758               1                    0                 0   \n",
      "8759               0                    0                 0   \n",
      "8760               0                    0                 0   \n",
      "8761               0                    0                 0   \n",
      "8762               0                    0                 1   \n",
      "\n",
      "      Continent_North America  Continent_South America  \\\n",
      "0                           0                        1   \n",
      "1                           1                        0   \n",
      "2                           0                        0   \n",
      "3                           1                        0   \n",
      "4                           0                        0   \n",
      "...                       ...                      ...   \n",
      "8758                        0                        0   \n",
      "8759                        1                        0   \n",
      "8760                        0                        1   \n",
      "8761                        0                        1   \n",
      "8762                        0                        0   \n",
      "\n",
      "      Physical Activity Days Per Week_0  Physical Activity Days Per Week_1  \\\n",
      "0                                     1                                  0   \n",
      "1                                     0                                  1   \n",
      "2                                     0                                  0   \n",
      "3                                     0                                  0   \n",
      "4                                     0                                  1   \n",
      "...                                 ...                                ...   \n",
      "8758                                  0                                  0   \n",
      "8759                                  0                                  0   \n",
      "8760                                  0                                  0   \n",
      "8761                                  0                                  0   \n",
      "8762                                  0                                  0   \n",
      "\n",
      "      Physical Activity Days Per Week_2  Physical Activity Days Per Week_3  \\\n",
      "0                                     0                                  0   \n",
      "1                                     0                                  0   \n",
      "2                                     0                                  0   \n",
      "3                                     0                                  1   \n",
      "4                                     0                                  0   \n",
      "...                                 ...                                ...   \n",
      "8758                                  0                                  0   \n",
      "8759                                  0                                  0   \n",
      "8760                                  0                                  0   \n",
      "8761                                  1                                  0   \n",
      "8762                                  0                                  0   \n",
      "\n",
      "      Physical Activity Days Per Week_4  Physical Activity Days Per Week_5  \\\n",
      "0                                     0                                  0   \n",
      "1                                     0                                  0   \n",
      "2                                     1                                  0   \n",
      "3                                     0                                  0   \n",
      "4                                     0                                  0   \n",
      "...                                 ...                                ...   \n",
      "8758                                  0                                  0   \n",
      "8759                                  1                                  0   \n",
      "8760                                  1                                  0   \n",
      "8761                                  0                                  0   \n",
      "8762                                  0                                  0   \n",
      "\n",
      "      Physical Activity Days Per Week_6  Physical Activity Days Per Week_7  \n",
      "0                                     0                                  0  \n",
      "1                                     0                                  0  \n",
      "2                                     0                                  0  \n",
      "3                                     0                                  0  \n",
      "4                                     0                                  0  \n",
      "...                                 ...                                ...  \n",
      "8758                                  0                                  1  \n",
      "8759                                  0                                  0  \n",
      "8760                                  0                                  0  \n",
      "8761                                  0                                  0  \n",
      "8762                                  0                                  1  \n",
      "\n",
      "[8763 rows x 17 columns]\n"
     ]
    },
    {
     "name": "stderr",
     "output_type": "stream",
     "text": [
      "c:\\Users\\dgmur\\python\\lib\\site-packages\\sklearn\\preprocessing\\_encoders.py:975: FutureWarning: `sparse` was renamed to `sparse_output` in version 1.2 and will be removed in 1.4. `sparse_output` is ignored unless you leave `sparse` to its default value.\n",
      "  warnings.warn(\n"
     ]
    }
   ],
   "source": [
    "onehot = OneHotEncoder(sparse= False)\n",
    "oh_data = onehot.fit_transform(df[['Diet', 'Continent', 'Physical Activity Days Per Week']])\n",
    "oh_df = pd.DataFrame(oh_data, columns= onehot.get_feature_names_out())\n",
    "oh_df = oh_df.convert_dtypes()\n",
    "print(oh_df)\n"
   ]
  },
  {
   "cell_type": "code",
   "execution_count": 25,
   "metadata": {},
   "outputs": [],
   "source": [
    "\n",
    "\n",
    "# Concatenate the DataFrames\n",
    "df = pd.concat([df, oh_df], axis=1)"
   ]
  },
  {
   "cell_type": "code",
   "execution_count": 26,
   "metadata": {},
   "outputs": [
    {
     "data": {
      "text/html": [
       "<div>\n",
       "<style scoped>\n",
       "    .dataframe tbody tr th:only-of-type {\n",
       "        vertical-align: middle;\n",
       "    }\n",
       "\n",
       "    .dataframe tbody tr th {\n",
       "        vertical-align: top;\n",
       "    }\n",
       "\n",
       "    .dataframe thead th {\n",
       "        text-align: right;\n",
       "    }\n",
       "</style>\n",
       "<table border=\"1\" class=\"dataframe\">\n",
       "  <thead>\n",
       "    <tr style=\"text-align: right;\">\n",
       "      <th></th>\n",
       "      <th>Age</th>\n",
       "      <th>Sex</th>\n",
       "      <th>Cholesterol</th>\n",
       "      <th>Heart Rate</th>\n",
       "      <th>Diabetes</th>\n",
       "      <th>Family History</th>\n",
       "      <th>Smoking</th>\n",
       "      <th>Obesity</th>\n",
       "      <th>Alcohol Consumption</th>\n",
       "      <th>Exercise Hours Per Week</th>\n",
       "      <th>...</th>\n",
       "      <th>Continent_North America</th>\n",
       "      <th>Continent_South America</th>\n",
       "      <th>Physical Activity Days Per Week_0</th>\n",
       "      <th>Physical Activity Days Per Week_1</th>\n",
       "      <th>Physical Activity Days Per Week_2</th>\n",
       "      <th>Physical Activity Days Per Week_3</th>\n",
       "      <th>Physical Activity Days Per Week_4</th>\n",
       "      <th>Physical Activity Days Per Week_5</th>\n",
       "      <th>Physical Activity Days Per Week_6</th>\n",
       "      <th>Physical Activity Days Per Week_7</th>\n",
       "    </tr>\n",
       "  </thead>\n",
       "  <tbody>\n",
       "    <tr>\n",
       "      <th>0</th>\n",
       "      <td>67</td>\n",
       "      <td>0</td>\n",
       "      <td>208</td>\n",
       "      <td>72</td>\n",
       "      <td>0</td>\n",
       "      <td>0</td>\n",
       "      <td>1</td>\n",
       "      <td>0</td>\n",
       "      <td>0</td>\n",
       "      <td>4.168189</td>\n",
       "      <td>...</td>\n",
       "      <td>0</td>\n",
       "      <td>1</td>\n",
       "      <td>1</td>\n",
       "      <td>0</td>\n",
       "      <td>0</td>\n",
       "      <td>0</td>\n",
       "      <td>0</td>\n",
       "      <td>0</td>\n",
       "      <td>0</td>\n",
       "      <td>0</td>\n",
       "    </tr>\n",
       "    <tr>\n",
       "      <th>1</th>\n",
       "      <td>21</td>\n",
       "      <td>0</td>\n",
       "      <td>389</td>\n",
       "      <td>98</td>\n",
       "      <td>1</td>\n",
       "      <td>1</td>\n",
       "      <td>1</td>\n",
       "      <td>1</td>\n",
       "      <td>1</td>\n",
       "      <td>1.813242</td>\n",
       "      <td>...</td>\n",
       "      <td>1</td>\n",
       "      <td>0</td>\n",
       "      <td>0</td>\n",
       "      <td>1</td>\n",
       "      <td>0</td>\n",
       "      <td>0</td>\n",
       "      <td>0</td>\n",
       "      <td>0</td>\n",
       "      <td>0</td>\n",
       "      <td>0</td>\n",
       "    </tr>\n",
       "    <tr>\n",
       "      <th>2</th>\n",
       "      <td>21</td>\n",
       "      <td>1</td>\n",
       "      <td>324</td>\n",
       "      <td>72</td>\n",
       "      <td>1</td>\n",
       "      <td>0</td>\n",
       "      <td>0</td>\n",
       "      <td>0</td>\n",
       "      <td>0</td>\n",
       "      <td>2.078353</td>\n",
       "      <td>...</td>\n",
       "      <td>0</td>\n",
       "      <td>0</td>\n",
       "      <td>0</td>\n",
       "      <td>0</td>\n",
       "      <td>0</td>\n",
       "      <td>0</td>\n",
       "      <td>1</td>\n",
       "      <td>0</td>\n",
       "      <td>0</td>\n",
       "      <td>0</td>\n",
       "    </tr>\n",
       "    <tr>\n",
       "      <th>3</th>\n",
       "      <td>84</td>\n",
       "      <td>0</td>\n",
       "      <td>383</td>\n",
       "      <td>73</td>\n",
       "      <td>1</td>\n",
       "      <td>1</td>\n",
       "      <td>1</td>\n",
       "      <td>0</td>\n",
       "      <td>1</td>\n",
       "      <td>9.828130</td>\n",
       "      <td>...</td>\n",
       "      <td>1</td>\n",
       "      <td>0</td>\n",
       "      <td>0</td>\n",
       "      <td>0</td>\n",
       "      <td>0</td>\n",
       "      <td>1</td>\n",
       "      <td>0</td>\n",
       "      <td>0</td>\n",
       "      <td>0</td>\n",
       "      <td>0</td>\n",
       "    </tr>\n",
       "    <tr>\n",
       "      <th>4</th>\n",
       "      <td>66</td>\n",
       "      <td>0</td>\n",
       "      <td>318</td>\n",
       "      <td>93</td>\n",
       "      <td>1</td>\n",
       "      <td>1</td>\n",
       "      <td>1</td>\n",
       "      <td>1</td>\n",
       "      <td>0</td>\n",
       "      <td>5.804299</td>\n",
       "      <td>...</td>\n",
       "      <td>0</td>\n",
       "      <td>0</td>\n",
       "      <td>0</td>\n",
       "      <td>1</td>\n",
       "      <td>0</td>\n",
       "      <td>0</td>\n",
       "      <td>0</td>\n",
       "      <td>0</td>\n",
       "      <td>0</td>\n",
       "      <td>0</td>\n",
       "    </tr>\n",
       "  </tbody>\n",
       "</table>\n",
       "<p>5 rows × 38 columns</p>\n",
       "</div>"
      ],
      "text/plain": [
       "   Age  Sex  Cholesterol  Heart Rate  Diabetes  Family History  Smoking  \\\n",
       "0   67    0          208          72         0               0        1   \n",
       "1   21    0          389          98         1               1        1   \n",
       "2   21    1          324          72         1               0        0   \n",
       "3   84    0          383          73         1               1        1   \n",
       "4   66    0          318          93         1               1        1   \n",
       "\n",
       "   Obesity  Alcohol Consumption  Exercise Hours Per Week  ...  \\\n",
       "0        0                    0                 4.168189  ...   \n",
       "1        1                    1                 1.813242  ...   \n",
       "2        0                    0                 2.078353  ...   \n",
       "3        0                    1                 9.828130  ...   \n",
       "4        1                    0                 5.804299  ...   \n",
       "\n",
       "  Continent_North America  Continent_South America  \\\n",
       "0                       0                        1   \n",
       "1                       1                        0   \n",
       "2                       0                        0   \n",
       "3                       1                        0   \n",
       "4                       0                        0   \n",
       "\n",
       "   Physical Activity Days Per Week_0  Physical Activity Days Per Week_1  \\\n",
       "0                                  1                                  0   \n",
       "1                                  0                                  1   \n",
       "2                                  0                                  0   \n",
       "3                                  0                                  0   \n",
       "4                                  0                                  1   \n",
       "\n",
       "   Physical Activity Days Per Week_2  Physical Activity Days Per Week_3  \\\n",
       "0                                  0                                  0   \n",
       "1                                  0                                  0   \n",
       "2                                  0                                  0   \n",
       "3                                  0                                  1   \n",
       "4                                  0                                  0   \n",
       "\n",
       "   Physical Activity Days Per Week_4  Physical Activity Days Per Week_5  \\\n",
       "0                                  0                                  0   \n",
       "1                                  0                                  0   \n",
       "2                                  1                                  0   \n",
       "3                                  0                                  0   \n",
       "4                                  0                                  0   \n",
       "\n",
       "   Physical Activity Days Per Week_6 Physical Activity Days Per Week_7  \n",
       "0                                  0                                 0  \n",
       "1                                  0                                 0  \n",
       "2                                  0                                 0  \n",
       "3                                  0                                 0  \n",
       "4                                  0                                 0  \n",
       "\n",
       "[5 rows x 38 columns]"
      ]
     },
     "execution_count": 26,
     "metadata": {},
     "output_type": "execute_result"
    }
   ],
   "source": [
    "df.head()"
   ]
  },
  {
   "cell_type": "code",
   "execution_count": 27,
   "metadata": {},
   "outputs": [
    {
     "data": {
      "text/plain": [
       "Index(['Age', 'Sex', 'Cholesterol', 'Heart Rate', 'Diabetes', 'Family History',\n",
       "       'Smoking', 'Obesity', 'Alcohol Consumption', 'Exercise Hours Per Week',\n",
       "       'Diet', 'Previous Heart Problems', 'Medication Use',\n",
       "       'Sedentary Hours Per Day', 'Income', 'BMI', 'Triglycerides',\n",
       "       'Physical Activity Days Per Week', 'Sleep Hours Per Day', 'Continent',\n",
       "       'Heart Attack Risk', 'Diet_Average', 'Diet_Healthy', 'Diet_Unhealthy',\n",
       "       'Continent_Africa', 'Continent_Asia', 'Continent_Australia',\n",
       "       'Continent_Europe', 'Continent_North America',\n",
       "       'Continent_South America', 'Physical Activity Days Per Week_0',\n",
       "       'Physical Activity Days Per Week_1',\n",
       "       'Physical Activity Days Per Week_2',\n",
       "       'Physical Activity Days Per Week_3',\n",
       "       'Physical Activity Days Per Week_4',\n",
       "       'Physical Activity Days Per Week_5',\n",
       "       'Physical Activity Days Per Week_6',\n",
       "       'Physical Activity Days Per Week_7'],\n",
       "      dtype='object')"
      ]
     },
     "execution_count": 27,
     "metadata": {},
     "output_type": "execute_result"
    }
   ],
   "source": [
    "df.columns"
   ]
  },
  {
   "cell_type": "code",
   "execution_count": 28,
   "metadata": {},
   "outputs": [
    {
     "data": {
      "text/plain": [
       "Sex\n",
       "0    6111\n",
       "1    2652\n",
       "Name: Heart Attack Risk, dtype: int64"
      ]
     },
     "execution_count": 28,
     "metadata": {},
     "output_type": "execute_result"
    }
   ],
   "source": [
    "df.groupby(by = 'Sex')['Heart Attack Risk'].size()"
   ]
  },
  {
   "cell_type": "code",
   "execution_count": 29,
   "metadata": {},
   "outputs": [
    {
     "data": {
      "text/html": [
       "<div>\n",
       "<style scoped>\n",
       "    .dataframe tbody tr th:only-of-type {\n",
       "        vertical-align: middle;\n",
       "    }\n",
       "\n",
       "    .dataframe tbody tr th {\n",
       "        vertical-align: top;\n",
       "    }\n",
       "\n",
       "    .dataframe thead th {\n",
       "        text-align: right;\n",
       "    }\n",
       "</style>\n",
       "<table border=\"1\" class=\"dataframe\">\n",
       "  <thead>\n",
       "    <tr style=\"text-align: right;\">\n",
       "      <th></th>\n",
       "      <th>Age</th>\n",
       "      <th>Sex</th>\n",
       "      <th>Cholesterol</th>\n",
       "      <th>Heart Rate</th>\n",
       "      <th>Diabetes</th>\n",
       "      <th>Family History</th>\n",
       "      <th>Smoking</th>\n",
       "      <th>Obesity</th>\n",
       "      <th>Alcohol Consumption</th>\n",
       "      <th>Exercise Hours Per Week</th>\n",
       "      <th>...</th>\n",
       "      <th>Continent_North America</th>\n",
       "      <th>Continent_South America</th>\n",
       "      <th>Physical Activity Days Per Week_0</th>\n",
       "      <th>Physical Activity Days Per Week_1</th>\n",
       "      <th>Physical Activity Days Per Week_2</th>\n",
       "      <th>Physical Activity Days Per Week_3</th>\n",
       "      <th>Physical Activity Days Per Week_4</th>\n",
       "      <th>Physical Activity Days Per Week_5</th>\n",
       "      <th>Physical Activity Days Per Week_6</th>\n",
       "      <th>Physical Activity Days Per Week_7</th>\n",
       "    </tr>\n",
       "  </thead>\n",
       "  <tbody>\n",
       "    <tr>\n",
       "      <th>0</th>\n",
       "      <td>67</td>\n",
       "      <td>0</td>\n",
       "      <td>208</td>\n",
       "      <td>72</td>\n",
       "      <td>0</td>\n",
       "      <td>0</td>\n",
       "      <td>1</td>\n",
       "      <td>0</td>\n",
       "      <td>0</td>\n",
       "      <td>4.168189</td>\n",
       "      <td>...</td>\n",
       "      <td>0</td>\n",
       "      <td>1</td>\n",
       "      <td>1</td>\n",
       "      <td>0</td>\n",
       "      <td>0</td>\n",
       "      <td>0</td>\n",
       "      <td>0</td>\n",
       "      <td>0</td>\n",
       "      <td>0</td>\n",
       "      <td>0</td>\n",
       "    </tr>\n",
       "  </tbody>\n",
       "</table>\n",
       "<p>1 rows × 38 columns</p>\n",
       "</div>"
      ],
      "text/plain": [
       "   Age  Sex  Cholesterol  Heart Rate  Diabetes  Family History  Smoking  \\\n",
       "0   67    0          208          72         0               0        1   \n",
       "\n",
       "   Obesity  Alcohol Consumption  Exercise Hours Per Week  ...  \\\n",
       "0        0                    0                 4.168189  ...   \n",
       "\n",
       "  Continent_North America  Continent_South America  \\\n",
       "0                       0                        1   \n",
       "\n",
       "   Physical Activity Days Per Week_0  Physical Activity Days Per Week_1  \\\n",
       "0                                  1                                  0   \n",
       "\n",
       "   Physical Activity Days Per Week_2  Physical Activity Days Per Week_3  \\\n",
       "0                                  0                                  0   \n",
       "\n",
       "   Physical Activity Days Per Week_4  Physical Activity Days Per Week_5  \\\n",
       "0                                  0                                  0   \n",
       "\n",
       "   Physical Activity Days Per Week_6 Physical Activity Days Per Week_7  \n",
       "0                                  0                                 0  \n",
       "\n",
       "[1 rows x 38 columns]"
      ]
     },
     "execution_count": 29,
     "metadata": {},
     "output_type": "execute_result"
    }
   ],
   "source": [
    "df.head(1)"
   ]
  },
  {
   "cell_type": "code",
   "execution_count": 30,
   "metadata": {},
   "outputs": [],
   "source": [
    "df.drop('Triglycerides', axis = 1, inplace=True)"
   ]
  },
  {
   "cell_type": "code",
   "execution_count": 31,
   "metadata": {},
   "outputs": [
    {
     "data": {
      "text/plain": [
       "Index(['Age', 'Sex', 'Cholesterol', 'Heart Rate', 'Diabetes', 'Family History',\n",
       "       'Smoking', 'Obesity', 'Alcohol Consumption', 'Exercise Hours Per Week',\n",
       "       'Diet', 'Previous Heart Problems', 'Medication Use',\n",
       "       'Sedentary Hours Per Day', 'Income', 'BMI',\n",
       "       'Physical Activity Days Per Week', 'Sleep Hours Per Day', 'Continent',\n",
       "       'Heart Attack Risk', 'Diet_Average', 'Diet_Healthy', 'Diet_Unhealthy',\n",
       "       'Continent_Africa', 'Continent_Asia', 'Continent_Australia',\n",
       "       'Continent_Europe', 'Continent_North America',\n",
       "       'Continent_South America', 'Physical Activity Days Per Week_0',\n",
       "       'Physical Activity Days Per Week_1',\n",
       "       'Physical Activity Days Per Week_2',\n",
       "       'Physical Activity Days Per Week_3',\n",
       "       'Physical Activity Days Per Week_4',\n",
       "       'Physical Activity Days Per Week_5',\n",
       "       'Physical Activity Days Per Week_6',\n",
       "       'Physical Activity Days Per Week_7'],\n",
       "      dtype='object')"
      ]
     },
     "execution_count": 31,
     "metadata": {},
     "output_type": "execute_result"
    }
   ],
   "source": [
    "df.columns"
   ]
  },
  {
   "cell_type": "code",
   "execution_count": 32,
   "metadata": {},
   "outputs": [],
   "source": [
    "df.drop('BMI', axis = 1, inplace = True)"
   ]
  },
  {
   "cell_type": "code",
   "execution_count": 33,
   "metadata": {},
   "outputs": [
    {
     "data": {
      "text/plain": [
       "Age                                  0\n",
       "Sex                                  0\n",
       "Cholesterol                          0\n",
       "Heart Rate                           0\n",
       "Diabetes                             0\n",
       "Family History                       0\n",
       "Smoking                              0\n",
       "Obesity                              0\n",
       "Alcohol Consumption                  0\n",
       "Exercise Hours Per Week              0\n",
       "Diet                                 0\n",
       "Previous Heart Problems              0\n",
       "Medication Use                       0\n",
       "Sedentary Hours Per Day              0\n",
       "Income                               0\n",
       "Physical Activity Days Per Week      0\n",
       "Sleep Hours Per Day                  0\n",
       "Continent                            0\n",
       "Heart Attack Risk                    0\n",
       "Diet_Average                         0\n",
       "Diet_Healthy                         0\n",
       "Diet_Unhealthy                       0\n",
       "Continent_Africa                     0\n",
       "Continent_Asia                       0\n",
       "Continent_Australia                  0\n",
       "Continent_Europe                     0\n",
       "Continent_North America              0\n",
       "Continent_South America              0\n",
       "Physical Activity Days Per Week_0    0\n",
       "Physical Activity Days Per Week_1    0\n",
       "Physical Activity Days Per Week_2    0\n",
       "Physical Activity Days Per Week_3    0\n",
       "Physical Activity Days Per Week_4    0\n",
       "Physical Activity Days Per Week_5    0\n",
       "Physical Activity Days Per Week_6    0\n",
       "Physical Activity Days Per Week_7    0\n",
       "dtype: int64"
      ]
     },
     "execution_count": 33,
     "metadata": {},
     "output_type": "execute_result"
    }
   ],
   "source": [
    "df.isnull().sum()"
   ]
  },
  {
   "cell_type": "code",
   "execution_count": 34,
   "metadata": {},
   "outputs": [],
   "source": [
    "from sklearn.preprocessing import MinMaxScaler\n"
   ]
  },
  {
   "cell_type": "code",
   "execution_count": 35,
   "metadata": {},
   "outputs": [
    {
     "data": {
      "text/html": [
       "<div>\n",
       "<style scoped>\n",
       "    .dataframe tbody tr th:only-of-type {\n",
       "        vertical-align: middle;\n",
       "    }\n",
       "\n",
       "    .dataframe tbody tr th {\n",
       "        vertical-align: top;\n",
       "    }\n",
       "\n",
       "    .dataframe thead th {\n",
       "        text-align: right;\n",
       "    }\n",
       "</style>\n",
       "<table border=\"1\" class=\"dataframe\">\n",
       "  <thead>\n",
       "    <tr style=\"text-align: right;\">\n",
       "      <th></th>\n",
       "      <th>Age</th>\n",
       "      <th>Cholesterol</th>\n",
       "      <th>Heart Rate</th>\n",
       "      <th>Exercise Hours Per Week</th>\n",
       "      <th>Sedentary Hours Per Day</th>\n",
       "      <th>Income</th>\n",
       "      <th>Sleep Hours Per Day</th>\n",
       "    </tr>\n",
       "  </thead>\n",
       "  <tbody>\n",
       "    <tr>\n",
       "      <th>0</th>\n",
       "      <td>67</td>\n",
       "      <td>208</td>\n",
       "      <td>72</td>\n",
       "      <td>4.168189</td>\n",
       "      <td>6.615001</td>\n",
       "      <td>261404</td>\n",
       "      <td>6</td>\n",
       "    </tr>\n",
       "    <tr>\n",
       "      <th>1</th>\n",
       "      <td>21</td>\n",
       "      <td>389</td>\n",
       "      <td>98</td>\n",
       "      <td>1.813242</td>\n",
       "      <td>4.963459</td>\n",
       "      <td>285768</td>\n",
       "      <td>7</td>\n",
       "    </tr>\n",
       "    <tr>\n",
       "      <th>2</th>\n",
       "      <td>21</td>\n",
       "      <td>324</td>\n",
       "      <td>72</td>\n",
       "      <td>2.078353</td>\n",
       "      <td>9.463426</td>\n",
       "      <td>235282</td>\n",
       "      <td>4</td>\n",
       "    </tr>\n",
       "    <tr>\n",
       "      <th>3</th>\n",
       "      <td>84</td>\n",
       "      <td>383</td>\n",
       "      <td>73</td>\n",
       "      <td>9.828130</td>\n",
       "      <td>7.648981</td>\n",
       "      <td>125640</td>\n",
       "      <td>4</td>\n",
       "    </tr>\n",
       "    <tr>\n",
       "      <th>4</th>\n",
       "      <td>66</td>\n",
       "      <td>318</td>\n",
       "      <td>93</td>\n",
       "      <td>5.804299</td>\n",
       "      <td>1.514821</td>\n",
       "      <td>160555</td>\n",
       "      <td>5</td>\n",
       "    </tr>\n",
       "    <tr>\n",
       "      <th>...</th>\n",
       "      <td>...</td>\n",
       "      <td>...</td>\n",
       "      <td>...</td>\n",
       "      <td>...</td>\n",
       "      <td>...</td>\n",
       "      <td>...</td>\n",
       "      <td>...</td>\n",
       "    </tr>\n",
       "    <tr>\n",
       "      <th>8758</th>\n",
       "      <td>60</td>\n",
       "      <td>121</td>\n",
       "      <td>61</td>\n",
       "      <td>7.917342</td>\n",
       "      <td>10.806373</td>\n",
       "      <td>235420</td>\n",
       "      <td>7</td>\n",
       "    </tr>\n",
       "    <tr>\n",
       "      <th>8759</th>\n",
       "      <td>28</td>\n",
       "      <td>120</td>\n",
       "      <td>73</td>\n",
       "      <td>16.558426</td>\n",
       "      <td>3.833038</td>\n",
       "      <td>217881</td>\n",
       "      <td>9</td>\n",
       "    </tr>\n",
       "    <tr>\n",
       "      <th>8760</th>\n",
       "      <td>47</td>\n",
       "      <td>250</td>\n",
       "      <td>105</td>\n",
       "      <td>3.148438</td>\n",
       "      <td>2.375214</td>\n",
       "      <td>36998</td>\n",
       "      <td>4</td>\n",
       "    </tr>\n",
       "    <tr>\n",
       "      <th>8761</th>\n",
       "      <td>36</td>\n",
       "      <td>178</td>\n",
       "      <td>60</td>\n",
       "      <td>3.789950</td>\n",
       "      <td>0.029104</td>\n",
       "      <td>209943</td>\n",
       "      <td>8</td>\n",
       "    </tr>\n",
       "    <tr>\n",
       "      <th>8762</th>\n",
       "      <td>25</td>\n",
       "      <td>356</td>\n",
       "      <td>75</td>\n",
       "      <td>18.081748</td>\n",
       "      <td>9.005234</td>\n",
       "      <td>247338</td>\n",
       "      <td>4</td>\n",
       "    </tr>\n",
       "  </tbody>\n",
       "</table>\n",
       "<p>8763 rows × 7 columns</p>\n",
       "</div>"
      ],
      "text/plain": [
       "      Age  Cholesterol  Heart Rate  Exercise Hours Per Week  \\\n",
       "0      67          208          72                 4.168189   \n",
       "1      21          389          98                 1.813242   \n",
       "2      21          324          72                 2.078353   \n",
       "3      84          383          73                 9.828130   \n",
       "4      66          318          93                 5.804299   \n",
       "...   ...          ...         ...                      ...   \n",
       "8758   60          121          61                 7.917342   \n",
       "8759   28          120          73                16.558426   \n",
       "8760   47          250         105                 3.148438   \n",
       "8761   36          178          60                 3.789950   \n",
       "8762   25          356          75                18.081748   \n",
       "\n",
       "      Sedentary Hours Per Day  Income  Sleep Hours Per Day  \n",
       "0                    6.615001  261404                    6  \n",
       "1                    4.963459  285768                    7  \n",
       "2                    9.463426  235282                    4  \n",
       "3                    7.648981  125640                    4  \n",
       "4                    1.514821  160555                    5  \n",
       "...                       ...     ...                  ...  \n",
       "8758                10.806373  235420                    7  \n",
       "8759                 3.833038  217881                    9  \n",
       "8760                 2.375214   36998                    4  \n",
       "8761                 0.029104  209943                    8  \n",
       "8762                 9.005234  247338                    4  \n",
       "\n",
       "[8763 rows x 7 columns]"
      ]
     },
     "execution_count": 35,
     "metadata": {},
     "output_type": "execute_result"
    }
   ],
   "source": [
    "fl_columns = ['Age','Cholesterol', 'Heart Rate', 'Exercise Hours Per Week', 'Sedentary Hours Per Day', 'Income', 'Sleep Hours Per Day' ]\n",
    "df[fl_columns]"
   ]
  },
  {
   "cell_type": "code",
   "execution_count": 36,
   "metadata": {},
   "outputs": [
    {
     "name": "stdout",
     "output_type": "stream",
     "text": [
      "           Age  Cholesterol  Heart Rate  Exercise Hours Per Week  \\\n",
      "0     0.680556     0.314286    0.457143                 0.208326   \n",
      "1     0.041667     0.960714    0.828571                 0.090557   \n",
      "2     0.041667     0.728571    0.457143                 0.103815   \n",
      "3     0.916667     0.939286    0.471429                 0.491376   \n",
      "4     0.666667     0.707143    0.757143                 0.290147   \n",
      "...        ...          ...         ...                      ...   \n",
      "8758  0.583333     0.003571    0.300000                 0.395819   \n",
      "8759  0.138889     0.000000    0.471429                 0.827954   \n",
      "8760  0.402778     0.464286    0.928571                 0.157329   \n",
      "8761  0.250000     0.207143    0.285714                 0.189411   \n",
      "8762  0.097222     0.842857    0.500000                 0.904134   \n",
      "\n",
      "      Sedentary Hours Per Day    Income  Sleep Hours Per Day  \n",
      "0                    0.551234  0.862268             0.333333  \n",
      "1                    0.413584  0.949316             0.500000  \n",
      "2                    0.788642  0.768939             0.000000  \n",
      "3                    0.637413  0.377210             0.000000  \n",
      "4                    0.126150  0.501954             0.166667  \n",
      "...                       ...       ...                  ...  \n",
      "8758                 0.900572  0.769432             0.500000  \n",
      "8759                 0.319366  0.706769             0.833333  \n",
      "8760                 0.197861  0.060509             0.000000  \n",
      "8761                 0.002320  0.678408             0.666667  \n",
      "8762                 0.750453  0.812013             0.000000  \n",
      "\n",
      "[8763 rows x 7 columns]\n"
     ]
    }
   ],
   "source": [
    "minmax = MinMaxScaler()\n",
    "data_scaled = minmax.fit_transform(df[fl_columns])\n",
    "scaled_df = pd.DataFrame(data_scaled, columns = fl_columns)\n",
    "print(scaled_df)"
   ]
  },
  {
   "cell_type": "code",
   "execution_count": 37,
   "metadata": {},
   "outputs": [],
   "source": [
    "df.drop(fl_columns, axis =1 , inplace = True)\n"
   ]
  },
  {
   "cell_type": "code",
   "execution_count": 38,
   "metadata": {},
   "outputs": [
    {
     "data": {
      "text/html": [
       "<div>\n",
       "<style scoped>\n",
       "    .dataframe tbody tr th:only-of-type {\n",
       "        vertical-align: middle;\n",
       "    }\n",
       "\n",
       "    .dataframe tbody tr th {\n",
       "        vertical-align: top;\n",
       "    }\n",
       "\n",
       "    .dataframe thead th {\n",
       "        text-align: right;\n",
       "    }\n",
       "</style>\n",
       "<table border=\"1\" class=\"dataframe\">\n",
       "  <thead>\n",
       "    <tr style=\"text-align: right;\">\n",
       "      <th></th>\n",
       "      <th>Age</th>\n",
       "      <th>Cholesterol</th>\n",
       "      <th>Heart Rate</th>\n",
       "      <th>Exercise Hours Per Week</th>\n",
       "      <th>Sedentary Hours Per Day</th>\n",
       "      <th>Income</th>\n",
       "      <th>Sleep Hours Per Day</th>\n",
       "      <th>Sex</th>\n",
       "      <th>Diabetes</th>\n",
       "      <th>Family History</th>\n",
       "      <th>...</th>\n",
       "      <th>Continent_North America</th>\n",
       "      <th>Continent_South America</th>\n",
       "      <th>Physical Activity Days Per Week_0</th>\n",
       "      <th>Physical Activity Days Per Week_1</th>\n",
       "      <th>Physical Activity Days Per Week_2</th>\n",
       "      <th>Physical Activity Days Per Week_3</th>\n",
       "      <th>Physical Activity Days Per Week_4</th>\n",
       "      <th>Physical Activity Days Per Week_5</th>\n",
       "      <th>Physical Activity Days Per Week_6</th>\n",
       "      <th>Physical Activity Days Per Week_7</th>\n",
       "    </tr>\n",
       "  </thead>\n",
       "  <tbody>\n",
       "    <tr>\n",
       "      <th>0</th>\n",
       "      <td>0.680556</td>\n",
       "      <td>0.314286</td>\n",
       "      <td>0.457143</td>\n",
       "      <td>0.208326</td>\n",
       "      <td>0.551234</td>\n",
       "      <td>0.862268</td>\n",
       "      <td>0.333333</td>\n",
       "      <td>0</td>\n",
       "      <td>0</td>\n",
       "      <td>0</td>\n",
       "      <td>...</td>\n",
       "      <td>0</td>\n",
       "      <td>1</td>\n",
       "      <td>1</td>\n",
       "      <td>0</td>\n",
       "      <td>0</td>\n",
       "      <td>0</td>\n",
       "      <td>0</td>\n",
       "      <td>0</td>\n",
       "      <td>0</td>\n",
       "      <td>0</td>\n",
       "    </tr>\n",
       "    <tr>\n",
       "      <th>1</th>\n",
       "      <td>0.041667</td>\n",
       "      <td>0.960714</td>\n",
       "      <td>0.828571</td>\n",
       "      <td>0.090557</td>\n",
       "      <td>0.413584</td>\n",
       "      <td>0.949316</td>\n",
       "      <td>0.500000</td>\n",
       "      <td>0</td>\n",
       "      <td>1</td>\n",
       "      <td>1</td>\n",
       "      <td>...</td>\n",
       "      <td>1</td>\n",
       "      <td>0</td>\n",
       "      <td>0</td>\n",
       "      <td>1</td>\n",
       "      <td>0</td>\n",
       "      <td>0</td>\n",
       "      <td>0</td>\n",
       "      <td>0</td>\n",
       "      <td>0</td>\n",
       "      <td>0</td>\n",
       "    </tr>\n",
       "    <tr>\n",
       "      <th>2</th>\n",
       "      <td>0.041667</td>\n",
       "      <td>0.728571</td>\n",
       "      <td>0.457143</td>\n",
       "      <td>0.103815</td>\n",
       "      <td>0.788642</td>\n",
       "      <td>0.768939</td>\n",
       "      <td>0.000000</td>\n",
       "      <td>1</td>\n",
       "      <td>1</td>\n",
       "      <td>0</td>\n",
       "      <td>...</td>\n",
       "      <td>0</td>\n",
       "      <td>0</td>\n",
       "      <td>0</td>\n",
       "      <td>0</td>\n",
       "      <td>0</td>\n",
       "      <td>0</td>\n",
       "      <td>1</td>\n",
       "      <td>0</td>\n",
       "      <td>0</td>\n",
       "      <td>0</td>\n",
       "    </tr>\n",
       "    <tr>\n",
       "      <th>3</th>\n",
       "      <td>0.916667</td>\n",
       "      <td>0.939286</td>\n",
       "      <td>0.471429</td>\n",
       "      <td>0.491376</td>\n",
       "      <td>0.637413</td>\n",
       "      <td>0.377210</td>\n",
       "      <td>0.000000</td>\n",
       "      <td>0</td>\n",
       "      <td>1</td>\n",
       "      <td>1</td>\n",
       "      <td>...</td>\n",
       "      <td>1</td>\n",
       "      <td>0</td>\n",
       "      <td>0</td>\n",
       "      <td>0</td>\n",
       "      <td>0</td>\n",
       "      <td>1</td>\n",
       "      <td>0</td>\n",
       "      <td>0</td>\n",
       "      <td>0</td>\n",
       "      <td>0</td>\n",
       "    </tr>\n",
       "    <tr>\n",
       "      <th>4</th>\n",
       "      <td>0.666667</td>\n",
       "      <td>0.707143</td>\n",
       "      <td>0.757143</td>\n",
       "      <td>0.290147</td>\n",
       "      <td>0.126150</td>\n",
       "      <td>0.501954</td>\n",
       "      <td>0.166667</td>\n",
       "      <td>0</td>\n",
       "      <td>1</td>\n",
       "      <td>1</td>\n",
       "      <td>...</td>\n",
       "      <td>0</td>\n",
       "      <td>0</td>\n",
       "      <td>0</td>\n",
       "      <td>1</td>\n",
       "      <td>0</td>\n",
       "      <td>0</td>\n",
       "      <td>0</td>\n",
       "      <td>0</td>\n",
       "      <td>0</td>\n",
       "      <td>0</td>\n",
       "    </tr>\n",
       "  </tbody>\n",
       "</table>\n",
       "<p>5 rows × 34 columns</p>\n",
       "</div>"
      ],
      "text/plain": [
       "        Age  Cholesterol  Heart Rate  Exercise Hours Per Week  \\\n",
       "0  0.680556     0.314286    0.457143                 0.208326   \n",
       "1  0.041667     0.960714    0.828571                 0.090557   \n",
       "2  0.041667     0.728571    0.457143                 0.103815   \n",
       "3  0.916667     0.939286    0.471429                 0.491376   \n",
       "4  0.666667     0.707143    0.757143                 0.290147   \n",
       "\n",
       "   Sedentary Hours Per Day    Income  Sleep Hours Per Day  Sex  Diabetes  \\\n",
       "0                 0.551234  0.862268             0.333333    0         0   \n",
       "1                 0.413584  0.949316             0.500000    0         1   \n",
       "2                 0.788642  0.768939             0.000000    1         1   \n",
       "3                 0.637413  0.377210             0.000000    0         1   \n",
       "4                 0.126150  0.501954             0.166667    0         1   \n",
       "\n",
       "   Family History  ...  Continent_North America  Continent_South America  \\\n",
       "0               0  ...                        0                        1   \n",
       "1               1  ...                        1                        0   \n",
       "2               0  ...                        0                        0   \n",
       "3               1  ...                        1                        0   \n",
       "4               1  ...                        0                        0   \n",
       "\n",
       "   Physical Activity Days Per Week_0  Physical Activity Days Per Week_1  \\\n",
       "0                                  1                                  0   \n",
       "1                                  0                                  1   \n",
       "2                                  0                                  0   \n",
       "3                                  0                                  0   \n",
       "4                                  0                                  1   \n",
       "\n",
       "   Physical Activity Days Per Week_2  Physical Activity Days Per Week_3  \\\n",
       "0                                  0                                  0   \n",
       "1                                  0                                  0   \n",
       "2                                  0                                  0   \n",
       "3                                  0                                  1   \n",
       "4                                  0                                  0   \n",
       "\n",
       "   Physical Activity Days Per Week_4  Physical Activity Days Per Week_5  \\\n",
       "0                                  0                                  0   \n",
       "1                                  0                                  0   \n",
       "2                                  1                                  0   \n",
       "3                                  0                                  0   \n",
       "4                                  0                                  0   \n",
       "\n",
       "   Physical Activity Days Per Week_6  Physical Activity Days Per Week_7  \n",
       "0                                  0                                  0  \n",
       "1                                  0                                  0  \n",
       "2                                  0                                  0  \n",
       "3                                  0                                  0  \n",
       "4                                  0                                  0  \n",
       "\n",
       "[5 rows x 34 columns]"
      ]
     },
     "execution_count": 38,
     "metadata": {},
     "output_type": "execute_result"
    }
   ],
   "source": [
    "df = pd.concat([scaled_df, df.select_dtypes(include= 'int64')], axis = 1)\n",
    "df.head()"
   ]
  },
  {
   "cell_type": "code",
   "execution_count": 39,
   "metadata": {},
   "outputs": [
    {
     "data": {
      "text/html": [
       "<div>\n",
       "<style scoped>\n",
       "    .dataframe tbody tr th:only-of-type {\n",
       "        vertical-align: middle;\n",
       "    }\n",
       "\n",
       "    .dataframe tbody tr th {\n",
       "        vertical-align: top;\n",
       "    }\n",
       "\n",
       "    .dataframe thead th {\n",
       "        text-align: right;\n",
       "    }\n",
       "</style>\n",
       "<table border=\"1\" class=\"dataframe\">\n",
       "  <thead>\n",
       "    <tr style=\"text-align: right;\">\n",
       "      <th></th>\n",
       "      <th>Age</th>\n",
       "      <th>Cholesterol</th>\n",
       "      <th>Heart Rate</th>\n",
       "      <th>Exercise Hours Per Week</th>\n",
       "      <th>Sedentary Hours Per Day</th>\n",
       "      <th>Income</th>\n",
       "      <th>Sleep Hours Per Day</th>\n",
       "      <th>Sex</th>\n",
       "      <th>Diabetes</th>\n",
       "      <th>Family History</th>\n",
       "      <th>...</th>\n",
       "      <th>Continent_North America</th>\n",
       "      <th>Continent_South America</th>\n",
       "      <th>Physical Activity Days Per Week_0</th>\n",
       "      <th>Physical Activity Days Per Week_1</th>\n",
       "      <th>Physical Activity Days Per Week_2</th>\n",
       "      <th>Physical Activity Days Per Week_3</th>\n",
       "      <th>Physical Activity Days Per Week_4</th>\n",
       "      <th>Physical Activity Days Per Week_5</th>\n",
       "      <th>Physical Activity Days Per Week_6</th>\n",
       "      <th>Physical Activity Days Per Week_7</th>\n",
       "    </tr>\n",
       "  </thead>\n",
       "  <tbody>\n",
       "    <tr>\n",
       "      <th>0</th>\n",
       "      <td>0.680556</td>\n",
       "      <td>0.314286</td>\n",
       "      <td>0.457143</td>\n",
       "      <td>0.208326</td>\n",
       "      <td>0.551234</td>\n",
       "      <td>0.862268</td>\n",
       "      <td>0.333333</td>\n",
       "      <td>0</td>\n",
       "      <td>0</td>\n",
       "      <td>0</td>\n",
       "      <td>...</td>\n",
       "      <td>0</td>\n",
       "      <td>1</td>\n",
       "      <td>1</td>\n",
       "      <td>0</td>\n",
       "      <td>0</td>\n",
       "      <td>0</td>\n",
       "      <td>0</td>\n",
       "      <td>0</td>\n",
       "      <td>0</td>\n",
       "      <td>0</td>\n",
       "    </tr>\n",
       "    <tr>\n",
       "      <th>1</th>\n",
       "      <td>0.041667</td>\n",
       "      <td>0.960714</td>\n",
       "      <td>0.828571</td>\n",
       "      <td>0.090557</td>\n",
       "      <td>0.413584</td>\n",
       "      <td>0.949316</td>\n",
       "      <td>0.500000</td>\n",
       "      <td>0</td>\n",
       "      <td>1</td>\n",
       "      <td>1</td>\n",
       "      <td>...</td>\n",
       "      <td>1</td>\n",
       "      <td>0</td>\n",
       "      <td>0</td>\n",
       "      <td>1</td>\n",
       "      <td>0</td>\n",
       "      <td>0</td>\n",
       "      <td>0</td>\n",
       "      <td>0</td>\n",
       "      <td>0</td>\n",
       "      <td>0</td>\n",
       "    </tr>\n",
       "    <tr>\n",
       "      <th>2</th>\n",
       "      <td>0.041667</td>\n",
       "      <td>0.728571</td>\n",
       "      <td>0.457143</td>\n",
       "      <td>0.103815</td>\n",
       "      <td>0.788642</td>\n",
       "      <td>0.768939</td>\n",
       "      <td>0.000000</td>\n",
       "      <td>1</td>\n",
       "      <td>1</td>\n",
       "      <td>0</td>\n",
       "      <td>...</td>\n",
       "      <td>0</td>\n",
       "      <td>0</td>\n",
       "      <td>0</td>\n",
       "      <td>0</td>\n",
       "      <td>0</td>\n",
       "      <td>0</td>\n",
       "      <td>1</td>\n",
       "      <td>0</td>\n",
       "      <td>0</td>\n",
       "      <td>0</td>\n",
       "    </tr>\n",
       "    <tr>\n",
       "      <th>3</th>\n",
       "      <td>0.916667</td>\n",
       "      <td>0.939286</td>\n",
       "      <td>0.471429</td>\n",
       "      <td>0.491376</td>\n",
       "      <td>0.637413</td>\n",
       "      <td>0.377210</td>\n",
       "      <td>0.000000</td>\n",
       "      <td>0</td>\n",
       "      <td>1</td>\n",
       "      <td>1</td>\n",
       "      <td>...</td>\n",
       "      <td>1</td>\n",
       "      <td>0</td>\n",
       "      <td>0</td>\n",
       "      <td>0</td>\n",
       "      <td>0</td>\n",
       "      <td>1</td>\n",
       "      <td>0</td>\n",
       "      <td>0</td>\n",
       "      <td>0</td>\n",
       "      <td>0</td>\n",
       "    </tr>\n",
       "    <tr>\n",
       "      <th>4</th>\n",
       "      <td>0.666667</td>\n",
       "      <td>0.707143</td>\n",
       "      <td>0.757143</td>\n",
       "      <td>0.290147</td>\n",
       "      <td>0.126150</td>\n",
       "      <td>0.501954</td>\n",
       "      <td>0.166667</td>\n",
       "      <td>0</td>\n",
       "      <td>1</td>\n",
       "      <td>1</td>\n",
       "      <td>...</td>\n",
       "      <td>0</td>\n",
       "      <td>0</td>\n",
       "      <td>0</td>\n",
       "      <td>1</td>\n",
       "      <td>0</td>\n",
       "      <td>0</td>\n",
       "      <td>0</td>\n",
       "      <td>0</td>\n",
       "      <td>0</td>\n",
       "      <td>0</td>\n",
       "    </tr>\n",
       "    <tr>\n",
       "      <th>...</th>\n",
       "      <td>...</td>\n",
       "      <td>...</td>\n",
       "      <td>...</td>\n",
       "      <td>...</td>\n",
       "      <td>...</td>\n",
       "      <td>...</td>\n",
       "      <td>...</td>\n",
       "      <td>...</td>\n",
       "      <td>...</td>\n",
       "      <td>...</td>\n",
       "      <td>...</td>\n",
       "      <td>...</td>\n",
       "      <td>...</td>\n",
       "      <td>...</td>\n",
       "      <td>...</td>\n",
       "      <td>...</td>\n",
       "      <td>...</td>\n",
       "      <td>...</td>\n",
       "      <td>...</td>\n",
       "      <td>...</td>\n",
       "      <td>...</td>\n",
       "    </tr>\n",
       "    <tr>\n",
       "      <th>8758</th>\n",
       "      <td>0.583333</td>\n",
       "      <td>0.003571</td>\n",
       "      <td>0.300000</td>\n",
       "      <td>0.395819</td>\n",
       "      <td>0.900572</td>\n",
       "      <td>0.769432</td>\n",
       "      <td>0.500000</td>\n",
       "      <td>0</td>\n",
       "      <td>1</td>\n",
       "      <td>1</td>\n",
       "      <td>...</td>\n",
       "      <td>0</td>\n",
       "      <td>0</td>\n",
       "      <td>0</td>\n",
       "      <td>0</td>\n",
       "      <td>0</td>\n",
       "      <td>0</td>\n",
       "      <td>0</td>\n",
       "      <td>0</td>\n",
       "      <td>0</td>\n",
       "      <td>1</td>\n",
       "    </tr>\n",
       "    <tr>\n",
       "      <th>8759</th>\n",
       "      <td>0.138889</td>\n",
       "      <td>0.000000</td>\n",
       "      <td>0.471429</td>\n",
       "      <td>0.827954</td>\n",
       "      <td>0.319366</td>\n",
       "      <td>0.706769</td>\n",
       "      <td>0.833333</td>\n",
       "      <td>1</td>\n",
       "      <td>1</td>\n",
       "      <td>0</td>\n",
       "      <td>...</td>\n",
       "      <td>1</td>\n",
       "      <td>0</td>\n",
       "      <td>0</td>\n",
       "      <td>0</td>\n",
       "      <td>0</td>\n",
       "      <td>0</td>\n",
       "      <td>1</td>\n",
       "      <td>0</td>\n",
       "      <td>0</td>\n",
       "      <td>0</td>\n",
       "    </tr>\n",
       "    <tr>\n",
       "      <th>8760</th>\n",
       "      <td>0.402778</td>\n",
       "      <td>0.464286</td>\n",
       "      <td>0.928571</td>\n",
       "      <td>0.157329</td>\n",
       "      <td>0.197861</td>\n",
       "      <td>0.060509</td>\n",
       "      <td>0.000000</td>\n",
       "      <td>0</td>\n",
       "      <td>0</td>\n",
       "      <td>1</td>\n",
       "      <td>...</td>\n",
       "      <td>0</td>\n",
       "      <td>1</td>\n",
       "      <td>0</td>\n",
       "      <td>0</td>\n",
       "      <td>0</td>\n",
       "      <td>0</td>\n",
       "      <td>1</td>\n",
       "      <td>0</td>\n",
       "      <td>0</td>\n",
       "      <td>0</td>\n",
       "    </tr>\n",
       "    <tr>\n",
       "      <th>8761</th>\n",
       "      <td>0.250000</td>\n",
       "      <td>0.207143</td>\n",
       "      <td>0.285714</td>\n",
       "      <td>0.189411</td>\n",
       "      <td>0.002320</td>\n",
       "      <td>0.678408</td>\n",
       "      <td>0.666667</td>\n",
       "      <td>0</td>\n",
       "      <td>1</td>\n",
       "      <td>0</td>\n",
       "      <td>...</td>\n",
       "      <td>0</td>\n",
       "      <td>1</td>\n",
       "      <td>0</td>\n",
       "      <td>0</td>\n",
       "      <td>1</td>\n",
       "      <td>0</td>\n",
       "      <td>0</td>\n",
       "      <td>0</td>\n",
       "      <td>0</td>\n",
       "      <td>0</td>\n",
       "    </tr>\n",
       "    <tr>\n",
       "      <th>8762</th>\n",
       "      <td>0.097222</td>\n",
       "      <td>0.842857</td>\n",
       "      <td>0.500000</td>\n",
       "      <td>0.904134</td>\n",
       "      <td>0.750453</td>\n",
       "      <td>0.812013</td>\n",
       "      <td>0.000000</td>\n",
       "      <td>1</td>\n",
       "      <td>1</td>\n",
       "      <td>1</td>\n",
       "      <td>...</td>\n",
       "      <td>0</td>\n",
       "      <td>0</td>\n",
       "      <td>0</td>\n",
       "      <td>0</td>\n",
       "      <td>0</td>\n",
       "      <td>0</td>\n",
       "      <td>0</td>\n",
       "      <td>0</td>\n",
       "      <td>0</td>\n",
       "      <td>1</td>\n",
       "    </tr>\n",
       "  </tbody>\n",
       "</table>\n",
       "<p>8763 rows × 34 columns</p>\n",
       "</div>"
      ],
      "text/plain": [
       "           Age  Cholesterol  Heart Rate  Exercise Hours Per Week  \\\n",
       "0     0.680556     0.314286    0.457143                 0.208326   \n",
       "1     0.041667     0.960714    0.828571                 0.090557   \n",
       "2     0.041667     0.728571    0.457143                 0.103815   \n",
       "3     0.916667     0.939286    0.471429                 0.491376   \n",
       "4     0.666667     0.707143    0.757143                 0.290147   \n",
       "...        ...          ...         ...                      ...   \n",
       "8758  0.583333     0.003571    0.300000                 0.395819   \n",
       "8759  0.138889     0.000000    0.471429                 0.827954   \n",
       "8760  0.402778     0.464286    0.928571                 0.157329   \n",
       "8761  0.250000     0.207143    0.285714                 0.189411   \n",
       "8762  0.097222     0.842857    0.500000                 0.904134   \n",
       "\n",
       "      Sedentary Hours Per Day    Income  Sleep Hours Per Day  Sex  Diabetes  \\\n",
       "0                    0.551234  0.862268             0.333333    0         0   \n",
       "1                    0.413584  0.949316             0.500000    0         1   \n",
       "2                    0.788642  0.768939             0.000000    1         1   \n",
       "3                    0.637413  0.377210             0.000000    0         1   \n",
       "4                    0.126150  0.501954             0.166667    0         1   \n",
       "...                       ...       ...                  ...  ...       ...   \n",
       "8758                 0.900572  0.769432             0.500000    0         1   \n",
       "8759                 0.319366  0.706769             0.833333    1         1   \n",
       "8760                 0.197861  0.060509             0.000000    0         0   \n",
       "8761                 0.002320  0.678408             0.666667    0         1   \n",
       "8762                 0.750453  0.812013             0.000000    1         1   \n",
       "\n",
       "      Family History  ...  Continent_North America  Continent_South America  \\\n",
       "0                  0  ...                        0                        1   \n",
       "1                  1  ...                        1                        0   \n",
       "2                  0  ...                        0                        0   \n",
       "3                  1  ...                        1                        0   \n",
       "4                  1  ...                        0                        0   \n",
       "...              ...  ...                      ...                      ...   \n",
       "8758               1  ...                        0                        0   \n",
       "8759               0  ...                        1                        0   \n",
       "8760               1  ...                        0                        1   \n",
       "8761               0  ...                        0                        1   \n",
       "8762               1  ...                        0                        0   \n",
       "\n",
       "      Physical Activity Days Per Week_0  Physical Activity Days Per Week_1  \\\n",
       "0                                     1                                  0   \n",
       "1                                     0                                  1   \n",
       "2                                     0                                  0   \n",
       "3                                     0                                  0   \n",
       "4                                     0                                  1   \n",
       "...                                 ...                                ...   \n",
       "8758                                  0                                  0   \n",
       "8759                                  0                                  0   \n",
       "8760                                  0                                  0   \n",
       "8761                                  0                                  0   \n",
       "8762                                  0                                  0   \n",
       "\n",
       "      Physical Activity Days Per Week_2  Physical Activity Days Per Week_3  \\\n",
       "0                                     0                                  0   \n",
       "1                                     0                                  0   \n",
       "2                                     0                                  0   \n",
       "3                                     0                                  1   \n",
       "4                                     0                                  0   \n",
       "...                                 ...                                ...   \n",
       "8758                                  0                                  0   \n",
       "8759                                  0                                  0   \n",
       "8760                                  0                                  0   \n",
       "8761                                  1                                  0   \n",
       "8762                                  0                                  0   \n",
       "\n",
       "      Physical Activity Days Per Week_4  Physical Activity Days Per Week_5  \\\n",
       "0                                     0                                  0   \n",
       "1                                     0                                  0   \n",
       "2                                     1                                  0   \n",
       "3                                     0                                  0   \n",
       "4                                     0                                  0   \n",
       "...                                 ...                                ...   \n",
       "8758                                  0                                  0   \n",
       "8759                                  1                                  0   \n",
       "8760                                  1                                  0   \n",
       "8761                                  0                                  0   \n",
       "8762                                  0                                  0   \n",
       "\n",
       "      Physical Activity Days Per Week_6  Physical Activity Days Per Week_7  \n",
       "0                                     0                                  0  \n",
       "1                                     0                                  0  \n",
       "2                                     0                                  0  \n",
       "3                                     0                                  0  \n",
       "4                                     0                                  0  \n",
       "...                                 ...                                ...  \n",
       "8758                                  0                                  1  \n",
       "8759                                  0                                  0  \n",
       "8760                                  0                                  0  \n",
       "8761                                  0                                  0  \n",
       "8762                                  0                                  1  \n",
       "\n",
       "[8763 rows x 34 columns]"
      ]
     },
     "execution_count": 39,
     "metadata": {},
     "output_type": "execute_result"
    }
   ],
   "source": [
    "df "
   ]
  },
  {
   "cell_type": "code",
   "execution_count": 40,
   "metadata": {},
   "outputs": [
    {
     "data": {
      "text/html": [
       "<div>\n",
       "<style scoped>\n",
       "    .dataframe tbody tr th:only-of-type {\n",
       "        vertical-align: middle;\n",
       "    }\n",
       "\n",
       "    .dataframe tbody tr th {\n",
       "        vertical-align: top;\n",
       "    }\n",
       "\n",
       "    .dataframe thead th {\n",
       "        text-align: right;\n",
       "    }\n",
       "</style>\n",
       "<table border=\"1\" class=\"dataframe\">\n",
       "  <thead>\n",
       "    <tr style=\"text-align: right;\">\n",
       "      <th></th>\n",
       "      <th>Age</th>\n",
       "      <th>Cholesterol</th>\n",
       "      <th>Heart Rate</th>\n",
       "      <th>Exercise Hours Per Week</th>\n",
       "      <th>Sedentary Hours Per Day</th>\n",
       "      <th>Income</th>\n",
       "      <th>Sleep Hours Per Day</th>\n",
       "      <th>Sex</th>\n",
       "      <th>Diabetes</th>\n",
       "      <th>Family History</th>\n",
       "      <th>...</th>\n",
       "      <th>Continent_North America</th>\n",
       "      <th>Continent_South America</th>\n",
       "      <th>Physical Activity Days Per Week_0</th>\n",
       "      <th>Physical Activity Days Per Week_1</th>\n",
       "      <th>Physical Activity Days Per Week_2</th>\n",
       "      <th>Physical Activity Days Per Week_3</th>\n",
       "      <th>Physical Activity Days Per Week_4</th>\n",
       "      <th>Physical Activity Days Per Week_5</th>\n",
       "      <th>Physical Activity Days Per Week_6</th>\n",
       "      <th>Physical Activity Days Per Week_7</th>\n",
       "    </tr>\n",
       "  </thead>\n",
       "  <tbody>\n",
       "    <tr>\n",
       "      <th>0</th>\n",
       "      <td>0.680556</td>\n",
       "      <td>0.314286</td>\n",
       "      <td>0.457143</td>\n",
       "      <td>0.208326</td>\n",
       "      <td>0.551234</td>\n",
       "      <td>0.862268</td>\n",
       "      <td>0.333333</td>\n",
       "      <td>0</td>\n",
       "      <td>0</td>\n",
       "      <td>0</td>\n",
       "      <td>...</td>\n",
       "      <td>0</td>\n",
       "      <td>1</td>\n",
       "      <td>1</td>\n",
       "      <td>0</td>\n",
       "      <td>0</td>\n",
       "      <td>0</td>\n",
       "      <td>0</td>\n",
       "      <td>0</td>\n",
       "      <td>0</td>\n",
       "      <td>0</td>\n",
       "    </tr>\n",
       "    <tr>\n",
       "      <th>1</th>\n",
       "      <td>0.041667</td>\n",
       "      <td>0.960714</td>\n",
       "      <td>0.828571</td>\n",
       "      <td>0.090557</td>\n",
       "      <td>0.413584</td>\n",
       "      <td>0.949316</td>\n",
       "      <td>0.500000</td>\n",
       "      <td>0</td>\n",
       "      <td>1</td>\n",
       "      <td>1</td>\n",
       "      <td>...</td>\n",
       "      <td>1</td>\n",
       "      <td>0</td>\n",
       "      <td>0</td>\n",
       "      <td>1</td>\n",
       "      <td>0</td>\n",
       "      <td>0</td>\n",
       "      <td>0</td>\n",
       "      <td>0</td>\n",
       "      <td>0</td>\n",
       "      <td>0</td>\n",
       "    </tr>\n",
       "    <tr>\n",
       "      <th>2</th>\n",
       "      <td>0.041667</td>\n",
       "      <td>0.728571</td>\n",
       "      <td>0.457143</td>\n",
       "      <td>0.103815</td>\n",
       "      <td>0.788642</td>\n",
       "      <td>0.768939</td>\n",
       "      <td>0.000000</td>\n",
       "      <td>1</td>\n",
       "      <td>1</td>\n",
       "      <td>0</td>\n",
       "      <td>...</td>\n",
       "      <td>0</td>\n",
       "      <td>0</td>\n",
       "      <td>0</td>\n",
       "      <td>0</td>\n",
       "      <td>0</td>\n",
       "      <td>0</td>\n",
       "      <td>1</td>\n",
       "      <td>0</td>\n",
       "      <td>0</td>\n",
       "      <td>0</td>\n",
       "    </tr>\n",
       "    <tr>\n",
       "      <th>3</th>\n",
       "      <td>0.916667</td>\n",
       "      <td>0.939286</td>\n",
       "      <td>0.471429</td>\n",
       "      <td>0.491376</td>\n",
       "      <td>0.637413</td>\n",
       "      <td>0.377210</td>\n",
       "      <td>0.000000</td>\n",
       "      <td>0</td>\n",
       "      <td>1</td>\n",
       "      <td>1</td>\n",
       "      <td>...</td>\n",
       "      <td>1</td>\n",
       "      <td>0</td>\n",
       "      <td>0</td>\n",
       "      <td>0</td>\n",
       "      <td>0</td>\n",
       "      <td>1</td>\n",
       "      <td>0</td>\n",
       "      <td>0</td>\n",
       "      <td>0</td>\n",
       "      <td>0</td>\n",
       "    </tr>\n",
       "    <tr>\n",
       "      <th>4</th>\n",
       "      <td>0.666667</td>\n",
       "      <td>0.707143</td>\n",
       "      <td>0.757143</td>\n",
       "      <td>0.290147</td>\n",
       "      <td>0.126150</td>\n",
       "      <td>0.501954</td>\n",
       "      <td>0.166667</td>\n",
       "      <td>0</td>\n",
       "      <td>1</td>\n",
       "      <td>1</td>\n",
       "      <td>...</td>\n",
       "      <td>0</td>\n",
       "      <td>0</td>\n",
       "      <td>0</td>\n",
       "      <td>1</td>\n",
       "      <td>0</td>\n",
       "      <td>0</td>\n",
       "      <td>0</td>\n",
       "      <td>0</td>\n",
       "      <td>0</td>\n",
       "      <td>0</td>\n",
       "    </tr>\n",
       "    <tr>\n",
       "      <th>...</th>\n",
       "      <td>...</td>\n",
       "      <td>...</td>\n",
       "      <td>...</td>\n",
       "      <td>...</td>\n",
       "      <td>...</td>\n",
       "      <td>...</td>\n",
       "      <td>...</td>\n",
       "      <td>...</td>\n",
       "      <td>...</td>\n",
       "      <td>...</td>\n",
       "      <td>...</td>\n",
       "      <td>...</td>\n",
       "      <td>...</td>\n",
       "      <td>...</td>\n",
       "      <td>...</td>\n",
       "      <td>...</td>\n",
       "      <td>...</td>\n",
       "      <td>...</td>\n",
       "      <td>...</td>\n",
       "      <td>...</td>\n",
       "      <td>...</td>\n",
       "    </tr>\n",
       "    <tr>\n",
       "      <th>8758</th>\n",
       "      <td>0.583333</td>\n",
       "      <td>0.003571</td>\n",
       "      <td>0.300000</td>\n",
       "      <td>0.395819</td>\n",
       "      <td>0.900572</td>\n",
       "      <td>0.769432</td>\n",
       "      <td>0.500000</td>\n",
       "      <td>0</td>\n",
       "      <td>1</td>\n",
       "      <td>1</td>\n",
       "      <td>...</td>\n",
       "      <td>0</td>\n",
       "      <td>0</td>\n",
       "      <td>0</td>\n",
       "      <td>0</td>\n",
       "      <td>0</td>\n",
       "      <td>0</td>\n",
       "      <td>0</td>\n",
       "      <td>0</td>\n",
       "      <td>0</td>\n",
       "      <td>1</td>\n",
       "    </tr>\n",
       "    <tr>\n",
       "      <th>8759</th>\n",
       "      <td>0.138889</td>\n",
       "      <td>0.000000</td>\n",
       "      <td>0.471429</td>\n",
       "      <td>0.827954</td>\n",
       "      <td>0.319366</td>\n",
       "      <td>0.706769</td>\n",
       "      <td>0.833333</td>\n",
       "      <td>1</td>\n",
       "      <td>1</td>\n",
       "      <td>0</td>\n",
       "      <td>...</td>\n",
       "      <td>1</td>\n",
       "      <td>0</td>\n",
       "      <td>0</td>\n",
       "      <td>0</td>\n",
       "      <td>0</td>\n",
       "      <td>0</td>\n",
       "      <td>1</td>\n",
       "      <td>0</td>\n",
       "      <td>0</td>\n",
       "      <td>0</td>\n",
       "    </tr>\n",
       "    <tr>\n",
       "      <th>8760</th>\n",
       "      <td>0.402778</td>\n",
       "      <td>0.464286</td>\n",
       "      <td>0.928571</td>\n",
       "      <td>0.157329</td>\n",
       "      <td>0.197861</td>\n",
       "      <td>0.060509</td>\n",
       "      <td>0.000000</td>\n",
       "      <td>0</td>\n",
       "      <td>0</td>\n",
       "      <td>1</td>\n",
       "      <td>...</td>\n",
       "      <td>0</td>\n",
       "      <td>1</td>\n",
       "      <td>0</td>\n",
       "      <td>0</td>\n",
       "      <td>0</td>\n",
       "      <td>0</td>\n",
       "      <td>1</td>\n",
       "      <td>0</td>\n",
       "      <td>0</td>\n",
       "      <td>0</td>\n",
       "    </tr>\n",
       "    <tr>\n",
       "      <th>8761</th>\n",
       "      <td>0.250000</td>\n",
       "      <td>0.207143</td>\n",
       "      <td>0.285714</td>\n",
       "      <td>0.189411</td>\n",
       "      <td>0.002320</td>\n",
       "      <td>0.678408</td>\n",
       "      <td>0.666667</td>\n",
       "      <td>0</td>\n",
       "      <td>1</td>\n",
       "      <td>0</td>\n",
       "      <td>...</td>\n",
       "      <td>0</td>\n",
       "      <td>1</td>\n",
       "      <td>0</td>\n",
       "      <td>0</td>\n",
       "      <td>1</td>\n",
       "      <td>0</td>\n",
       "      <td>0</td>\n",
       "      <td>0</td>\n",
       "      <td>0</td>\n",
       "      <td>0</td>\n",
       "    </tr>\n",
       "    <tr>\n",
       "      <th>8762</th>\n",
       "      <td>0.097222</td>\n",
       "      <td>0.842857</td>\n",
       "      <td>0.500000</td>\n",
       "      <td>0.904134</td>\n",
       "      <td>0.750453</td>\n",
       "      <td>0.812013</td>\n",
       "      <td>0.000000</td>\n",
       "      <td>1</td>\n",
       "      <td>1</td>\n",
       "      <td>1</td>\n",
       "      <td>...</td>\n",
       "      <td>0</td>\n",
       "      <td>0</td>\n",
       "      <td>0</td>\n",
       "      <td>0</td>\n",
       "      <td>0</td>\n",
       "      <td>0</td>\n",
       "      <td>0</td>\n",
       "      <td>0</td>\n",
       "      <td>0</td>\n",
       "      <td>1</td>\n",
       "    </tr>\n",
       "  </tbody>\n",
       "</table>\n",
       "<p>8763 rows × 34 columns</p>\n",
       "</div>"
      ],
      "text/plain": [
       "           Age  Cholesterol  Heart Rate  Exercise Hours Per Week  \\\n",
       "0     0.680556     0.314286    0.457143                 0.208326   \n",
       "1     0.041667     0.960714    0.828571                 0.090557   \n",
       "2     0.041667     0.728571    0.457143                 0.103815   \n",
       "3     0.916667     0.939286    0.471429                 0.491376   \n",
       "4     0.666667     0.707143    0.757143                 0.290147   \n",
       "...        ...          ...         ...                      ...   \n",
       "8758  0.583333     0.003571    0.300000                 0.395819   \n",
       "8759  0.138889     0.000000    0.471429                 0.827954   \n",
       "8760  0.402778     0.464286    0.928571                 0.157329   \n",
       "8761  0.250000     0.207143    0.285714                 0.189411   \n",
       "8762  0.097222     0.842857    0.500000                 0.904134   \n",
       "\n",
       "      Sedentary Hours Per Day    Income  Sleep Hours Per Day  Sex  Diabetes  \\\n",
       "0                    0.551234  0.862268             0.333333    0         0   \n",
       "1                    0.413584  0.949316             0.500000    0         1   \n",
       "2                    0.788642  0.768939             0.000000    1         1   \n",
       "3                    0.637413  0.377210             0.000000    0         1   \n",
       "4                    0.126150  0.501954             0.166667    0         1   \n",
       "...                       ...       ...                  ...  ...       ...   \n",
       "8758                 0.900572  0.769432             0.500000    0         1   \n",
       "8759                 0.319366  0.706769             0.833333    1         1   \n",
       "8760                 0.197861  0.060509             0.000000    0         0   \n",
       "8761                 0.002320  0.678408             0.666667    0         1   \n",
       "8762                 0.750453  0.812013             0.000000    1         1   \n",
       "\n",
       "      Family History  ...  Continent_North America  Continent_South America  \\\n",
       "0                  0  ...                        0                        1   \n",
       "1                  1  ...                        1                        0   \n",
       "2                  0  ...                        0                        0   \n",
       "3                  1  ...                        1                        0   \n",
       "4                  1  ...                        0                        0   \n",
       "...              ...  ...                      ...                      ...   \n",
       "8758               1  ...                        0                        0   \n",
       "8759               0  ...                        1                        0   \n",
       "8760               1  ...                        0                        1   \n",
       "8761               0  ...                        0                        1   \n",
       "8762               1  ...                        0                        0   \n",
       "\n",
       "      Physical Activity Days Per Week_0  Physical Activity Days Per Week_1  \\\n",
       "0                                     1                                  0   \n",
       "1                                     0                                  1   \n",
       "2                                     0                                  0   \n",
       "3                                     0                                  0   \n",
       "4                                     0                                  1   \n",
       "...                                 ...                                ...   \n",
       "8758                                  0                                  0   \n",
       "8759                                  0                                  0   \n",
       "8760                                  0                                  0   \n",
       "8761                                  0                                  0   \n",
       "8762                                  0                                  0   \n",
       "\n",
       "      Physical Activity Days Per Week_2  Physical Activity Days Per Week_3  \\\n",
       "0                                     0                                  0   \n",
       "1                                     0                                  0   \n",
       "2                                     0                                  0   \n",
       "3                                     0                                  1   \n",
       "4                                     0                                  0   \n",
       "...                                 ...                                ...   \n",
       "8758                                  0                                  0   \n",
       "8759                                  0                                  0   \n",
       "8760                                  0                                  0   \n",
       "8761                                  1                                  0   \n",
       "8762                                  0                                  0   \n",
       "\n",
       "      Physical Activity Days Per Week_4  Physical Activity Days Per Week_5  \\\n",
       "0                                     0                                  0   \n",
       "1                                     0                                  0   \n",
       "2                                     1                                  0   \n",
       "3                                     0                                  0   \n",
       "4                                     0                                  0   \n",
       "...                                 ...                                ...   \n",
       "8758                                  0                                  0   \n",
       "8759                                  1                                  0   \n",
       "8760                                  1                                  0   \n",
       "8761                                  0                                  0   \n",
       "8762                                  0                                  0   \n",
       "\n",
       "      Physical Activity Days Per Week_6  Physical Activity Days Per Week_7  \n",
       "0                                     0                                  0  \n",
       "1                                     0                                  0  \n",
       "2                                     0                                  0  \n",
       "3                                     0                                  0  \n",
       "4                                     0                                  0  \n",
       "...                                 ...                                ...  \n",
       "8758                                  0                                  1  \n",
       "8759                                  0                                  0  \n",
       "8760                                  0                                  0  \n",
       "8761                                  0                                  0  \n",
       "8762                                  0                                  1  \n",
       "\n",
       "[8763 rows x 34 columns]"
      ]
     },
     "execution_count": 40,
     "metadata": {},
     "output_type": "execute_result"
    }
   ],
   "source": [
    "df"
   ]
  },
  {
   "cell_type": "code",
   "execution_count": 41,
   "metadata": {},
   "outputs": [],
   "source": [
    "x = df.drop('Heart Attack Risk', axis = 1)\n",
    "y = df['Heart Attack Risk']"
   ]
  },
  {
   "cell_type": "code",
   "execution_count": 42,
   "metadata": {},
   "outputs": [
    {
     "data": {
      "text/plain": [
       "Heart Attack Risk\n",
       "0    5624\n",
       "1    3139\n",
       "Name: count, dtype: int64"
      ]
     },
     "execution_count": 42,
     "metadata": {},
     "output_type": "execute_result"
    }
   ],
   "source": [
    "df['Heart Attack Risk'].value_counts()"
   ]
  },
  {
   "cell_type": "code",
   "execution_count": 43,
   "metadata": {},
   "outputs": [],
   "source": [
    "from sklearn.model_selection import train_test_split\n",
    "\n",
    "x_train, x_test, y_train, y_test = train_test_split(x,y, test_size=0.3, random_state=7 )\n"
   ]
  },
  {
   "cell_type": "code",
   "execution_count": 44,
   "metadata": {},
   "outputs": [
    {
     "data": {
      "text/plain": [
       "Heart Attack Risk\n",
       "0    3963\n",
       "1    2171\n",
       "Name: count, dtype: int64"
      ]
     },
     "execution_count": 44,
     "metadata": {},
     "output_type": "execute_result"
    }
   ],
   "source": [
    "y_train.value_counts()"
   ]
  },
  {
   "cell_type": "code",
   "execution_count": 45,
   "metadata": {},
   "outputs": [],
   "source": [
    "param_logit = {'C': [0.001, 0.01, 5, 10, 50, 100]}\n",
    "param_svm = {'C': [0.001, 0.01, 5, 10, 50, 100]}\n",
    "param_knn = {'n_neighbors':[2,4,8,16]}\n",
    "param_rf = {'n_estimators': [300, 500, 800], 'max_depth': [5,8,15]}\n",
    "param_xg = {'eta': [0.01, 0.015, 0.025, 0.025, 0.05, 0.1], 'gamma': [0.05, 0.3, 0.5, 0.7, 0.9], 'min_child_weight': [1,3,5,7], 'max_depth': [5,8,15]}"
   ]
  },
  {
   "cell_type": "code",
   "execution_count": 46,
   "metadata": {},
   "outputs": [
    {
     "name": "stdout",
     "output_type": "stream",
     "text": [
      "best parameters: {'C': 10} \n",
      "\n",
      "best average precision with training data: 0.35\n",
      "accuracy_score: 0.6317991631799164 \n",
      " average precision score with testing: 0.3682008368200837 \n",
      "\n",
      "classification report \n",
      "               precision    recall  f1-score   support\n",
      "\n",
      "           0       0.63      1.00      0.77      1661\n",
      "           1       0.00      0.00      0.00       968\n",
      "\n",
      "    accuracy                           0.63      2629\n",
      "   macro avg       0.32      0.50      0.39      2629\n",
      "weighted avg       0.40      0.63      0.49      2629\n",
      " \n",
      "\n"
     ]
    },
    {
     "name": "stderr",
     "output_type": "stream",
     "text": [
      "c:\\Users\\dgmur\\python\\lib\\site-packages\\sklearn\\metrics\\_classification.py:1471: UndefinedMetricWarning: Precision and F-score are ill-defined and being set to 0.0 in labels with no predicted samples. Use `zero_division` parameter to control this behavior.\n",
      "  _warn_prf(average, modifier, msg_start, len(result))\n",
      "c:\\Users\\dgmur\\python\\lib\\site-packages\\sklearn\\metrics\\_classification.py:1471: UndefinedMetricWarning: Precision and F-score are ill-defined and being set to 0.0 in labels with no predicted samples. Use `zero_division` parameter to control this behavior.\n",
      "  _warn_prf(average, modifier, msg_start, len(result))\n",
      "c:\\Users\\dgmur\\python\\lib\\site-packages\\sklearn\\metrics\\_classification.py:1471: UndefinedMetricWarning: Precision and F-score are ill-defined and being set to 0.0 in labels with no predicted samples. Use `zero_division` parameter to control this behavior.\n",
      "  _warn_prf(average, modifier, msg_start, len(result))\n"
     ]
    },
    {
     "data": {
      "image/png": "[encoded data removed]",
      "text/plain": [
       "<Figure size 640x480 with 2 Axes>"
      ]
     },
     "metadata": {},
     "output_type": "display_data"
    }
   ],
   "source": [
    "sklearn_model_build(LogisticRegression(), param_logit, x_train, y_train, x_test, y_test)"
   ]
  },
  {
   "cell_type": "code",
   "execution_count": 47,
   "metadata": {},
   "outputs": [
    {
     "name": "stdout",
     "output_type": "stream",
     "text": [
      "best parameters: {'n_neighbors': 16} \n",
      "\n",
      "best average precision with training data: 0.36\n",
      "accuracy_score: 0.6131608976797261 \n",
      " average precision score with testing: 0.3682566584187847 \n",
      "\n",
      "classification report \n",
      "               precision    recall  f1-score   support\n",
      "\n",
      "           0       0.63      0.93      0.75      1661\n",
      "           1       0.37      0.07      0.12       968\n",
      "\n",
      "    accuracy                           0.61      2629\n",
      "   macro avg       0.50      0.50      0.44      2629\n",
      "weighted avg       0.54      0.61      0.52      2629\n",
      " \n",
      "\n"
     ]
    },
    {
     "data": {
      "image/png": "[encoded data removed]",
      "text/plain": [
       "<Figure size 640x480 with 2 Axes>"
      ]
     },
     "metadata": {},
     "output_type": "display_data"
    }
   ],
   "source": [
    "sklearn_model_build(KNeighborsClassifier(), param_knn, x_train, y_train, x_test, y_test)"
   ]
  },
  {
   "cell_type": "code",
   "execution_count": 48,
   "metadata": {},
   "outputs": [
    {
     "name": "stdout",
     "output_type": "stream",
     "text": [
      "best parameters: {'C': 0.01} \n",
      "\n",
      "best average precision with training data: 0.36\n",
      "accuracy_score: 0.6317991631799164 \n",
      " average precision score with testing: 0.3682008368200837 \n",
      "\n",
      "classification report \n",
      "               precision    recall  f1-score   support\n",
      "\n",
      "           0       0.63      1.00      0.77      1661\n",
      "           1       0.00      0.00      0.00       968\n",
      "\n",
      "    accuracy                           0.63      2629\n",
      "   macro avg       0.32      0.50      0.39      2629\n",
      "weighted avg       0.40      0.63      0.49      2629\n",
      " \n",
      "\n"
     ]
    },
    {
     "name": "stderr",
     "output_type": "stream",
     "text": [
      "c:\\Users\\dgmur\\python\\lib\\site-packages\\sklearn\\metrics\\_classification.py:1471: UndefinedMetricWarning: Precision and F-score are ill-defined and being set to 0.0 in labels with no predicted samples. Use `zero_division` parameter to control this behavior.\n",
      "  _warn_prf(average, modifier, msg_start, len(result))\n",
      "c:\\Users\\dgmur\\python\\lib\\site-packages\\sklearn\\metrics\\_classification.py:1471: UndefinedMetricWarning: Precision and F-score are ill-defined and being set to 0.0 in labels with no predicted samples. Use `zero_division` parameter to control this behavior.\n",
      "  _warn_prf(average, modifier, msg_start, len(result))\n",
      "c:\\Users\\dgmur\\python\\lib\\site-packages\\sklearn\\metrics\\_classification.py:1471: UndefinedMetricWarning: Precision and F-score are ill-defined and being set to 0.0 in labels with no predicted samples. Use `zero_division` parameter to control this behavior.\n",
      "  _warn_prf(average, modifier, msg_start, len(result))\n"
     ]
    },
    {
     "data": {
      "image/png": "[encoded data removed]",
      "text/plain": [
       "<Figure size 640x480 with 2 Axes>"
      ]
     },
     "metadata": {},
     "output_type": "display_data"
    }
   ],
   "source": [
    "sklearn_model_build(SVC(), param_svm, x_train, y_train, x_test, y_test)"
   ]
  },
  {
   "cell_type": "code",
   "execution_count": 49,
   "metadata": {},
   "outputs": [
    {
     "name": "stdout",
     "output_type": "stream",
     "text": [
      "best parameters: {'max_depth': 5, 'n_estimators': 300} \n",
      "\n",
      "best average precision with training data: 0.36\n",
      "accuracy_score: 0.6317991631799164 \n",
      " average precision score with testing: 0.3682008368200837 \n",
      "\n",
      "classification report \n",
      "               precision    recall  f1-score   support\n",
      "\n",
      "           0       0.63      1.00      0.77      1661\n",
      "           1       0.00      0.00      0.00       968\n",
      "\n",
      "    accuracy                           0.63      2629\n",
      "   macro avg       0.32      0.50      0.39      2629\n",
      "weighted avg       0.40      0.63      0.49      2629\n",
      " \n",
      "\n"
     ]
    },
    {
     "name": "stderr",
     "output_type": "stream",
     "text": [
      "c:\\Users\\dgmur\\python\\lib\\site-packages\\sklearn\\metrics\\_classification.py:1471: UndefinedMetricWarning: Precision and F-score are ill-defined and being set to 0.0 in labels with no predicted samples. Use `zero_division` parameter to control this behavior.\n",
      "  _warn_prf(average, modifier, msg_start, len(result))\n",
      "c:\\Users\\dgmur\\python\\lib\\site-packages\\sklearn\\metrics\\_classification.py:1471: UndefinedMetricWarning: Precision and F-score are ill-defined and being set to 0.0 in labels with no predicted samples. Use `zero_division` parameter to control this behavior.\n",
      "  _warn_prf(average, modifier, msg_start, len(result))\n",
      "c:\\Users\\dgmur\\python\\lib\\site-packages\\sklearn\\metrics\\_classification.py:1471: UndefinedMetricWarning: Precision and F-score are ill-defined and being set to 0.0 in labels with no predicted samples. Use `zero_division` parameter to control this behavior.\n",
      "  _warn_prf(average, modifier, msg_start, len(result))\n"
     ]
    },
    {
     "data": {
      "image/png": "[encoded data removed]",
      "text/plain": [
       "<Figure size 640x480 with 2 Axes>"
      ]
     },
     "metadata": {},
     "output_type": "display_data"
    }
   ],
   "source": [
    "sklearn_model_build(RandomForestClassifier(), param_rf, x_train, y_train, x_test, y_test)"
   ]
  },
  {
   "cell_type": "code",
   "execution_count": 50,
   "metadata": {},
   "outputs": [
    {
     "name": "stdout",
     "output_type": "stream",
     "text": [
      "best parameters: {'eta': 0.1, 'gamma': 0.7, 'max_depth': 8, 'min_child_weight': 5} \n",
      "\n",
      "best average precision with training data: 0.36\n",
      "accuracy_score: 0.6188664891593761 \n",
      " average precision score with testing: 0.36776250763627144 \n",
      "\n",
      "classification report \n",
      "               precision    recall  f1-score   support\n",
      "\n",
      "           0       0.63      0.95      0.76      1661\n",
      "           1       0.36      0.04      0.08       968\n",
      "\n",
      "    accuracy                           0.62      2629\n",
      "   macro avg       0.49      0.50      0.42      2629\n",
      "weighted avg       0.53      0.62      0.51      2629\n",
      " \n",
      "\n"
     ]
    },
    {
     "data": {
      "image/png": "[encoded data removed]",
      "text/plain": [
       "<Figure size 640x480 with 2 Axes>"
      ]
     },
     "metadata": {},
     "output_type": "display_data"
    }
   ],
   "source": [
    "sklearn_model_build(XGBClassifier(), param_xg, x_train, y_train, x_test, y_test)"
   ]
  },
  {
   "cell_type": "code",
   "execution_count": 51,
   "metadata": {},
   "outputs": [],
   "source": [
    "ros = RandomOverSampler(sampling_strategy=1.0)\n",
    "ros_x_train, ros_y_train = ros.fit_resample(x_train, y_train)\n"
   ]
  },
  {
   "cell_type": "code",
   "execution_count": 52,
   "metadata": {},
   "outputs": [
    {
     "data": {
      "text/plain": [
       "Heart Attack Risk\n",
       "0    3963\n",
       "1    3963\n",
       "Name: count, dtype: int64"
      ]
     },
     "execution_count": 52,
     "metadata": {},
     "output_type": "execute_result"
    }
   ],
   "source": [
    "ros_y_train.value_counts()"
   ]
  },
  {
   "cell_type": "code",
   "execution_count": 53,
   "metadata": {},
   "outputs": [
    {
     "name": "stdout",
     "output_type": "stream",
     "text": [
      "best parameters: {'C': 0.01} \n",
      "\n",
      "best average precision with training data: 0.51\n",
      "accuracy_score: 0.500190186382655 \n",
      " average precision score with testing: 0.3666797233803665 \n",
      "\n",
      "classification report \n",
      "               precision    recall  f1-score   support\n",
      "\n",
      "           0       0.63      0.51      0.56      1661\n",
      "           1       0.37      0.48      0.42       968\n",
      "\n",
      "    accuracy                           0.50      2629\n",
      "   macro avg       0.50      0.50      0.49      2629\n",
      "weighted avg       0.53      0.50      0.51      2629\n",
      " \n",
      "\n"
     ]
    },
    {
     "data": {
      "image/png": "[encoded data removed]",
      "text/plain": [
       "<Figure size 640x480 with 2 Axes>"
      ]
     },
     "metadata": {},
     "output_type": "display_data"
    }
   ],
   "source": [
    "sklearn_model_build(LogisticRegression(), param_logit, ros_x_train, ros_y_train, x_test, y_test)"
   ]
  },
  {
   "cell_type": "code",
   "execution_count": 54,
   "metadata": {},
   "outputs": [
    {
     "name": "stdout",
     "output_type": "stream",
     "text": [
      "best parameters: {'n_neighbors': 2} \n",
      "\n",
      "best average precision with training data: 0.62\n",
      "accuracy_score: 0.5534423735260555 \n",
      " average precision score with testing: 0.36191820925683643 \n",
      "\n",
      "classification report \n",
      "               precision    recall  f1-score   support\n",
      "\n",
      "           0       0.62      0.74      0.68      1661\n",
      "           1       0.34      0.23      0.27       968\n",
      "\n",
      "    accuracy                           0.55      2629\n",
      "   macro avg       0.48      0.49      0.48      2629\n",
      "weighted avg       0.52      0.55      0.53      2629\n",
      " \n",
      "\n"
     ]
    },
    {
     "data": {
      "image/png": "[encoded data removed]",
      "text/plain": [
       "<Figure size 640x480 with 2 Axes>"
      ]
     },
     "metadata": {},
     "output_type": "display_data"
    }
   ],
   "source": [
    "sklearn_model_build(KNeighborsClassifier(), param_knn, ros_x_train, ros_y_train, x_test, y_test)"
   ]
  },
  {
   "cell_type": "code",
   "execution_count": 55,
   "metadata": {},
   "outputs": [
    {
     "name": "stdout",
     "output_type": "stream",
     "text": [
      "best parameters: {'C': 100} \n",
      "\n",
      "best average precision with training data: 0.63\n",
      "accuracy_score: 0.5154050969950551 \n",
      " average precision score with testing: 0.36157809764759646 \n",
      "\n",
      "classification report \n",
      "               precision    recall  f1-score   support\n",
      "\n",
      "           0       0.62      0.60      0.61      1661\n",
      "           1       0.35      0.37      0.36       968\n",
      "\n",
      "    accuracy                           0.52      2629\n",
      "   macro avg       0.49      0.49      0.48      2629\n",
      "weighted avg       0.52      0.52      0.52      2629\n",
      " \n",
      "\n"
     ]
    },
    {
     "data": {
      "image/png": "[encoded data removed]",
      "text/plain": [
       "<Figure size 640x480 with 2 Axes>"
      ]
     },
     "metadata": {},
     "output_type": "display_data"
    }
   ],
   "source": [
    "sklearn_model_build(SVC(), param_svm, ros_x_train, ros_y_train, x_test, y_test)"
   ]
  },
  {
   "cell_type": "code",
   "execution_count": 56,
   "metadata": {},
   "outputs": [
    {
     "name": "stdout",
     "output_type": "stream",
     "text": [
      "best parameters: {'max_depth': 15, 'n_estimators': 800} \n",
      "\n",
      "best average precision with training data: 0.91\n",
      "accuracy_score: 0.601749714720426 \n",
      " average precision score with testing: 0.3653552451099047 \n",
      "\n",
      "classification report \n",
      "               precision    recall  f1-score   support\n",
      "\n",
      "           0       0.63      0.90      0.74      1661\n",
      "           1       0.33      0.08      0.13       968\n",
      "\n",
      "    accuracy                           0.60      2629\n",
      "   macro avg       0.48      0.49      0.44      2629\n",
      "weighted avg       0.52      0.60      0.52      2629\n",
      " \n",
      "\n"
     ]
    },
    {
     "data": {
      "image/png": "[encoded data removed]",
      "text/plain": [
       "<Figure size 640x480 with 2 Axes>"
      ]
     },
     "metadata": {},
     "output_type": "display_data"
    }
   ],
   "source": [
    "sklearn_model_build(RandomForestClassifier(), param_rf, ros_x_train, ros_y_train, x_test, y_test)"
   ]
  },
  {
   "cell_type": "code",
   "execution_count": 57,
   "metadata": {},
   "outputs": [
    {
     "name": "stdout",
     "output_type": "stream",
     "text": [
      "best parameters: {'eta': 0.1, 'gamma': 0.05, 'max_depth': 15, 'min_child_weight': 1} \n",
      "\n",
      "best average precision with training data: 0.9\n",
      "accuracy_score: 0.5796880943324458 \n",
      " average precision score with testing: 0.3683651300193188 \n",
      "\n",
      "classification report \n",
      "               precision    recall  f1-score   support\n",
      "\n",
      "           0       0.63      0.80      0.71      1661\n",
      "           1       0.37      0.20      0.26       968\n",
      "\n",
      "    accuracy                           0.58      2629\n",
      "   macro avg       0.50      0.50      0.48      2629\n",
      "weighted avg       0.54      0.58      0.54      2629\n",
      " \n",
      "\n"
     ]
    },
    {
     "data": {
      "image/png": "[encoded data removed]",
      "text/plain": [
       "<Figure size 640x480 with 2 Axes>"
      ]
     },
     "metadata": {},
     "output_type": "display_data"
    }
   ],
   "source": [
    "sklearn_model_build(XGBClassifier(), param_xg, ros_x_train, ros_y_train, x_test, y_test)"
   ]
  },
  {
   "cell_type": "code",
   "execution_count": 58,
   "metadata": {},
   "outputs": [
    {
     "name": "stdout",
     "output_type": "stream",
     "text": [
      "<class 'pandas.core.frame.DataFrame'>\n",
      "Index: 6134 entries, 2123 to 537\n",
      "Data columns (total 33 columns):\n",
      " #   Column                             Non-Null Count  Dtype  \n",
      "---  ------                             --------------  -----  \n",
      " 0   Age                                6134 non-null   float64\n",
      " 1   Cholesterol                        6134 non-null   float64\n",
      " 2   Heart Rate                         6134 non-null   float64\n",
      " 3   Exercise Hours Per Week            6134 non-null   float64\n",
      " 4   Sedentary Hours Per Day            6134 non-null   float64\n",
      " 5   Income                             6134 non-null   float64\n",
      " 6   Sleep Hours Per Day                6134 non-null   float64\n",
      " 7   Sex                                6134 non-null   int64  \n",
      " 8   Diabetes                           6134 non-null   int64  \n",
      " 9   Family History                     6134 non-null   int64  \n",
      " 10  Smoking                            6134 non-null   int64  \n",
      " 11  Obesity                            6134 non-null   int64  \n",
      " 12  Alcohol Consumption                6134 non-null   int64  \n",
      " 13  Previous Heart Problems            6134 non-null   int64  \n",
      " 14  Medication Use                     6134 non-null   int64  \n",
      " 15  Physical Activity Days Per Week    6134 non-null   int64  \n",
      " 16  Diet_Average                       6134 non-null   Int64  \n",
      " 17  Diet_Healthy                       6134 non-null   Int64  \n",
      " 18  Diet_Unhealthy                     6134 non-null   Int64  \n",
      " 19  Continent_Africa                   6134 non-null   Int64  \n",
      " 20  Continent_Asia                     6134 non-null   Int64  \n",
      " 21  Continent_Australia                6134 non-null   Int64  \n",
      " 22  Continent_Europe                   6134 non-null   Int64  \n",
      " 23  Continent_North America            6134 non-null   Int64  \n",
      " 24  Continent_South America            6134 non-null   Int64  \n",
      " 25  Physical Activity Days Per Week_0  6134 non-null   Int64  \n",
      " 26  Physical Activity Days Per Week_1  6134 non-null   Int64  \n",
      " 27  Physical Activity Days Per Week_2  6134 non-null   Int64  \n",
      " 28  Physical Activity Days Per Week_3  6134 non-null   Int64  \n",
      " 29  Physical Activity Days Per Week_4  6134 non-null   Int64  \n",
      " 30  Physical Activity Days Per Week_5  6134 non-null   Int64  \n",
      " 31  Physical Activity Days Per Week_6  6134 non-null   Int64  \n",
      " 32  Physical Activity Days Per Week_7  6134 non-null   Int64  \n",
      "dtypes: Int64(17), float64(7), int64(9)\n",
      "memory usage: 1.7 MB\n"
     ]
    }
   ],
   "source": [
    "x_train.info()"
   ]
  },
  {
   "cell_type": "code",
   "execution_count": null,
   "metadata": {},
   "outputs": [],
   "source": []
  },
  {
   "cell_type": "code",
   "execution_count": 59,
   "metadata": {},
   "outputs": [],
   "source": [
    "one_hot_list = list(onehot.get_feature_names_out())"
   ]
  },
  {
   "cell_type": "code",
   "execution_count": 60,
   "metadata": {},
   "outputs": [],
   "source": [
    "smote_nc = SMOTENC(categorical_features=one_hot_list)\n",
    "smote_nc_x_train, smote_nc_y_train = smote_nc.fit_resample(x_train, y_train)\n"
   ]
  },
  {
   "cell_type": "code",
   "execution_count": 61,
   "metadata": {},
   "outputs": [
    {
     "data": {
      "text/plain": [
       "Heart Attack Risk\n",
       "0    3963\n",
       "1    3963\n",
       "Name: count, dtype: int64"
      ]
     },
     "execution_count": 61,
     "metadata": {},
     "output_type": "execute_result"
    }
   ],
   "source": [
    "smote_nc_y_train.value_counts()"
   ]
  },
  {
   "cell_type": "code",
   "execution_count": 62,
   "metadata": {},
   "outputs": [
    {
     "name": "stderr",
     "output_type": "stream",
     "text": [
      "c:\\Users\\dgmur\\python\\lib\\site-packages\\sklearn\\linear_model\\_logistic.py:460: ConvergenceWarning: lbfgs failed to converge (status=1):\n",
      "STOP: TOTAL NO. of ITERATIONS REACHED LIMIT.\n",
      "\n",
      "Increase the number of iterations (max_iter) or scale the data as shown in:\n",
      "    https://scikit-learn.org/stable/modules/preprocessing.html\n",
      "Please also refer to the documentation for alternative solver options:\n",
      "    https://scikit-learn.org/stable/modules/linear_model.html#logistic-regression\n",
      "  n_iter_i = _check_optimize_result(\n",
      "c:\\Users\\dgmur\\python\\lib\\site-packages\\sklearn\\linear_model\\_logistic.py:460: ConvergenceWarning: lbfgs failed to converge (status=1):\n",
      "STOP: TOTAL NO. of ITERATIONS REACHED LIMIT.\n",
      "\n",
      "Increase the number of iterations (max_iter) or scale the data as shown in:\n",
      "    https://scikit-learn.org/stable/modules/preprocessing.html\n",
      "Please also refer to the documentation for alternative solver options:\n",
      "    https://scikit-learn.org/stable/modules/linear_model.html#logistic-regression\n",
      "  n_iter_i = _check_optimize_result(\n",
      "c:\\Users\\dgmur\\python\\lib\\site-packages\\sklearn\\linear_model\\_logistic.py:460: ConvergenceWarning: lbfgs failed to converge (status=1):\n",
      "STOP: TOTAL NO. of ITERATIONS REACHED LIMIT.\n",
      "\n",
      "Increase the number of iterations (max_iter) or scale the data as shown in:\n",
      "    https://scikit-learn.org/stable/modules/preprocessing.html\n",
      "Please also refer to the documentation for alternative solver options:\n",
      "    https://scikit-learn.org/stable/modules/linear_model.html#logistic-regression\n",
      "  n_iter_i = _check_optimize_result(\n",
      "c:\\Users\\dgmur\\python\\lib\\site-packages\\sklearn\\linear_model\\_logistic.py:460: ConvergenceWarning: lbfgs failed to converge (status=1):\n",
      "STOP: TOTAL NO. of ITERATIONS REACHED LIMIT.\n",
      "\n",
      "Increase the number of iterations (max_iter) or scale the data as shown in:\n",
      "    https://scikit-learn.org/stable/modules/preprocessing.html\n",
      "Please also refer to the documentation for alternative solver options:\n",
      "    https://scikit-learn.org/stable/modules/linear_model.html#logistic-regression\n",
      "  n_iter_i = _check_optimize_result(\n",
      "c:\\Users\\dgmur\\python\\lib\\site-packages\\sklearn\\linear_model\\_logistic.py:460: ConvergenceWarning: lbfgs failed to converge (status=1):\n",
      "STOP: TOTAL NO. of ITERATIONS REACHED LIMIT.\n",
      "\n",
      "Increase the number of iterations (max_iter) or scale the data as shown in:\n",
      "    https://scikit-learn.org/stable/modules/preprocessing.html\n",
      "Please also refer to the documentation for alternative solver options:\n",
      "    https://scikit-learn.org/stable/modules/linear_model.html#logistic-regression\n",
      "  n_iter_i = _check_optimize_result(\n",
      "c:\\Users\\dgmur\\python\\lib\\site-packages\\sklearn\\linear_model\\_logistic.py:460: ConvergenceWarning: lbfgs failed to converge (status=1):\n",
      "STOP: TOTAL NO. of ITERATIONS REACHED LIMIT.\n",
      "\n",
      "Increase the number of iterations (max_iter) or scale the data as shown in:\n",
      "    https://scikit-learn.org/stable/modules/preprocessing.html\n",
      "Please also refer to the documentation for alternative solver options:\n",
      "    https://scikit-learn.org/stable/modules/linear_model.html#logistic-regression\n",
      "  n_iter_i = _check_optimize_result(\n",
      "c:\\Users\\dgmur\\python\\lib\\site-packages\\sklearn\\linear_model\\_logistic.py:460: ConvergenceWarning: lbfgs failed to converge (status=1):\n",
      "STOP: TOTAL NO. of ITERATIONS REACHED LIMIT.\n",
      "\n",
      "Increase the number of iterations (max_iter) or scale the data as shown in:\n",
      "    https://scikit-learn.org/stable/modules/preprocessing.html\n",
      "Please also refer to the documentation for alternative solver options:\n",
      "    https://scikit-learn.org/stable/modules/linear_model.html#logistic-regression\n",
      "  n_iter_i = _check_optimize_result(\n",
      "c:\\Users\\dgmur\\python\\lib\\site-packages\\sklearn\\linear_model\\_logistic.py:460: ConvergenceWarning: lbfgs failed to converge (status=1):\n",
      "STOP: TOTAL NO. of ITERATIONS REACHED LIMIT.\n",
      "\n",
      "Increase the number of iterations (max_iter) or scale the data as shown in:\n",
      "    https://scikit-learn.org/stable/modules/preprocessing.html\n",
      "Please also refer to the documentation for alternative solver options:\n",
      "    https://scikit-learn.org/stable/modules/linear_model.html#logistic-regression\n",
      "  n_iter_i = _check_optimize_result(\n",
      "c:\\Users\\dgmur\\python\\lib\\site-packages\\sklearn\\linear_model\\_logistic.py:460: ConvergenceWarning: lbfgs failed to converge (status=1):\n",
      "STOP: TOTAL NO. of ITERATIONS REACHED LIMIT.\n",
      "\n",
      "Increase the number of iterations (max_iter) or scale the data as shown in:\n",
      "    https://scikit-learn.org/stable/modules/preprocessing.html\n",
      "Please also refer to the documentation for alternative solver options:\n",
      "    https://scikit-learn.org/stable/modules/linear_model.html#logistic-regression\n",
      "  n_iter_i = _check_optimize_result(\n",
      "c:\\Users\\dgmur\\python\\lib\\site-packages\\sklearn\\linear_model\\_logistic.py:460: ConvergenceWarning: lbfgs failed to converge (status=1):\n",
      "STOP: TOTAL NO. of ITERATIONS REACHED LIMIT.\n",
      "\n",
      "Increase the number of iterations (max_iter) or scale the data as shown in:\n",
      "    https://scikit-learn.org/stable/modules/preprocessing.html\n",
      "Please also refer to the documentation for alternative solver options:\n",
      "    https://scikit-learn.org/stable/modules/linear_model.html#logistic-regression\n",
      "  n_iter_i = _check_optimize_result(\n",
      "c:\\Users\\dgmur\\python\\lib\\site-packages\\sklearn\\linear_model\\_logistic.py:460: ConvergenceWarning: lbfgs failed to converge (status=1):\n",
      "STOP: TOTAL NO. of ITERATIONS REACHED LIMIT.\n",
      "\n",
      "Increase the number of iterations (max_iter) or scale the data as shown in:\n",
      "    https://scikit-learn.org/stable/modules/preprocessing.html\n",
      "Please also refer to the documentation for alternative solver options:\n",
      "    https://scikit-learn.org/stable/modules/linear_model.html#logistic-regression\n",
      "  n_iter_i = _check_optimize_result(\n",
      "c:\\Users\\dgmur\\python\\lib\\site-packages\\sklearn\\linear_model\\_logistic.py:460: ConvergenceWarning: lbfgs failed to converge (status=1):\n",
      "STOP: TOTAL NO. of ITERATIONS REACHED LIMIT.\n",
      "\n",
      "Increase the number of iterations (max_iter) or scale the data as shown in:\n",
      "    https://scikit-learn.org/stable/modules/preprocessing.html\n",
      "Please also refer to the documentation for alternative solver options:\n",
      "    https://scikit-learn.org/stable/modules/linear_model.html#logistic-regression\n",
      "  n_iter_i = _check_optimize_result(\n",
      "c:\\Users\\dgmur\\python\\lib\\site-packages\\sklearn\\linear_model\\_logistic.py:460: ConvergenceWarning: lbfgs failed to converge (status=1):\n",
      "STOP: TOTAL NO. of ITERATIONS REACHED LIMIT.\n",
      "\n",
      "Increase the number of iterations (max_iter) or scale the data as shown in:\n",
      "    https://scikit-learn.org/stable/modules/preprocessing.html\n",
      "Please also refer to the documentation for alternative solver options:\n",
      "    https://scikit-learn.org/stable/modules/linear_model.html#logistic-regression\n",
      "  n_iter_i = _check_optimize_result(\n",
      "c:\\Users\\dgmur\\python\\lib\\site-packages\\sklearn\\linear_model\\_logistic.py:460: ConvergenceWarning: lbfgs failed to converge (status=1):\n",
      "STOP: TOTAL NO. of ITERATIONS REACHED LIMIT.\n",
      "\n",
      "Increase the number of iterations (max_iter) or scale the data as shown in:\n",
      "    https://scikit-learn.org/stable/modules/preprocessing.html\n",
      "Please also refer to the documentation for alternative solver options:\n",
      "    https://scikit-learn.org/stable/modules/linear_model.html#logistic-regression\n",
      "  n_iter_i = _check_optimize_result(\n",
      "c:\\Users\\dgmur\\python\\lib\\site-packages\\sklearn\\linear_model\\_logistic.py:460: ConvergenceWarning: lbfgs failed to converge (status=1):\n",
      "STOP: TOTAL NO. of ITERATIONS REACHED LIMIT.\n",
      "\n",
      "Increase the number of iterations (max_iter) or scale the data as shown in:\n",
      "    https://scikit-learn.org/stable/modules/preprocessing.html\n",
      "Please also refer to the documentation for alternative solver options:\n",
      "    https://scikit-learn.org/stable/modules/linear_model.html#logistic-regression\n",
      "  n_iter_i = _check_optimize_result(\n",
      "c:\\Users\\dgmur\\python\\lib\\site-packages\\sklearn\\linear_model\\_logistic.py:460: ConvergenceWarning: lbfgs failed to converge (status=1):\n",
      "STOP: TOTAL NO. of ITERATIONS REACHED LIMIT.\n",
      "\n",
      "Increase the number of iterations (max_iter) or scale the data as shown in:\n",
      "    https://scikit-learn.org/stable/modules/preprocessing.html\n",
      "Please also refer to the documentation for alternative solver options:\n",
      "    https://scikit-learn.org/stable/modules/linear_model.html#logistic-regression\n",
      "  n_iter_i = _check_optimize_result(\n",
      "c:\\Users\\dgmur\\python\\lib\\site-packages\\sklearn\\linear_model\\_logistic.py:460: ConvergenceWarning: lbfgs failed to converge (status=1):\n",
      "STOP: TOTAL NO. of ITERATIONS REACHED LIMIT.\n",
      "\n",
      "Increase the number of iterations (max_iter) or scale the data as shown in:\n",
      "    https://scikit-learn.org/stable/modules/preprocessing.html\n",
      "Please also refer to the documentation for alternative solver options:\n",
      "    https://scikit-learn.org/stable/modules/linear_model.html#logistic-regression\n",
      "  n_iter_i = _check_optimize_result(\n",
      "c:\\Users\\dgmur\\python\\lib\\site-packages\\sklearn\\linear_model\\_logistic.py:460: ConvergenceWarning: lbfgs failed to converge (status=1):\n",
      "STOP: TOTAL NO. of ITERATIONS REACHED LIMIT.\n",
      "\n",
      "Increase the number of iterations (max_iter) or scale the data as shown in:\n",
      "    https://scikit-learn.org/stable/modules/preprocessing.html\n",
      "Please also refer to the documentation for alternative solver options:\n",
      "    https://scikit-learn.org/stable/modules/linear_model.html#logistic-regression\n",
      "  n_iter_i = _check_optimize_result(\n",
      "c:\\Users\\dgmur\\python\\lib\\site-packages\\sklearn\\linear_model\\_logistic.py:460: ConvergenceWarning: lbfgs failed to converge (status=1):\n",
      "STOP: TOTAL NO. of ITERATIONS REACHED LIMIT.\n",
      "\n",
      "Increase the number of iterations (max_iter) or scale the data as shown in:\n",
      "    https://scikit-learn.org/stable/modules/preprocessing.html\n",
      "Please also refer to the documentation for alternative solver options:\n",
      "    https://scikit-learn.org/stable/modules/linear_model.html#logistic-regression\n",
      "  n_iter_i = _check_optimize_result(\n",
      "c:\\Users\\dgmur\\python\\lib\\site-packages\\sklearn\\linear_model\\_logistic.py:460: ConvergenceWarning: lbfgs failed to converge (status=1):\n",
      "STOP: TOTAL NO. of ITERATIONS REACHED LIMIT.\n",
      "\n",
      "Increase the number of iterations (max_iter) or scale the data as shown in:\n",
      "    https://scikit-learn.org/stable/modules/preprocessing.html\n",
      "Please also refer to the documentation for alternative solver options:\n",
      "    https://scikit-learn.org/stable/modules/linear_model.html#logistic-regression\n",
      "  n_iter_i = _check_optimize_result(\n"
     ]
    },
    {
     "name": "stdout",
     "output_type": "stream",
     "text": [
      "best parameters: {'C': 50} \n",
      "\n",
      "best average precision with training data: 0.71\n",
      "accuracy_score: 0.6317991631799164 \n",
      " average precision score with testing: 0.36874546146132303 \n",
      "\n",
      "classification report \n",
      "               precision    recall  f1-score   support\n",
      "\n",
      "           0       0.63      1.00      0.77      1661\n",
      "           1       0.50      0.00      0.01       968\n",
      "\n",
      "    accuracy                           0.63      2629\n",
      "   macro avg       0.57      0.50      0.39      2629\n",
      "weighted avg       0.58      0.63      0.49      2629\n",
      " \n",
      "\n"
     ]
    },
    {
     "name": "stderr",
     "output_type": "stream",
     "text": [
      "c:\\Users\\dgmur\\python\\lib\\site-packages\\sklearn\\linear_model\\_logistic.py:460: ConvergenceWarning: lbfgs failed to converge (status=1):\n",
      "STOP: TOTAL NO. of ITERATIONS REACHED LIMIT.\n",
      "\n",
      "Increase the number of iterations (max_iter) or scale the data as shown in:\n",
      "    https://scikit-learn.org/stable/modules/preprocessing.html\n",
      "Please also refer to the documentation for alternative solver options:\n",
      "    https://scikit-learn.org/stable/modules/linear_model.html#logistic-regression\n",
      "  n_iter_i = _check_optimize_result(\n",
      "c:\\Users\\dgmur\\python\\lib\\site-packages\\sklearn\\linear_model\\_logistic.py:460: ConvergenceWarning: lbfgs failed to converge (status=1):\n",
      "STOP: TOTAL NO. of ITERATIONS REACHED LIMIT.\n",
      "\n",
      "Increase the number of iterations (max_iter) or scale the data as shown in:\n",
      "    https://scikit-learn.org/stable/modules/preprocessing.html\n",
      "Please also refer to the documentation for alternative solver options:\n",
      "    https://scikit-learn.org/stable/modules/linear_model.html#logistic-regression\n",
      "  n_iter_i = _check_optimize_result(\n"
     ]
    },
    {
     "data": {
      "image/png": "[encoded data removed]",
      "text/plain": [
       "<Figure size 640x480 with 2 Axes>"
      ]
     },
     "metadata": {},
     "output_type": "display_data"
    }
   ],
   "source": [
    "sklearn_model_build(LogisticRegression(), param_logit, smote_nc_x_train, smote_nc_y_train, x_test, y_test)"
   ]
  },
  {
   "cell_type": "code",
   "execution_count": 63,
   "metadata": {},
   "outputs": [
    {
     "name": "stdout",
     "output_type": "stream",
     "text": [
      "best parameters: {'n_neighbors': 8} \n",
      "\n",
      "best average precision with training data: 0.7\n",
      "accuracy_score: 0.5249144161278052 \n",
      " average precision score with testing: 0.3632341184495801 \n",
      "\n",
      "classification report \n",
      "               precision    recall  f1-score   support\n",
      "\n",
      "           0       0.62      0.63      0.62      1661\n",
      "           1       0.35      0.35      0.35       968\n",
      "\n",
      "    accuracy                           0.52      2629\n",
      "   macro avg       0.49      0.49      0.49      2629\n",
      "weighted avg       0.52      0.52      0.52      2629\n",
      " \n",
      "\n"
     ]
    },
    {
     "data": {
      "image/png": "[encoded data removed]",
      "text/plain": [
       "<Figure size 640x480 with 2 Axes>"
      ]
     },
     "metadata": {},
     "output_type": "display_data"
    }
   ],
   "source": [
    "sklearn_model_build(KNeighborsClassifier(), param_knn, smote_nc_x_train, smote_nc_y_train, x_test, y_test)"
   ]
  },
  {
   "cell_type": "code",
   "execution_count": 64,
   "metadata": {},
   "outputs": [
    {
     "name": "stdout",
     "output_type": "stream",
     "text": [
      "best parameters: {'C': 50} \n",
      "\n",
      "best average precision with training data: 0.73\n",
      "accuracy_score: 0.5697984024343857 \n",
      " average precision score with testing: 0.36724124563912064 \n",
      "\n",
      "classification report \n",
      "               precision    recall  f1-score   support\n",
      "\n",
      "           0       0.63      0.77      0.69      1661\n",
      "           1       0.36      0.23      0.28       968\n",
      "\n",
      "    accuracy                           0.57      2629\n",
      "   macro avg       0.50      0.50      0.49      2629\n",
      "weighted avg       0.53      0.57      0.54      2629\n",
      " \n",
      "\n"
     ]
    },
    {
     "data": {
      "image/png": "[encoded data removed]",
      "text/plain": [
       "<Figure size 640x480 with 2 Axes>"
      ]
     },
     "metadata": {},
     "output_type": "display_data"
    }
   ],
   "source": [
    "sklearn_model_build(SVC(), param_svm, smote_nc_x_train, smote_nc_y_train, x_test, y_test)"
   ]
  },
  {
   "cell_type": "code",
   "execution_count": 65,
   "metadata": {},
   "outputs": [
    {
     "name": "stdout",
     "output_type": "stream",
     "text": [
      "best parameters: {'max_depth': 15, 'n_estimators': 800} \n",
      "\n",
      "best average precision with training data: 0.77\n",
      "accuracy_score: 0.605553442373526 \n",
      " average precision score with testing: 0.37250368330838923 \n",
      "\n",
      "classification report \n",
      "               precision    recall  f1-score   support\n",
      "\n",
      "           0       0.64      0.88      0.74      1661\n",
      "           1       0.40      0.14      0.21       968\n",
      "\n",
      "    accuracy                           0.61      2629\n",
      "   macro avg       0.52      0.51      0.47      2629\n",
      "weighted avg       0.55      0.61      0.54      2629\n",
      " \n",
      "\n"
     ]
    },
    {
     "data": {
      "image/png": "[encoded data removed]",
      "text/plain": [
       "<Figure size 640x480 with 2 Axes>"
      ]
     },
     "metadata": {},
     "output_type": "display_data"
    }
   ],
   "source": [
    "sklearn_model_build(RandomForestClassifier(), param_rf, smote_nc_x_train, smote_nc_y_train, x_test, y_test)"
   ]
  },
  {
   "cell_type": "code",
   "execution_count": 66,
   "metadata": {},
   "outputs": [
    {
     "name": "stdout",
     "output_type": "stream",
     "text": [
      "best parameters: {'eta': 0.1, 'gamma': 0.05, 'max_depth': 15, 'min_child_weight': 1} \n",
      "\n",
      "best average precision with training data: 0.76\n",
      "accuracy_score: 0.5781666032712058 \n",
      " average precision score with testing: 0.36588379899589263 \n",
      "\n",
      "classification report \n",
      "               precision    recall  f1-score   support\n",
      "\n",
      "           0       0.63      0.81      0.71      1661\n",
      "           1       0.36      0.18      0.24       968\n",
      "\n",
      "    accuracy                           0.58      2629\n",
      "   macro avg       0.49      0.49      0.47      2629\n",
      "weighted avg       0.53      0.58      0.54      2629\n",
      " \n",
      "\n"
     ]
    },
    {
     "data": {
      "image/png": "[encoded data removed]",
      "text/plain": [
       "<Figure size 640x480 with 2 Axes>"
      ]
     },
     "metadata": {},
     "output_type": "display_data"
    }
   ],
   "source": [
    "sklearn_model_build(XGBClassifier(), param_xg, smote_nc_x_train, smote_nc_y_train, x_test, y_test)"
   ]
  },
  {
   "cell_type": "code",
   "execution_count": 67,
   "metadata": {},
   "outputs": [],
   "source": [
    "\n",
    "overbagging_clf = BalancedBaggingClassifier(estimator=XGBClassifier(gamma = 0.05, eta = 0.01, max_depth = 5, min_child_weight = 3), sampler=RandomOverSampler(shrinkage=1)).fit(x_train, y_train)\n"
   ]
  },
  {
   "cell_type": "code",
   "execution_count": 68,
   "metadata": {},
   "outputs": [
    {
     "name": "stdout",
     "output_type": "stream",
     "text": [
      "accuracy score: 0.6317991631799164 \n",
      " average precision score: 0.3682008368200837 \n",
      "               precision    recall  f1-score   support\n",
      "\n",
      "           0       0.63      1.00      0.77      1661\n",
      "           1       0.00      0.00      0.00       968\n",
      "\n",
      "    accuracy                           0.63      2629\n",
      "   macro avg       0.32      0.50      0.39      2629\n",
      "weighted avg       0.40      0.63      0.49      2629\n",
      "\n"
     ]
    },
    {
     "name": "stderr",
     "output_type": "stream",
     "text": [
      "c:\\Users\\dgmur\\python\\lib\\site-packages\\sklearn\\metrics\\_classification.py:1471: UndefinedMetricWarning: Precision and F-score are ill-defined and being set to 0.0 in labels with no predicted samples. Use `zero_division` parameter to control this behavior.\n",
      "  _warn_prf(average, modifier, msg_start, len(result))\n",
      "c:\\Users\\dgmur\\python\\lib\\site-packages\\sklearn\\metrics\\_classification.py:1471: UndefinedMetricWarning: Precision and F-score are ill-defined and being set to 0.0 in labels with no predicted samples. Use `zero_division` parameter to control this behavior.\n",
      "  _warn_prf(average, modifier, msg_start, len(result))\n",
      "c:\\Users\\dgmur\\python\\lib\\site-packages\\sklearn\\metrics\\_classification.py:1471: UndefinedMetricWarning: Precision and F-score are ill-defined and being set to 0.0 in labels with no predicted samples. Use `zero_division` parameter to control this behavior.\n",
      "  _warn_prf(average, modifier, msg_start, len(result))\n"
     ]
    }
   ],
   "source": [
    "over_bagging_predict = overbagging_clf.predict(x_test)\n",
    "print('accuracy score:', accuracy_score(y_test, over_bagging_predict), '\\n','average precision score:',average_precision_score(y_test,over_bagging_predict), '\\n', classification_report(y_test, over_bagging_predict))"
   ]
  },
  {
   "cell_type": "code",
   "execution_count": 70,
   "metadata": {},
   "outputs": [
    {
     "name": "stdout",
     "output_type": "stream",
     "text": [
      "accuracy score: 0.5728413845568657 \n",
      " average precision score 0.37243672225877433 \n",
      "               precision    recall  f1-score   support\n",
      "\n",
      "           0       0.64      0.75      0.69      1661\n",
      "           1       0.38      0.27      0.31       968\n",
      "\n",
      "    accuracy                           0.57      2629\n",
      "   macro avg       0.51      0.51      0.50      2629\n",
      "weighted avg       0.54      0.57      0.55      2629\n",
      "\n"
     ]
    }
   ],
   "source": [
    "# Assuming `one_hot_list` is a list of column names, convert these to indices\n",
    "if isinstance(x_train, pd.DataFrame):\n",
    "    categorical_features_indices = [x_train.columns.get_loc(col) for col in one_hot_list]\n",
    "else:\n",
    "    # x_train is a NumPy array, so ensure `one_hot_list` contains the correct integer indices\n",
    "    categorical_features_indices = one_hot_list  # This should be the list of integer indices for categorical features\n",
    "\n",
    "smotebagging_clf = BalancedBaggingClassifier(\n",
    "    estimator=XGBClassifier(gamma=0.05, eta=0.01, max_depth=5, min_child_weight=3),\n",
    "    sampler=SMOTENC(categorical_features=categorical_features_indices)\n",
    ").fit(x_train, y_train)\n",
    "\n",
    "smotebagging_predict = smotebagging_clf.predict(x_test)\n",
    "print('accuracy score:', accuracy_score(y_test, smotebagging_predict),'\\n', 'average precision score', average_precision_score(y_test, smotebagging_predict), '\\n', classification_report(y_test, smotebagging_predict))\n"
   ]
  },
  {
   "cell_type": "code",
   "execution_count": 71,
   "metadata": {},
   "outputs": [
    {
     "name": "stdout",
     "output_type": "stream",
     "text": [
      "<class 'pandas.core.frame.DataFrame'>\n",
      "RangeIndex: 8763 entries, 0 to 8762\n",
      "Data columns (total 34 columns):\n",
      " #   Column                             Non-Null Count  Dtype  \n",
      "---  ------                             --------------  -----  \n",
      " 0   Age                                8763 non-null   float64\n",
      " 1   Cholesterol                        8763 non-null   float64\n",
      " 2   Heart Rate                         8763 non-null   float64\n",
      " 3   Exercise Hours Per Week            8763 non-null   float64\n",
      " 4   Sedentary Hours Per Day            8763 non-null   float64\n",
      " 5   Income                             8763 non-null   float64\n",
      " 6   Sleep Hours Per Day                8763 non-null   float64\n",
      " 7   Sex                                8763 non-null   int64  \n",
      " 8   Diabetes                           8763 non-null   int64  \n",
      " 9   Family History                     8763 non-null   int64  \n",
      " 10  Smoking                            8763 non-null   int64  \n",
      " 11  Obesity                            8763 non-null   int64  \n",
      " 12  Alcohol Consumption                8763 non-null   int64  \n",
      " 13  Previous Heart Problems            8763 non-null   int64  \n",
      " 14  Medication Use                     8763 non-null   int64  \n",
      " 15  Physical Activity Days Per Week    8763 non-null   int64  \n",
      " 16  Heart Attack Risk                  8763 non-null   int64  \n",
      " 17  Diet_Average                       8763 non-null   Int64  \n",
      " 18  Diet_Healthy                       8763 non-null   Int64  \n",
      " 19  Diet_Unhealthy                     8763 non-null   Int64  \n",
      " 20  Continent_Africa                   8763 non-null   Int64  \n",
      " 21  Continent_Asia                     8763 non-null   Int64  \n",
      " 22  Continent_Australia                8763 non-null   Int64  \n",
      " 23  Continent_Europe                   8763 non-null   Int64  \n",
      " 24  Continent_North America            8763 non-null   Int64  \n",
      " 25  Continent_South America            8763 non-null   Int64  \n",
      " 26  Physical Activity Days Per Week_0  8763 non-null   Int64  \n",
      " 27  Physical Activity Days Per Week_1  8763 non-null   Int64  \n",
      " 28  Physical Activity Days Per Week_2  8763 non-null   Int64  \n",
      " 29  Physical Activity Days Per Week_3  8763 non-null   Int64  \n",
      " 30  Physical Activity Days Per Week_4  8763 non-null   Int64  \n",
      " 31  Physical Activity Days Per Week_5  8763 non-null   Int64  \n",
      " 32  Physical Activity Days Per Week_6  8763 non-null   Int64  \n",
      " 33  Physical Activity Days Per Week_7  8763 non-null   Int64  \n",
      "dtypes: Int64(17), float64(7), int64(10)\n",
      "memory usage: 2.4 MB\n"
     ]
    }
   ],
   "source": [
    "df.info()"
   ]
  },
  {
   "cell_type": "code",
   "execution_count": 72,
   "metadata": {},
   "outputs": [],
   "source": [
    "new_x = df[fl_columns]\n",
    "new_y = df['Heart Attack Risk']"
   ]
  },
  {
   "cell_type": "code",
   "execution_count": 73,
   "metadata": {},
   "outputs": [],
   "source": [
    "new_x_train, new_x_test, new_y_train, new_y_test = train_test_split(new_x,new_y, test_size=0.3, random_state=7 )"
   ]
  },
  {
   "cell_type": "code",
   "execution_count": 74,
   "metadata": {},
   "outputs": [
    {
     "name": "stdout",
     "output_type": "stream",
     "text": [
      "best parameters: {'C': 0.01} \n",
      "\n",
      "best average precision with training data: 0.36\n",
      "accuracy_score: 0.6317991631799164 \n",
      " average precision score with testing: 0.3682008368200837 \n",
      "\n",
      "classification report \n",
      "               precision    recall  f1-score   support\n",
      "\n",
      "           0       0.63      1.00      0.77      1661\n",
      "           1       0.00      0.00      0.00       968\n",
      "\n",
      "    accuracy                           0.63      2629\n",
      "   macro avg       0.32      0.50      0.39      2629\n",
      "weighted avg       0.40      0.63      0.49      2629\n",
      " \n",
      "\n"
     ]
    },
    {
     "name": "stderr",
     "output_type": "stream",
     "text": [
      "c:\\Users\\dgmur\\python\\lib\\site-packages\\sklearn\\metrics\\_classification.py:1471: UndefinedMetricWarning: Precision and F-score are ill-defined and being set to 0.0 in labels with no predicted samples. Use `zero_division` parameter to control this behavior.\n",
      "  _warn_prf(average, modifier, msg_start, len(result))\n",
      "c:\\Users\\dgmur\\python\\lib\\site-packages\\sklearn\\metrics\\_classification.py:1471: UndefinedMetricWarning: Precision and F-score are ill-defined and being set to 0.0 in labels with no predicted samples. Use `zero_division` parameter to control this behavior.\n",
      "  _warn_prf(average, modifier, msg_start, len(result))\n",
      "c:\\Users\\dgmur\\python\\lib\\site-packages\\sklearn\\metrics\\_classification.py:1471: UndefinedMetricWarning: Precision and F-score are ill-defined and being set to 0.0 in labels with no predicted samples. Use `zero_division` parameter to control this behavior.\n",
      "  _warn_prf(average, modifier, msg_start, len(result))\n"
     ]
    },
    {
     "data": {
      "image/png": "[encoded data removed]",
      "text/plain": [
       "<Figure size 640x480 with 2 Axes>"
      ]
     },
     "metadata": {},
     "output_type": "display_data"
    }
   ],
   "source": [
    "sklearn_model_build(LogisticRegression(), param_logit, new_x_train, new_y_train, new_x_test, new_y_test)"
   ]
  },
  {
   "cell_type": "code",
   "execution_count": 75,
   "metadata": {},
   "outputs": [
    {
     "name": "stdout",
     "output_type": "stream",
     "text": [
      "best parameters: {'n_neighbors': 8} \n",
      "\n",
      "best average precision with training data: 0.36\n",
      "accuracy_score: 0.605173069608216 \n",
      " average precision score with testing: 0.369783294415997 \n",
      "\n",
      "classification report \n",
      "               precision    recall  f1-score   support\n",
      "\n",
      "           0       0.63      0.89      0.74      1661\n",
      "           1       0.38      0.12      0.18       968\n",
      "\n",
      "    accuracy                           0.61      2629\n",
      "   macro avg       0.51      0.50      0.46      2629\n",
      "weighted avg       0.54      0.61      0.53      2629\n",
      " \n",
      "\n"
     ]
    },
    {
     "data": {
      "image/png": "[encoded data removed]",
      "text/plain": [
       "<Figure size 640x480 with 2 Axes>"
      ]
     },
     "metadata": {},
     "output_type": "display_data"
    }
   ],
   "source": [
    "sklearn_model_build(KNeighborsClassifier(), param_knn, new_x_train, new_y_train, new_x_test, new_y_test)"
   ]
  },
  {
   "cell_type": "code",
   "execution_count": 76,
   "metadata": {},
   "outputs": [
    {
     "name": "stdout",
     "output_type": "stream",
     "text": [
      "best parameters: {'C': 100} \n",
      "\n",
      "best average precision with training data: 0.35\n",
      "accuracy_score: 0.5838721947508558 \n",
      " average precision score with testing: 0.36721385329993383 \n",
      "\n",
      "classification report \n",
      "               precision    recall  f1-score   support\n",
      "\n",
      "           0       0.63      0.82      0.71      1661\n",
      "           1       0.36      0.17      0.23       968\n",
      "\n",
      "    accuracy                           0.58      2629\n",
      "   macro avg       0.50      0.50      0.47      2629\n",
      "weighted avg       0.53      0.58      0.54      2629\n",
      " \n",
      "\n"
     ]
    },
    {
     "data": {
      "image/png": "[encoded data removed]",
      "text/plain": [
       "<Figure size 640x480 with 2 Axes>"
      ]
     },
     "metadata": {},
     "output_type": "display_data"
    }
   ],
   "source": [
    "sklearn_model_build(SVC(), param_svm, new_x_train, new_y_train, new_x_test, new_y_test)"
   ]
  },
  {
   "cell_type": "code",
   "execution_count": 77,
   "metadata": {},
   "outputs": [
    {
     "name": "stdout",
     "output_type": "stream",
     "text": [
      "best parameters: {'max_depth': 8, 'n_estimators': 800} \n",
      "\n",
      "best average precision with training data: 0.36\n",
      "accuracy_score: 0.6314187904146064 \n",
      " average precision score with testing: 0.3682665375704554 \n",
      "\n",
      "classification report \n",
      "               precision    recall  f1-score   support\n",
      "\n",
      "           0       0.63      1.00      0.77      1661\n",
      "           1       0.40      0.00      0.00       968\n",
      "\n",
      "    accuracy                           0.63      2629\n",
      "   macro avg       0.52      0.50      0.39      2629\n",
      "weighted avg       0.55      0.63      0.49      2629\n",
      " \n",
      "\n"
     ]
    },
    {
     "data": {
      "image/png": "[encoded data removed]",
      "text/plain": [
       "<Figure size 640x480 with 2 Axes>"
      ]
     },
     "metadata": {},
     "output_type": "display_data"
    }
   ],
   "source": [
    "sklearn_model_build(RandomForestClassifier(), param_rf, new_x_train, new_y_train, new_x_test, new_y_test)"
   ]
  },
  {
   "cell_type": "code",
   "execution_count": 78,
   "metadata": {},
   "outputs": [
    {
     "name": "stdout",
     "output_type": "stream",
     "text": [
      "best parameters: {'eta': 0.1, 'gamma': 0.9, 'max_depth': 15, 'min_child_weight': 7} \n",
      "\n",
      "best average precision with training data: 0.37\n",
      "accuracy_score: 0.6173449980981361 \n",
      " average precision score with testing: 0.3663999989151579 \n",
      "\n",
      "classification report \n",
      "               precision    recall  f1-score   support\n",
      "\n",
      "           0       0.63      0.96      0.76      1661\n",
      "           1       0.31      0.03      0.06       968\n",
      "\n",
      "    accuracy                           0.62      2629\n",
      "   macro avg       0.47      0.50      0.41      2629\n",
      "weighted avg       0.51      0.62      0.50      2629\n",
      " \n",
      "\n"
     ]
    },
    {
     "data": {
      "image/png": "[encoded data removed]",
      "text/plain": [
       "<Figure size 640x480 with 2 Axes>"
      ]
     },
     "metadata": {},
     "output_type": "display_data"
    }
   ],
   "source": [
    "sklearn_model_build(XGBClassifier(), param_xg, new_x_train, new_y_train, new_x_test, new_y_test)"
   ]
  },
  {
   "cell_type": "code",
   "execution_count": 79,
   "metadata": {},
   "outputs": [],
   "source": [
    "new_ros = RandomOverSampler(sampling_strategy=1.0)\n",
    "new_ros_x_train, new_ros_y_train = new_ros.fit_resample(new_x_train, new_y_train)"
   ]
  },
  {
   "cell_type": "code",
   "execution_count": 80,
   "metadata": {},
   "outputs": [
    {
     "name": "stdout",
     "output_type": "stream",
     "text": [
      "best parameters: {'C': 100} \n",
      "\n",
      "best average precision with training data: 0.51\n",
      "accuracy_score: 0.500950931913275 \n",
      " average precision score with testing: 0.36765026300876724 \n",
      "\n",
      "classification report \n",
      "               precision    recall  f1-score   support\n",
      "\n",
      "           0       0.63      0.51      0.56      1661\n",
      "           1       0.37      0.49      0.42       968\n",
      "\n",
      "    accuracy                           0.50      2629\n",
      "   macro avg       0.50      0.50      0.49      2629\n",
      "weighted avg       0.53      0.50      0.51      2629\n",
      " \n",
      "\n"
     ]
    },
    {
     "data": {
      "image/png": "[encoded data removed]",
      "text/plain": [
       "<Figure size 640x480 with 2 Axes>"
      ]
     },
     "metadata": {},
     "output_type": "display_data"
    }
   ],
   "source": [
    "sklearn_model_build(LogisticRegression(), param_logit, new_ros_x_train, new_ros_y_train, new_x_test, new_y_test)"
   ]
  },
  {
   "cell_type": "code",
   "execution_count": 81,
   "metadata": {},
   "outputs": [
    {
     "name": "stdout",
     "output_type": "stream",
     "text": [
      "best parameters: {'n_neighbors': 2} \n",
      "\n",
      "best average precision with training data: 0.63\n",
      "accuracy_score: 0.5682769113731457 \n",
      " average precision score with testing: 0.37116722895212734 \n",
      "\n",
      "classification report \n",
      "               precision    recall  f1-score   support\n",
      "\n",
      "           0       0.64      0.74      0.68      1661\n",
      "           1       0.38      0.27      0.32       968\n",
      "\n",
      "    accuracy                           0.57      2629\n",
      "   macro avg       0.51      0.51      0.50      2629\n",
      "weighted avg       0.54      0.57      0.55      2629\n",
      " \n",
      "\n"
     ]
    },
    {
     "data": {
      "image/png": "[encoded data removed]",
      "text/plain": [
       "<Figure size 640x480 with 2 Axes>"
      ]
     },
     "metadata": {},
     "output_type": "display_data"
    }
   ],
   "source": [
    "sklearn_model_build(KNeighborsClassifier(), param_knn, new_ros_x_train, new_ros_y_train, new_x_test, new_y_test)"
   ]
  },
  {
   "cell_type": "code",
   "execution_count": 82,
   "metadata": {},
   "outputs": [
    {
     "name": "stdout",
     "output_type": "stream",
     "text": [
      "best parameters: {'C': 100} \n",
      "\n",
      "best average precision with training data: 0.6\n",
      "accuracy_score: 0.5176873335869152 \n",
      " average precision score with testing: 0.36779604048169945 \n",
      "\n",
      "classification report \n",
      "               precision    recall  f1-score   support\n",
      "\n",
      "           0       0.63      0.57      0.60      1661\n",
      "           1       0.37      0.43      0.40       968\n",
      "\n",
      "    accuracy                           0.52      2629\n",
      "   macro avg       0.50      0.50      0.50      2629\n",
      "weighted avg       0.53      0.52      0.52      2629\n",
      " \n",
      "\n"
     ]
    },
    {
     "data": {
      "image/png": "[encoded data removed]",
      "text/plain": [
       "<Figure size 640x480 with 2 Axes>"
      ]
     },
     "metadata": {},
     "output_type": "display_data"
    }
   ],
   "source": [
    "sklearn_model_build(SVC(), param_svm, new_ros_x_train, new_ros_y_train, new_x_test, new_y_test)"
   ]
  },
  {
   "cell_type": "code",
   "execution_count": 83,
   "metadata": {},
   "outputs": [
    {
     "name": "stdout",
     "output_type": "stream",
     "text": [
      "best parameters: {'max_depth': 15, 'n_estimators': 300} \n",
      "\n",
      "best average precision with training data: 0.88\n",
      "accuracy_score: 0.5747432483834157 \n",
      " average precision score with testing: 0.3667726379427597 \n",
      "\n",
      "classification report \n",
      "               precision    recall  f1-score   support\n",
      "\n",
      "           0       0.63      0.79      0.70      1661\n",
      "           1       0.36      0.20      0.26       968\n",
      "\n",
      "    accuracy                           0.57      2629\n",
      "   macro avg       0.50      0.50      0.48      2629\n",
      "weighted avg       0.53      0.57      0.54      2629\n",
      " \n",
      "\n"
     ]
    },
    {
     "data": {
      "image/png": "[encoded data removed]",
      "text/plain": [
       "<Figure size 640x480 with 2 Axes>"
      ]
     },
     "metadata": {},
     "output_type": "display_data"
    }
   ],
   "source": [
    "sklearn_model_build(RandomForestClassifier(), param_rf, new_ros_x_train, new_ros_y_train, new_x_test, new_y_test)"
   ]
  },
  {
   "cell_type": "code",
   "execution_count": 84,
   "metadata": {},
   "outputs": [
    {
     "name": "stdout",
     "output_type": "stream",
     "text": [
      "best parameters: {'eta': 0.1, 'gamma': 0.05, 'max_depth': 15, 'min_child_weight': 1} \n",
      "\n",
      "best average precision with training data: 0.89\n",
      "accuracy_score: 0.5739825028527957 \n",
      " average precision score with testing: 0.37256912462918895 \n",
      "\n",
      "classification report \n",
      "               precision    recall  f1-score   support\n",
      "\n",
      "           0       0.64      0.76      0.69      1661\n",
      "           1       0.38      0.26      0.31       968\n",
      "\n",
      "    accuracy                           0.57      2629\n",
      "   macro avg       0.51      0.51      0.50      2629\n",
      "weighted avg       0.54      0.57      0.55      2629\n",
      " \n",
      "\n"
     ]
    },
    {
     "data": {
      "image/png": "[encoded data removed]",
      "text/plain": [
       "<Figure size 640x480 with 2 Axes>"
      ]
     },
     "metadata": {},
     "output_type": "display_data"
    }
   ],
   "source": [
    "sklearn_model_build(XGBClassifier(), param_xg, new_ros_x_train, new_ros_y_train, new_x_test, new_y_test)"
   ]
  },
  {
   "cell_type": "code",
   "execution_count": 85,
   "metadata": {},
   "outputs": [],
   "source": [
    "from imblearn.over_sampling import SMOTE\n",
    "smote = SMOTE()\n",
    "\n",
    "smote_new_x_train, smote_new_y_train = smote.fit_resample(new_x_train, new_y_train)"
   ]
  },
  {
   "cell_type": "code",
   "execution_count": 86,
   "metadata": {},
   "outputs": [
    {
     "name": "stdout",
     "output_type": "stream",
     "text": [
      "best parameters: {'C': 0.001} \n",
      "\n",
      "best average precision with training data: 0.5\n",
      "accuracy_score: 0.504374286801065 \n",
      " average precision score with testing: 0.3705423039919081 \n",
      "\n",
      "classification report \n",
      "               precision    recall  f1-score   support\n",
      "\n",
      "           0       0.64      0.50      0.56      1661\n",
      "           1       0.37      0.51      0.43       968\n",
      "\n",
      "    accuracy                           0.50      2629\n",
      "   macro avg       0.50      0.50      0.50      2629\n",
      "weighted avg       0.54      0.50      0.51      2629\n",
      " \n",
      "\n"
     ]
    },
    {
     "data": {
      "image/png": "[encoded data removed]",
      "text/plain": [
       "<Figure size 640x480 with 2 Axes>"
      ]
     },
     "metadata": {},
     "output_type": "display_data"
    }
   ],
   "source": [
    "sklearn_model_build(LogisticRegression(), param_logit, smote_new_x_train, smote_new_y_train, new_x_test, new_y_test)"
   ]
  },
  {
   "cell_type": "code",
   "execution_count": 87,
   "metadata": {},
   "outputs": [
    {
     "name": "stdout",
     "output_type": "stream",
     "text": [
      "best parameters: {'n_neighbors': 2} \n",
      "\n",
      "best average precision with training data: 0.66\n",
      "accuracy_score: 0.5663750475465956 \n",
      " average precision score with testing: 0.3699092314947843 \n",
      "\n",
      "classification report \n",
      "               precision    recall  f1-score   support\n",
      "\n",
      "           0       0.63      0.74      0.68      1661\n",
      "           1       0.37      0.27      0.31       968\n",
      "\n",
      "    accuracy                           0.57      2629\n",
      "   macro avg       0.50      0.50      0.50      2629\n",
      "weighted avg       0.54      0.57      0.55      2629\n",
      " \n",
      "\n"
     ]
    },
    {
     "data": {
      "image/png": "[encoded data removed]",
      "text/plain": [
       "<Figure size 640x480 with 2 Axes>"
      ]
     },
     "metadata": {},
     "output_type": "display_data"
    }
   ],
   "source": [
    "sklearn_model_build(KNeighborsClassifier(), param_knn, smote_new_x_train, smote_new_y_train, new_x_test, new_y_test)"
   ]
  },
  {
   "cell_type": "code",
   "execution_count": 88,
   "metadata": {},
   "outputs": [
    {
     "name": "stdout",
     "output_type": "stream",
     "text": [
      "best parameters: {'C': 100} \n",
      "\n",
      "best average precision with training data: 0.6\n",
      "accuracy_score: 0.5252947888931152 \n",
      " average precision score with testing: 0.3716716809263102 \n",
      "\n",
      "classification report \n",
      "               precision    recall  f1-score   support\n",
      "\n",
      "           0       0.64      0.58      0.61      1661\n",
      "           1       0.38      0.44      0.41       968\n",
      "\n",
      "    accuracy                           0.53      2629\n",
      "   macro avg       0.51      0.51      0.51      2629\n",
      "weighted avg       0.54      0.53      0.53      2629\n",
      " \n",
      "\n"
     ]
    },
    {
     "data": {
      "image/png": "[encoded data removed]",
      "text/plain": [
       "<Figure size 640x480 with 2 Axes>"
      ]
     },
     "metadata": {},
     "output_type": "display_data"
    }
   ],
   "source": [
    "sklearn_model_build(SVC(), param_svm, smote_new_x_train, smote_new_y_train, new_x_test, new_y_test)"
   ]
  },
  {
   "cell_type": "code",
   "execution_count": 89,
   "metadata": {},
   "outputs": [
    {
     "name": "stdout",
     "output_type": "stream",
     "text": [
      "best parameters: {'max_depth': 15, 'n_estimators': 800} \n",
      "\n",
      "best average precision with training data: 0.76\n",
      "accuracy_score: 0.5618105743628756 \n",
      " average precision score with testing: 0.37311180199938454 \n",
      "\n",
      "classification report \n",
      "               precision    recall  f1-score   support\n",
      "\n",
      "           0       0.64      0.71      0.67      1661\n",
      "           1       0.38      0.31      0.35       968\n",
      "\n",
      "    accuracy                           0.56      2629\n",
      "   macro avg       0.51      0.51      0.51      2629\n",
      "weighted avg       0.54      0.56      0.55      2629\n",
      " \n",
      "\n"
     ]
    },
    {
     "data": {
      "image/png": "[encoded data removed]",
      "text/plain": [
       "<Figure size 640x480 with 2 Axes>"
      ]
     },
     "metadata": {},
     "output_type": "display_data"
    }
   ],
   "source": [
    "sklearn_model_build(RandomForestClassifier(), param_rf, smote_new_x_train, smote_new_y_train, new_x_test, new_y_test)"
   ]
  },
  {
   "cell_type": "code",
   "execution_count": 90,
   "metadata": {},
   "outputs": [
    {
     "name": "stdout",
     "output_type": "stream",
     "text": [
      "best parameters: {'eta': 0.1, 'gamma': 0.05, 'max_depth': 15, 'min_child_weight': 1} \n",
      "\n",
      "best average precision with training data: 0.76\n",
      "accuracy_score: 0.5785469760365158 \n",
      " average precision score with testing: 0.38126902371682425 \n",
      "\n",
      "classification report \n",
      "               precision    recall  f1-score   support\n",
      "\n",
      "           0       0.65      0.73      0.69      1661\n",
      "           1       0.41      0.32      0.36       968\n",
      "\n",
      "    accuracy                           0.58      2629\n",
      "   macro avg       0.53      0.53      0.52      2629\n",
      "weighted avg       0.56      0.58      0.57      2629\n",
      " \n",
      "\n"
     ]
    },
    {
     "data": {
      "image/png": "[encoded data removed]",
      "text/plain": [
       "<Figure size 640x480 with 2 Axes>"
      ]
     },
     "metadata": {},
     "output_type": "display_data"
    }
   ],
   "source": [
    "sklearn_model_build(XGBClassifier(), param_xg, smote_new_x_train, smote_new_y_train, new_x_test, new_y_test)"
   ]
  },
  {
   "cell_type": "code",
   "execution_count": 91,
   "metadata": {},
   "outputs": [],
   "source": [
    "b_smote = BorderlineSMOTE()\n",
    "\n",
    "bsmote_new_x_train, bsmote_new_y_train = b_smote.fit_resample(new_x_train, new_y_train)"
   ]
  },
  {
   "cell_type": "code",
   "execution_count": 92,
   "metadata": {},
   "outputs": [
    {
     "name": "stdout",
     "output_type": "stream",
     "text": [
      "best parameters: {'C': 5} \n",
      "\n",
      "best average precision with training data: 0.51\n",
      "accuracy_score: 0.501711677443895 \n",
      " average precision score with testing: 0.3683298410414234 \n",
      "\n",
      "classification report \n",
      "               precision    recall  f1-score   support\n",
      "\n",
      "           0       0.63      0.51      0.56      1661\n",
      "           1       0.37      0.49      0.42       968\n",
      "\n",
      "    accuracy                           0.50      2629\n",
      "   macro avg       0.50      0.50      0.49      2629\n",
      "weighted avg       0.53      0.50      0.51      2629\n",
      " \n",
      "\n"
     ]
    },
    {
     "data": {
      "image/png": "[encoded data removed]",
      "text/plain": [
       "<Figure size 640x480 with 2 Axes>"
      ]
     },
     "metadata": {},
     "output_type": "display_data"
    }
   ],
   "source": [
    "sklearn_model_build(LogisticRegression(), param_logit, bsmote_new_x_train, bsmote_new_y_train, new_x_test, new_y_test)"
   ]
  },
  {
   "cell_type": "code",
   "execution_count": 93,
   "metadata": {},
   "outputs": [
    {
     "name": "stdout",
     "output_type": "stream",
     "text": [
      "best parameters: {'n_neighbors': 2} \n",
      "\n",
      "best average precision with training data: 0.66\n",
      "accuracy_score: 0.5595283377710156 \n",
      " average precision score with testing: 0.3652535700551279 \n",
      "\n",
      "classification report \n",
      "               precision    recall  f1-score   support\n",
      "\n",
      "           0       0.63      0.74      0.68      1661\n",
      "           1       0.36      0.24      0.29       968\n",
      "\n",
      "    accuracy                           0.56      2629\n",
      "   macro avg       0.49      0.49      0.48      2629\n",
      "weighted avg       0.53      0.56      0.54      2629\n",
      " \n",
      "\n"
     ]
    },
    {
     "data": {
      "image/png": "[encoded data removed]",
      "text/plain": [
       "<Figure size 640x480 with 2 Axes>"
      ]
     },
     "metadata": {},
     "output_type": "display_data"
    }
   ],
   "source": [
    "sklearn_model_build(KNeighborsClassifier(), param_knn, bsmote_new_x_train, bsmote_new_y_train, new_x_test, new_y_test)"
   ]
  },
  {
   "cell_type": "code",
   "execution_count": 94,
   "metadata": {},
   "outputs": [
    {
     "name": "stdout",
     "output_type": "stream",
     "text": [
      "best parameters: {'C': 100} \n",
      "\n",
      "best average precision with training data: 0.58\n",
      "accuracy_score: 0.5237732978318752 \n",
      " average precision score with testing: 0.3743578101492336 \n",
      "\n",
      "classification report \n",
      "               precision    recall  f1-score   support\n",
      "\n",
      "           0       0.64      0.55      0.60      1661\n",
      "           1       0.38      0.47      0.42       968\n",
      "\n",
      "    accuracy                           0.52      2629\n",
      "   macro avg       0.51      0.51      0.51      2629\n",
      "weighted avg       0.55      0.52      0.53      2629\n",
      " \n",
      "\n"
     ]
    },
    {
     "data": {
      "image/png": "[encoded data removed]",
      "text/plain": [
       "<Figure size 640x480 with 2 Axes>"
      ]
     },
     "metadata": {},
     "output_type": "display_data"
    }
   ],
   "source": [
    "sklearn_model_build(SVC(), param_svm, bsmote_new_x_train, bsmote_new_y_train, new_x_test, new_y_test)"
   ]
  },
  {
   "cell_type": "code",
   "execution_count": 95,
   "metadata": {},
   "outputs": [
    {
     "name": "stdout",
     "output_type": "stream",
     "text": [
      "best parameters: {'max_depth': 15, 'n_estimators': 800} \n",
      "\n",
      "best average precision with training data: 0.76\n",
      "accuracy_score: 0.5534423735260555 \n",
      " average precision score with testing: 0.3707879649175948 \n",
      "\n",
      "classification report \n",
      "               precision    recall  f1-score   support\n",
      "\n",
      "           0       0.64      0.69      0.66      1661\n",
      "           1       0.38      0.32      0.35       968\n",
      "\n",
      "    accuracy                           0.55      2629\n",
      "   macro avg       0.51      0.51      0.50      2629\n",
      "weighted avg       0.54      0.55      0.55      2629\n",
      " \n",
      "\n"
     ]
    },
    {
     "data": {
      "image/png": "[encoded data removed]",
      "text/plain": [
       "<Figure size 640x480 with 2 Axes>"
      ]
     },
     "metadata": {},
     "output_type": "display_data"
    }
   ],
   "source": [
    "sklearn_model_build(RandomForestClassifier(), param_rf, bsmote_new_x_train, bsmote_new_y_train, new_x_test, new_y_test)"
   ]
  },
  {
   "cell_type": "code",
   "execution_count": 96,
   "metadata": {},
   "outputs": [
    {
     "name": "stdout",
     "output_type": "stream",
     "text": [
      "best parameters: {'eta': 0.1, 'gamma': 0.05, 'max_depth': 15, 'min_child_weight': 1} \n",
      "\n",
      "best average precision with training data: 0.77\n",
      "accuracy_score: 0.5815899581589958 \n",
      " average precision score with testing: 0.37979708622772984 \n",
      "\n",
      "classification report \n",
      "               precision    recall  f1-score   support\n",
      "\n",
      "           0       0.65      0.75      0.69      1661\n",
      "           1       0.41      0.30      0.34       968\n",
      "\n",
      "    accuracy                           0.58      2629\n",
      "   macro avg       0.53      0.52      0.52      2629\n",
      "weighted avg       0.56      0.58      0.56      2629\n",
      " \n",
      "\n"
     ]
    },
    {
     "data": {
      "image/png": "[encoded data removed]",
      "text/plain": [
       "<Figure size 640x480 with 2 Axes>"
      ]
     },
     "metadata": {},
     "output_type": "display_data"
    }
   ],
   "source": [
    "sklearn_model_build(XGBClassifier(), param_xg, bsmote_new_x_train, bsmote_new_y_train, new_x_test, new_y_test)"
   ]
  },
  {
   "cell_type": "code",
   "execution_count": 97,
   "metadata": {},
   "outputs": [
    {
     "name": "stdout",
     "output_type": "stream",
     "text": [
      "accuracy score: 0.603271205781666 \n",
      " average precision score: 0.37255374837702093 \n",
      "               precision    recall  f1-score   support\n",
      "\n",
      "           0       0.64      0.87      0.73      1661\n",
      "           1       0.40      0.15      0.22       968\n",
      "\n",
      "    accuracy                           0.60      2629\n",
      "   macro avg       0.52      0.51      0.48      2629\n",
      "weighted avg       0.55      0.60      0.54      2629\n",
      "\n"
     ]
    }
   ],
   "source": [
    "new_overbagging_clf = BalancedBaggingClassifier(estimator=XGBClassifier(gamma = 0.05, eta = 0.1, max_depth = 15, min_child_weight = 1), sampler=RandomOverSampler(shrinkage=1)).fit(new_x_train, new_y_train)\n",
    "new_overbagging_predict = new_overbagging_clf.predict(new_x_test)\n",
    "print('accuracy score:', accuracy_score(new_y_test, new_overbagging_predict),'\\n', 'average precision score:', average_precision_score(new_y_test, new_overbagging_predict),'\\n', classification_report(new_y_test, new_overbagging_predict))"
   ]
  },
  {
   "cell_type": "code",
   "execution_count": 98,
   "metadata": {},
   "outputs": [
    {
     "name": "stdout",
     "output_type": "stream",
     "text": [
      "accuracy score: 0.5789273488018258 \n",
      " average precision score: 0.37255374837702093 \n",
      "               precision    recall  f1-score   support\n",
      "\n",
      "           0       0.63      0.79      0.70      1661\n",
      "           1       0.38      0.22      0.28       968\n",
      "\n",
      "    accuracy                           0.58      2629\n",
      "   macro avg       0.51      0.50      0.49      2629\n",
      "weighted avg       0.54      0.58      0.55      2629\n",
      "\n"
     ]
    }
   ],
   "source": [
    "smotebagging_clf = BalancedBaggingClassifier(estimator=XGBClassifier(gamma = 0.05, eta = 0.1, max_depth = 15, min_child_weight = 1), sampler=SMOTE()).fit(new_x_train, new_y_train)\n",
    "smotebagging_predict = smotebagging_clf.predict(new_x_test)\n",
    "print('accuracy score:', accuracy_score(new_y_test, smotebagging_predict), '\\n', 'average precision score:', average_precision_score(new_y_test, new_overbagging_predict),'\\n', classification_report(new_y_test, smotebagging_predict))"
   ]
  },
  {
   "cell_type": "code",
   "execution_count": 99,
   "metadata": {},
   "outputs": [
    {
     "name": "stdout",
     "output_type": "stream",
     "text": [
      "accuracy score: 0.5770254849752757 \n",
      " average precision score: 0.37255374837702093 \n",
      "               precision    recall  f1-score   support\n",
      "\n",
      "           0       0.63      0.78      0.70      1661\n",
      "           1       0.38      0.23      0.28       968\n",
      "\n",
      "    accuracy                           0.58      2629\n",
      "   macro avg       0.51      0.50      0.49      2629\n",
      "weighted avg       0.54      0.58      0.55      2629\n",
      "\n"
     ]
    }
   ],
   "source": [
    "bsmotebagging_clf = BalancedBaggingClassifier(estimator=XGBClassifier(gamma = 0.05, eta = 0.1, max_depth = 15, min_child_weight = 1), sampler=BorderlineSMOTE()).fit(new_x_train, new_y_train)\n",
    "bsmotebagging_predict = bsmotebagging_clf.predict(new_x_test)\n",
    "print('accuracy score:', accuracy_score(new_y_test, bsmotebagging_predict), '\\n', 'average precision score:', average_precision_score(new_y_test, new_overbagging_predict),'\\n', classification_report(new_y_test, bsmotebagging_predict))"
   ]
  }
 ],
 "metadata": {
  "kernelspec": {
   "display_name": "Python 3",
   "language": "python",
   "name": "python3"
  },
  "language_info": {
   "codemirror_mode": {
    "name": "ipython",
    "version": 3
   },
   "file_extension": ".py",
   "mimetype": "text/x-python",
   "name": "python",
   "nbconvert_exporter": "python",
   "pygments_lexer": "ipython3",
   "version": "3.10.8"
  }
 },
 "nbformat": 4,
 "nbformat_minor": 2
}
